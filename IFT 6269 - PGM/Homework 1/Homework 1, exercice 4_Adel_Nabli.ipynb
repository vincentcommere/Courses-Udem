{
 "cells": [
  {
   "cell_type": "markdown",
   "metadata": {},
   "source": [
    "# Exercice 4 : Empirical experimentation"
   ]
  },
  {
   "cell_type": "code",
   "execution_count": 1,
   "metadata": {},
   "outputs": [],
   "source": [
    "import numpy as np\n",
    "import matplotlib.pyplot as plt"
   ]
  },
  {
   "cell_type": "markdown",
   "metadata": {},
   "source": [
    "## Question a"
   ]
  },
  {
   "cell_type": "markdown",
   "metadata": {},
   "source": [
    "Nous allons stocker les 5 tirages dans une variable $X$"
   ]
  },
  {
   "cell_type": "code",
   "execution_count": 2,
   "metadata": {},
   "outputs": [
    {
     "name": "stdout",
     "output_type": "stream",
     "text": [
      "[-0.56587226 -0.7565457  -0.08542758 -2.15178031 -1.23169739]\n"
     ]
    }
   ],
   "source": [
    "n = 5\n",
    "sigma2_reel = 1\n",
    "X = np.random.normal(0, sigma2_reel, n)\n",
    "print(X)"
   ]
  },
  {
   "cell_type": "markdown",
   "metadata": {},
   "source": [
    "## Question b"
   ]
  },
  {
   "cell_type": "markdown",
   "metadata": {},
   "source": [
    "On sait que les estimateurs de maximum de vraissemblance pour $\\mu$ et $\\sigma^2$ sont:\n",
    "\n",
    "$\\hat{\\mu} = \\dfrac{1}{n} \\displaystyle\\sum_{i=1}^{n} X_i$     et     $\\hat{\\sigma^2} = \\dfrac{1}{n} \\displaystyle\\sum_{i=1}^{n} (X_i-\\overline{X})^2$"
   ]
  },
  {
   "cell_type": "code",
   "execution_count": 3,
   "metadata": {},
   "outputs": [
    {
     "name": "stdout",
     "output_type": "stream",
     "text": [
      "-0.9582646500473326 0.49115039513872\n"
     ]
    }
   ],
   "source": [
    "mu = 1/n * np.sum(X)\n",
    "sigma2 = 1/n * np.sum((X-mu)**2)\n",
    "print(mu, sigma2)"
   ]
  },
  {
   "cell_type": "markdown",
   "metadata": {},
   "source": [
    "## Question c"
   ]
  },
  {
   "cell_type": "markdown",
   "metadata": {},
   "source": [
    "Nous allons stocker nos résultats dans 2 vecteurs de dimension 10 000 $Y_\\hat{\\mu}$ et $Y_\\hat{\\sigma^2}$"
   ]
  },
  {
   "cell_type": "code",
   "execution_count": 4,
   "metadata": {},
   "outputs": [],
   "source": [
    "m = 10000\n",
    "X = np.random.normal(0, sigma2_reel, [n, m])\n",
    "Y_mu = 1/n * np.sum(X, axis=0)\n",
    "Y_sigma2 = 1/n * np.sum((X-Y_mu)**2, axis=0)"
   ]
  },
  {
   "cell_type": "markdown",
   "metadata": {},
   "source": [
    "Traçons l'histogramme de $Y_\\hat{\\mu}$"
   ]
  },
  {
   "cell_type": "code",
   "execution_count": 5,
   "metadata": {},
   "outputs": [
    {
     "data": {
      "image/png": "[encoded data removed]",
      "text/plain": [
       "<Figure size 432x288 with 1 Axes>"
      ]
     },
     "metadata": {},
     "output_type": "display_data"
    }
   ],
   "source": [
    "p, bins, patches = plt.hist(Y_mu, 50)\n",
    "\n",
    "plt.xlabel('Valeurs de $\\hat{\\mu}$')\n",
    "plt.ylabel(\"Nombre d'occurence\")\n",
    "plt.title('Distibution de $\\hat{\\mu}$')\n",
    "plt.show()"
   ]
  },
  {
   "cell_type": "markdown",
   "metadata": {},
   "source": [
    "Et l'histogramme de $Y_\\hat{\\sigma^2}$"
   ]
  },
  {
   "cell_type": "code",
   "execution_count": 6,
   "metadata": {},
   "outputs": [
    {
     "data": {
      "image/png": "[encoded data removed]",
      "text/plain": [
       "<Figure size 432x288 with 1 Axes>"
      ]
     },
     "metadata": {},
     "output_type": "display_data"
    }
   ],
   "source": [
    "p, bins, patches = plt.hist(Y_sigma2, 50, facecolor='g')\n",
    "\n",
    "plt.xlabel('Valeurs de $\\hat{\\sigma^2}$')\n",
    "plt.ylabel(\"Nombre d'occurence\")\n",
    "plt.title('Distibution de $\\hat{\\sigma^2}$')\n",
    "plt.show()"
   ]
  },
  {
   "cell_type": "markdown",
   "metadata": {},
   "source": [
    "Nous reconnaissons ce qui semble être une *loi normale* $\\mathcal{N}(0, \\dfrac{1}{5})$ pour la distribution de $\\hat{\\mu}$ et une *loi de $\\chi_4^2$* pour $\\hat{\\sigma^2}$ (à un facteur de normalisation près)"
   ]
  },
  {
   "cell_type": "markdown",
   "metadata": {},
   "source": [
    "## Question d"
   ]
  },
  {
   "cell_type": "markdown",
   "metadata": {},
   "source": [
    "Nous savons que le biais et la variance se calculent de la manière suivante: \n",
    "\n",
    "$b(\\theta^*) = \\mathbb{E}_{\\theta^*} (\\hat{\\theta}) - \\theta^*$ , $V(\\hat{\\theta}) = \\mathbb{E} (\\hat{\\theta}^2) - \\mathbb{E} (\\hat{\\theta})^2$\n",
    "\n",
    "Pour estimer numériquement le biais, nous allons donc devoir utiliser la formule de la moyenne empirique:\n",
    "\n",
    "$\\hat{m_1} = \\dfrac{1}{m}\\displaystyle\\sum_{i=1}^{m} \\hat{\\theta_i}$ \n",
    "\n",
    "Pour estimer numériquement la variance, nous allons devoir utiliser la formule du moment empirique d'ordre 2:\n",
    "\n",
    "$\\hat{m_2} = \\dfrac{1}{m}\\displaystyle\\sum_{i=1}^{m} \\hat{\\theta_i}^2$ "
   ]
  },
  {
   "cell_type": "code",
   "execution_count": 7,
   "metadata": {},
   "outputs": [
    {
     "name": "stdout",
     "output_type": "stream",
     "text": [
      "-0.20285739530023494 0.32689305101834243\n"
     ]
    }
   ],
   "source": [
    "# le paramètre theta que nous considérons est sigma2\n",
    "\n",
    "m1_hat = 1/m * np.sum(Y_sigma2)\n",
    "m2_hat = 1/m * np.sum(Y_sigma2**2)\n",
    "\n",
    "b_empirique = m1_hat - sigma2_reel\n",
    "V_empirique = m2_hat - m1_hat**2\n",
    "\n",
    "print(b_empirique, V_empirique)"
   ]
  },
  {
   "cell_type": "markdown",
   "metadata": {},
   "source": [
    "## Question e"
   ]
  },
  {
   "cell_type": "markdown",
   "metadata": {},
   "source": [
    "Nous avions trouvé dans l'exercice 3 que:\n",
    "\n",
    "$b_n(\\sigma^2) =  -\\dfrac{\\sigma^2}{n}$ et $V(\\hat{\\sigma^2}) = \\dfrac{2\\sigma^4}{n^2}(n-1)$"
   ]
  },
  {
   "cell_type": "code",
   "execution_count": 8,
   "metadata": {},
   "outputs": [
    {
     "name": "stdout",
     "output_type": "stream",
     "text": [
      "-0.2 0.32\n",
      "0.9859142660487881 0.9789134366825202\n"
     ]
    }
   ],
   "source": [
    "b_reel = -sigma2_reel / n\n",
    "V_reel = (2*sigma2_reel**2 *(n-1)) / n**2\n",
    "\n",
    "print(b_reel, V_reel)\n",
    "print(b_reel/b_empirique , V_reel/V_empirique)"
   ]
  },
  {
   "cell_type": "markdown",
   "metadata": {},
   "source": [
    "Ainsi, notre estimation empirique est très proche de l'estimation théorique que nous avons trouvé à l'exercice 3"
   ]
  },
  {
   "cell_type": "code",
   "execution_count": null,
   "metadata": {},
   "outputs": [],
   "source": []
  }
 ],
 "metadata": {
  "kernelspec": {
   "display_name": "Python 3",
   "language": "python",
   "name": "python3"
  },
  "language_info": {
   "codemirror_mode": {
    "name": "ipython",
    "version": 3
   },
   "file_extension": ".py",
   "mimetype": "text/x-python",
   "name": "python",
   "nbconvert_exporter": "python",
   "pygments_lexer": "ipython3",
   "version": "3.6.5"
  }
 },
 "nbformat": 4,
 "nbformat_minor": 2
}
