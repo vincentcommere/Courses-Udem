{
 "cells": [
  {
   "cell_type": "markdown",
   "metadata": {},
   "source": [
    "<div style=\"text-align: center; font-size: 30pt; font-weight: bold; margin: 1em 0em 1em 0em\">Homework 4: Kaggle competition</div>"
   ]
  },
  {
   "cell_type": "code",
   "execution_count": 186,
   "metadata": {},
   "outputs": [],
   "source": [
    "import numpy as np\n",
    "import pandas as pd\n",
    "import matplotlib.pyplot as plt\n",
    "import math\n",
    "import time\n",
    "import umap\n",
    "\n",
    "from skimage.transform import resize\n",
    "from ripser import ripser, plot_dgms, lower_star_img\n",
    "from tqdm import tqdm\n",
    "\n",
    "from sklearn.model_selection import train_test_split\n",
    "from sklearn.metrics import accuracy_score\n",
    "from sklearn.preprocessing import StandardScaler\n",
    "\n",
    "from sklearn.ensemble import RandomForestClassifier\n",
    "from sklearn.neighbors import KNeighborsClassifier\n",
    "from sklearn.svm import SVC, LinearSVC\n",
    "from sklearn.linear_model import SGDClassifier\n",
    "from sklearn.neural_network import MLPClassifier\n",
    "from sklearn.ensemble import AdaBoostClassifier, GradientBoostingClassifier"
   ]
  },
  {
   "cell_type": "markdown",
   "metadata": {},
   "source": [
    "# Import Datasets"
   ]
  },
  {
   "cell_type": "code",
   "execution_count": 57,
   "metadata": {},
   "outputs": [],
   "source": [
    "images_train = np.load('train_images.npy', encoding='latin1')\n",
    "labels_train = pd.read_csv('train_labels.csv')\n",
    "y_train_labels = np.array(labels_train)[:, 1]"
   ]
  },
  {
   "cell_type": "markdown",
   "metadata": {},
   "source": [
    "# Union find structure\n",
    "\n",
    "credits: http://code.activestate.com/recipes/215912-union-find-data-structure/"
   ]
  },
  {
   "cell_type": "code",
   "execution_count": 3,
   "metadata": {},
   "outputs": [],
   "source": [
    "class UnionFind:\n",
    "    \n",
    "    def __init__(self):\n",
    "        '''\\\n",
    "Create an empty union find data structure.'''\n",
    "        self.num_weights = {}\n",
    "        self.parent_pointers = {}\n",
    "        self.num_to_objects = {}\n",
    "        self.objects_to_num = {}\n",
    "        self.__repr__ = self.__str__\n",
    "        \n",
    "    def insert_objects(self, objects):\n",
    "        '''\\\n",
    "Insert a sequence of objects into the structure.  All must be Python hashable.'''\n",
    "        for object in objects:\n",
    "            self.find(object);\n",
    "            \n",
    "    def find(self, object):\n",
    "        '''\\\n",
    "Find the root of the set that an object is in.\n",
    "If the object was not known, will make it known, and it becomes its own set.\n",
    "Object must be Python hashable.'''\n",
    "        if not object in self.objects_to_num:\n",
    "            obj_num = len(self.objects_to_num)\n",
    "            self.num_weights[obj_num] = 1\n",
    "            self.objects_to_num[object] = obj_num\n",
    "            self.num_to_objects[obj_num] = object\n",
    "            self.parent_pointers[obj_num] = obj_num\n",
    "            return object\n",
    "        stk = [self.objects_to_num[object]]\n",
    "        par = self.parent_pointers[stk[-1]]\n",
    "        while par != stk[-1]:\n",
    "            stk.append(par)\n",
    "            par = self.parent_pointers[par]\n",
    "        for i in stk:\n",
    "            self.parent_pointers[i] = par\n",
    "        return self.num_to_objects[par]\n",
    "    \n",
    "    def union(self, object1, object2):\n",
    "        '''\\\n",
    "Combine the sets that contain the two objects given.\n",
    "Both objects must be Python hashable.\n",
    "If either or both objects are unknown, will make them known, and combine them.'''\n",
    "        o1p = self.find(object1)\n",
    "        o2p = self.find(object2)\n",
    "        if o1p != o2p:\n",
    "            on1 = self.objects_to_num[o1p]\n",
    "            on2 = self.objects_to_num[o2p]\n",
    "            w1 = self.num_weights[on1]\n",
    "            w2 = self.num_weights[on2]\n",
    "            if w1 < w2:\n",
    "                o1p, o2p, on1, on2, w1, w2 = o2p, o1p, on2, on1, w2, w1\n",
    "            self.num_weights[on1] = w1+w2\n",
    "            del self.num_weights[on2]\n",
    "            self.parent_pointers[on2] = on1"
   ]
  },
  {
   "cell_type": "markdown",
   "metadata": {},
   "source": [
    "# Preprocessing part:\n",
    "\n",
    "## Find connex components of the image thanks to the union find structure"
   ]
  },
  {
   "cell_type": "code",
   "execution_count": 4,
   "metadata": {},
   "outputs": [],
   "source": [
    "def find_connex_components(image, seuil):\n",
    "    \n",
    "    sets_of_connex_pixels = UnionFind()\n",
    "\n",
    "    for i in range(100):\n",
    "    \n",
    "        for j in range(100):\n",
    "        \n",
    "            if image[i][j] > seuil:\n",
    "            \n",
    "                # We create the list of coordinate that are in the neighborhood of (i,j) depending\n",
    "                # on wheter we are at one edge or corner of the image or not\n",
    "            \n",
    "                not_neighbors_of_ij = []\n",
    "            \n",
    "                # As we are scanning the image from top to bottom, from left to right, we can limit the neighborhood\n",
    "            \n",
    "                neighbors_possible = [(i-1, j), (i-1, j-1), (i-1, j+1), (i, j-1), (i, j+1), (i+1, j-1), (i+1, j), (i+1, j+1)]\n",
    "\n",
    "                for neighbors in neighbors_possible:\n",
    "                \n",
    "                    # Patch the fact that \"array[-1]\" doesn't return an error\n",
    "                \n",
    "                    if neighbors[0] >= 0 and neighbors[1] >= 0:\n",
    "                \n",
    "                        try:\n",
    "                    \n",
    "                            # if this returns an error, it means that we are in a \"special case\" (i.e edge or corner)\n",
    "                    \n",
    "                            image[neighbors[0]][neighbors[1]]\n",
    "                    \n",
    "                        except:\n",
    "                    \n",
    "                            # Thus, it's not in the neighborhood\n",
    "                    \n",
    "                            not_neighbors_of_ij.append(neighbors)\n",
    "                \n",
    "                    else: \n",
    "\n",
    "                        not_neighbors_of_ij.append(neighbors)\n",
    " \n",
    "                has_a_neighbor = 0\n",
    "            \n",
    "                for neighbors in neighbors_possible:\n",
    "                \n",
    "                    if neighbors not in not_neighbors_of_ij:\n",
    "                \n",
    "                        if image[neighbors[0]][neighbors[1]] > seuil:\n",
    "                        \n",
    "                            sets_of_connex_pixels.union((i,j), neighbors)\n",
    "                            has_a_neighbor = 1\n",
    "            \n",
    "                if has_a_neighbor == 0:\n",
    "                \n",
    "                    sets_of_connex_pixels.find((i,j))\n",
    "    \n",
    "    return(sets_of_connex_pixels)"
   ]
  },
  {
   "cell_type": "markdown",
   "metadata": {},
   "source": [
    "## Create a list of the lists of coordinates that are in a connex ensemble"
   ]
  },
  {
   "cell_type": "code",
   "execution_count": 5,
   "metadata": {},
   "outputs": [],
   "source": [
    "def create_lists_of_connex_coordinates(image, seuil):\n",
    "    \n",
    "    sets_of_connex_pixels = find_connex_components(image, seuil)\n",
    "\n",
    "    dict_of_parents = sets_of_connex_pixels.parent_pointers\n",
    "    id_to_coordinate = sets_of_connex_pixels.num_to_objects\n",
    "    dict_of_sets = dict()\n",
    "    list_of_connex_id = []\n",
    "\n",
    "    for children, parents in dict_of_parents.items():\n",
    "    \n",
    "        if parents not in dict_of_sets:\n",
    "        \n",
    "            dict_of_sets[parents] = []\n",
    "            dict_of_sets[parents].append(children)\n",
    "    \n",
    "        else:\n",
    "        \n",
    "            dict_of_sets[parents].append(children)\n",
    "\n",
    "    for connex_elements, connex_ids in dict_of_sets.items():\n",
    "    \n",
    "        list_of_connex_coordinates = []\n",
    "    \n",
    "        for ids in connex_ids:\n",
    "        \n",
    "            list_of_connex_coordinates.append(id_to_coordinate[ids])\n",
    "    \n",
    "        list_of_connex_id.append(list_of_connex_coordinates)\n",
    "    \n",
    "    return(list_of_connex_id)"
   ]
  },
  {
   "cell_type": "markdown",
   "metadata": {},
   "source": [
    "## Find the connex set of maximum area"
   ]
  },
  {
   "cell_type": "code",
   "execution_count": 6,
   "metadata": {},
   "outputs": [],
   "source": [
    "def find_max_area_connex_set(image, seuil):\n",
    "    \n",
    "    list_of_connex_id = create_lists_of_connex_coordinates(image, seuil)\n",
    "    max_area = 0\n",
    "    connex_set_of_max_area = []\n",
    "\n",
    "    for connex_sets in list_of_connex_id:\n",
    "    \n",
    "        min_i = math.inf\n",
    "        max_i = 0\n",
    "        min_j = math.inf\n",
    "        max_j = 0\n",
    "    \n",
    "        for (i,j) in connex_sets:\n",
    "        \n",
    "            if i < min_i:\n",
    "            \n",
    "                min_i = i\n",
    "        \n",
    "            if i > max_i:\n",
    "            \n",
    "                max_i = i\n",
    "        \n",
    "            if j < min_j:\n",
    "            \n",
    "                min_j = j\n",
    "        \n",
    "            if j > max_j:\n",
    "            \n",
    "                max_j = j\n",
    "    \n",
    "        area = (max_i - min_i)*(max_j - min_j)\n",
    "    \n",
    "        if area > max_area:\n",
    "        \n",
    "            max_area = area\n",
    "            connex_set_of_max_area = connex_sets\n",
    "            max_i_object, min_i_object, max_j_object, min_j_object = max_i, min_i, max_j, min_j\n",
    "    \n",
    "    return(connex_set_of_max_area, [max_area, max_i_object, min_i_object, max_j_object, min_j_object])"
   ]
  },
  {
   "cell_type": "markdown",
   "metadata": {},
   "source": [
    "## Denoise the data but keep the original size"
   ]
  },
  {
   "cell_type": "code",
   "execution_count": 7,
   "metadata": {},
   "outputs": [],
   "source": [
    "def denoise_data(data, seuil):\n",
    "    \n",
    "    data_denoised = []\n",
    "    data_max_coordinates = []\n",
    "    \n",
    "    for k in tqdm(range(len(data))):\n",
    "        \n",
    "        data_k = [k]\n",
    "        image = data[k][1].reshape((100,100))\n",
    "        image_denoised = np.zeros((100,100))\n",
    "        connex_set_of_max_area, max_coordinates = find_max_area_connex_set(image, seuil)\n",
    "        data_max_coordinates.append(max_coordinates)\n",
    "\n",
    "        for (i,j) in connex_set_of_max_area:\n",
    "    \n",
    "            image_denoised[i][j] = image[i][j]\n",
    "        \n",
    "        data_k.append(image_denoised)\n",
    "        data_denoised.append(data_k)\n",
    "    \n",
    "    return(data_denoised, data_max_coordinates)"
   ]
  },
  {
   "cell_type": "markdown",
   "metadata": {},
   "source": [
    "## Crop, center and resize the image to size = (image_size, image_size)"
   ]
  },
  {
   "cell_type": "code",
   "execution_count": 136,
   "metadata": {},
   "outputs": [],
   "source": [
    "def crop_and_center_data(data_denoised, data_denoised_coordinates, image_size):\n",
    "    \n",
    "    data_centered = []\n",
    "    max_i, min_i, max_j, min_j = np.array(data_denoised_coordinates)[:,1], np.array(data_denoised_coordinates)[:,2], np.array(data_denoised_coordinates)[:,3], np.array(data_denoised_coordinates)[:,4]\n",
    "    elongation_i = max_i - min_i\n",
    "    elongation_j = max_j - min_j\n",
    "    max_elongation = np.max((elongation_i, elongation_j), axis=0)\n",
    "    start_i = (max_elongation - elongation_i)/2\n",
    "    start_j = (max_elongation - elongation_j)/2\n",
    "    \n",
    "    for k in tqdm(range(len(data_denoised))):\n",
    "        \n",
    "        data_k = [k]\n",
    "        image_centered = np.zeros((max_elongation[k]+1, max_elongation[k]+1))\n",
    "        image_big = data_denoised[k][1]\n",
    "        \n",
    "        for i in range(elongation_i[k]+1):\n",
    "            \n",
    "            for j in range(elongation_j[k]+1):\n",
    "                \n",
    "                image_centered[int(start_i[k])+i, int(start_j[k])+j] = image_big[min_i[k]+i][min_j[k]+j]\n",
    "        \n",
    "        image_reshaped = resize(image=image_centered, output_shape=(image_size,image_size))\n",
    "        data_k.append(image_reshaped)\n",
    "        data_centered.append(data_k)\n",
    "    \n",
    "    return(data_centered)"
   ]
  },
  {
   "cell_type": "markdown",
   "metadata": {},
   "source": [
    "## Augment the contrast of the image"
   ]
  },
  {
   "cell_type": "code",
   "execution_count": 18,
   "metadata": {},
   "outputs": [],
   "source": [
    "def augment_contrast(data_centered, seuil_contrast):\n",
    "\n",
    "    data_contrast = []\n",
    "    \n",
    "    for k in tqdm(range(len(data_centered))):\n",
    "        \n",
    "        data_k = [k]\n",
    "        image_bis = np.zeros(np.shape(data_centered[k][1]))\n",
    "\n",
    "        for i in range(np.shape(data_centered[k][1])[0]):\n",
    "    \n",
    "            for j in range(np.shape(data_centered[k][1])[1]):\n",
    "        \n",
    "                if data_centered[k][1][i,j] > seuil_contrast:\n",
    "            \n",
    "                    image_bis[i,j] = data_centered[k][1][i,j]\n",
    "        \n",
    "        data_k.append(image_bis)\n",
    "        data_contrast.append(data_k)\n",
    "    \n",
    "    return(data_contrast)"
   ]
  },
  {
   "cell_type": "markdown",
   "metadata": {},
   "source": [
    "## Remove the pixels that are \"alone\""
   ]
  },
  {
   "cell_type": "code",
   "execution_count": 19,
   "metadata": {},
   "outputs": [],
   "source": [
    "def remove_alone_pixels(data):\n",
    "    \n",
    "    for k in tqdm(range(len(data))):\n",
    "        \n",
    "        image = data[k][1]\n",
    "    \n",
    "        for i in range(image.shape[0]):\n",
    "    \n",
    "            for j in range(image.shape[1]):\n",
    "        \n",
    "                if image[i][j] > 0:\n",
    "            \n",
    "                    # We create the list of coordinate that are in the neighborhood of (i,j) depending\n",
    "                    # on wheter we are at one edge or corner of the image or not\n",
    "            \n",
    "                    not_neighbors_of_ij = []\n",
    "            \n",
    "                    # As we are scanning the image from top to bottom, from left to right, we can limit the neighborhood\n",
    "            \n",
    "                    neighbors_possible = [(i-1, j), (i-1, j-1), (i-1, j+1), (i, j-1), (i, j+1), (i+1, j-1), (i+1, j), (i+1, j+1)]\n",
    "\n",
    "                    for neighbors in neighbors_possible:\n",
    "                \n",
    "                        # Patch the fact that \"array[-1]\" doesn't return an error\n",
    "                \n",
    "                        if neighbors[0] >= 0 and neighbors[1] >= 0:\n",
    "                \n",
    "                            try:\n",
    "                    \n",
    "                                # if this returns an error, it means that we are in a \"special case\" (i.e edge or corner)\n",
    "                    \n",
    "                                image[neighbors[0]][neighbors[1]]\n",
    "                    \n",
    "                            except:\n",
    "                    \n",
    "                                # Thus, it's not in the neighborhood\n",
    "                    \n",
    "                                not_neighbors_of_ij.append(neighbors)\n",
    "                \n",
    "                        else: \n",
    "\n",
    "                            not_neighbors_of_ij.append(neighbors)\n",
    "                    \n",
    "                    has_neighbors = False\n",
    "                            \n",
    "                    for neighbors in neighbors_possible:\n",
    "                        \n",
    "                        if neighbors not in not_neighbors_of_ij:\n",
    "                            \n",
    "                            if image[neighbors[0]][neighbors[1]] > 0:\n",
    "                                \n",
    "                                has_neighbors = True\n",
    "                    \n",
    "                    if not has_neighbors:\n",
    "                        \n",
    "                        image[i][j] = 0"
   ]
  },
  {
   "cell_type": "code",
   "execution_count": 30,
   "metadata": {},
   "outputs": [
    {
     "name": "stderr",
     "output_type": "stream",
     "text": [
      "100%|██████████| 10000/10000 [03:56<00:00, 42.35it/s]\n"
     ]
    }
   ],
   "source": [
    "data_denoised, data_denoised_coordinates = denoise_data(images_train, 90)"
   ]
  },
  {
   "cell_type": "code",
   "execution_count": 137,
   "metadata": {},
   "outputs": [
    {
     "name": "stderr",
     "output_type": "stream",
     "text": [
      "  0%|          | 0/10000 [00:00<?, ?it/s]L:\\Anaconda3\\lib\\site-packages\\skimage\\transform\\_warps.py:84: UserWarning: The default mode, 'constant', will be changed to 'reflect' in skimage 0.15.\n",
      "  warn(\"The default mode, 'constant', will be changed to 'reflect' in \"\n",
      "100%|██████████| 10000/10000 [00:12<00:00, 810.00it/s]\n"
     ]
    }
   ],
   "source": [
    "data_centered = crop_and_center_data(data_denoised, data_denoised_coordinates, image_size = 28)"
   ]
  },
  {
   "cell_type": "code",
   "execution_count": 129,
   "metadata": {},
   "outputs": [
    {
     "name": "stderr",
     "output_type": "stream",
     "text": [
      "100%|██████████| 10000/10000 [00:03<00:00, 2852.70it/s]\n",
      "100%|██████████| 10000/10000 [00:17<00:00, 583.35it/s]\n"
     ]
    }
   ],
   "source": [
    "data_contrasted = augment_contrast(data_centered, 100)\n",
    "remove_alone_pixels(data_contrasted)"
   ]
  },
  {
   "cell_type": "markdown",
   "metadata": {},
   "source": [
    "# Data visualization"
   ]
  },
  {
   "cell_type": "code",
   "execution_count": 130,
   "metadata": {},
   "outputs": [
    {
     "data": {
      "image/png": "[encoded data removed]",
      "text/plain": [
       "<Figure size 720x720 with 100 Axes>"
      ]
     },
     "metadata": {},
     "output_type": "display_data"
    }
   ],
   "source": [
    "figure = plt.figure(figsize=(10,10))\n",
    "ax_array = figure.subplots(10, 10)\n",
    "axes = ax_array.flatten()\n",
    "\n",
    "for i, ax in enumerate(axes):\n",
    "    \n",
    "    ax.imshow(data_contrasted[i][1])\n",
    "    \n",
    "plt.setp(axes, xticks=[], yticks=[], frame_on=False)\n",
    "plt.tight_layout(h_pad=0.001, w_pad=0.001)"
   ]
  },
  {
   "cell_type": "markdown",
   "metadata": {},
   "source": [
    "# Premiers resultats sans plus de travail"
   ]
  },
  {
   "cell_type": "markdown",
   "metadata": {},
   "source": [
    "### Processing des données pour qu'elles se présentent dans un format utilisable par les algos\n",
    "\n",
    "**Note**: création du vector 'y_bruit' qui est extrait de y, créé spécialement pour la tâche de différencier les images où il y a un dessin de celles \"vides\""
   ]
  },
  {
   "cell_type": "code",
   "execution_count": 171,
   "metadata": {},
   "outputs": [],
   "source": [
    "data_processed = []\n",
    "y_processed = []\n",
    "y_bruit = []\n",
    "dict_of_labels = dict()\n",
    "cpt = 0\n",
    "\n",
    "for k in range(len(data_contrasted)):\n",
    "    \n",
    "    data_processed.append(data_contrasted[k][1].flatten())\n",
    "    labels = y_train_labels[k]\n",
    "    \n",
    "    if labels not in dict_of_labels:\n",
    "        \n",
    "        dict_of_labels[labels] = cpt\n",
    "        cpt += 1\n",
    "    \n",
    "    y_bruit.append(1*(labels=='empty'))\n",
    "    y_processed.append(dict_of_labels[labels])"
   ]
  },
  {
   "cell_type": "code",
   "execution_count": 216,
   "metadata": {},
   "outputs": [],
   "source": [
    "X_train, X_test, y_train, y_test = train_test_split(data_processed, y_processed, test_size=0.3, random_state=42)"
   ]
  },
  {
   "cell_type": "markdown",
   "metadata": {},
   "source": [
    "### Test de différents modèles"
   ]
  },
  {
   "cell_type": "code",
   "execution_count": 81,
   "metadata": {},
   "outputs": [
    {
     "name": "stdout",
     "output_type": "stream",
     "text": [
      "mlp accuracy:  0.3943333333333333\n",
      "Wall time: 2min 48s\n"
     ]
    }
   ],
   "source": [
    "%%time\n",
    "\n",
    "clf_mlp = MLPClassifier(alpha=0.01, hidden_layer_sizes=(784,90), random_state=0)\n",
    "clf_mlp.fit(X_train, y_train)\n",
    "y_pred_mlp = clf_mlp.predict(X_test)\n",
    "acc_mlp = accuracy_score(y_test, y_pred_mlp)\n",
    "print ('mlp accuracy: ',acc_mlp)"
   ]
  },
  {
   "cell_type": "code",
   "execution_count": 105,
   "metadata": {},
   "outputs": [
    {
     "name": "stdout",
     "output_type": "stream",
     "text": [
      "KNN accuracy:  0.43366666666666664\n",
      "Wall time: 6.04 s\n"
     ]
    }
   ],
   "source": [
    "%%time \n",
    "\n",
    "clf_knn = KNeighborsClassifier(n_jobs=-1)\n",
    "clf_knn.fit(X_train, y_train)\n",
    "y_pred_knn = clf_knn.predict(X_test)\n",
    "acc_knn = accuracy_score(y_test, y_pred_knn)\n",
    "print ('KNN accuracy: ',acc_knn)"
   ]
  },
  {
   "cell_type": "code",
   "execution_count": 189,
   "metadata": {},
   "outputs": [
    {
     "name": "stdout",
     "output_type": "stream",
     "text": [
      "Gradient Boosting accuracy:  0.42433333333333334\n",
      "Wall time: 14min 39s\n"
     ]
    }
   ],
   "source": [
    "%%time\n",
    "\n",
    "clf_gb = GradientBoostingClassifier(n_estimators=100)\n",
    "clf_gb.fit(X_train, y_train)\n",
    "y_pred_gb = clf_gb.predict(X_test)\n",
    "acc_gb = accuracy_score(y_test, y_pred_gb)\n",
    "print ('Gradient Boosting accuracy: ',acc_gb)"
   ]
  },
  {
   "cell_type": "code",
   "execution_count": 217,
   "metadata": {},
   "outputs": [
    {
     "name": "stdout",
     "output_type": "stream",
     "text": [
      "random forest accuracy:  0.5026666666666667\n",
      "Wall time: 26.3 s\n"
     ]
    }
   ],
   "source": [
    "%%time\n",
    "\n",
    "clf_rf = RandomForestClassifier(n_estimators=1500, n_jobs=-1, random_state=0)\n",
    "clf_rf.fit(X_train, y_train)\n",
    "y_pred_rf = clf_rf.predict(X_test)\n",
    "acc_rf = accuracy_score(y_test, y_pred_rf)\n",
    "print ('random forest accuracy: ',acc_rf)"
   ]
  },
  {
   "cell_type": "code",
   "execution_count": 88,
   "metadata": {},
   "outputs": [
    {
     "name": "stdout",
     "output_type": "stream",
     "text": [
      "SVC accuracy:  0.47633333333333333\n",
      "Wall time: 1min 48s\n"
     ]
    }
   ],
   "source": [
    "%%time\n",
    "\n",
    "clf_svc = SVC(gamma=2, C=1)\n",
    "clf_svc.fit(X_train, y_train)\n",
    "y_pred_svc = clf_rf.predict(X_test)\n",
    "acc_rf = accuracy_score(y_test, y_pred_svc)\n",
    "print ('SVC accuracy: ',acc_rf)"
   ]
  },
  {
   "cell_type": "markdown",
   "metadata": {},
   "source": [
    "**Tests sur la seule tâche de différencier bruit et image:**"
   ]
  },
  {
   "cell_type": "code",
   "execution_count": 172,
   "metadata": {},
   "outputs": [],
   "source": [
    "X_train_bruit, X_test_bruit, y_train_bruit, y_test_bruit = train_test_split(data_processed, y_bruit, test_size=0.3, random_state=42)"
   ]
  },
  {
   "cell_type": "code",
   "execution_count": 173,
   "metadata": {},
   "outputs": [
    {
     "name": "stdout",
     "output_type": "stream",
     "text": [
      "random forest accuracy:  0.9696666666666667\n",
      "Wall time: 25.3 s\n"
     ]
    }
   ],
   "source": [
    "%%time\n",
    "\n",
    "clf_rf = RandomForestClassifier(n_estimators=1500, n_jobs=-1, random_state=0)\n",
    "clf_rf.fit(X_train_bruit, y_train_bruit)\n",
    "y_pred_rf = clf_rf.predict(X_test_bruit)\n",
    "acc_rf = accuracy_score(y_test_bruit, y_pred_rf)\n",
    "print ('random forest accuracy: ',acc_rf)"
   ]
  },
  {
   "cell_type": "code",
   "execution_count": 174,
   "metadata": {},
   "outputs": [
    {
     "name": "stdout",
     "output_type": "stream",
     "text": [
      "KNN accuracy:  0.9696666666666667\n",
      "Wall time: 6.03 s\n"
     ]
    }
   ],
   "source": [
    "%%time \n",
    "\n",
    "clf_knn = KNeighborsClassifier(n_jobs=-1)\n",
    "clf_knn.fit(X_train_bruit, y_train_bruit)\n",
    "y_pred_knn = clf_knn.predict(X_test_bruit)\n",
    "acc_knn = accuracy_score(y_test_bruit, y_pred_knn)\n",
    "print ('KNN accuracy: ',acc_knn)"
   ]
  },
  {
   "cell_type": "markdown",
   "metadata": {},
   "source": [
    "### Implementation de 2 CNN simples"
   ]
  },
  {
   "cell_type": "code",
   "execution_count": 99,
   "metadata": {},
   "outputs": [
    {
     "name": "stderr",
     "output_type": "stream",
     "text": [
      "Using TensorFlow backend.\n"
     ]
    }
   ],
   "source": [
    "import keras\n",
    "from keras.models import Sequential\n",
    "from keras.layers import Dense, Dropout, Flatten\n",
    "from keras.layers.convolutional import Conv2D, MaxPooling2D\n",
    "from keras.utils import np_utils\n",
    "from keras import backend as K\n",
    "K.set_image_dim_ordering('th')"
   ]
  },
  {
   "cell_type": "code",
   "execution_count": 106,
   "metadata": {},
   "outputs": [],
   "source": [
    "y_train_cnn = np_utils.to_categorical(y_train)\n",
    "y_test_cnn = np_utils.to_categorical(y_test)\n",
    "num_classes = y_test_cnn.shape[1]"
   ]
  },
  {
   "cell_type": "code",
   "execution_count": 110,
   "metadata": {},
   "outputs": [],
   "source": [
    "X_train_cnn = np.array(X_train).reshape(np.array(X_train).shape[0], 1, 28, 28).astype('float32')\n",
    "X_test_cnn = np.array(X_test).reshape(np.array(X_test).shape[0], 1, 28, 28).astype('float32')"
   ]
  },
  {
   "cell_type": "code",
   "execution_count": 119,
   "metadata": {},
   "outputs": [],
   "source": [
    "def cnn_model1():\n",
    "    \n",
    "    model = Sequential()\n",
    "    model.add(Conv2D(30, (5, 5), input_shape=(1, 28, 28), activation='relu'))\n",
    "    model.add(MaxPooling2D(pool_size=(2, 2)))\n",
    "    model.add(Conv2D(15, (3, 3), activation='relu'))\n",
    "    model.add(MaxPooling2D(pool_size=(2, 2)))\n",
    "    model.add(Dropout(0.2))\n",
    "    model.add(Flatten())\n",
    "    model.add(Dense(128, activation='relu'))\n",
    "    model.add(Dense(50, activation='relu'))\n",
    "    model.add(Dense(num_classes, activation='softmax'))\n",
    "    \n",
    "    model.compile(loss='categorical_crossentropy', optimizer='adam', metrics=['accuracy'])\n",
    "    \n",
    "    return(model)"
   ]
  },
  {
   "cell_type": "code",
   "execution_count": 120,
   "metadata": {},
   "outputs": [],
   "source": [
    "def cnn_model2():\n",
    "    \n",
    "    input_shape = (1, 28, 28)\n",
    "    model = Sequential()\n",
    "\n",
    "    model.add(Conv2D(6, kernel_size=(3, 3), activation='relu', input_shape=input_shape, padding=\"same\"))\n",
    "    model.add(Conv2D(32, kernel_size=(3, 3), activation='relu'))\n",
    "    model.add(MaxPooling2D(pool_size=(2, 2)))\n",
    "    model.add(Dropout(0.25))\n",
    "\n",
    "    model.add(Conv2D(64, kernel_size=(3, 3), border_mode='same', activation='relu'))\n",
    "    model.add(Conv2D(64, kernel_size=(3, 3), activation='relu'))\n",
    "    model.add(MaxPooling2D(pool_size=(2, 2)))\n",
    "    model.add(Dropout(0.25))\n",
    "\n",
    "    model.add(Flatten())\n",
    "    model.add(Dense(512, activation='relu'))\n",
    "    model.add(Dropout(0.5))\n",
    "    model.add(Dense(num_classes, activation='softmax'))\n",
    "    \n",
    "    model.compile(loss='categorical_crossentropy', optimizer='rmsprop', metrics=['accuracy'])\n",
    "\n",
    "    return model"
   ]
  },
  {
   "cell_type": "code",
   "execution_count": 118,
   "metadata": {},
   "outputs": [
    {
     "name": "stderr",
     "output_type": "stream",
     "text": [
      "L:\\Anaconda3\\lib\\site-packages\\ipykernel_launcher.py:11: UserWarning: Update your `Conv2D` call to the Keras 2 API: `Conv2D(64, kernel_size=(3, 3), activation=\"relu\", padding=\"same\")`\n",
      "  # This is added back by InteractiveShellApp.init_path()\n"
     ]
    },
    {
     "name": "stdout",
     "output_type": "stream",
     "text": [
      "Train on 7000 samples, validate on 3000 samples\n",
      "Epoch 1/100\n",
      "7000/7000 [==============================] - ETA: 45s - loss: 14.7871 - acc: 0.039 - ETA: 33s - loss: 15.1543 - acc: 0.035 - ETA: 28s - loss: 15.2237 - acc: 0.039 - ETA: 26s - loss: 15.3843 - acc: 0.033 - ETA: 24s - loss: 15.3296 - acc: 0.039 - ETA: 23s - loss: 15.2721 - acc: 0.044 - ETA: 22s - loss: 15.2851 - acc: 0.044 - ETA: 21s - loss: 15.2790 - acc: 0.045 - ETA: 20s - loss: 15.2213 - acc: 0.049 - ETA: 19s - loss: 15.2133 - acc: 0.050 - ETA: 18s - loss: 15.2612 - acc: 0.047 - ETA: 18s - loss: 15.2487 - acc: 0.048 - ETA: 17s - loss: 15.2768 - acc: 0.047 - ETA: 17s - loss: 15.3009 - acc: 0.046 - ETA: 16s - loss: 15.3134 - acc: 0.045 - ETA: 16s - loss: 15.2929 - acc: 0.047 - ETA: 15s - loss: 15.3266 - acc: 0.045 - ETA: 15s - loss: 15.3286 - acc: 0.045 - ETA: 14s - loss: 15.3304 - acc: 0.045 - ETA: 14s - loss: 15.3446 - acc: 0.044 - ETA: 13s - loss: 15.3155 - acc: 0.046 - ETA: 13s - loss: 15.3062 - acc: 0.047 - ETA: 12s - loss: 15.3141 - acc: 0.047 - ETA: 12s - loss: 15.3004 - acc: 0.048 - ETA: 12s - loss: 15.3180 - acc: 0.047 - ETA: 11s - loss: 15.3294 - acc: 0.046 - ETA: 11s - loss: 15.3446 - acc: 0.045 - ETA: 10s - loss: 15.3452 - acc: 0.045 - ETA: 10s - loss: 15.3632 - acc: 0.044 - ETA: 9s - loss: 15.3674 - acc: 0.044 - ETA: 9s - loss: 15.3875 - acc: 0.04 - ETA: 9s - loss: 15.4025 - acc: 0.04 - ETA: 8s - loss: 15.4051 - acc: 0.04 - ETA: 8s - loss: 15.4187 - acc: 0.04 - ETA: 7s - loss: 15.4207 - acc: 0.04 - ETA: 7s - loss: 15.4155 - acc: 0.04 - ETA: 7s - loss: 15.4107 - acc: 0.04 - ETA: 6s - loss: 15.4128 - acc: 0.04 - ETA: 6s - loss: 15.4179 - acc: 0.04 - ETA: 5s - loss: 15.4102 - acc: 0.04 - ETA: 5s - loss: 15.4111 - acc: 0.04 - ETA: 5s - loss: 15.4061 - acc: 0.04 - ETA: 4s - loss: 15.4043 - acc: 0.04 - ETA: 4s - loss: 15.3942 - acc: 0.04 - ETA: 3s - loss: 15.3777 - acc: 0.04 - ETA: 3s - loss: 15.3716 - acc: 0.04 - ETA: 3s - loss: 15.3714 - acc: 0.04 - ETA: 2s - loss: 15.3634 - acc: 0.04 - ETA: 2s - loss: 15.3564 - acc: 0.04 - ETA: 1s - loss: 15.3414 - acc: 0.04 - ETA: 1s - loss: 15.3369 - acc: 0.04 - ETA: 1s - loss: 15.3307 - acc: 0.04 - ETA: 0s - loss: 15.3266 - acc: 0.04 - ETA: 0s - loss: 15.3133 - acc: 0.04 - 26s 4ms/step - loss: 15.3165 - acc: 0.0476 - val_loss: 14.9888 - val_acc: 0.0693\n",
      "Epoch 2/100\n",
      "7000/7000 [==============================] - ETA: 20s - loss: 14.8589 - acc: 0.078 - ETA: 19s - loss: 14.7959 - acc: 0.082 - ETA: 19s - loss: 14.6910 - acc: 0.088 - ETA: 19s - loss: 14.7057 - acc: 0.085 - ETA: 18s - loss: 14.8119 - acc: 0.079 - ETA: 18s - loss: 14.8061 - acc: 0.078 - ETA: 18s - loss: 14.8316 - acc: 0.077 - ETA: 17s - loss: 14.8193 - acc: 0.078 - ETA: 17s - loss: 14.8377 - acc: 0.077 - ETA: 17s - loss: 14.8398 - acc: 0.077 - ETA: 16s - loss: 14.8186 - acc: 0.078 - ETA: 16s - loss: 14.8220 - acc: 0.078 - ETA: 15s - loss: 14.8444 - acc: 0.077 - ETA: 15s - loss: 14.8454 - acc: 0.077 - ETA: 15s - loss: 14.8295 - acc: 0.078 - ETA: 14s - loss: 14.8235 - acc: 0.079 - ETA: 14s - loss: 14.8182 - acc: 0.079 - ETA: 14s - loss: 14.7505 - acc: 0.083 - ETA: 13s - loss: 14.7363 - acc: 0.084 - ETA: 13s - loss: 14.7362 - acc: 0.084 - ETA: 13s - loss: 14.7240 - acc: 0.085 - ETA: 12s - loss: 14.7021 - acc: 0.086 - ETA: 12s - loss: 14.7239 - acc: 0.085 - ETA: 11s - loss: 14.7557 - acc: 0.083 - ETA: 11s - loss: 14.7448 - acc: 0.084 - ETA: 11s - loss: 14.7879 - acc: 0.081 - ETA: 10s - loss: 14.8046 - acc: 0.080 - ETA: 10s - loss: 14.7931 - acc: 0.081 - ETA: 9s - loss: 14.8084 - acc: 0.080 - ETA: 9s - loss: 14.7765 - acc: 0.08 - ETA: 9s - loss: 14.7670 - acc: 0.08 - ETA: 8s - loss: 14.7474 - acc: 0.08 - ETA: 8s - loss: 14.7623 - acc: 0.08 - ETA: 7s - loss: 14.7762 - acc: 0.08 - ETA: 7s - loss: 14.7792 - acc: 0.08 - ETA: 7s - loss: 14.7744 - acc: 0.08 - ETA: 6s - loss: 14.7903 - acc: 0.08 - ETA: 6s - loss: 14.8020 - acc: 0.08 - ETA: 6s - loss: 14.7970 - acc: 0.08 - ETA: 5s - loss: 14.8017 - acc: 0.08 - ETA: 5s - loss: 14.8216 - acc: 0.07 - ETA: 4s - loss: 14.8134 - acc: 0.08 - ETA: 4s - loss: 14.7999 - acc: 0.08 - ETA: 4s - loss: 14.8041 - acc: 0.08 - ETA: 3s - loss: 14.7885 - acc: 0.08 - ETA: 3s - loss: 14.7873 - acc: 0.08 - ETA: 2s - loss: 14.7915 - acc: 0.08 - ETA: 2s - loss: 14.8060 - acc: 0.08 - ETA: 2s - loss: 14.8045 - acc: 0.08 - ETA: 1s - loss: 14.8129 - acc: 0.08 - ETA: 1s - loss: 14.8039 - acc: 0.08 - ETA: 1s - loss: 14.8147 - acc: 0.08 - ETA: 0s - loss: 14.8202 - acc: 0.07 - ETA: 0s - loss: 14.8186 - acc: 0.07 - 26s 4ms/step - loss: 14.8259 - acc: 0.0793 - val_loss: 14.8135 - val_acc: 0.0807\n",
      "Epoch 3/100\n",
      "7000/7000 [==============================] - ETA: 21s - loss: 14.7330 - acc: 0.085 - ETA: 21s - loss: 14.8589 - acc: 0.078 - ETA: 21s - loss: 14.6070 - acc: 0.093 - ETA: 20s - loss: 14.5755 - acc: 0.095 - ETA: 19s - loss: 14.5315 - acc: 0.098 - ETA: 19s - loss: 14.5116 - acc: 0.099 - ETA: 19s - loss: 14.6152 - acc: 0.092 - ETA: 18s - loss: 14.6614 - acc: 0.089 - ETA: 18s - loss: 14.7533 - acc: 0.084 - ETA: 17s - loss: 14.7765 - acc: 0.082 - ETA: 17s - loss: 14.7496 - acc: 0.084 - ETA: 17s - loss: 14.8007 - acc: 0.081 - ETA: 16s - loss: 14.7955 - acc: 0.081 - ETA: 16s - loss: 14.8197 - acc: 0.079 - ETA: 15s - loss: 14.8223 - acc: 0.079 - ETA: 15s - loss: 14.7852 - acc: 0.082 - ETA: 14s - loss: 14.7747 - acc: 0.082 - ETA: 14s - loss: 14.7655 - acc: 0.083 - ETA: 14s - loss: 14.7903 - acc: 0.081 - ETA: 13s - loss: 14.7811 - acc: 0.082 - ETA: 13s - loss: 14.7968 - acc: 0.081 - ETA: 12s - loss: 14.7939 - acc: 0.081 - ETA: 12s - loss: 14.7858 - acc: 0.082 - ETA: 12s - loss: 14.7981 - acc: 0.081 - ETA: 11s - loss: 14.7855 - acc: 0.082 - ETA: 11s - loss: 14.7835 - acc: 0.082 - ETA: 10s - loss: 14.7865 - acc: 0.082 - ETA: 10s - loss: 14.7935 - acc: 0.081 - ETA: 10s - loss: 14.7871 - acc: 0.082 - ETA: 9s - loss: 14.7920 - acc: 0.081 - ETA: 9s - loss: 14.7942 - acc: 0.08 - ETA: 8s - loss: 14.7883 - acc: 0.08 - ETA: 8s - loss: 14.7828 - acc: 0.08 - ETA: 8s - loss: 14.7775 - acc: 0.08 - ETA: 7s - loss: 14.7654 - acc: 0.08 - ETA: 7s - loss: 14.7505 - acc: 0.08 - ETA: 6s - loss: 14.7432 - acc: 0.08 - ETA: 6s - loss: 14.7330 - acc: 0.08 - ETA: 6s - loss: 14.7330 - acc: 0.08 - ETA: 5s - loss: 14.7425 - acc: 0.08 - ETA: 5s - loss: 14.7484 - acc: 0.08 - ETA: 4s - loss: 14.7510 - acc: 0.08 - ETA: 4s - loss: 14.7506 - acc: 0.08 - ETA: 4s - loss: 14.7387 - acc: 0.08 - ETA: 3s - loss: 14.7470 - acc: 0.08 - ETA: 3s - loss: 14.7358 - acc: 0.08 - ETA: 3s - loss: 14.7357 - acc: 0.08 - ETA: 2s - loss: 14.7514 - acc: 0.08 - ETA: 2s - loss: 14.7433 - acc: 0.08 - ETA: 1s - loss: 14.7431 - acc: 0.08 - ETA: 1s - loss: 14.7355 - acc: 0.08 - ETA: 1s - loss: 14.7136 - acc: 0.08 - ETA: 0s - loss: 14.7188 - acc: 0.08 - ETA: 0s - loss: 14.7167 - acc: 0.08 - 26s 4ms/step - loss: 14.7159 - acc: 0.0866 - val_loss: 14.8274 - val_acc: 0.0800\n",
      "Epoch 4/100\n"
     ]
    },
    {
     "name": "stdout",
     "output_type": "stream",
     "text": [
      "7000/7000 [==============================] - ETA: 20s - loss: 14.4811 - acc: 0.101 - ETA: 20s - loss: 14.6311 - acc: 0.089 - ETA: 19s - loss: 14.7070 - acc: 0.085 - ETA: 19s - loss: 14.8079 - acc: 0.080 - ETA: 19s - loss: 14.7929 - acc: 0.081 - ETA: 19s - loss: 14.8459 - acc: 0.078 - ETA: 18s - loss: 14.8298 - acc: 0.079 - ETA: 18s - loss: 14.9121 - acc: 0.074 - ETA: 17s - loss: 14.9622 - acc: 0.071 - ETA: 17s - loss: 14.9919 - acc: 0.068 - ETA: 17s - loss: 14.8997 - acc: 0.074 - ETA: 16s - loss: 14.8438 - acc: 0.078 - ETA: 16s - loss: 14.8643 - acc: 0.076 - ETA: 15s - loss: 14.8550 - acc: 0.077 - ETA: 15s - loss: 14.8888 - acc: 0.075 - ETA: 15s - loss: 14.8633 - acc: 0.077 - ETA: 14s - loss: 14.8260 - acc: 0.079 - ETA: 14s - loss: 14.8288 - acc: 0.079 - ETA: 13s - loss: 14.7840 - acc: 0.081 - ETA: 13s - loss: 14.7725 - acc: 0.082 - ETA: 13s - loss: 14.7826 - acc: 0.081 - ETA: 12s - loss: 14.7689 - acc: 0.082 - ETA: 12s - loss: 14.7673 - acc: 0.082 - ETA: 12s - loss: 14.7554 - acc: 0.083 - ETA: 11s - loss: 14.7452 - acc: 0.083 - ETA: 11s - loss: 14.7390 - acc: 0.084 - ETA: 10s - loss: 14.7108 - acc: 0.085 - ETA: 10s - loss: 14.6981 - acc: 0.086 - ETA: 10s - loss: 14.6776 - acc: 0.088 - ETA: 9s - loss: 14.6898 - acc: 0.087 - ETA: 9s - loss: 14.7034 - acc: 0.08 - ETA: 8s - loss: 14.7082 - acc: 0.08 - ETA: 8s - loss: 14.7012 - acc: 0.08 - ETA: 8s - loss: 14.7044 - acc: 0.08 - ETA: 7s - loss: 14.7254 - acc: 0.08 - ETA: 7s - loss: 14.7367 - acc: 0.08 - ETA: 6s - loss: 14.7345 - acc: 0.08 - ETA: 6s - loss: 14.7401 - acc: 0.08 - ETA: 6s - loss: 14.7501 - acc: 0.08 - ETA: 5s - loss: 14.7565 - acc: 0.08 - ETA: 5s - loss: 14.7667 - acc: 0.08 - ETA: 4s - loss: 14.7749 - acc: 0.08 - ETA: 4s - loss: 14.7857 - acc: 0.08 - ETA: 4s - loss: 14.7979 - acc: 0.07 - ETA: 3s - loss: 14.7909 - acc: 0.08 - ETA: 3s - loss: 14.7900 - acc: 0.08 - ETA: 2s - loss: 14.7862 - acc: 0.08 - ETA: 2s - loss: 14.7798 - acc: 0.08 - ETA: 2s - loss: 14.7877 - acc: 0.08 - ETA: 1s - loss: 14.7916 - acc: 0.08 - ETA: 1s - loss: 14.7847 - acc: 0.08 - ETA: 1s - loss: 14.7886 - acc: 0.08 - ETA: 0s - loss: 14.7835 - acc: 0.08 - ETA: 0s - loss: 14.7782 - acc: 0.08 - 26s 4ms/step - loss: 14.7767 - acc: 0.0804 - val_loss: 14.7440 - val_acc: 0.0800\n",
      "Epoch 5/100\n",
      "7000/7000 [==============================] - ETA: 20s - loss: 14.2812 - acc: 0.109 - ETA: 20s - loss: 14.5542 - acc: 0.093 - ETA: 19s - loss: 14.7397 - acc: 0.083 - ETA: 19s - loss: 14.8416 - acc: 0.076 - ETA: 18s - loss: 14.8198 - acc: 0.078 - ETA: 18s - loss: 14.7300 - acc: 0.083 - ETA: 18s - loss: 14.7484 - acc: 0.082 - ETA: 17s - loss: 14.7257 - acc: 0.083 - ETA: 17s - loss: 14.6706 - acc: 0.086 - ETA: 17s - loss: 14.7398 - acc: 0.082 - ETA: 16s - loss: 14.6705 - acc: 0.087 - ETA: 16s - loss: 14.6233 - acc: 0.090 - ETA: 16s - loss: 14.5930 - acc: 0.092 - ETA: 16s - loss: 14.5571 - acc: 0.094 - ETA: 15s - loss: 14.5654 - acc: 0.093 - ETA: 15s - loss: 14.5467 - acc: 0.094 - ETA: 15s - loss: 14.4910 - acc: 0.097 - ETA: 14s - loss: 14.4580 - acc: 0.099 - ETA: 14s - loss: 14.4128 - acc: 0.102 - ETA: 13s - loss: 14.4457 - acc: 0.100 - ETA: 13s - loss: 14.4666 - acc: 0.099 - ETA: 13s - loss: 14.4787 - acc: 0.098 - ETA: 12s - loss: 14.5226 - acc: 0.095 - ETA: 12s - loss: 14.4894 - acc: 0.098 - ETA: 12s - loss: 14.4991 - acc: 0.097 - ETA: 11s - loss: 14.5323 - acc: 0.095 - ETA: 11s - loss: 14.5491 - acc: 0.094 - ETA: 10s - loss: 14.5287 - acc: 0.096 - ETA: 10s - loss: 14.5427 - acc: 0.095 - ETA: 10s - loss: 14.5407 - acc: 0.095 - ETA: 9s - loss: 14.5068 - acc: 0.097 - ETA: 9s - loss: 14.5217 - acc: 0.09 - ETA: 8s - loss: 14.5352 - acc: 0.09 - ETA: 8s - loss: 14.5401 - acc: 0.09 - ETA: 8s - loss: 14.5263 - acc: 0.09 - ETA: 7s - loss: 14.5181 - acc: 0.09 - ETA: 7s - loss: 14.5100 - acc: 0.09 - ETA: 6s - loss: 14.5017 - acc: 0.09 - ETA: 6s - loss: 14.4910 - acc: 0.09 - ETA: 6s - loss: 14.4691 - acc: 0.09 - ETA: 5s - loss: 14.4685 - acc: 0.09 - ETA: 5s - loss: 14.4575 - acc: 0.10 - ETA: 4s - loss: 14.4610 - acc: 0.10 - ETA: 4s - loss: 14.4586 - acc: 0.10 - ETA: 3s - loss: 14.4507 - acc: 0.10 - ETA: 3s - loss: 14.4431 - acc: 0.10 - ETA: 3s - loss: 14.4335 - acc: 0.10 - ETA: 2s - loss: 14.4357 - acc: 0.10 - ETA: 2s - loss: 14.4418 - acc: 0.10 - ETA: 1s - loss: 14.4479 - acc: 0.10 - ETA: 1s - loss: 14.4477 - acc: 0.10 - ETA: 1s - loss: 14.4290 - acc: 0.10 - ETA: 0s - loss: 14.4281 - acc: 0.10 - ETA: 0s - loss: 14.4361 - acc: 0.10 - 27s 4ms/step - loss: 14.4283 - acc: 0.1021 - val_loss: 14.6779 - val_acc: 0.0887\n",
      "Epoch 6/100\n",
      "7000/7000 [==============================] - ETA: 20s - loss: 14.4775 - acc: 0.101 - ETA: 20s - loss: 14.8571 - acc: 0.078 - ETA: 19s - loss: 14.7283 - acc: 0.083 - ETA: 19s - loss: 14.5724 - acc: 0.093 - ETA: 19s - loss: 14.5793 - acc: 0.093 - ETA: 19s - loss: 14.3297 - acc: 0.109 - ETA: 18s - loss: 14.1175 - acc: 0.122 - ETA: 18s - loss: 14.1010 - acc: 0.123 - ETA: 18s - loss: 14.0453 - acc: 0.126 - ETA: 17s - loss: 14.0637 - acc: 0.125 - ETA: 17s - loss: 14.0019 - acc: 0.129 - ETA: 16s - loss: 13.9894 - acc: 0.130 - ETA: 16s - loss: 14.0369 - acc: 0.127 - ETA: 16s - loss: 14.0714 - acc: 0.125 - ETA: 15s - loss: 14.0987 - acc: 0.123 - ETA: 15s - loss: 14.1193 - acc: 0.122 - ETA: 14s - loss: 14.1527 - acc: 0.119 - ETA: 14s - loss: 14.1101 - acc: 0.122 - ETA: 13s - loss: 14.1429 - acc: 0.120 - ETA: 13s - loss: 14.1042 - acc: 0.122 - ETA: 13s - loss: 14.1449 - acc: 0.120 - ETA: 12s - loss: 14.1318 - acc: 0.120 - ETA: 12s - loss: 14.1545 - acc: 0.118 - ETA: 12s - loss: 14.1902 - acc: 0.116 - ETA: 11s - loss: 14.1918 - acc: 0.116 - ETA: 11s - loss: 14.2320 - acc: 0.114 - ETA: 10s - loss: 14.2340 - acc: 0.114 - ETA: 10s - loss: 14.2386 - acc: 0.113 - ETA: 10s - loss: 14.2488 - acc: 0.112 - ETA: 9s - loss: 14.2649 - acc: 0.111 - ETA: 9s - loss: 14.2712 - acc: 0.11 - ETA: 8s - loss: 14.2699 - acc: 0.11 - ETA: 8s - loss: 14.2878 - acc: 0.11 - ETA: 8s - loss: 14.2812 - acc: 0.11 - ETA: 7s - loss: 14.2833 - acc: 0.11 - ETA: 7s - loss: 14.2888 - acc: 0.11 - ETA: 7s - loss: 14.2804 - acc: 0.11 - ETA: 6s - loss: 14.2890 - acc: 0.11 - ETA: 6s - loss: 14.2843 - acc: 0.11 - ETA: 5s - loss: 14.2924 - acc: 0.11 - ETA: 5s - loss: 14.2978 - acc: 0.11 - ETA: 5s - loss: 14.3112 - acc: 0.10 - ETA: 4s - loss: 14.3143 - acc: 0.10 - ETA: 4s - loss: 14.3352 - acc: 0.10 - ETA: 3s - loss: 14.3413 - acc: 0.10 - ETA: 3s - loss: 14.3328 - acc: 0.10 - ETA: 3s - loss: 14.3467 - acc: 0.10 - ETA: 2s - loss: 14.3397 - acc: 0.10 - ETA: 2s - loss: 14.3305 - acc: 0.10 - ETA: 1s - loss: 14.3311 - acc: 0.10 - ETA: 1s - loss: 14.3393 - acc: 0.10 - ETA: 1s - loss: 14.3442 - acc: 0.10 - ETA: 0s - loss: 14.3336 - acc: 0.10 - ETA: 0s - loss: 14.3387 - acc: 0.10 - 27s 4ms/step - loss: 14.3454 - acc: 0.1071 - val_loss: 14.3345 - val_acc: 0.1057\n",
      "Epoch 7/100\n"
     ]
    },
    {
     "name": "stdout",
     "output_type": "stream",
     "text": [
      "7000/7000 [==============================] - ETA: 19s - loss: 14.4115 - acc: 0.101 - ETA: 20s - loss: 14.0210 - acc: 0.121 - ETA: 20s - loss: 14.2046 - acc: 0.112 - ETA: 20s - loss: 14.3123 - acc: 0.105 - ETA: 19s - loss: 14.2432 - acc: 0.109 - ETA: 19s - loss: 14.2949 - acc: 0.104 - ETA: 18s - loss: 14.2397 - acc: 0.107 - ETA: 18s - loss: 14.2093 - acc: 0.109 - ETA: 18s - loss: 14.1867 - acc: 0.111 - ETA: 18s - loss: 14.1723 - acc: 0.111 - ETA: 17s - loss: 14.0976 - acc: 0.117 - ETA: 17s - loss: 14.1028 - acc: 0.117 - ETA: 16s - loss: 14.0932 - acc: 0.117 - ETA: 16s - loss: 14.0670 - acc: 0.120 - ETA: 16s - loss: 14.0982 - acc: 0.118 - ETA: 15s - loss: 14.1141 - acc: 0.117 - ETA: 15s - loss: 14.1654 - acc: 0.114 - ETA: 14s - loss: 14.2309 - acc: 0.111 - ETA: 14s - loss: 14.2275 - acc: 0.111 - ETA: 14s - loss: 14.2393 - acc: 0.109 - ETA: 13s - loss: 14.2003 - acc: 0.112 - ETA: 13s - loss: 14.2227 - acc: 0.110 - ETA: 12s - loss: 14.1954 - acc: 0.111 - ETA: 12s - loss: 14.1716 - acc: 0.113 - ETA: 12s - loss: 14.1612 - acc: 0.113 - ETA: 11s - loss: 14.1369 - acc: 0.114 - ETA: 11s - loss: 14.0925 - acc: 0.117 - ETA: 10s - loss: 14.0815 - acc: 0.117 - ETA: 10s - loss: 14.0834 - acc: 0.117 - ETA: 9s - loss: 14.0692 - acc: 0.118 - ETA: 9s - loss: 14.0822 - acc: 0.11 - ETA: 9s - loss: 14.0812 - acc: 0.11 - ETA: 8s - loss: 14.0682 - acc: 0.11 - ETA: 8s - loss: 14.0272 - acc: 0.11 - ETA: 7s - loss: 13.9684 - acc: 0.11 - ETA: 7s - loss: 13.8304 - acc: 0.11 - ETA: 7s - loss: 13.6077 - acc: 0.11 - ETA: 6s - loss: 13.3584 - acc: 0.11 - ETA: 6s - loss: 13.1047 - acc: 0.11 - ETA: 5s - loss: 12.8594 - acc: 0.11 - ETA: 5s - loss: 12.6236 - acc: 0.12 - ETA: 5s - loss: 12.3960 - acc: 0.12 - ETA: 4s - loss: 12.1797 - acc: 0.12 - ETA: 4s - loss: 11.9774 - acc: 0.12 - ETA: 3s - loss: 11.7784 - acc: 0.12 - ETA: 3s - loss: 11.5905 - acc: 0.12 - ETA: 3s - loss: 11.4059 - acc: 0.12 - ETA: 2s - loss: 11.2340 - acc: 0.12 - ETA: 2s - loss: 11.0627 - acc: 0.12 - ETA: 1s - loss: 10.9032 - acc: 0.13 - ETA: 1s - loss: 10.7500 - acc: 0.13 - ETA: 1s - loss: 10.6015 - acc: 0.13 - ETA: 0s - loss: 10.4546 - acc: 0.13 - ETA: 0s - loss: 10.3160 - acc: 0.13 - 26s 4ms/step - loss: 10.2247 - acc: 0.1361 - val_loss: 2.7342 - val_acc: 0.3103\n",
      "Epoch 8/100\n",
      "7000/7000 [==============================] - ETA: 20s - loss: 2.7330 - acc: 0.28 - ETA: 20s - loss: 2.6877 - acc: 0.27 - ETA: 20s - loss: 2.6984 - acc: 0.28 - ETA: 20s - loss: 2.6926 - acc: 0.28 - ETA: 19s - loss: 2.7163 - acc: 0.27 - ETA: 19s - loss: 2.7183 - acc: 0.27 - ETA: 19s - loss: 2.7060 - acc: 0.27 - ETA: 18s - loss: 2.7065 - acc: 0.27 - ETA: 18s - loss: 2.7218 - acc: 0.26 - ETA: 18s - loss: 2.6990 - acc: 0.26 - ETA: 17s - loss: 2.6971 - acc: 0.27 - ETA: 17s - loss: 2.6806 - acc: 0.27 - ETA: 16s - loss: 2.6657 - acc: 0.27 - ETA: 16s - loss: 2.6607 - acc: 0.27 - ETA: 15s - loss: 2.6707 - acc: 0.27 - ETA: 15s - loss: 2.6597 - acc: 0.27 - ETA: 15s - loss: 2.6461 - acc: 0.27 - ETA: 14s - loss: 2.6388 - acc: 0.27 - ETA: 14s - loss: 2.6260 - acc: 0.28 - ETA: 13s - loss: 2.6207 - acc: 0.28 - ETA: 13s - loss: 2.6173 - acc: 0.28 - ETA: 13s - loss: 2.6087 - acc: 0.28 - ETA: 12s - loss: 2.5922 - acc: 0.28 - ETA: 12s - loss: 2.5893 - acc: 0.29 - ETA: 11s - loss: 2.5822 - acc: 0.29 - ETA: 11s - loss: 2.5782 - acc: 0.29 - ETA: 11s - loss: 2.5778 - acc: 0.29 - ETA: 10s - loss: 2.5700 - acc: 0.29 - ETA: 10s - loss: 2.5672 - acc: 0.29 - ETA: 9s - loss: 2.5663 - acc: 0.2956 - ETA: 9s - loss: 2.5610 - acc: 0.297 - ETA: 8s - loss: 2.5594 - acc: 0.298 - ETA: 8s - loss: 2.5572 - acc: 0.300 - ETA: 8s - loss: 2.5505 - acc: 0.302 - ETA: 7s - loss: 2.5482 - acc: 0.302 - ETA: 7s - loss: 2.5453 - acc: 0.302 - ETA: 6s - loss: 2.5497 - acc: 0.301 - ETA: 6s - loss: 2.5480 - acc: 0.302 - ETA: 6s - loss: 2.5480 - acc: 0.303 - ETA: 5s - loss: 2.5475 - acc: 0.303 - ETA: 5s - loss: 2.5501 - acc: 0.303 - ETA: 5s - loss: 2.5481 - acc: 0.303 - ETA: 4s - loss: 2.5473 - acc: 0.304 - ETA: 4s - loss: 2.5414 - acc: 0.306 - ETA: 3s - loss: 2.5361 - acc: 0.307 - ETA: 3s - loss: 2.5323 - acc: 0.307 - ETA: 3s - loss: 2.5285 - acc: 0.307 - ETA: 2s - loss: 2.5192 - acc: 0.309 - ETA: 2s - loss: 2.5199 - acc: 0.309 - ETA: 1s - loss: 2.5147 - acc: 0.312 - ETA: 1s - loss: 2.5136 - acc: 0.313 - ETA: 1s - loss: 2.5118 - acc: 0.314 - ETA: 0s - loss: 2.5082 - acc: 0.315 - ETA: 0s - loss: 2.5050 - acc: 0.315 - 26s 4ms/step - loss: 2.5025 - acc: 0.3161 - val_loss: 2.1135 - val_acc: 0.4317\n",
      "Epoch 9/100\n",
      "7000/7000 [==============================] - ETA: 20s - loss: 2.2772 - acc: 0.36 - ETA: 20s - loss: 2.2442 - acc: 0.38 - ETA: 20s - loss: 2.1479 - acc: 0.40 - ETA: 19s - loss: 2.2135 - acc: 0.39 - ETA: 19s - loss: 2.2034 - acc: 0.39 - ETA: 19s - loss: 2.1808 - acc: 0.40 - ETA: 18s - loss: 2.1712 - acc: 0.40 - ETA: 18s - loss: 2.1871 - acc: 0.40 - ETA: 17s - loss: 2.1820 - acc: 0.40 - ETA: 17s - loss: 2.1922 - acc: 0.39 - ETA: 17s - loss: 2.1838 - acc: 0.39 - ETA: 16s - loss: 2.1938 - acc: 0.39 - ETA: 16s - loss: 2.2013 - acc: 0.39 - ETA: 15s - loss: 2.2156 - acc: 0.38 - ETA: 15s - loss: 2.2139 - acc: 0.39 - ETA: 15s - loss: 2.1955 - acc: 0.39 - ETA: 14s - loss: 2.1986 - acc: 0.39 - ETA: 14s - loss: 2.1943 - acc: 0.39 - ETA: 13s - loss: 2.1924 - acc: 0.39 - ETA: 13s - loss: 2.1874 - acc: 0.39 - ETA: 13s - loss: 2.1832 - acc: 0.39 - ETA: 12s - loss: 2.1786 - acc: 0.39 - ETA: 12s - loss: 2.1698 - acc: 0.39 - ETA: 12s - loss: 2.1805 - acc: 0.39 - ETA: 11s - loss: 2.1842 - acc: 0.39 - ETA: 11s - loss: 2.1795 - acc: 0.39 - ETA: 10s - loss: 2.1722 - acc: 0.39 - ETA: 10s - loss: 2.1670 - acc: 0.40 - ETA: 10s - loss: 2.1684 - acc: 0.40 - ETA: 9s - loss: 2.1774 - acc: 0.4016 - ETA: 9s - loss: 2.1739 - acc: 0.403 - ETA: 8s - loss: 2.1747 - acc: 0.402 - ETA: 8s - loss: 2.1757 - acc: 0.402 - ETA: 8s - loss: 2.1769 - acc: 0.403 - ETA: 7s - loss: 2.1758 - acc: 0.404 - ETA: 7s - loss: 2.1725 - acc: 0.404 - ETA: 6s - loss: 2.1724 - acc: 0.405 - ETA: 6s - loss: 2.1717 - acc: 0.405 - ETA: 6s - loss: 2.1711 - acc: 0.405 - ETA: 5s - loss: 2.1689 - acc: 0.406 - ETA: 5s - loss: 2.1654 - acc: 0.407 - ETA: 4s - loss: 2.1720 - acc: 0.405 - ETA: 4s - loss: 2.1689 - acc: 0.407 - ETA: 4s - loss: 2.1659 - acc: 0.407 - ETA: 3s - loss: 2.1597 - acc: 0.408 - ETA: 3s - loss: 2.1549 - acc: 0.408 - ETA: 3s - loss: 2.1523 - acc: 0.409 - ETA: 2s - loss: 2.1432 - acc: 0.411 - ETA: 2s - loss: 2.1399 - acc: 0.412 - ETA: 1s - loss: 2.1323 - acc: 0.413 - ETA: 1s - loss: 2.1358 - acc: 0.413 - ETA: 1s - loss: 2.1372 - acc: 0.413 - ETA: 0s - loss: 2.1396 - acc: 0.412 - ETA: 0s - loss: 2.1385 - acc: 0.412 - 26s 4ms/step - loss: 2.1353 - acc: 0.4130 - val_loss: 1.8578 - val_acc: 0.4943\n",
      "Epoch 10/100\n"
     ]
    },
    {
     "name": "stdout",
     "output_type": "stream",
     "text": [
      "7000/7000 [==============================] - ETA: 21s - loss: 2.0137 - acc: 0.43 - ETA: 21s - loss: 1.8622 - acc: 0.48 - ETA: 20s - loss: 1.8719 - acc: 0.47 - ETA: 20s - loss: 1.8215 - acc: 0.48 - ETA: 20s - loss: 1.8509 - acc: 0.47 - ETA: 19s - loss: 1.8749 - acc: 0.46 - ETA: 19s - loss: 1.8521 - acc: 0.46 - ETA: 18s - loss: 1.8903 - acc: 0.45 - ETA: 18s - loss: 1.8894 - acc: 0.45 - ETA: 18s - loss: 1.8998 - acc: 0.45 - ETA: 17s - loss: 1.9087 - acc: 0.45 - ETA: 17s - loss: 1.9155 - acc: 0.45 - ETA: 17s - loss: 1.9237 - acc: 0.45 - ETA: 16s - loss: 1.9219 - acc: 0.45 - ETA: 16s - loss: 1.9171 - acc: 0.45 - ETA: 15s - loss: 1.9373 - acc: 0.45 - ETA: 15s - loss: 1.9323 - acc: 0.45 - ETA: 15s - loss: 1.9369 - acc: 0.45 - ETA: 14s - loss: 1.9300 - acc: 0.45 - ETA: 14s - loss: 1.9286 - acc: 0.46 - ETA: 13s - loss: 1.9297 - acc: 0.46 - ETA: 13s - loss: 1.9235 - acc: 0.46 - ETA: 12s - loss: 1.9312 - acc: 0.46 - ETA: 12s - loss: 1.9275 - acc: 0.46 - ETA: 11s - loss: 1.9204 - acc: 0.46 - ETA: 11s - loss: 1.9284 - acc: 0.46 - ETA: 11s - loss: 1.9230 - acc: 0.46 - ETA: 10s - loss: 1.9186 - acc: 0.46 - ETA: 10s - loss: 1.9237 - acc: 0.46 - ETA: 9s - loss: 1.9244 - acc: 0.4674 - ETA: 9s - loss: 1.9223 - acc: 0.467 - ETA: 9s - loss: 1.9181 - acc: 0.469 - ETA: 8s - loss: 1.9093 - acc: 0.471 - ETA: 8s - loss: 1.9070 - acc: 0.471 - ETA: 7s - loss: 1.9022 - acc: 0.472 - ETA: 7s - loss: 1.9052 - acc: 0.470 - ETA: 7s - loss: 1.9046 - acc: 0.471 - ETA: 6s - loss: 1.9030 - acc: 0.471 - ETA: 6s - loss: 1.8984 - acc: 0.472 - ETA: 5s - loss: 1.8914 - acc: 0.473 - ETA: 5s - loss: 1.8873 - acc: 0.475 - ETA: 5s - loss: 1.8842 - acc: 0.476 - ETA: 4s - loss: 1.8805 - acc: 0.477 - ETA: 4s - loss: 1.8800 - acc: 0.476 - ETA: 3s - loss: 1.8813 - acc: 0.476 - ETA: 3s - loss: 1.8761 - acc: 0.477 - ETA: 3s - loss: 1.8749 - acc: 0.477 - ETA: 2s - loss: 1.8707 - acc: 0.478 - ETA: 2s - loss: 1.8721 - acc: 0.478 - ETA: 1s - loss: 1.8701 - acc: 0.479 - ETA: 1s - loss: 1.8703 - acc: 0.479 - ETA: 1s - loss: 1.8698 - acc: 0.479 - ETA: 0s - loss: 1.8759 - acc: 0.478 - ETA: 0s - loss: 1.8806 - acc: 0.477 - 27s 4ms/step - loss: 1.8872 - acc: 0.4766 - val_loss: 1.8020 - val_acc: 0.5127\n",
      "Epoch 11/100\n",
      "7000/7000 [==============================] - ETA: 21s - loss: 1.6013 - acc: 0.50 - ETA: 21s - loss: 1.7366 - acc: 0.51 - ETA: 20s - loss: 1.7219 - acc: 0.52 - ETA: 20s - loss: 1.6864 - acc: 0.52 - ETA: 20s - loss: 1.7239 - acc: 0.52 - ETA: 19s - loss: 1.7313 - acc: 0.52 - ETA: 19s - loss: 1.7007 - acc: 0.53 - ETA: 18s - loss: 1.7003 - acc: 0.53 - ETA: 18s - loss: 1.6912 - acc: 0.53 - ETA: 17s - loss: 1.6846 - acc: 0.53 - ETA: 17s - loss: 1.6918 - acc: 0.53 - ETA: 17s - loss: 1.7030 - acc: 0.53 - ETA: 16s - loss: 1.7146 - acc: 0.52 - ETA: 16s - loss: 1.7038 - acc: 0.52 - ETA: 15s - loss: 1.7053 - acc: 0.53 - ETA: 15s - loss: 1.7024 - acc: 0.52 - ETA: 14s - loss: 1.7052 - acc: 0.52 - ETA: 14s - loss: 1.7189 - acc: 0.52 - ETA: 14s - loss: 1.7215 - acc: 0.52 - ETA: 13s - loss: 1.7180 - acc: 0.52 - ETA: 13s - loss: 1.7148 - acc: 0.52 - ETA: 12s - loss: 1.7040 - acc: 0.52 - ETA: 12s - loss: 1.7100 - acc: 0.52 - ETA: 12s - loss: 1.7097 - acc: 0.52 - ETA: 11s - loss: 1.7139 - acc: 0.52 - ETA: 11s - loss: 1.7076 - acc: 0.52 - ETA: 10s - loss: 1.7032 - acc: 0.52 - ETA: 10s - loss: 1.7074 - acc: 0.52 - ETA: 10s - loss: 1.7129 - acc: 0.52 - ETA: 9s - loss: 1.7108 - acc: 0.5206 - ETA: 9s - loss: 1.7157 - acc: 0.518 - ETA: 8s - loss: 1.7139 - acc: 0.518 - ETA: 8s - loss: 1.7110 - acc: 0.519 - ETA: 8s - loss: 1.7070 - acc: 0.520 - ETA: 7s - loss: 1.7065 - acc: 0.521 - ETA: 7s - loss: 1.7101 - acc: 0.520 - ETA: 6s - loss: 1.7086 - acc: 0.522 - ETA: 6s - loss: 1.7046 - acc: 0.523 - ETA: 6s - loss: 1.7065 - acc: 0.523 - ETA: 5s - loss: 1.7072 - acc: 0.523 - ETA: 5s - loss: 1.7047 - acc: 0.523 - ETA: 4s - loss: 1.7061 - acc: 0.523 - ETA: 4s - loss: 1.7084 - acc: 0.522 - ETA: 4s - loss: 1.7033 - acc: 0.524 - ETA: 3s - loss: 1.7010 - acc: 0.524 - ETA: 3s - loss: 1.6933 - acc: 0.527 - ETA: 3s - loss: 1.6912 - acc: 0.528 - ETA: 2s - loss: 1.6921 - acc: 0.528 - ETA: 2s - loss: 1.6872 - acc: 0.529 - ETA: 1s - loss: 1.6848 - acc: 0.530 - ETA: 1s - loss: 1.6849 - acc: 0.530 - ETA: 1s - loss: 1.6848 - acc: 0.531 - ETA: 0s - loss: 1.6804 - acc: 0.532 - ETA: 0s - loss: 1.6779 - acc: 0.532 - 26s 4ms/step - loss: 1.6827 - acc: 0.5319 - val_loss: 1.6297 - val_acc: 0.5453\n",
      "Epoch 12/100\n",
      "7000/7000 [==============================] - ETA: 21s - loss: 1.6074 - acc: 0.56 - ETA: 20s - loss: 1.4909 - acc: 0.57 - ETA: 20s - loss: 1.4241 - acc: 0.59 - ETA: 19s - loss: 1.4404 - acc: 0.58 - ETA: 19s - loss: 1.4678 - acc: 0.57 - ETA: 18s - loss: 1.4888 - acc: 0.57 - ETA: 18s - loss: 1.5032 - acc: 0.56 - ETA: 17s - loss: 1.5132 - acc: 0.56 - ETA: 17s - loss: 1.5404 - acc: 0.55 - ETA: 17s - loss: 1.5126 - acc: 0.57 - ETA: 16s - loss: 1.5144 - acc: 0.56 - ETA: 16s - loss: 1.5227 - acc: 0.56 - ETA: 15s - loss: 1.5357 - acc: 0.56 - ETA: 15s - loss: 1.5281 - acc: 0.56 - ETA: 15s - loss: 1.5381 - acc: 0.56 - ETA: 14s - loss: 1.5498 - acc: 0.56 - ETA: 14s - loss: 1.5403 - acc: 0.56 - ETA: 14s - loss: 1.5388 - acc: 0.56 - ETA: 13s - loss: 1.5381 - acc: 0.56 - ETA: 13s - loss: 1.5311 - acc: 0.56 - ETA: 13s - loss: 1.5258 - acc: 0.56 - ETA: 12s - loss: 1.5149 - acc: 0.56 - ETA: 12s - loss: 1.5138 - acc: 0.56 - ETA: 11s - loss: 1.5166 - acc: 0.56 - ETA: 11s - loss: 1.5144 - acc: 0.56 - ETA: 11s - loss: 1.5240 - acc: 0.56 - ETA: 10s - loss: 1.5201 - acc: 0.56 - ETA: 10s - loss: 1.5199 - acc: 0.56 - ETA: 10s - loss: 1.5193 - acc: 0.56 - ETA: 9s - loss: 1.5107 - acc: 0.5719 - ETA: 9s - loss: 1.5136 - acc: 0.570 - ETA: 8s - loss: 1.5067 - acc: 0.571 - ETA: 8s - loss: 1.5025 - acc: 0.572 - ETA: 8s - loss: 1.5023 - acc: 0.572 - ETA: 7s - loss: 1.5038 - acc: 0.572 - ETA: 7s - loss: 1.5125 - acc: 0.570 - ETA: 6s - loss: 1.5231 - acc: 0.567 - ETA: 6s - loss: 1.5201 - acc: 0.567 - ETA: 6s - loss: 1.5189 - acc: 0.569 - ETA: 5s - loss: 1.5214 - acc: 0.568 - ETA: 5s - loss: 1.5304 - acc: 0.566 - ETA: 4s - loss: 1.5352 - acc: 0.564 - ETA: 4s - loss: 1.5367 - acc: 0.564 - ETA: 4s - loss: 1.5331 - acc: 0.565 - ETA: 3s - loss: 1.5356 - acc: 0.563 - ETA: 3s - loss: 1.5394 - acc: 0.563 - ETA: 3s - loss: 1.5386 - acc: 0.563 - ETA: 2s - loss: 1.5392 - acc: 0.561 - ETA: 2s - loss: 1.5412 - acc: 0.560 - ETA: 1s - loss: 1.5419 - acc: 0.560 - ETA: 1s - loss: 1.5452 - acc: 0.559 - ETA: 1s - loss: 1.5490 - acc: 0.558 - ETA: 0s - loss: 1.5462 - acc: 0.558 - ETA: 0s - loss: 1.5444 - acc: 0.558 - 26s 4ms/step - loss: 1.5453 - acc: 0.5587 - val_loss: 1.5910 - val_acc: 0.5497\n",
      "Epoch 13/100\n"
     ]
    },
    {
     "name": "stdout",
     "output_type": "stream",
     "text": [
      "7000/7000 [==============================] - ETA: 21s - loss: 1.2626 - acc: 0.61 - ETA: 20s - loss: 1.2747 - acc: 0.61 - ETA: 19s - loss: 1.4680 - acc: 0.58 - ETA: 19s - loss: 1.4762 - acc: 0.58 - ETA: 19s - loss: 1.4842 - acc: 0.58 - ETA: 19s - loss: 1.4588 - acc: 0.58 - ETA: 18s - loss: 1.4634 - acc: 0.58 - ETA: 18s - loss: 1.4676 - acc: 0.58 - ETA: 17s - loss: 1.4754 - acc: 0.58 - ETA: 17s - loss: 1.4880 - acc: 0.58 - ETA: 17s - loss: 1.4808 - acc: 0.58 - ETA: 16s - loss: 1.4648 - acc: 0.58 - ETA: 16s - loss: 1.4398 - acc: 0.58 - ETA: 16s - loss: 1.4439 - acc: 0.58 - ETA: 15s - loss: 1.4494 - acc: 0.58 - ETA: 15s - loss: 1.4478 - acc: 0.58 - ETA: 14s - loss: 1.4503 - acc: 0.58 - ETA: 14s - loss: 1.4574 - acc: 0.58 - ETA: 14s - loss: 1.4488 - acc: 0.58 - ETA: 13s - loss: 1.4372 - acc: 0.58 - ETA: 13s - loss: 1.4297 - acc: 0.59 - ETA: 12s - loss: 1.4232 - acc: 0.59 - ETA: 12s - loss: 1.4122 - acc: 0.59 - ETA: 12s - loss: 1.3979 - acc: 0.59 - ETA: 11s - loss: 1.3984 - acc: 0.59 - ETA: 11s - loss: 1.4013 - acc: 0.59 - ETA: 10s - loss: 1.4031 - acc: 0.59 - ETA: 10s - loss: 1.4016 - acc: 0.59 - ETA: 10s - loss: 1.3976 - acc: 0.59 - ETA: 9s - loss: 1.3885 - acc: 0.6021 - ETA: 9s - loss: 1.3902 - acc: 0.602 - ETA: 8s - loss: 1.3893 - acc: 0.602 - ETA: 8s - loss: 1.3952 - acc: 0.600 - ETA: 8s - loss: 1.3931 - acc: 0.600 - ETA: 7s - loss: 1.3954 - acc: 0.600 - ETA: 7s - loss: 1.3903 - acc: 0.602 - ETA: 6s - loss: 1.3981 - acc: 0.600 - ETA: 6s - loss: 1.4000 - acc: 0.599 - ETA: 6s - loss: 1.3989 - acc: 0.600 - ETA: 5s - loss: 1.3933 - acc: 0.602 - ETA: 5s - loss: 1.4024 - acc: 0.601 - ETA: 5s - loss: 1.4063 - acc: 0.600 - ETA: 4s - loss: 1.4075 - acc: 0.598 - ETA: 4s - loss: 1.4118 - acc: 0.598 - ETA: 3s - loss: 1.4138 - acc: 0.597 - ETA: 3s - loss: 1.4103 - acc: 0.598 - ETA: 3s - loss: 1.4103 - acc: 0.598 - ETA: 2s - loss: 1.4107 - acc: 0.598 - ETA: 2s - loss: 1.4092 - acc: 0.599 - ETA: 1s - loss: 1.4080 - acc: 0.598 - ETA: 1s - loss: 1.4100 - acc: 0.597 - ETA: 1s - loss: 1.4078 - acc: 0.597 - ETA: 0s - loss: 1.4047 - acc: 0.598 - ETA: 0s - loss: 1.4094 - acc: 0.599 - 26s 4ms/step - loss: 1.4095 - acc: 0.5987 - val_loss: 1.4906 - val_acc: 0.5967\n",
      "Epoch 14/100\n",
      "7000/7000 [==============================] - ETA: 20s - loss: 1.3530 - acc: 0.60 - ETA: 20s - loss: 1.3693 - acc: 0.59 - ETA: 19s - loss: 1.3213 - acc: 0.59 - ETA: 19s - loss: 1.3896 - acc: 0.57 - ETA: 19s - loss: 1.3318 - acc: 0.59 - ETA: 18s - loss: 1.3087 - acc: 0.60 - ETA: 18s - loss: 1.3177 - acc: 0.60 - ETA: 17s - loss: 1.3476 - acc: 0.60 - ETA: 17s - loss: 1.3663 - acc: 0.59 - ETA: 17s - loss: 1.3834 - acc: 0.58 - ETA: 16s - loss: 1.3725 - acc: 0.59 - ETA: 16s - loss: 1.3722 - acc: 0.59 - ETA: 15s - loss: 1.3543 - acc: 0.59 - ETA: 15s - loss: 1.3441 - acc: 0.60 - ETA: 15s - loss: 1.3362 - acc: 0.60 - ETA: 14s - loss: 1.3309 - acc: 0.60 - ETA: 14s - loss: 1.3246 - acc: 0.60 - ETA: 14s - loss: 1.3278 - acc: 0.60 - ETA: 13s - loss: 1.3282 - acc: 0.60 - ETA: 13s - loss: 1.3274 - acc: 0.60 - ETA: 12s - loss: 1.3189 - acc: 0.61 - ETA: 12s - loss: 1.3182 - acc: 0.61 - ETA: 12s - loss: 1.3140 - acc: 0.61 - ETA: 11s - loss: 1.3179 - acc: 0.61 - ETA: 11s - loss: 1.3136 - acc: 0.61 - ETA: 10s - loss: 1.3129 - acc: 0.61 - ETA: 10s - loss: 1.3144 - acc: 0.61 - ETA: 10s - loss: 1.3126 - acc: 0.61 - ETA: 9s - loss: 1.3105 - acc: 0.6177 - ETA: 9s - loss: 1.3060 - acc: 0.619 - ETA: 9s - loss: 1.3061 - acc: 0.621 - ETA: 8s - loss: 1.3055 - acc: 0.621 - ETA: 8s - loss: 1.3091 - acc: 0.620 - ETA: 7s - loss: 1.3153 - acc: 0.619 - ETA: 7s - loss: 1.3127 - acc: 0.620 - ETA: 7s - loss: 1.3102 - acc: 0.620 - ETA: 6s - loss: 1.3079 - acc: 0.620 - ETA: 6s - loss: 1.3175 - acc: 0.617 - ETA: 6s - loss: 1.3146 - acc: 0.616 - ETA: 5s - loss: 1.3135 - acc: 0.617 - ETA: 5s - loss: 1.3147 - acc: 0.617 - ETA: 4s - loss: 1.3153 - acc: 0.616 - ETA: 4s - loss: 1.3145 - acc: 0.617 - ETA: 4s - loss: 1.3144 - acc: 0.616 - ETA: 3s - loss: 1.3205 - acc: 0.615 - ETA: 3s - loss: 1.3284 - acc: 0.614 - ETA: 2s - loss: 1.3268 - acc: 0.614 - ETA: 2s - loss: 1.3312 - acc: 0.612 - ETA: 2s - loss: 1.3279 - acc: 0.614 - ETA: 1s - loss: 1.3293 - acc: 0.614 - ETA: 1s - loss: 1.3257 - acc: 0.615 - ETA: 1s - loss: 1.3238 - acc: 0.616 - ETA: 0s - loss: 1.3241 - acc: 0.616 - ETA: 0s - loss: 1.3250 - acc: 0.615 - 26s 4ms/step - loss: 1.3244 - acc: 0.6163 - val_loss: 1.4637 - val_acc: 0.5987\n",
      "Epoch 15/100\n",
      "7000/7000 [==============================] - ETA: 20s - loss: 1.1845 - acc: 0.64 - ETA: 21s - loss: 1.1187 - acc: 0.63 - ETA: 20s - loss: 1.1283 - acc: 0.64 - ETA: 20s - loss: 1.1671 - acc: 0.64 - ETA: 20s - loss: 1.1911 - acc: 0.64 - ETA: 19s - loss: 1.1566 - acc: 0.64 - ETA: 19s - loss: 1.1555 - acc: 0.64 - ETA: 18s - loss: 1.1814 - acc: 0.64 - ETA: 18s - loss: 1.1836 - acc: 0.64 - ETA: 17s - loss: 1.2042 - acc: 0.64 - ETA: 17s - loss: 1.1970 - acc: 0.64 - ETA: 16s - loss: 1.2327 - acc: 0.63 - ETA: 16s - loss: 1.2138 - acc: 0.64 - ETA: 15s - loss: 1.2291 - acc: 0.63 - ETA: 15s - loss: 1.2292 - acc: 0.63 - ETA: 15s - loss: 1.2312 - acc: 0.64 - ETA: 14s - loss: 1.2162 - acc: 0.64 - ETA: 14s - loss: 1.2164 - acc: 0.64 - ETA: 13s - loss: 1.2138 - acc: 0.64 - ETA: 13s - loss: 1.2164 - acc: 0.64 - ETA: 13s - loss: 1.2141 - acc: 0.64 - ETA: 12s - loss: 1.2167 - acc: 0.64 - ETA: 12s - loss: 1.2106 - acc: 0.64 - ETA: 11s - loss: 1.2175 - acc: 0.64 - ETA: 11s - loss: 1.2170 - acc: 0.64 - ETA: 11s - loss: 1.2040 - acc: 0.64 - ETA: 10s - loss: 1.2088 - acc: 0.64 - ETA: 10s - loss: 1.2055 - acc: 0.64 - ETA: 9s - loss: 1.2113 - acc: 0.6455 - ETA: 9s - loss: 1.2178 - acc: 0.643 - ETA: 9s - loss: 1.2191 - acc: 0.643 - ETA: 8s - loss: 1.2235 - acc: 0.644 - ETA: 8s - loss: 1.2284 - acc: 0.644 - ETA: 8s - loss: 1.2339 - acc: 0.643 - ETA: 7s - loss: 1.2385 - acc: 0.642 - ETA: 7s - loss: 1.2367 - acc: 0.642 - ETA: 6s - loss: 1.2385 - acc: 0.641 - ETA: 6s - loss: 1.2322 - acc: 0.642 - ETA: 6s - loss: 1.2336 - acc: 0.640 - ETA: 5s - loss: 1.2394 - acc: 0.638 - ETA: 5s - loss: 1.2438 - acc: 0.639 - ETA: 4s - loss: 1.2512 - acc: 0.636 - ETA: 4s - loss: 1.2491 - acc: 0.636 - ETA: 4s - loss: 1.2481 - acc: 0.637 - ETA: 3s - loss: 1.2511 - acc: 0.637 - ETA: 3s - loss: 1.2482 - acc: 0.637 - ETA: 3s - loss: 1.2458 - acc: 0.638 - ETA: 2s - loss: 1.2488 - acc: 0.637 - ETA: 2s - loss: 1.2463 - acc: 0.638 - ETA: 1s - loss: 1.2466 - acc: 0.638 - ETA: 1s - loss: 1.2456 - acc: 0.637 - ETA: 1s - loss: 1.2440 - acc: 0.638 - ETA: 0s - loss: 1.2396 - acc: 0.640 - ETA: 0s - loss: 1.2423 - acc: 0.639 - 26s 4ms/step - loss: 1.2428 - acc: 0.6389 - val_loss: 1.3778 - val_acc: 0.6200\n",
      "Epoch 16/100\n"
     ]
    },
    {
     "name": "stdout",
     "output_type": "stream",
     "text": [
      "7000/7000 [==============================] - ETA: 20s - loss: 1.1975 - acc: 0.66 - ETA: 21s - loss: 1.1564 - acc: 0.67 - ETA: 20s - loss: 1.1268 - acc: 0.68 - ETA: 20s - loss: 1.0744 - acc: 0.69 - ETA: 20s - loss: 1.0624 - acc: 0.69 - ETA: 20s - loss: 1.0660 - acc: 0.69 - ETA: 19s - loss: 1.0802 - acc: 0.68 - ETA: 19s - loss: 1.0759 - acc: 0.68 - ETA: 19s - loss: 1.0815 - acc: 0.68 - ETA: 18s - loss: 1.0847 - acc: 0.69 - ETA: 18s - loss: 1.0808 - acc: 0.68 - ETA: 17s - loss: 1.0837 - acc: 0.68 - ETA: 17s - loss: 1.0864 - acc: 0.68 - ETA: 16s - loss: 1.0717 - acc: 0.68 - ETA: 16s - loss: 1.0905 - acc: 0.67 - ETA: 16s - loss: 1.0995 - acc: 0.67 - ETA: 15s - loss: 1.0993 - acc: 0.67 - ETA: 15s - loss: 1.1061 - acc: 0.67 - ETA: 14s - loss: 1.1116 - acc: 0.67 - ETA: 14s - loss: 1.1031 - acc: 0.67 - ETA: 14s - loss: 1.0975 - acc: 0.67 - ETA: 13s - loss: 1.0994 - acc: 0.67 - ETA: 13s - loss: 1.1105 - acc: 0.67 - ETA: 12s - loss: 1.1102 - acc: 0.67 - ETA: 12s - loss: 1.1127 - acc: 0.67 - ETA: 11s - loss: 1.1220 - acc: 0.67 - ETA: 11s - loss: 1.1235 - acc: 0.67 - ETA: 10s - loss: 1.1281 - acc: 0.66 - ETA: 10s - loss: 1.1242 - acc: 0.67 - ETA: 10s - loss: 1.1281 - acc: 0.66 - ETA: 9s - loss: 1.1314 - acc: 0.6694 - ETA: 9s - loss: 1.1353 - acc: 0.669 - ETA: 8s - loss: 1.1322 - acc: 0.671 - ETA: 8s - loss: 1.1311 - acc: 0.670 - ETA: 7s - loss: 1.1302 - acc: 0.671 - ETA: 7s - loss: 1.1273 - acc: 0.671 - ETA: 7s - loss: 1.1334 - acc: 0.670 - ETA: 6s - loss: 1.1346 - acc: 0.670 - ETA: 6s - loss: 1.1345 - acc: 0.668 - ETA: 5s - loss: 1.1346 - acc: 0.669 - ETA: 5s - loss: 1.1410 - acc: 0.667 - ETA: 5s - loss: 1.1422 - acc: 0.667 - ETA: 4s - loss: 1.1426 - acc: 0.667 - ETA: 4s - loss: 1.1400 - acc: 0.668 - ETA: 3s - loss: 1.1379 - acc: 0.669 - ETA: 3s - loss: 1.1376 - acc: 0.668 - ETA: 3s - loss: 1.1415 - acc: 0.668 - ETA: 2s - loss: 1.1424 - acc: 0.668 - ETA: 2s - loss: 1.1428 - acc: 0.668 - ETA: 1s - loss: 1.1449 - acc: 0.668 - ETA: 1s - loss: 1.1453 - acc: 0.667 - ETA: 1s - loss: 1.1522 - acc: 0.666 - ETA: 0s - loss: 1.1523 - acc: 0.666 - ETA: 0s - loss: 1.1532 - acc: 0.666 - 27s 4ms/step - loss: 1.1536 - acc: 0.6661 - val_loss: 1.4029 - val_acc: 0.6193\n",
      "Epoch 17/100\n",
      "7000/7000 [==============================] - ETA: 20s - loss: 0.9411 - acc: 0.73 - ETA: 20s - loss: 1.0305 - acc: 0.70 - ETA: 20s - loss: 1.0166 - acc: 0.70 - ETA: 19s - loss: 1.0245 - acc: 0.68 - ETA: 19s - loss: 0.9767 - acc: 0.70 - ETA: 18s - loss: 0.9947 - acc: 0.68 - ETA: 18s - loss: 1.0006 - acc: 0.68 - ETA: 18s - loss: 1.0297 - acc: 0.67 - ETA: 17s - loss: 1.0396 - acc: 0.68 - ETA: 17s - loss: 1.0313 - acc: 0.68 - ETA: 17s - loss: 1.0289 - acc: 0.68 - ETA: 16s - loss: 1.0399 - acc: 0.68 - ETA: 16s - loss: 1.0358 - acc: 0.68 - ETA: 15s - loss: 1.0461 - acc: 0.68 - ETA: 15s - loss: 1.0489 - acc: 0.68 - ETA: 15s - loss: 1.0419 - acc: 0.68 - ETA: 14s - loss: 1.0384 - acc: 0.68 - ETA: 14s - loss: 1.0360 - acc: 0.68 - ETA: 14s - loss: 1.0473 - acc: 0.68 - ETA: 13s - loss: 1.0541 - acc: 0.68 - ETA: 13s - loss: 1.0627 - acc: 0.67 - ETA: 12s - loss: 1.0655 - acc: 0.67 - ETA: 12s - loss: 1.0686 - acc: 0.67 - ETA: 12s - loss: 1.0764 - acc: 0.67 - ETA: 11s - loss: 1.0842 - acc: 0.67 - ETA: 11s - loss: 1.0815 - acc: 0.67 - ETA: 10s - loss: 1.0754 - acc: 0.68 - ETA: 10s - loss: 1.0745 - acc: 0.68 - ETA: 10s - loss: 1.0691 - acc: 0.68 - ETA: 9s - loss: 1.0743 - acc: 0.6826 - ETA: 9s - loss: 1.0657 - acc: 0.685 - ETA: 8s - loss: 1.0666 - acc: 0.684 - ETA: 8s - loss: 1.0636 - acc: 0.684 - ETA: 8s - loss: 1.0601 - acc: 0.684 - ETA: 7s - loss: 1.0590 - acc: 0.685 - ETA: 7s - loss: 1.0584 - acc: 0.685 - ETA: 6s - loss: 1.0542 - acc: 0.686 - ETA: 6s - loss: 1.0572 - acc: 0.686 - ETA: 6s - loss: 1.0604 - acc: 0.685 - ETA: 5s - loss: 1.0653 - acc: 0.684 - ETA: 5s - loss: 1.0667 - acc: 0.683 - ETA: 4s - loss: 1.0659 - acc: 0.683 - ETA: 4s - loss: 1.0659 - acc: 0.684 - ETA: 4s - loss: 1.0624 - acc: 0.685 - ETA: 3s - loss: 1.0615 - acc: 0.686 - ETA: 3s - loss: 1.0625 - acc: 0.686 - ETA: 3s - loss: 1.0663 - acc: 0.684 - ETA: 2s - loss: 1.0641 - acc: 0.684 - ETA: 2s - loss: 1.0644 - acc: 0.684 - ETA: 1s - loss: 1.0667 - acc: 0.684 - ETA: 1s - loss: 1.0714 - acc: 0.682 - ETA: 1s - loss: 1.0727 - acc: 0.682 - ETA: 0s - loss: 1.0763 - acc: 0.682 - ETA: 0s - loss: 1.0771 - acc: 0.681 - 26s 4ms/step - loss: 1.0791 - acc: 0.6809 - val_loss: 1.3693 - val_acc: 0.6323\n",
      "Epoch 18/100\n",
      "7000/7000 [==============================] - ETA: 20s - loss: 1.0129 - acc: 0.73 - ETA: 19s - loss: 0.9814 - acc: 0.71 - ETA: 19s - loss: 0.9418 - acc: 0.71 - ETA: 19s - loss: 0.9189 - acc: 0.72 - ETA: 19s - loss: 0.9461 - acc: 0.70 - ETA: 18s - loss: 0.9666 - acc: 0.70 - ETA: 18s - loss: 0.9544 - acc: 0.70 - ETA: 18s - loss: 0.9606 - acc: 0.70 - ETA: 18s - loss: 0.9619 - acc: 0.70 - ETA: 17s - loss: 0.9655 - acc: 0.70 - ETA: 17s - loss: 0.9626 - acc: 0.70 - ETA: 16s - loss: 0.9503 - acc: 0.70 - ETA: 16s - loss: 0.9559 - acc: 0.70 - ETA: 16s - loss: 0.9517 - acc: 0.70 - ETA: 15s - loss: 0.9508 - acc: 0.70 - ETA: 15s - loss: 0.9516 - acc: 0.70 - ETA: 14s - loss: 0.9456 - acc: 0.71 - ETA: 14s - loss: 0.9460 - acc: 0.70 - ETA: 14s - loss: 0.9516 - acc: 0.70 - ETA: 13s - loss: 0.9589 - acc: 0.70 - ETA: 13s - loss: 0.9643 - acc: 0.70 - ETA: 13s - loss: 0.9720 - acc: 0.70 - ETA: 12s - loss: 0.9724 - acc: 0.70 - ETA: 12s - loss: 0.9759 - acc: 0.70 - ETA: 11s - loss: 0.9766 - acc: 0.70 - ETA: 11s - loss: 0.9688 - acc: 0.70 - ETA: 10s - loss: 0.9639 - acc: 0.70 - ETA: 10s - loss: 0.9740 - acc: 0.70 - ETA: 10s - loss: 0.9745 - acc: 0.70 - ETA: 9s - loss: 0.9829 - acc: 0.7003 - ETA: 9s - loss: 0.9785 - acc: 0.701 - ETA: 8s - loss: 0.9818 - acc: 0.700 - ETA: 8s - loss: 0.9789 - acc: 0.701 - ETA: 8s - loss: 0.9830 - acc: 0.699 - ETA: 7s - loss: 0.9845 - acc: 0.699 - ETA: 7s - loss: 0.9876 - acc: 0.698 - ETA: 6s - loss: 0.9857 - acc: 0.699 - ETA: 6s - loss: 0.9867 - acc: 0.698 - ETA: 6s - loss: 0.9887 - acc: 0.697 - ETA: 5s - loss: 0.9879 - acc: 0.697 - ETA: 5s - loss: 0.9852 - acc: 0.698 - ETA: 4s - loss: 0.9885 - acc: 0.697 - ETA: 4s - loss: 0.9862 - acc: 0.699 - ETA: 4s - loss: 0.9860 - acc: 0.699 - ETA: 3s - loss: 0.9918 - acc: 0.697 - ETA: 3s - loss: 0.9940 - acc: 0.697 - ETA: 3s - loss: 0.9962 - acc: 0.697 - ETA: 2s - loss: 1.0022 - acc: 0.696 - ETA: 2s - loss: 1.0007 - acc: 0.696 - ETA: 1s - loss: 1.0039 - acc: 0.695 - ETA: 1s - loss: 1.0032 - acc: 0.696 - ETA: 1s - loss: 1.0016 - acc: 0.696 - ETA: 0s - loss: 0.9998 - acc: 0.697 - ETA: 0s - loss: 0.9969 - acc: 0.698 - 26s 4ms/step - loss: 0.9977 - acc: 0.6980 - val_loss: 1.3714 - val_acc: 0.6330\n",
      "Epoch 19/100\n"
     ]
    },
    {
     "name": "stdout",
     "output_type": "stream",
     "text": [
      "7000/7000 [==============================] - ETA: 20s - loss: 0.8155 - acc: 0.72 - ETA: 20s - loss: 0.7962 - acc: 0.75 - ETA: 19s - loss: 0.8159 - acc: 0.73 - ETA: 19s - loss: 0.8180 - acc: 0.73 - ETA: 19s - loss: 0.8543 - acc: 0.72 - ETA: 18s - loss: 0.8313 - acc: 0.73 - ETA: 18s - loss: 0.8396 - acc: 0.72 - ETA: 18s - loss: 0.8080 - acc: 0.74 - ETA: 17s - loss: 0.8298 - acc: 0.73 - ETA: 17s - loss: 0.8318 - acc: 0.73 - ETA: 16s - loss: 0.8567 - acc: 0.73 - ETA: 16s - loss: 0.8761 - acc: 0.72 - ETA: 16s - loss: 0.8978 - acc: 0.72 - ETA: 15s - loss: 0.9022 - acc: 0.71 - ETA: 15s - loss: 0.9058 - acc: 0.71 - ETA: 14s - loss: 0.9080 - acc: 0.71 - ETA: 14s - loss: 0.9114 - acc: 0.71 - ETA: 14s - loss: 0.9102 - acc: 0.71 - ETA: 13s - loss: 0.9002 - acc: 0.72 - ETA: 13s - loss: 0.9062 - acc: 0.71 - ETA: 12s - loss: 0.9167 - acc: 0.71 - ETA: 12s - loss: 0.9247 - acc: 0.71 - ETA: 12s - loss: 0.9240 - acc: 0.71 - ETA: 11s - loss: 0.9208 - acc: 0.71 - ETA: 11s - loss: 0.9258 - acc: 0.71 - ETA: 11s - loss: 0.9246 - acc: 0.71 - ETA: 10s - loss: 0.9272 - acc: 0.71 - ETA: 10s - loss: 0.9172 - acc: 0.71 - ETA: 9s - loss: 0.9195 - acc: 0.7171 - ETA: 9s - loss: 0.9186 - acc: 0.714 - ETA: 9s - loss: 0.9227 - acc: 0.714 - ETA: 8s - loss: 0.9344 - acc: 0.710 - ETA: 8s - loss: 0.9353 - acc: 0.710 - ETA: 8s - loss: 0.9381 - acc: 0.708 - ETA: 7s - loss: 0.9335 - acc: 0.709 - ETA: 7s - loss: 0.9336 - acc: 0.710 - ETA: 6s - loss: 0.9395 - acc: 0.709 - ETA: 6s - loss: 0.9396 - acc: 0.709 - ETA: 6s - loss: 0.9423 - acc: 0.707 - ETA: 5s - loss: 0.9473 - acc: 0.707 - ETA: 5s - loss: 0.9465 - acc: 0.707 - ETA: 4s - loss: 0.9423 - acc: 0.708 - ETA: 4s - loss: 0.9454 - acc: 0.708 - ETA: 4s - loss: 0.9507 - acc: 0.707 - ETA: 3s - loss: 0.9496 - acc: 0.707 - ETA: 3s - loss: 0.9481 - acc: 0.707 - ETA: 2s - loss: 0.9469 - acc: 0.708 - ETA: 2s - loss: 0.9459 - acc: 0.709 - ETA: 2s - loss: 0.9459 - acc: 0.709 - ETA: 1s - loss: 0.9441 - acc: 0.709 - ETA: 1s - loss: 0.9530 - acc: 0.707 - ETA: 1s - loss: 0.9511 - acc: 0.708 - ETA: 0s - loss: 0.9506 - acc: 0.709 - ETA: 0s - loss: 0.9488 - acc: 0.709 - 26s 4ms/step - loss: 0.9441 - acc: 0.7103 - val_loss: 1.3738 - val_acc: 0.6403\n",
      "Epoch 20/100\n",
      "7000/7000 [==============================] - ETA: 20s - loss: 0.9188 - acc: 0.70 - ETA: 19s - loss: 0.8980 - acc: 0.71 - ETA: 19s - loss: 0.8581 - acc: 0.73 - ETA: 19s - loss: 0.8587 - acc: 0.73 - ETA: 18s - loss: 0.8659 - acc: 0.72 - ETA: 18s - loss: 0.8515 - acc: 0.73 - ETA: 18s - loss: 0.8725 - acc: 0.72 - ETA: 17s - loss: 0.8795 - acc: 0.72 - ETA: 17s - loss: 0.8897 - acc: 0.72 - ETA: 17s - loss: 0.8660 - acc: 0.73 - ETA: 16s - loss: 0.8492 - acc: 0.73 - ETA: 16s - loss: 0.8542 - acc: 0.73 - ETA: 15s - loss: 0.8570 - acc: 0.74 - ETA: 15s - loss: 0.8483 - acc: 0.74 - ETA: 15s - loss: 0.8555 - acc: 0.73 - ETA: 14s - loss: 0.8547 - acc: 0.74 - ETA: 14s - loss: 0.8455 - acc: 0.74 - ETA: 13s - loss: 0.8485 - acc: 0.74 - ETA: 13s - loss: 0.8484 - acc: 0.74 - ETA: 13s - loss: 0.8527 - acc: 0.73 - ETA: 12s - loss: 0.8426 - acc: 0.74 - ETA: 12s - loss: 0.8479 - acc: 0.74 - ETA: 12s - loss: 0.8510 - acc: 0.73 - ETA: 11s - loss: 0.8401 - acc: 0.74 - ETA: 11s - loss: 0.8352 - acc: 0.74 - ETA: 10s - loss: 0.8360 - acc: 0.74 - ETA: 10s - loss: 0.8378 - acc: 0.74 - ETA: 10s - loss: 0.8378 - acc: 0.74 - ETA: 9s - loss: 0.8412 - acc: 0.7425 - ETA: 9s - loss: 0.8437 - acc: 0.743 - ETA: 9s - loss: 0.8474 - acc: 0.741 - ETA: 8s - loss: 0.8488 - acc: 0.741 - ETA: 8s - loss: 0.8474 - acc: 0.741 - ETA: 7s - loss: 0.8446 - acc: 0.741 - ETA: 7s - loss: 0.8456 - acc: 0.741 - ETA: 7s - loss: 0.8436 - acc: 0.741 - ETA: 6s - loss: 0.8520 - acc: 0.739 - ETA: 6s - loss: 0.8513 - acc: 0.740 - ETA: 5s - loss: 0.8566 - acc: 0.738 - ETA: 5s - loss: 0.8593 - acc: 0.737 - ETA: 5s - loss: 0.8609 - acc: 0.736 - ETA: 4s - loss: 0.8617 - acc: 0.736 - ETA: 4s - loss: 0.8676 - acc: 0.735 - ETA: 4s - loss: 0.8658 - acc: 0.735 - ETA: 3s - loss: 0.8627 - acc: 0.736 - ETA: 3s - loss: 0.8606 - acc: 0.737 - ETA: 2s - loss: 0.8620 - acc: 0.736 - ETA: 2s - loss: 0.8667 - acc: 0.735 - ETA: 2s - loss: 0.8728 - acc: 0.733 - ETA: 1s - loss: 0.8743 - acc: 0.732 - ETA: 1s - loss: 0.8774 - acc: 0.731 - ETA: 1s - loss: 0.8827 - acc: 0.730 - ETA: 0s - loss: 0.8854 - acc: 0.729 - ETA: 0s - loss: 0.8843 - acc: 0.729 - 26s 4ms/step - loss: 0.8846 - acc: 0.7301 - val_loss: 1.3713 - val_acc: 0.6340\n",
      "Epoch 21/100\n",
      "7000/7000 [==============================] - ETA: 20s - loss: 0.8003 - acc: 0.73 - ETA: 19s - loss: 0.7700 - acc: 0.74 - ETA: 19s - loss: 0.7571 - acc: 0.75 - ETA: 19s - loss: 0.7579 - acc: 0.76 - ETA: 18s - loss: 0.7532 - acc: 0.75 - ETA: 18s - loss: 0.7604 - acc: 0.75 - ETA: 18s - loss: 0.7463 - acc: 0.76 - ETA: 17s - loss: 0.7436 - acc: 0.76 - ETA: 17s - loss: 0.7537 - acc: 0.76 - ETA: 17s - loss: 0.7423 - acc: 0.76 - ETA: 16s - loss: 0.7338 - acc: 0.76 - ETA: 16s - loss: 0.7263 - acc: 0.76 - ETA: 16s - loss: 0.7185 - acc: 0.77 - ETA: 15s - loss: 0.7249 - acc: 0.76 - ETA: 15s - loss: 0.7317 - acc: 0.77 - ETA: 15s - loss: 0.7347 - acc: 0.77 - ETA: 14s - loss: 0.7458 - acc: 0.76 - ETA: 14s - loss: 0.7567 - acc: 0.76 - ETA: 14s - loss: 0.7654 - acc: 0.76 - ETA: 13s - loss: 0.7647 - acc: 0.76 - ETA: 13s - loss: 0.7705 - acc: 0.75 - ETA: 13s - loss: 0.7740 - acc: 0.76 - ETA: 12s - loss: 0.7730 - acc: 0.76 - ETA: 12s - loss: 0.7734 - acc: 0.76 - ETA: 11s - loss: 0.7731 - acc: 0.76 - ETA: 11s - loss: 0.7727 - acc: 0.76 - ETA: 11s - loss: 0.7717 - acc: 0.76 - ETA: 10s - loss: 0.7713 - acc: 0.76 - ETA: 10s - loss: 0.7817 - acc: 0.76 - ETA: 9s - loss: 0.7892 - acc: 0.7612 - ETA: 9s - loss: 0.7946 - acc: 0.759 - ETA: 9s - loss: 0.8001 - acc: 0.756 - ETA: 8s - loss: 0.8033 - acc: 0.757 - ETA: 8s - loss: 0.8035 - acc: 0.757 - ETA: 7s - loss: 0.8048 - acc: 0.755 - ETA: 7s - loss: 0.8114 - acc: 0.753 - ETA: 7s - loss: 0.8166 - acc: 0.751 - ETA: 6s - loss: 0.8185 - acc: 0.751 - ETA: 6s - loss: 0.8137 - acc: 0.752 - ETA: 5s - loss: 0.8146 - acc: 0.751 - ETA: 5s - loss: 0.8190 - acc: 0.750 - ETA: 5s - loss: 0.8173 - acc: 0.750 - ETA: 4s - loss: 0.8193 - acc: 0.749 - ETA: 4s - loss: 0.8229 - acc: 0.748 - ETA: 3s - loss: 0.8232 - acc: 0.748 - ETA: 3s - loss: 0.8205 - acc: 0.749 - ETA: 3s - loss: 0.8216 - acc: 0.748 - ETA: 2s - loss: 0.8178 - acc: 0.750 - ETA: 2s - loss: 0.8165 - acc: 0.750 - ETA: 1s - loss: 0.8184 - acc: 0.749 - ETA: 1s - loss: 0.8194 - acc: 0.749 - ETA: 1s - loss: 0.8171 - acc: 0.749 - ETA: 0s - loss: 0.8201 - acc: 0.749 - ETA: 0s - loss: 0.8218 - acc: 0.749 - 26s 4ms/step - loss: 0.8212 - acc: 0.7500 - val_loss: 1.4865 - val_acc: 0.6257\n",
      "Epoch 22/100\n"
     ]
    },
    {
     "name": "stdout",
     "output_type": "stream",
     "text": [
      "7000/7000 [==============================] - ETA: 19s - loss: 0.8685 - acc: 0.76 - ETA: 19s - loss: 0.7395 - acc: 0.78 - ETA: 19s - loss: 0.7490 - acc: 0.77 - ETA: 19s - loss: 0.8032 - acc: 0.75 - ETA: 19s - loss: 0.8201 - acc: 0.74 - ETA: 18s - loss: 0.8146 - acc: 0.75 - ETA: 18s - loss: 0.8352 - acc: 0.75 - ETA: 18s - loss: 0.8373 - acc: 0.74 - ETA: 17s - loss: 0.8247 - acc: 0.75 - ETA: 17s - loss: 0.8080 - acc: 0.75 - ETA: 16s - loss: 0.8111 - acc: 0.75 - ETA: 16s - loss: 0.7942 - acc: 0.76 - ETA: 16s - loss: 0.7998 - acc: 0.75 - ETA: 15s - loss: 0.8090 - acc: 0.75 - ETA: 15s - loss: 0.8041 - acc: 0.75 - ETA: 14s - loss: 0.7937 - acc: 0.76 - ETA: 14s - loss: 0.7824 - acc: 0.76 - ETA: 14s - loss: 0.7717 - acc: 0.76 - ETA: 13s - loss: 0.7757 - acc: 0.76 - ETA: 13s - loss: 0.7822 - acc: 0.76 - ETA: 13s - loss: 0.7801 - acc: 0.76 - ETA: 12s - loss: 0.7840 - acc: 0.76 - ETA: 12s - loss: 0.7757 - acc: 0.76 - ETA: 11s - loss: 0.7730 - acc: 0.76 - ETA: 11s - loss: 0.7728 - acc: 0.76 - ETA: 11s - loss: 0.7672 - acc: 0.76 - ETA: 10s - loss: 0.7680 - acc: 0.76 - ETA: 10s - loss: 0.7627 - acc: 0.76 - ETA: 9s - loss: 0.7622 - acc: 0.7694 - ETA: 9s - loss: 0.7618 - acc: 0.769 - ETA: 9s - loss: 0.7567 - acc: 0.769 - ETA: 8s - loss: 0.7571 - acc: 0.769 - ETA: 8s - loss: 0.7553 - acc: 0.769 - ETA: 8s - loss: 0.7599 - acc: 0.769 - ETA: 7s - loss: 0.7612 - acc: 0.769 - ETA: 7s - loss: 0.7612 - acc: 0.768 - ETA: 6s - loss: 0.7641 - acc: 0.767 - ETA: 6s - loss: 0.7622 - acc: 0.767 - ETA: 6s - loss: 0.7573 - acc: 0.768 - ETA: 5s - loss: 0.7590 - acc: 0.769 - ETA: 5s - loss: 0.7557 - acc: 0.770 - ETA: 4s - loss: 0.7556 - acc: 0.769 - ETA: 4s - loss: 0.7577 - acc: 0.766 - ETA: 4s - loss: 0.7526 - acc: 0.768 - ETA: 3s - loss: 0.7566 - acc: 0.767 - ETA: 3s - loss: 0.7579 - acc: 0.768 - ETA: 2s - loss: 0.7587 - acc: 0.767 - ETA: 2s - loss: 0.7609 - acc: 0.767 - ETA: 2s - loss: 0.7591 - acc: 0.766 - ETA: 1s - loss: 0.7582 - acc: 0.766 - ETA: 1s - loss: 0.7580 - acc: 0.766 - ETA: 1s - loss: 0.7603 - acc: 0.766 - ETA: 0s - loss: 0.7605 - acc: 0.766 - ETA: 0s - loss: 0.7649 - acc: 0.764 - 26s 4ms/step - loss: 0.7643 - acc: 0.7651 - val_loss: 1.4054 - val_acc: 0.6420\n",
      "Epoch 23/100\n",
      "7000/7000 [==============================] - ETA: 19s - loss: 0.8363 - acc: 0.72 - ETA: 20s - loss: 0.7835 - acc: 0.74 - ETA: 19s - loss: 0.7982 - acc: 0.74 - ETA: 20s - loss: 0.8027 - acc: 0.74 - ETA: 19s - loss: 0.8110 - acc: 0.74 - ETA: 19s - loss: 0.7568 - acc: 0.76 - ETA: 19s - loss: 0.7311 - acc: 0.76 - ETA: 18s - loss: 0.7205 - acc: 0.77 - ETA: 18s - loss: 0.7301 - acc: 0.76 - ETA: 17s - loss: 0.7285 - acc: 0.76 - ETA: 17s - loss: 0.7356 - acc: 0.76 - ETA: 16s - loss: 0.7408 - acc: 0.75 - ETA: 16s - loss: 0.7276 - acc: 0.76 - ETA: 15s - loss: 0.7335 - acc: 0.76 - ETA: 15s - loss: 0.7269 - acc: 0.76 - ETA: 15s - loss: 0.7309 - acc: 0.76 - ETA: 14s - loss: 0.7262 - acc: 0.76 - ETA: 14s - loss: 0.7331 - acc: 0.76 - ETA: 13s - loss: 0.7328 - acc: 0.76 - ETA: 13s - loss: 0.7341 - acc: 0.76 - ETA: 13s - loss: 0.7341 - acc: 0.76 - ETA: 12s - loss: 0.7307 - acc: 0.76 - ETA: 12s - loss: 0.7316 - acc: 0.76 - ETA: 12s - loss: 0.7350 - acc: 0.76 - ETA: 11s - loss: 0.7332 - acc: 0.76 - ETA: 11s - loss: 0.7306 - acc: 0.76 - ETA: 10s - loss: 0.7303 - acc: 0.76 - ETA: 10s - loss: 0.7268 - acc: 0.76 - ETA: 10s - loss: 0.7245 - acc: 0.76 - ETA: 9s - loss: 0.7253 - acc: 0.7677 - ETA: 9s - loss: 0.7276 - acc: 0.767 - ETA: 8s - loss: 0.7311 - acc: 0.766 - ETA: 8s - loss: 0.7329 - acc: 0.764 - ETA: 8s - loss: 0.7311 - acc: 0.764 - ETA: 7s - loss: 0.7320 - acc: 0.765 - ETA: 7s - loss: 0.7351 - acc: 0.764 - ETA: 6s - loss: 0.7346 - acc: 0.763 - ETA: 6s - loss: 0.7348 - acc: 0.763 - ETA: 6s - loss: 0.7420 - acc: 0.762 - ETA: 5s - loss: 0.7417 - acc: 0.762 - ETA: 5s - loss: 0.7371 - acc: 0.763 - ETA: 4s - loss: 0.7341 - acc: 0.764 - ETA: 4s - loss: 0.7365 - acc: 0.763 - ETA: 4s - loss: 0.7308 - acc: 0.765 - ETA: 3s - loss: 0.7296 - acc: 0.766 - ETA: 3s - loss: 0.7257 - acc: 0.767 - ETA: 3s - loss: 0.7282 - acc: 0.767 - ETA: 2s - loss: 0.7255 - acc: 0.768 - ETA: 2s - loss: 0.7229 - acc: 0.768 - ETA: 1s - loss: 0.7199 - acc: 0.769 - ETA: 1s - loss: 0.7225 - acc: 0.769 - ETA: 1s - loss: 0.7266 - acc: 0.767 - ETA: 0s - loss: 0.7268 - acc: 0.768 - ETA: 0s - loss: 0.7268 - acc: 0.769 - 26s 4ms/step - loss: 0.7282 - acc: 0.7699 - val_loss: 1.3860 - val_acc: 0.6507\n",
      "Epoch 24/100\n",
      "7000/7000 [==============================] - ETA: 19s - loss: 0.5921 - acc: 0.78 - ETA: 20s - loss: 0.5980 - acc: 0.80 - ETA: 19s - loss: 0.6453 - acc: 0.80 - ETA: 19s - loss: 0.6595 - acc: 0.79 - ETA: 19s - loss: 0.6613 - acc: 0.79 - ETA: 18s - loss: 0.6563 - acc: 0.78 - ETA: 18s - loss: 0.6517 - acc: 0.78 - ETA: 17s - loss: 0.6486 - acc: 0.78 - ETA: 17s - loss: 0.6575 - acc: 0.78 - ETA: 17s - loss: 0.6510 - acc: 0.78 - ETA: 16s - loss: 0.6444 - acc: 0.78 - ETA: 16s - loss: 0.6503 - acc: 0.78 - ETA: 15s - loss: 0.6505 - acc: 0.78 - ETA: 15s - loss: 0.6608 - acc: 0.78 - ETA: 15s - loss: 0.6481 - acc: 0.78 - ETA: 14s - loss: 0.6407 - acc: 0.79 - ETA: 14s - loss: 0.6435 - acc: 0.79 - ETA: 14s - loss: 0.6425 - acc: 0.79 - ETA: 13s - loss: 0.6483 - acc: 0.79 - ETA: 13s - loss: 0.6538 - acc: 0.79 - ETA: 13s - loss: 0.6515 - acc: 0.79 - ETA: 12s - loss: 0.6520 - acc: 0.79 - ETA: 12s - loss: 0.6532 - acc: 0.79 - ETA: 11s - loss: 0.6478 - acc: 0.79 - ETA: 11s - loss: 0.6446 - acc: 0.79 - ETA: 11s - loss: 0.6439 - acc: 0.79 - ETA: 10s - loss: 0.6482 - acc: 0.79 - ETA: 10s - loss: 0.6502 - acc: 0.79 - ETA: 10s - loss: 0.6550 - acc: 0.79 - ETA: 9s - loss: 0.6570 - acc: 0.7940 - ETA: 9s - loss: 0.6569 - acc: 0.794 - ETA: 9s - loss: 0.6542 - acc: 0.795 - ETA: 8s - loss: 0.6532 - acc: 0.796 - ETA: 8s - loss: 0.6508 - acc: 0.796 - ETA: 7s - loss: 0.6504 - acc: 0.795 - ETA: 7s - loss: 0.6499 - acc: 0.796 - ETA: 7s - loss: 0.6512 - acc: 0.795 - ETA: 6s - loss: 0.6515 - acc: 0.794 - ETA: 6s - loss: 0.6507 - acc: 0.794 - ETA: 5s - loss: 0.6551 - acc: 0.792 - ETA: 5s - loss: 0.6526 - acc: 0.794 - ETA: 5s - loss: 0.6500 - acc: 0.795 - ETA: 4s - loss: 0.6531 - acc: 0.794 - ETA: 4s - loss: 0.6548 - acc: 0.794 - ETA: 3s - loss: 0.6558 - acc: 0.793 - ETA: 3s - loss: 0.6552 - acc: 0.794 - ETA: 3s - loss: 0.6589 - acc: 0.792 - ETA: 2s - loss: 0.6576 - acc: 0.792 - ETA: 2s - loss: 0.6570 - acc: 0.792 - ETA: 1s - loss: 0.6557 - acc: 0.793 - ETA: 1s - loss: 0.6564 - acc: 0.792 - ETA: 1s - loss: 0.6559 - acc: 0.793 - ETA: 0s - loss: 0.6563 - acc: 0.793 - ETA: 0s - loss: 0.6547 - acc: 0.794 - 27s 4ms/step - loss: 0.6562 - acc: 0.7937 - val_loss: 1.5383 - val_acc: 0.6400\n",
      "Epoch 25/100\n"
     ]
    },
    {
     "name": "stdout",
     "output_type": "stream",
     "text": [
      "7000/7000 [==============================] - ETA: 22s - loss: 0.6868 - acc: 0.82 - ETA: 22s - loss: 0.6103 - acc: 0.84 - ETA: 21s - loss: 0.5704 - acc: 0.84 - ETA: 21s - loss: 0.5983 - acc: 0.82 - ETA: 20s - loss: 0.6048 - acc: 0.81 - ETA: 19s - loss: 0.5881 - acc: 0.82 - ETA: 19s - loss: 0.6075 - acc: 0.82 - ETA: 18s - loss: 0.5925 - acc: 0.82 - ETA: 18s - loss: 0.5748 - acc: 0.82 - ETA: 18s - loss: 0.5783 - acc: 0.82 - ETA: 17s - loss: 0.5820 - acc: 0.82 - ETA: 17s - loss: 0.5856 - acc: 0.82 - ETA: 16s - loss: 0.5807 - acc: 0.82 - ETA: 16s - loss: 0.5783 - acc: 0.82 - ETA: 15s - loss: 0.5842 - acc: 0.81 - ETA: 15s - loss: 0.5812 - acc: 0.81 - ETA: 15s - loss: 0.5848 - acc: 0.81 - ETA: 14s - loss: 0.5795 - acc: 0.81 - ETA: 14s - loss: 0.5756 - acc: 0.81 - ETA: 13s - loss: 0.5695 - acc: 0.81 - ETA: 13s - loss: 0.5735 - acc: 0.81 - ETA: 13s - loss: 0.5726 - acc: 0.81 - ETA: 12s - loss: 0.5784 - acc: 0.81 - ETA: 12s - loss: 0.5816 - acc: 0.81 - ETA: 11s - loss: 0.5893 - acc: 0.81 - ETA: 11s - loss: 0.5873 - acc: 0.81 - ETA: 10s - loss: 0.5870 - acc: 0.81 - ETA: 10s - loss: 0.5855 - acc: 0.81 - ETA: 10s - loss: 0.5889 - acc: 0.81 - ETA: 9s - loss: 0.5932 - acc: 0.8138 - ETA: 9s - loss: 0.5974 - acc: 0.812 - ETA: 9s - loss: 0.6027 - acc: 0.810 - ETA: 8s - loss: 0.6031 - acc: 0.810 - ETA: 8s - loss: 0.6036 - acc: 0.810 - ETA: 7s - loss: 0.6100 - acc: 0.807 - ETA: 7s - loss: 0.6143 - acc: 0.806 - ETA: 7s - loss: 0.6141 - acc: 0.806 - ETA: 6s - loss: 0.6179 - acc: 0.805 - ETA: 6s - loss: 0.6196 - acc: 0.804 - ETA: 5s - loss: 0.6216 - acc: 0.803 - ETA: 5s - loss: 0.6215 - acc: 0.803 - ETA: 5s - loss: 0.6246 - acc: 0.802 - ETA: 4s - loss: 0.6274 - acc: 0.801 - ETA: 4s - loss: 0.6284 - acc: 0.802 - ETA: 3s - loss: 0.6281 - acc: 0.802 - ETA: 3s - loss: 0.6253 - acc: 0.802 - ETA: 3s - loss: 0.6237 - acc: 0.803 - ETA: 2s - loss: 0.6264 - acc: 0.802 - ETA: 2s - loss: 0.6262 - acc: 0.802 - ETA: 1s - loss: 0.6279 - acc: 0.802 - ETA: 1s - loss: 0.6264 - acc: 0.802 - ETA: 1s - loss: 0.6277 - acc: 0.802 - ETA: 0s - loss: 0.6318 - acc: 0.800 - ETA: 0s - loss: 0.6370 - acc: 0.798 - 26s 4ms/step - loss: 0.6340 - acc: 0.7990 - val_loss: 1.4950 - val_acc: 0.6463\n",
      "Epoch 26/100\n",
      "7000/7000 [==============================] - ETA: 20s - loss: 0.5925 - acc: 0.82 - ETA: 20s - loss: 0.6057 - acc: 0.82 - ETA: 19s - loss: 0.5693 - acc: 0.82 - ETA: 19s - loss: 0.5568 - acc: 0.82 - ETA: 19s - loss: 0.5967 - acc: 0.81 - ETA: 19s - loss: 0.6017 - acc: 0.81 - ETA: 18s - loss: 0.5793 - acc: 0.82 - ETA: 18s - loss: 0.5879 - acc: 0.82 - ETA: 17s - loss: 0.5854 - acc: 0.82 - ETA: 17s - loss: 0.5753 - acc: 0.82 - ETA: 16s - loss: 0.5844 - acc: 0.82 - ETA: 16s - loss: 0.5855 - acc: 0.82 - ETA: 16s - loss: 0.5812 - acc: 0.82 - ETA: 15s - loss: 0.5820 - acc: 0.82 - ETA: 15s - loss: 0.5700 - acc: 0.82 - ETA: 14s - loss: 0.5782 - acc: 0.82 - ETA: 14s - loss: 0.5822 - acc: 0.82 - ETA: 14s - loss: 0.5932 - acc: 0.81 - ETA: 13s - loss: 0.5931 - acc: 0.81 - ETA: 13s - loss: 0.5906 - acc: 0.81 - ETA: 13s - loss: 0.5874 - acc: 0.81 - ETA: 12s - loss: 0.5875 - acc: 0.81 - ETA: 12s - loss: 0.5815 - acc: 0.81 - ETA: 11s - loss: 0.5770 - acc: 0.82 - ETA: 11s - loss: 0.5847 - acc: 0.81 - ETA: 11s - loss: 0.5815 - acc: 0.81 - ETA: 10s - loss: 0.5786 - acc: 0.81 - ETA: 10s - loss: 0.5777 - acc: 0.81 - ETA: 9s - loss: 0.5737 - acc: 0.8209 - ETA: 9s - loss: 0.5773 - acc: 0.819 - ETA: 9s - loss: 0.5795 - acc: 0.818 - ETA: 8s - loss: 0.5853 - acc: 0.816 - ETA: 8s - loss: 0.5866 - acc: 0.816 - ETA: 7s - loss: 0.5880 - acc: 0.815 - ETA: 7s - loss: 0.5876 - acc: 0.816 - ETA: 7s - loss: 0.5909 - acc: 0.814 - ETA: 6s - loss: 0.5934 - acc: 0.814 - ETA: 6s - loss: 0.5926 - acc: 0.814 - ETA: 6s - loss: 0.5978 - acc: 0.812 - ETA: 5s - loss: 0.6005 - acc: 0.811 - ETA: 5s - loss: 0.6057 - acc: 0.810 - ETA: 4s - loss: 0.6060 - acc: 0.810 - ETA: 4s - loss: 0.6041 - acc: 0.811 - ETA: 4s - loss: 0.6046 - acc: 0.810 - ETA: 3s - loss: 0.6068 - acc: 0.810 - ETA: 3s - loss: 0.6088 - acc: 0.810 - ETA: 2s - loss: 0.6097 - acc: 0.810 - ETA: 2s - loss: 0.6058 - acc: 0.811 - ETA: 2s - loss: 0.6035 - acc: 0.812 - ETA: 1s - loss: 0.6034 - acc: 0.812 - ETA: 1s - loss: 0.6050 - acc: 0.811 - ETA: 1s - loss: 0.6078 - acc: 0.809 - ETA: 0s - loss: 0.6105 - acc: 0.809 - ETA: 0s - loss: 0.6114 - acc: 0.809 - 26s 4ms/step - loss: 0.6111 - acc: 0.8093 - val_loss: 1.4929 - val_acc: 0.6467\n",
      "Epoch 27/100\n",
      "7000/7000 [==============================] - ETA: 20s - loss: 0.5526 - acc: 0.82 - ETA: 20s - loss: 0.5352 - acc: 0.82 - ETA: 19s - loss: 0.4981 - acc: 0.84 - ETA: 19s - loss: 0.5070 - acc: 0.83 - ETA: 18s - loss: 0.5017 - acc: 0.84 - ETA: 18s - loss: 0.4992 - acc: 0.83 - ETA: 18s - loss: 0.5106 - acc: 0.83 - ETA: 17s - loss: 0.5091 - acc: 0.83 - ETA: 17s - loss: 0.5136 - acc: 0.83 - ETA: 17s - loss: 0.5218 - acc: 0.83 - ETA: 16s - loss: 0.5203 - acc: 0.83 - ETA: 16s - loss: 0.5240 - acc: 0.83 - ETA: 15s - loss: 0.5327 - acc: 0.82 - ETA: 15s - loss: 0.5274 - acc: 0.82 - ETA: 15s - loss: 0.5233 - acc: 0.83 - ETA: 14s - loss: 0.5217 - acc: 0.82 - ETA: 14s - loss: 0.5256 - acc: 0.82 - ETA: 13s - loss: 0.5259 - acc: 0.82 - ETA: 13s - loss: 0.5247 - acc: 0.82 - ETA: 13s - loss: 0.5206 - acc: 0.83 - ETA: 12s - loss: 0.5155 - acc: 0.83 - ETA: 12s - loss: 0.5126 - acc: 0.83 - ETA: 12s - loss: 0.5208 - acc: 0.83 - ETA: 11s - loss: 0.5148 - acc: 0.83 - ETA: 11s - loss: 0.5213 - acc: 0.83 - ETA: 11s - loss: 0.5274 - acc: 0.83 - ETA: 10s - loss: 0.5260 - acc: 0.83 - ETA: 10s - loss: 0.5230 - acc: 0.83 - ETA: 9s - loss: 0.5271 - acc: 0.8308 - ETA: 9s - loss: 0.5253 - acc: 0.832 - ETA: 9s - loss: 0.5279 - acc: 0.831 - ETA: 8s - loss: 0.5296 - acc: 0.832 - ETA: 8s - loss: 0.5248 - acc: 0.833 - ETA: 8s - loss: 0.5332 - acc: 0.831 - ETA: 7s - loss: 0.5347 - acc: 0.831 - ETA: 7s - loss: 0.5351 - acc: 0.831 - ETA: 6s - loss: 0.5421 - acc: 0.829 - ETA: 6s - loss: 0.5462 - acc: 0.828 - ETA: 6s - loss: 0.5499 - acc: 0.827 - ETA: 5s - loss: 0.5506 - acc: 0.827 - ETA: 5s - loss: 0.5502 - acc: 0.828 - ETA: 4s - loss: 0.5476 - acc: 0.828 - ETA: 4s - loss: 0.5475 - acc: 0.828 - ETA: 4s - loss: 0.5494 - acc: 0.828 - ETA: 3s - loss: 0.5519 - acc: 0.827 - ETA: 3s - loss: 0.5521 - acc: 0.827 - ETA: 2s - loss: 0.5533 - acc: 0.827 - ETA: 2s - loss: 0.5533 - acc: 0.827 - ETA: 2s - loss: 0.5548 - acc: 0.827 - ETA: 1s - loss: 0.5549 - acc: 0.826 - ETA: 1s - loss: 0.5549 - acc: 0.827 - ETA: 1s - loss: 0.5529 - acc: 0.828 - ETA: 0s - loss: 0.5542 - acc: 0.828 - ETA: 0s - loss: 0.5563 - acc: 0.827 - 26s 4ms/step - loss: 0.5570 - acc: 0.8266 - val_loss: 1.5681 - val_acc: 0.6440\n",
      "Epoch 28/100\n"
     ]
    },
    {
     "name": "stdout",
     "output_type": "stream",
     "text": [
      "7000/7000 [==============================] - ETA: 20s - loss: 0.4347 - acc: 0.84 - ETA: 19s - loss: 0.4610 - acc: 0.85 - ETA: 19s - loss: 0.4705 - acc: 0.85 - ETA: 19s - loss: 0.4669 - acc: 0.85 - ETA: 19s - loss: 0.4959 - acc: 0.84 - ETA: 18s - loss: 0.5016 - acc: 0.84 - ETA: 18s - loss: 0.5116 - acc: 0.83 - ETA: 17s - loss: 0.5308 - acc: 0.83 - ETA: 17s - loss: 0.5277 - acc: 0.83 - ETA: 17s - loss: 0.5192 - acc: 0.83 - ETA: 16s - loss: 0.5262 - acc: 0.83 - ETA: 16s - loss: 0.5341 - acc: 0.82 - ETA: 15s - loss: 0.5419 - acc: 0.82 - ETA: 15s - loss: 0.5279 - acc: 0.83 - ETA: 15s - loss: 0.5219 - acc: 0.83 - ETA: 14s - loss: 0.5155 - acc: 0.83 - ETA: 14s - loss: 0.5154 - acc: 0.83 - ETA: 14s - loss: 0.5233 - acc: 0.83 - ETA: 13s - loss: 0.5172 - acc: 0.83 - ETA: 13s - loss: 0.5244 - acc: 0.83 - ETA: 12s - loss: 0.5247 - acc: 0.83 - ETA: 12s - loss: 0.5293 - acc: 0.83 - ETA: 12s - loss: 0.5325 - acc: 0.83 - ETA: 11s - loss: 0.5322 - acc: 0.83 - ETA: 11s - loss: 0.5262 - acc: 0.83 - ETA: 10s - loss: 0.5228 - acc: 0.83 - ETA: 10s - loss: 0.5246 - acc: 0.83 - ETA: 10s - loss: 0.5239 - acc: 0.83 - ETA: 9s - loss: 0.5256 - acc: 0.8314 - ETA: 9s - loss: 0.5253 - acc: 0.831 - ETA: 9s - loss: 0.5275 - acc: 0.831 - ETA: 8s - loss: 0.5295 - acc: 0.830 - ETA: 8s - loss: 0.5268 - acc: 0.831 - ETA: 7s - loss: 0.5269 - acc: 0.830 - ETA: 7s - loss: 0.5241 - acc: 0.831 - ETA: 7s - loss: 0.5269 - acc: 0.830 - ETA: 6s - loss: 0.5307 - acc: 0.830 - ETA: 6s - loss: 0.5303 - acc: 0.830 - ETA: 5s - loss: 0.5231 - acc: 0.832 - ETA: 5s - loss: 0.5244 - acc: 0.832 - ETA: 5s - loss: 0.5237 - acc: 0.832 - ETA: 4s - loss: 0.5286 - acc: 0.832 - ETA: 4s - loss: 0.5330 - acc: 0.831 - ETA: 4s - loss: 0.5355 - acc: 0.829 - ETA: 3s - loss: 0.5372 - acc: 0.829 - ETA: 3s - loss: 0.5365 - acc: 0.829 - ETA: 2s - loss: 0.5368 - acc: 0.829 - ETA: 2s - loss: 0.5372 - acc: 0.828 - ETA: 2s - loss: 0.5392 - acc: 0.828 - ETA: 1s - loss: 0.5393 - acc: 0.828 - ETA: 1s - loss: 0.5408 - acc: 0.828 - ETA: 1s - loss: 0.5417 - acc: 0.828 - ETA: 0s - loss: 0.5403 - acc: 0.828 - ETA: 0s - loss: 0.5397 - acc: 0.828 - 26s 4ms/step - loss: 0.5383 - acc: 0.8287 - val_loss: 1.5497 - val_acc: 0.6480\n",
      "Epoch 29/100\n",
      "7000/7000 [==============================] - ETA: 21s - loss: 0.5459 - acc: 0.82 - ETA: 20s - loss: 0.4668 - acc: 0.85 - ETA: 19s - loss: 0.4410 - acc: 0.84 - ETA: 19s - loss: 0.4879 - acc: 0.83 - ETA: 19s - loss: 0.4793 - acc: 0.84 - ETA: 18s - loss: 0.4852 - acc: 0.84 - ETA: 18s - loss: 0.4969 - acc: 0.82 - ETA: 18s - loss: 0.4927 - acc: 0.83 - ETA: 17s - loss: 0.4831 - acc: 0.83 - ETA: 17s - loss: 0.4869 - acc: 0.83 - ETA: 16s - loss: 0.4895 - acc: 0.83 - ETA: 16s - loss: 0.4880 - acc: 0.83 - ETA: 16s - loss: 0.4766 - acc: 0.83 - ETA: 15s - loss: 0.4700 - acc: 0.83 - ETA: 15s - loss: 0.4674 - acc: 0.83 - ETA: 15s - loss: 0.4683 - acc: 0.83 - ETA: 14s - loss: 0.4647 - acc: 0.84 - ETA: 14s - loss: 0.4633 - acc: 0.84 - ETA: 14s - loss: 0.4629 - acc: 0.84 - ETA: 13s - loss: 0.4663 - acc: 0.84 - ETA: 13s - loss: 0.4710 - acc: 0.83 - ETA: 12s - loss: 0.4743 - acc: 0.83 - ETA: 12s - loss: 0.4688 - acc: 0.84 - ETA: 12s - loss: 0.4717 - acc: 0.83 - ETA: 11s - loss: 0.4813 - acc: 0.83 - ETA: 11s - loss: 0.4849 - acc: 0.83 - ETA: 10s - loss: 0.4891 - acc: 0.83 - ETA: 10s - loss: 0.4958 - acc: 0.83 - ETA: 10s - loss: 0.5000 - acc: 0.83 - ETA: 9s - loss: 0.5013 - acc: 0.8305 - ETA: 9s - loss: 0.5039 - acc: 0.830 - ETA: 8s - loss: 0.5064 - acc: 0.830 - ETA: 8s - loss: 0.5041 - acc: 0.831 - ETA: 8s - loss: 0.5072 - acc: 0.830 - ETA: 7s - loss: 0.5037 - acc: 0.831 - ETA: 7s - loss: 0.5028 - acc: 0.832 - ETA: 6s - loss: 0.5093 - acc: 0.830 - ETA: 6s - loss: 0.5090 - acc: 0.830 - ETA: 6s - loss: 0.5092 - acc: 0.830 - ETA: 5s - loss: 0.5120 - acc: 0.829 - ETA: 5s - loss: 0.5123 - acc: 0.829 - ETA: 5s - loss: 0.5111 - acc: 0.829 - ETA: 4s - loss: 0.5124 - acc: 0.829 - ETA: 4s - loss: 0.5135 - acc: 0.829 - ETA: 3s - loss: 0.5145 - acc: 0.829 - ETA: 3s - loss: 0.5172 - acc: 0.828 - ETA: 3s - loss: 0.5146 - acc: 0.829 - ETA: 2s - loss: 0.5145 - acc: 0.829 - ETA: 2s - loss: 0.5133 - acc: 0.830 - ETA: 1s - loss: 0.5129 - acc: 0.830 - ETA: 1s - loss: 0.5142 - acc: 0.830 - ETA: 1s - loss: 0.5161 - acc: 0.829 - ETA: 0s - loss: 0.5172 - acc: 0.830 - ETA: 0s - loss: 0.5160 - acc: 0.830 - 27s 4ms/step - loss: 0.5171 - acc: 0.8306 - val_loss: 1.5418 - val_acc: 0.6447\n",
      "Epoch 30/100\n",
      "7000/7000 [==============================] - ETA: 21s - loss: 0.4489 - acc: 0.83 - ETA: 21s - loss: 0.4194 - acc: 0.83 - ETA: 20s - loss: 0.4451 - acc: 0.82 - ETA: 20s - loss: 0.4313 - acc: 0.83 - ETA: 19s - loss: 0.4016 - acc: 0.85 - ETA: 19s - loss: 0.4078 - acc: 0.85 - ETA: 19s - loss: 0.3909 - acc: 0.86 - ETA: 18s - loss: 0.4219 - acc: 0.85 - ETA: 18s - loss: 0.4310 - acc: 0.85 - ETA: 17s - loss: 0.4349 - acc: 0.85 - ETA: 17s - loss: 0.4493 - acc: 0.84 - ETA: 17s - loss: 0.4479 - acc: 0.84 - ETA: 16s - loss: 0.4425 - acc: 0.84 - ETA: 16s - loss: 0.4401 - acc: 0.84 - ETA: 15s - loss: 0.4409 - acc: 0.84 - ETA: 15s - loss: 0.4324 - acc: 0.85 - ETA: 15s - loss: 0.4320 - acc: 0.84 - ETA: 14s - loss: 0.4305 - acc: 0.85 - ETA: 14s - loss: 0.4262 - acc: 0.85 - ETA: 13s - loss: 0.4288 - acc: 0.85 - ETA: 13s - loss: 0.4344 - acc: 0.85 - ETA: 13s - loss: 0.4361 - acc: 0.85 - ETA: 12s - loss: 0.4416 - acc: 0.85 - ETA: 12s - loss: 0.4403 - acc: 0.85 - ETA: 11s - loss: 0.4384 - acc: 0.85 - ETA: 11s - loss: 0.4435 - acc: 0.85 - ETA: 11s - loss: 0.4500 - acc: 0.84 - ETA: 10s - loss: 0.4478 - acc: 0.84 - ETA: 10s - loss: 0.4444 - acc: 0.85 - ETA: 9s - loss: 0.4428 - acc: 0.8521 - ETA: 9s - loss: 0.4469 - acc: 0.851 - ETA: 9s - loss: 0.4519 - acc: 0.851 - ETA: 8s - loss: 0.4590 - acc: 0.849 - ETA: 8s - loss: 0.4622 - acc: 0.848 - ETA: 7s - loss: 0.4657 - acc: 0.847 - ETA: 7s - loss: 0.4673 - acc: 0.846 - ETA: 6s - loss: 0.4648 - acc: 0.846 - ETA: 6s - loss: 0.4685 - acc: 0.845 - ETA: 6s - loss: 0.4652 - acc: 0.846 - ETA: 5s - loss: 0.4662 - acc: 0.845 - ETA: 5s - loss: 0.4647 - acc: 0.846 - ETA: 5s - loss: 0.4674 - acc: 0.844 - ETA: 4s - loss: 0.4726 - acc: 0.843 - ETA: 4s - loss: 0.4735 - acc: 0.843 - ETA: 3s - loss: 0.4729 - acc: 0.844 - ETA: 3s - loss: 0.4769 - acc: 0.843 - ETA: 3s - loss: 0.4772 - acc: 0.844 - ETA: 2s - loss: 0.4782 - acc: 0.842 - ETA: 2s - loss: 0.4739 - acc: 0.844 - ETA: 1s - loss: 0.4736 - acc: 0.844 - ETA: 1s - loss: 0.4740 - acc: 0.843 - ETA: 1s - loss: 0.4770 - acc: 0.843 - ETA: 0s - loss: 0.4773 - acc: 0.842 - ETA: 0s - loss: 0.4767 - acc: 0.843 - 26s 4ms/step - loss: 0.4773 - acc: 0.8429 - val_loss: 1.6078 - val_acc: 0.6477\n",
      "Epoch 31/100\n"
     ]
    },
    {
     "name": "stdout",
     "output_type": "stream",
     "text": [
      "7000/7000 [==============================] - ETA: 21s - loss: 0.4784 - acc: 0.85 - ETA: 21s - loss: 0.4433 - acc: 0.85 - ETA: 20s - loss: 0.4481 - acc: 0.85 - ETA: 20s - loss: 0.4306 - acc: 0.85 - ETA: 19s - loss: 0.3974 - acc: 0.86 - ETA: 19s - loss: 0.4004 - acc: 0.86 - ETA: 18s - loss: 0.4101 - acc: 0.86 - ETA: 18s - loss: 0.4271 - acc: 0.86 - ETA: 17s - loss: 0.4207 - acc: 0.86 - ETA: 17s - loss: 0.4333 - acc: 0.86 - ETA: 17s - loss: 0.4306 - acc: 0.85 - ETA: 16s - loss: 0.4274 - acc: 0.85 - ETA: 16s - loss: 0.4271 - acc: 0.86 - ETA: 16s - loss: 0.4401 - acc: 0.85 - ETA: 15s - loss: 0.4476 - acc: 0.85 - ETA: 15s - loss: 0.4515 - acc: 0.85 - ETA: 14s - loss: 0.4550 - acc: 0.85 - ETA: 14s - loss: 0.4591 - acc: 0.84 - ETA: 14s - loss: 0.4540 - acc: 0.85 - ETA: 13s - loss: 0.4468 - acc: 0.85 - ETA: 13s - loss: 0.4425 - acc: 0.85 - ETA: 12s - loss: 0.4408 - acc: 0.85 - ETA: 12s - loss: 0.4379 - acc: 0.85 - ETA: 12s - loss: 0.4356 - acc: 0.85 - ETA: 11s - loss: 0.4368 - acc: 0.85 - ETA: 11s - loss: 0.4401 - acc: 0.85 - ETA: 10s - loss: 0.4382 - acc: 0.85 - ETA: 10s - loss: 0.4417 - acc: 0.85 - ETA: 10s - loss: 0.4402 - acc: 0.85 - ETA: 9s - loss: 0.4438 - acc: 0.8539 - ETA: 9s - loss: 0.4450 - acc: 0.854 - ETA: 8s - loss: 0.4455 - acc: 0.853 - ETA: 8s - loss: 0.4445 - acc: 0.853 - ETA: 8s - loss: 0.4446 - acc: 0.852 - ETA: 7s - loss: 0.4461 - acc: 0.851 - ETA: 7s - loss: 0.4438 - acc: 0.852 - ETA: 6s - loss: 0.4425 - acc: 0.851 - ETA: 6s - loss: 0.4429 - acc: 0.852 - ETA: 6s - loss: 0.4461 - acc: 0.851 - ETA: 5s - loss: 0.4463 - acc: 0.851 - ETA: 5s - loss: 0.4462 - acc: 0.851 - ETA: 4s - loss: 0.4445 - acc: 0.852 - ETA: 4s - loss: 0.4474 - acc: 0.851 - ETA: 4s - loss: 0.4497 - acc: 0.850 - ETA: 3s - loss: 0.4509 - acc: 0.850 - ETA: 3s - loss: 0.4527 - acc: 0.849 - ETA: 3s - loss: 0.4528 - acc: 0.849 - ETA: 2s - loss: 0.4518 - acc: 0.849 - ETA: 2s - loss: 0.4556 - acc: 0.847 - ETA: 1s - loss: 0.4564 - acc: 0.847 - ETA: 1s - loss: 0.4552 - acc: 0.848 - ETA: 1s - loss: 0.4594 - acc: 0.846 - ETA: 0s - loss: 0.4618 - acc: 0.845 - ETA: 0s - loss: 0.4624 - acc: 0.845 - 26s 4ms/step - loss: 0.4671 - acc: 0.8437 - val_loss: 1.5588 - val_acc: 0.6423\n",
      "Epoch 32/100\n",
      "7000/7000 [==============================] - ETA: 20s - loss: 0.4192 - acc: 0.84 - ETA: 20s - loss: 0.4190 - acc: 0.85 - ETA: 19s - loss: 0.4437 - acc: 0.84 - ETA: 19s - loss: 0.4321 - acc: 0.84 - ETA: 19s - loss: 0.4365 - acc: 0.83 - ETA: 18s - loss: 0.4324 - acc: 0.84 - ETA: 18s - loss: 0.4174 - acc: 0.85 - ETA: 17s - loss: 0.4262 - acc: 0.85 - ETA: 17s - loss: 0.4308 - acc: 0.84 - ETA: 17s - loss: 0.4328 - acc: 0.84 - ETA: 16s - loss: 0.4433 - acc: 0.84 - ETA: 16s - loss: 0.4401 - acc: 0.84 - ETA: 15s - loss: 0.4447 - acc: 0.84 - ETA: 15s - loss: 0.4418 - acc: 0.84 - ETA: 15s - loss: 0.4351 - acc: 0.84 - ETA: 14s - loss: 0.4277 - acc: 0.85 - ETA: 14s - loss: 0.4290 - acc: 0.85 - ETA: 14s - loss: 0.4251 - acc: 0.85 - ETA: 13s - loss: 0.4296 - acc: 0.85 - ETA: 13s - loss: 0.4252 - acc: 0.85 - ETA: 13s - loss: 0.4309 - acc: 0.85 - ETA: 12s - loss: 0.4344 - acc: 0.85 - ETA: 12s - loss: 0.4327 - acc: 0.85 - ETA: 11s - loss: 0.4344 - acc: 0.85 - ETA: 11s - loss: 0.4353 - acc: 0.85 - ETA: 11s - loss: 0.4351 - acc: 0.85 - ETA: 10s - loss: 0.4367 - acc: 0.85 - ETA: 10s - loss: 0.4392 - acc: 0.85 - ETA: 9s - loss: 0.4379 - acc: 0.8526 - ETA: 9s - loss: 0.4379 - acc: 0.853 - ETA: 9s - loss: 0.4392 - acc: 0.851 - ETA: 8s - loss: 0.4410 - acc: 0.849 - ETA: 8s - loss: 0.4431 - acc: 0.848 - ETA: 7s - loss: 0.4392 - acc: 0.849 - ETA: 7s - loss: 0.4409 - acc: 0.849 - ETA: 7s - loss: 0.4437 - acc: 0.847 - ETA: 6s - loss: 0.4424 - acc: 0.847 - ETA: 6s - loss: 0.4430 - acc: 0.846 - ETA: 6s - loss: 0.4419 - acc: 0.848 - ETA: 5s - loss: 0.4436 - acc: 0.848 - ETA: 5s - loss: 0.4437 - acc: 0.847 - ETA: 4s - loss: 0.4380 - acc: 0.850 - ETA: 4s - loss: 0.4400 - acc: 0.849 - ETA: 4s - loss: 0.4442 - acc: 0.848 - ETA: 3s - loss: 0.4444 - acc: 0.849 - ETA: 3s - loss: 0.4455 - acc: 0.850 - ETA: 2s - loss: 0.4477 - acc: 0.849 - ETA: 2s - loss: 0.4484 - acc: 0.849 - ETA: 2s - loss: 0.4500 - acc: 0.848 - ETA: 1s - loss: 0.4532 - acc: 0.848 - ETA: 1s - loss: 0.4512 - acc: 0.848 - ETA: 1s - loss: 0.4510 - acc: 0.848 - ETA: 0s - loss: 0.4513 - acc: 0.848 - ETA: 0s - loss: 0.4546 - acc: 0.847 - 26s 4ms/step - loss: 0.4575 - acc: 0.8467 - val_loss: 1.6825 - val_acc: 0.6333\n",
      "Epoch 33/100\n",
      "7000/7000 [==============================] - ETA: 20s - loss: 0.2687 - acc: 0.92 - ETA: 20s - loss: 0.2760 - acc: 0.92 - ETA: 19s - loss: 0.3241 - acc: 0.89 - ETA: 19s - loss: 0.3447 - acc: 0.88 - ETA: 19s - loss: 0.3635 - acc: 0.88 - ETA: 18s - loss: 0.3639 - acc: 0.88 - ETA: 18s - loss: 0.3620 - acc: 0.88 - ETA: 18s - loss: 0.3691 - acc: 0.87 - ETA: 17s - loss: 0.3917 - acc: 0.86 - ETA: 17s - loss: 0.3914 - acc: 0.86 - ETA: 17s - loss: 0.3836 - acc: 0.87 - ETA: 16s - loss: 0.3763 - acc: 0.87 - ETA: 16s - loss: 0.3775 - acc: 0.87 - ETA: 15s - loss: 0.3771 - acc: 0.87 - ETA: 15s - loss: 0.3770 - acc: 0.87 - ETA: 15s - loss: 0.3817 - acc: 0.87 - ETA: 14s - loss: 0.3895 - acc: 0.87 - ETA: 14s - loss: 0.3900 - acc: 0.87 - ETA: 13s - loss: 0.3947 - acc: 0.86 - ETA: 13s - loss: 0.3902 - acc: 0.87 - ETA: 13s - loss: 0.3914 - acc: 0.87 - ETA: 12s - loss: 0.3939 - acc: 0.86 - ETA: 12s - loss: 0.3946 - acc: 0.86 - ETA: 12s - loss: 0.3932 - acc: 0.87 - ETA: 11s - loss: 0.3950 - acc: 0.87 - ETA: 11s - loss: 0.3961 - acc: 0.87 - ETA: 10s - loss: 0.3947 - acc: 0.87 - ETA: 10s - loss: 0.3983 - acc: 0.86 - ETA: 10s - loss: 0.3962 - acc: 0.86 - ETA: 9s - loss: 0.3945 - acc: 0.8685 - ETA: 9s - loss: 0.3954 - acc: 0.868 - ETA: 8s - loss: 0.3953 - acc: 0.868 - ETA: 8s - loss: 0.3992 - acc: 0.868 - ETA: 8s - loss: 0.4042 - acc: 0.867 - ETA: 7s - loss: 0.4060 - acc: 0.866 - ETA: 7s - loss: 0.4065 - acc: 0.866 - ETA: 6s - loss: 0.4052 - acc: 0.866 - ETA: 6s - loss: 0.4058 - acc: 0.866 - ETA: 6s - loss: 0.4097 - acc: 0.864 - ETA: 5s - loss: 0.4147 - acc: 0.863 - ETA: 5s - loss: 0.4125 - acc: 0.864 - ETA: 4s - loss: 0.4098 - acc: 0.864 - ETA: 4s - loss: 0.4088 - acc: 0.864 - ETA: 4s - loss: 0.4051 - acc: 0.865 - ETA: 3s - loss: 0.4077 - acc: 0.864 - ETA: 3s - loss: 0.4069 - acc: 0.864 - ETA: 3s - loss: 0.4066 - acc: 0.864 - ETA: 2s - loss: 0.4062 - acc: 0.864 - ETA: 2s - loss: 0.4085 - acc: 0.864 - ETA: 1s - loss: 0.4098 - acc: 0.864 - ETA: 1s - loss: 0.4119 - acc: 0.863 - ETA: 1s - loss: 0.4123 - acc: 0.863 - ETA: 0s - loss: 0.4144 - acc: 0.862 - ETA: 0s - loss: 0.4138 - acc: 0.863 - 26s 4ms/step - loss: 0.4142 - acc: 0.8626 - val_loss: 1.6795 - val_acc: 0.6480\n",
      "Epoch 34/100\n"
     ]
    },
    {
     "name": "stdout",
     "output_type": "stream",
     "text": [
      "7000/7000 [==============================] - ETA: 21s - loss: 0.4205 - acc: 0.85 - ETA: 20s - loss: 0.3767 - acc: 0.87 - ETA: 19s - loss: 0.3854 - acc: 0.87 - ETA: 19s - loss: 0.3576 - acc: 0.88 - ETA: 19s - loss: 0.3338 - acc: 0.89 - ETA: 19s - loss: 0.3375 - acc: 0.88 - ETA: 19s - loss: 0.3544 - acc: 0.88 - ETA: 18s - loss: 0.3654 - acc: 0.87 - ETA: 18s - loss: 0.3677 - acc: 0.87 - ETA: 17s - loss: 0.3731 - acc: 0.87 - ETA: 17s - loss: 0.3723 - acc: 0.87 - ETA: 17s - loss: 0.3887 - acc: 0.87 - ETA: 16s - loss: 0.3963 - acc: 0.86 - ETA: 16s - loss: 0.3870 - acc: 0.87 - ETA: 15s - loss: 0.3929 - acc: 0.86 - ETA: 15s - loss: 0.3925 - acc: 0.87 - ETA: 15s - loss: 0.3905 - acc: 0.87 - ETA: 14s - loss: 0.3874 - acc: 0.87 - ETA: 14s - loss: 0.3877 - acc: 0.87 - ETA: 13s - loss: 0.3807 - acc: 0.87 - ETA: 13s - loss: 0.3802 - acc: 0.87 - ETA: 12s - loss: 0.3818 - acc: 0.87 - ETA: 12s - loss: 0.3810 - acc: 0.87 - ETA: 12s - loss: 0.3780 - acc: 0.88 - ETA: 11s - loss: 0.3734 - acc: 0.88 - ETA: 11s - loss: 0.3802 - acc: 0.88 - ETA: 10s - loss: 0.3786 - acc: 0.88 - ETA: 10s - loss: 0.3785 - acc: 0.88 - ETA: 10s - loss: 0.3806 - acc: 0.87 - ETA: 9s - loss: 0.3835 - acc: 0.8781 - ETA: 9s - loss: 0.3851 - acc: 0.877 - ETA: 8s - loss: 0.3889 - acc: 0.875 - ETA: 8s - loss: 0.3867 - acc: 0.876 - ETA: 8s - loss: 0.3928 - acc: 0.874 - ETA: 7s - loss: 0.3946 - acc: 0.874 - ETA: 7s - loss: 0.3977 - acc: 0.874 - ETA: 6s - loss: 0.4001 - acc: 0.872 - ETA: 6s - loss: 0.3963 - acc: 0.874 - ETA: 6s - loss: 0.3956 - acc: 0.873 - ETA: 5s - loss: 0.3977 - acc: 0.872 - ETA: 5s - loss: 0.3965 - acc: 0.872 - ETA: 4s - loss: 0.3973 - acc: 0.872 - ETA: 4s - loss: 0.3962 - acc: 0.872 - ETA: 4s - loss: 0.4012 - acc: 0.870 - ETA: 3s - loss: 0.4000 - acc: 0.871 - ETA: 3s - loss: 0.3980 - acc: 0.871 - ETA: 3s - loss: 0.3975 - acc: 0.872 - ETA: 2s - loss: 0.3988 - acc: 0.872 - ETA: 2s - loss: 0.3996 - acc: 0.871 - ETA: 1s - loss: 0.4027 - acc: 0.871 - ETA: 1s - loss: 0.4056 - acc: 0.870 - ETA: 1s - loss: 0.4068 - acc: 0.869 - ETA: 0s - loss: 0.4072 - acc: 0.868 - ETA: 0s - loss: 0.4069 - acc: 0.868 - 26s 4ms/step - loss: 0.4081 - acc: 0.8687 - val_loss: 1.6875 - val_acc: 0.6457\n",
      "Epoch 35/100\n",
      "7000/7000 [==============================] - ETA: 19s - loss: 0.3096 - acc: 0.87 - ETA: 19s - loss: 0.3243 - acc: 0.89 - ETA: 19s - loss: 0.3504 - acc: 0.88 - ETA: 19s - loss: 0.3881 - acc: 0.86 - ETA: 18s - loss: 0.3986 - acc: 0.86 - ETA: 18s - loss: 0.4007 - acc: 0.86 - ETA: 18s - loss: 0.3913 - acc: 0.86 - ETA: 17s - loss: 0.3924 - acc: 0.86 - ETA: 17s - loss: 0.3870 - acc: 0.86 - ETA: 17s - loss: 0.3791 - acc: 0.87 - ETA: 16s - loss: 0.3763 - acc: 0.87 - ETA: 16s - loss: 0.3679 - acc: 0.87 - ETA: 16s - loss: 0.3688 - acc: 0.87 - ETA: 15s - loss: 0.3636 - acc: 0.88 - ETA: 15s - loss: 0.3679 - acc: 0.88 - ETA: 15s - loss: 0.3690 - acc: 0.88 - ETA: 14s - loss: 0.3795 - acc: 0.87 - ETA: 14s - loss: 0.3814 - acc: 0.87 - ETA: 13s - loss: 0.3834 - acc: 0.87 - ETA: 13s - loss: 0.3818 - acc: 0.87 - ETA: 13s - loss: 0.3794 - acc: 0.87 - ETA: 12s - loss: 0.3791 - acc: 0.87 - ETA: 12s - loss: 0.3820 - acc: 0.87 - ETA: 12s - loss: 0.3800 - acc: 0.87 - ETA: 11s - loss: 0.3777 - acc: 0.87 - ETA: 11s - loss: 0.3839 - acc: 0.87 - ETA: 10s - loss: 0.3797 - acc: 0.87 - ETA: 10s - loss: 0.3754 - acc: 0.88 - ETA: 10s - loss: 0.3784 - acc: 0.88 - ETA: 9s - loss: 0.3816 - acc: 0.8797 - ETA: 9s - loss: 0.3845 - acc: 0.878 - ETA: 9s - loss: 0.3900 - acc: 0.875 - ETA: 8s - loss: 0.3951 - acc: 0.873 - ETA: 8s - loss: 0.3948 - acc: 0.873 - ETA: 7s - loss: 0.3944 - acc: 0.873 - ETA: 7s - loss: 0.3898 - acc: 0.874 - ETA: 7s - loss: 0.3907 - acc: 0.873 - ETA: 6s - loss: 0.3961 - acc: 0.871 - ETA: 6s - loss: 0.3989 - acc: 0.871 - ETA: 5s - loss: 0.3971 - acc: 0.871 - ETA: 5s - loss: 0.3961 - acc: 0.872 - ETA: 5s - loss: 0.3955 - acc: 0.871 - ETA: 4s - loss: 0.3942 - acc: 0.870 - ETA: 4s - loss: 0.3926 - acc: 0.870 - ETA: 3s - loss: 0.3937 - acc: 0.871 - ETA: 3s - loss: 0.3947 - acc: 0.871 - ETA: 3s - loss: 0.3957 - acc: 0.869 - ETA: 2s - loss: 0.3950 - acc: 0.869 - ETA: 2s - loss: 0.3944 - acc: 0.869 - ETA: 1s - loss: 0.3938 - acc: 0.869 - ETA: 1s - loss: 0.3931 - acc: 0.870 - ETA: 1s - loss: 0.3929 - acc: 0.870 - ETA: 0s - loss: 0.3933 - acc: 0.870 - ETA: 0s - loss: 0.3935 - acc: 0.870 - 27s 4ms/step - loss: 0.3951 - acc: 0.8700 - val_loss: 1.6498 - val_acc: 0.6497\n",
      "Epoch 36/100\n",
      "7000/7000 [==============================] - ETA: 22s - loss: 0.2473 - acc: 0.92 - ETA: 21s - loss: 0.3259 - acc: 0.89 - ETA: 20s - loss: 0.3456 - acc: 0.88 - ETA: 20s - loss: 0.3588 - acc: 0.88 - ETA: 19s - loss: 0.3496 - acc: 0.88 - ETA: 19s - loss: 0.3623 - acc: 0.88 - ETA: 19s - loss: 0.3644 - acc: 0.88 - ETA: 18s - loss: 0.3464 - acc: 0.89 - ETA: 18s - loss: 0.3524 - acc: 0.88 - ETA: 17s - loss: 0.3559 - acc: 0.88 - ETA: 17s - loss: 0.3570 - acc: 0.88 - ETA: 16s - loss: 0.3579 - acc: 0.88 - ETA: 16s - loss: 0.3499 - acc: 0.88 - ETA: 16s - loss: 0.3542 - acc: 0.88 - ETA: 15s - loss: 0.3577 - acc: 0.88 - ETA: 15s - loss: 0.3627 - acc: 0.88 - ETA: 14s - loss: 0.3561 - acc: 0.88 - ETA: 14s - loss: 0.3584 - acc: 0.88 - ETA: 13s - loss: 0.3715 - acc: 0.88 - ETA: 13s - loss: 0.3745 - acc: 0.88 - ETA: 13s - loss: 0.3712 - acc: 0.88 - ETA: 12s - loss: 0.3684 - acc: 0.88 - ETA: 12s - loss: 0.3703 - acc: 0.88 - ETA: 12s - loss: 0.3755 - acc: 0.87 - ETA: 11s - loss: 0.3764 - acc: 0.87 - ETA: 11s - loss: 0.3775 - acc: 0.87 - ETA: 10s - loss: 0.3747 - acc: 0.88 - ETA: 10s - loss: 0.3749 - acc: 0.87 - ETA: 10s - loss: 0.3767 - acc: 0.87 - ETA: 9s - loss: 0.3789 - acc: 0.8784 - ETA: 9s - loss: 0.3766 - acc: 0.879 - ETA: 8s - loss: 0.3740 - acc: 0.879 - ETA: 8s - loss: 0.3709 - acc: 0.880 - ETA: 8s - loss: 0.3684 - acc: 0.880 - ETA: 7s - loss: 0.3728 - acc: 0.879 - ETA: 7s - loss: 0.3741 - acc: 0.878 - ETA: 7s - loss: 0.3738 - acc: 0.878 - ETA: 6s - loss: 0.3810 - acc: 0.877 - ETA: 6s - loss: 0.3873 - acc: 0.875 - ETA: 5s - loss: 0.3874 - acc: 0.875 - ETA: 5s - loss: 0.3861 - acc: 0.876 - ETA: 5s - loss: 0.3878 - acc: 0.875 - ETA: 4s - loss: 0.3876 - acc: 0.876 - ETA: 4s - loss: 0.3893 - acc: 0.875 - ETA: 3s - loss: 0.3894 - acc: 0.875 - ETA: 3s - loss: 0.3885 - acc: 0.875 - ETA: 3s - loss: 0.3931 - acc: 0.874 - ETA: 2s - loss: 0.3928 - acc: 0.874 - ETA: 2s - loss: 0.3959 - acc: 0.872 - ETA: 1s - loss: 0.4011 - acc: 0.871 - ETA: 1s - loss: 0.4002 - acc: 0.871 - ETA: 1s - loss: 0.4007 - acc: 0.870 - ETA: 0s - loss: 0.3992 - acc: 0.870 - ETA: 0s - loss: 0.3984 - acc: 0.870 - 27s 4ms/step - loss: 0.3973 - acc: 0.8707 - val_loss: 1.8174 - val_acc: 0.6513\n",
      "Epoch 37/100\n"
     ]
    },
    {
     "name": "stdout",
     "output_type": "stream",
     "text": [
      "7000/7000 [==============================] - ETA: 20s - loss: 0.3200 - acc: 0.89 - ETA: 19s - loss: 0.3571 - acc: 0.88 - ETA: 20s - loss: 0.3449 - acc: 0.88 - ETA: 20s - loss: 0.3615 - acc: 0.88 - ETA: 19s - loss: 0.3546 - acc: 0.88 - ETA: 19s - loss: 0.3419 - acc: 0.88 - ETA: 19s - loss: 0.3486 - acc: 0.88 - ETA: 18s - loss: 0.3439 - acc: 0.89 - ETA: 18s - loss: 0.3328 - acc: 0.89 - ETA: 17s - loss: 0.3296 - acc: 0.89 - ETA: 17s - loss: 0.3148 - acc: 0.90 - ETA: 17s - loss: 0.3088 - acc: 0.90 - ETA: 16s - loss: 0.3046 - acc: 0.90 - ETA: 16s - loss: 0.3058 - acc: 0.90 - ETA: 15s - loss: 0.3060 - acc: 0.90 - ETA: 15s - loss: 0.3094 - acc: 0.90 - ETA: 15s - loss: 0.3096 - acc: 0.89 - ETA: 14s - loss: 0.3085 - acc: 0.90 - ETA: 14s - loss: 0.3064 - acc: 0.89 - ETA: 13s - loss: 0.3143 - acc: 0.89 - ETA: 13s - loss: 0.3153 - acc: 0.89 - ETA: 12s - loss: 0.3129 - acc: 0.89 - ETA: 12s - loss: 0.3130 - acc: 0.89 - ETA: 12s - loss: 0.3144 - acc: 0.89 - ETA: 11s - loss: 0.3119 - acc: 0.89 - ETA: 11s - loss: 0.3109 - acc: 0.89 - ETA: 11s - loss: 0.3121 - acc: 0.89 - ETA: 10s - loss: 0.3218 - acc: 0.89 - ETA: 10s - loss: 0.3205 - acc: 0.89 - ETA: 9s - loss: 0.3188 - acc: 0.8938 - ETA: 9s - loss: 0.3185 - acc: 0.893 - ETA: 9s - loss: 0.3203 - acc: 0.893 - ETA: 8s - loss: 0.3237 - acc: 0.892 - ETA: 8s - loss: 0.3237 - acc: 0.891 - ETA: 7s - loss: 0.3271 - acc: 0.891 - ETA: 7s - loss: 0.3279 - acc: 0.891 - ETA: 7s - loss: 0.3272 - acc: 0.891 - ETA: 6s - loss: 0.3259 - acc: 0.892 - ETA: 6s - loss: 0.3261 - acc: 0.892 - ETA: 5s - loss: 0.3327 - acc: 0.890 - ETA: 5s - loss: 0.3357 - acc: 0.889 - ETA: 5s - loss: 0.3386 - acc: 0.889 - ETA: 4s - loss: 0.3365 - acc: 0.890 - ETA: 4s - loss: 0.3386 - acc: 0.889 - ETA: 3s - loss: 0.3399 - acc: 0.889 - ETA: 3s - loss: 0.3424 - acc: 0.888 - ETA: 3s - loss: 0.3427 - acc: 0.887 - ETA: 2s - loss: 0.3404 - acc: 0.887 - ETA: 2s - loss: 0.3414 - acc: 0.887 - ETA: 1s - loss: 0.3452 - acc: 0.887 - ETA: 1s - loss: 0.3446 - acc: 0.887 - ETA: 1s - loss: 0.3459 - acc: 0.886 - ETA: 0s - loss: 0.3465 - acc: 0.886 - ETA: 0s - loss: 0.3478 - acc: 0.885 - 27s 4ms/step - loss: 0.3457 - acc: 0.8864 - val_loss: 1.7375 - val_acc: 0.6547\n",
      "Epoch 38/100\n",
      "7000/7000 [==============================] - ETA: 19s - loss: 0.2709 - acc: 0.92 - ETA: 19s - loss: 0.2998 - acc: 0.90 - ETA: 19s - loss: 0.2857 - acc: 0.90 - ETA: 19s - loss: 0.3140 - acc: 0.90 - ETA: 18s - loss: 0.3040 - acc: 0.90 - ETA: 18s - loss: 0.3104 - acc: 0.89 - ETA: 17s - loss: 0.3334 - acc: 0.89 - ETA: 17s - loss: 0.3341 - acc: 0.89 - ETA: 17s - loss: 0.3340 - acc: 0.89 - ETA: 16s - loss: 0.3250 - acc: 0.89 - ETA: 16s - loss: 0.3199 - acc: 0.89 - ETA: 16s - loss: 0.3163 - acc: 0.89 - ETA: 15s - loss: 0.3225 - acc: 0.89 - ETA: 15s - loss: 0.3189 - acc: 0.89 - ETA: 15s - loss: 0.3264 - acc: 0.89 - ETA: 14s - loss: 0.3360 - acc: 0.88 - ETA: 14s - loss: 0.3325 - acc: 0.89 - ETA: 13s - loss: 0.3280 - acc: 0.89 - ETA: 13s - loss: 0.3291 - acc: 0.89 - ETA: 13s - loss: 0.3279 - acc: 0.89 - ETA: 12s - loss: 0.3282 - acc: 0.89 - ETA: 12s - loss: 0.3300 - acc: 0.89 - ETA: 12s - loss: 0.3348 - acc: 0.89 - ETA: 12s - loss: 0.3388 - acc: 0.89 - ETA: 11s - loss: 0.3402 - acc: 0.89 - ETA: 11s - loss: 0.3397 - acc: 0.89 - ETA: 11s - loss: 0.3471 - acc: 0.88 - ETA: 10s - loss: 0.3464 - acc: 0.88 - ETA: 10s - loss: 0.3446 - acc: 0.88 - ETA: 10s - loss: 0.3420 - acc: 0.88 - ETA: 9s - loss: 0.3456 - acc: 0.8861 - ETA: 9s - loss: 0.3435 - acc: 0.886 - ETA: 8s - loss: 0.3437 - acc: 0.887 - ETA: 8s - loss: 0.3438 - acc: 0.886 - ETA: 8s - loss: 0.3445 - acc: 0.886 - ETA: 7s - loss: 0.3463 - acc: 0.886 - ETA: 7s - loss: 0.3463 - acc: 0.886 - ETA: 6s - loss: 0.3484 - acc: 0.885 - ETA: 6s - loss: 0.3489 - acc: 0.884 - ETA: 5s - loss: 0.3495 - acc: 0.883 - ETA: 5s - loss: 0.3521 - acc: 0.882 - ETA: 5s - loss: 0.3521 - acc: 0.883 - ETA: 4s - loss: 0.3525 - acc: 0.883 - ETA: 4s - loss: 0.3524 - acc: 0.883 - ETA: 3s - loss: 0.3527 - acc: 0.883 - ETA: 3s - loss: 0.3558 - acc: 0.882 - ETA: 3s - loss: 0.3545 - acc: 0.883 - ETA: 2s - loss: 0.3550 - acc: 0.883 - ETA: 2s - loss: 0.3553 - acc: 0.883 - ETA: 1s - loss: 0.3566 - acc: 0.882 - ETA: 1s - loss: 0.3569 - acc: 0.881 - ETA: 1s - loss: 0.3565 - acc: 0.881 - ETA: 0s - loss: 0.3561 - acc: 0.881 - ETA: 0s - loss: 0.3577 - acc: 0.880 - 27s 4ms/step - loss: 0.3591 - acc: 0.8796 - val_loss: 1.7204 - val_acc: 0.6580\n",
      "Epoch 39/100\n",
      "7000/7000 [==============================] - ETA: 20s - loss: 0.3212 - acc: 0.90 - ETA: 19s - loss: 0.3262 - acc: 0.89 - ETA: 19s - loss: 0.3107 - acc: 0.89 - ETA: 19s - loss: 0.2900 - acc: 0.90 - ETA: 19s - loss: 0.2988 - acc: 0.90 - ETA: 18s - loss: 0.2876 - acc: 0.90 - ETA: 18s - loss: 0.2859 - acc: 0.91 - ETA: 18s - loss: 0.2940 - acc: 0.90 - ETA: 17s - loss: 0.2964 - acc: 0.90 - ETA: 17s - loss: 0.2900 - acc: 0.90 - ETA: 16s - loss: 0.2936 - acc: 0.90 - ETA: 16s - loss: 0.2843 - acc: 0.91 - ETA: 16s - loss: 0.2843 - acc: 0.91 - ETA: 15s - loss: 0.2871 - acc: 0.91 - ETA: 15s - loss: 0.2925 - acc: 0.91 - ETA: 15s - loss: 0.2945 - acc: 0.91 - ETA: 14s - loss: 0.2977 - acc: 0.91 - ETA: 14s - loss: 0.3047 - acc: 0.91 - ETA: 13s - loss: 0.3072 - acc: 0.90 - ETA: 13s - loss: 0.3089 - acc: 0.90 - ETA: 13s - loss: 0.3130 - acc: 0.90 - ETA: 12s - loss: 0.3146 - acc: 0.90 - ETA: 12s - loss: 0.3177 - acc: 0.90 - ETA: 11s - loss: 0.3189 - acc: 0.90 - ETA: 11s - loss: 0.3268 - acc: 0.89 - ETA: 11s - loss: 0.3328 - acc: 0.89 - ETA: 10s - loss: 0.3309 - acc: 0.89 - ETA: 10s - loss: 0.3286 - acc: 0.89 - ETA: 9s - loss: 0.3331 - acc: 0.8982 - ETA: 9s - loss: 0.3351 - acc: 0.896 - ETA: 9s - loss: 0.3382 - acc: 0.895 - ETA: 8s - loss: 0.3382 - acc: 0.895 - ETA: 8s - loss: 0.3369 - acc: 0.896 - ETA: 8s - loss: 0.3373 - acc: 0.895 - ETA: 7s - loss: 0.3366 - acc: 0.895 - ETA: 7s - loss: 0.3378 - acc: 0.895 - ETA: 6s - loss: 0.3399 - acc: 0.894 - ETA: 6s - loss: 0.3415 - acc: 0.894 - ETA: 6s - loss: 0.3397 - acc: 0.893 - ETA: 5s - loss: 0.3430 - acc: 0.892 - ETA: 5s - loss: 0.3417 - acc: 0.893 - ETA: 4s - loss: 0.3416 - acc: 0.893 - ETA: 4s - loss: 0.3439 - acc: 0.892 - ETA: 4s - loss: 0.3394 - acc: 0.894 - ETA: 3s - loss: 0.3407 - acc: 0.893 - ETA: 3s - loss: 0.3407 - acc: 0.893 - ETA: 2s - loss: 0.3392 - acc: 0.894 - ETA: 2s - loss: 0.3382 - acc: 0.894 - ETA: 2s - loss: 0.3404 - acc: 0.894 - ETA: 1s - loss: 0.3404 - acc: 0.894 - ETA: 1s - loss: 0.3402 - acc: 0.893 - ETA: 1s - loss: 0.3407 - acc: 0.893 - ETA: 0s - loss: 0.3418 - acc: 0.892 - ETA: 0s - loss: 0.3420 - acc: 0.892 - 26s 4ms/step - loss: 0.3432 - acc: 0.8923 - val_loss: 1.8126 - val_acc: 0.6523\n",
      "Epoch 40/100\n"
     ]
    },
    {
     "name": "stdout",
     "output_type": "stream",
     "text": [
      "7000/7000 [==============================] - ETA: 22s - loss: 0.2185 - acc: 0.94 - ETA: 21s - loss: 0.3154 - acc: 0.91 - ETA: 21s - loss: 0.3151 - acc: 0.90 - ETA: 21s - loss: 0.3195 - acc: 0.89 - ETA: 20s - loss: 0.3405 - acc: 0.89 - ETA: 20s - loss: 0.3262 - acc: 0.90 - ETA: 19s - loss: 0.3308 - acc: 0.89 - ETA: 19s - loss: 0.3271 - acc: 0.90 - ETA: 19s - loss: 0.3339 - acc: 0.89 - ETA: 18s - loss: 0.3234 - acc: 0.90 - ETA: 18s - loss: 0.3231 - acc: 0.90 - ETA: 17s - loss: 0.3137 - acc: 0.90 - ETA: 17s - loss: 0.3158 - acc: 0.90 - ETA: 17s - loss: 0.3238 - acc: 0.90 - ETA: 16s - loss: 0.3223 - acc: 0.90 - ETA: 16s - loss: 0.3252 - acc: 0.90 - ETA: 15s - loss: 0.3260 - acc: 0.90 - ETA: 15s - loss: 0.3239 - acc: 0.90 - ETA: 14s - loss: 0.3293 - acc: 0.89 - ETA: 14s - loss: 0.3311 - acc: 0.89 - ETA: 13s - loss: 0.3334 - acc: 0.89 - ETA: 13s - loss: 0.3319 - acc: 0.89 - ETA: 12s - loss: 0.3328 - acc: 0.89 - ETA: 12s - loss: 0.3358 - acc: 0.89 - ETA: 11s - loss: 0.3319 - acc: 0.89 - ETA: 11s - loss: 0.3314 - acc: 0.89 - ETA: 11s - loss: 0.3328 - acc: 0.89 - ETA: 10s - loss: 0.3304 - acc: 0.89 - ETA: 10s - loss: 0.3319 - acc: 0.89 - ETA: 9s - loss: 0.3356 - acc: 0.8948 - ETA: 9s - loss: 0.3390 - acc: 0.893 - ETA: 9s - loss: 0.3464 - acc: 0.891 - ETA: 8s - loss: 0.3474 - acc: 0.889 - ETA: 8s - loss: 0.3472 - acc: 0.888 - ETA: 7s - loss: 0.3460 - acc: 0.889 - ETA: 7s - loss: 0.3448 - acc: 0.889 - ETA: 7s - loss: 0.3416 - acc: 0.891 - ETA: 6s - loss: 0.3412 - acc: 0.891 - ETA: 6s - loss: 0.3388 - acc: 0.891 - ETA: 5s - loss: 0.3385 - acc: 0.892 - ETA: 5s - loss: 0.3366 - acc: 0.892 - ETA: 5s - loss: 0.3375 - acc: 0.892 - ETA: 4s - loss: 0.3375 - acc: 0.891 - ETA: 4s - loss: 0.3375 - acc: 0.891 - ETA: 3s - loss: 0.3374 - acc: 0.891 - ETA: 3s - loss: 0.3373 - acc: 0.891 - ETA: 3s - loss: 0.3358 - acc: 0.892 - ETA: 2s - loss: 0.3355 - acc: 0.893 - ETA: 2s - loss: 0.3343 - acc: 0.893 - ETA: 1s - loss: 0.3332 - acc: 0.893 - ETA: 1s - loss: 0.3373 - acc: 0.892 - ETA: 1s - loss: 0.3378 - acc: 0.892 - ETA: 0s - loss: 0.3396 - acc: 0.890 - ETA: 0s - loss: 0.3406 - acc: 0.890 - 27s 4ms/step - loss: 0.3403 - acc: 0.8903 - val_loss: 1.7935 - val_acc: 0.6517\n",
      "Epoch 41/100\n",
      "7000/7000 [==============================] - ETA: 21s - loss: 0.3040 - acc: 0.88 - ETA: 21s - loss: 0.3434 - acc: 0.87 - ETA: 20s - loss: 0.3367 - acc: 0.88 - ETA: 20s - loss: 0.3240 - acc: 0.88 - ETA: 19s - loss: 0.2999 - acc: 0.88 - ETA: 19s - loss: 0.2741 - acc: 0.89 - ETA: 19s - loss: 0.2816 - acc: 0.89 - ETA: 18s - loss: 0.2799 - acc: 0.89 - ETA: 18s - loss: 0.2832 - acc: 0.89 - ETA: 17s - loss: 0.2885 - acc: 0.89 - ETA: 17s - loss: 0.2861 - acc: 0.89 - ETA: 17s - loss: 0.2904 - acc: 0.90 - ETA: 16s - loss: 0.2886 - acc: 0.89 - ETA: 16s - loss: 0.2918 - acc: 0.89 - ETA: 16s - loss: 0.2935 - acc: 0.89 - ETA: 15s - loss: 0.2866 - acc: 0.90 - ETA: 15s - loss: 0.2971 - acc: 0.89 - ETA: 14s - loss: 0.2940 - acc: 0.89 - ETA: 14s - loss: 0.2953 - acc: 0.89 - ETA: 13s - loss: 0.2963 - acc: 0.89 - ETA: 13s - loss: 0.3075 - acc: 0.89 - ETA: 13s - loss: 0.3122 - acc: 0.89 - ETA: 12s - loss: 0.3168 - acc: 0.89 - ETA: 12s - loss: 0.3171 - acc: 0.89 - ETA: 11s - loss: 0.3152 - acc: 0.89 - ETA: 11s - loss: 0.3154 - acc: 0.89 - ETA: 11s - loss: 0.3168 - acc: 0.89 - ETA: 10s - loss: 0.3135 - acc: 0.89 - ETA: 10s - loss: 0.3155 - acc: 0.89 - ETA: 10s - loss: 0.3169 - acc: 0.89 - ETA: 9s - loss: 0.3172 - acc: 0.8929 - ETA: 9s - loss: 0.3162 - acc: 0.892 - ETA: 8s - loss: 0.3160 - acc: 0.893 - ETA: 8s - loss: 0.3160 - acc: 0.893 - ETA: 7s - loss: 0.3179 - acc: 0.893 - ETA: 7s - loss: 0.3168 - acc: 0.894 - ETA: 7s - loss: 0.3173 - acc: 0.894 - ETA: 6s - loss: 0.3158 - acc: 0.894 - ETA: 6s - loss: 0.3140 - acc: 0.894 - ETA: 5s - loss: 0.3130 - acc: 0.894 - ETA: 5s - loss: 0.3151 - acc: 0.893 - ETA: 5s - loss: 0.3127 - acc: 0.894 - ETA: 4s - loss: 0.3132 - acc: 0.894 - ETA: 4s - loss: 0.3128 - acc: 0.894 - ETA: 3s - loss: 0.3166 - acc: 0.893 - ETA: 3s - loss: 0.3190 - acc: 0.893 - ETA: 3s - loss: 0.3257 - acc: 0.892 - ETA: 2s - loss: 0.3242 - acc: 0.892 - ETA: 2s - loss: 0.3245 - acc: 0.892 - ETA: 1s - loss: 0.3229 - acc: 0.893 - ETA: 1s - loss: 0.3245 - acc: 0.892 - ETA: 1s - loss: 0.3251 - acc: 0.892 - ETA: 0s - loss: 0.3262 - acc: 0.891 - ETA: 0s - loss: 0.3258 - acc: 0.891 - 26s 4ms/step - loss: 0.3286 - acc: 0.8909 - val_loss: 1.7821 - val_acc: 0.6547\n",
      "Epoch 42/100\n",
      "7000/7000 [==============================] - ETA: 23s - loss: 0.2872 - acc: 0.89 - ETA: 23s - loss: 0.3089 - acc: 0.89 - ETA: 22s - loss: 0.3291 - acc: 0.89 - ETA: 22s - loss: 0.3356 - acc: 0.88 - ETA: 21s - loss: 0.3119 - acc: 0.90 - ETA: 20s - loss: 0.3359 - acc: 0.88 - ETA: 19s - loss: 0.3270 - acc: 0.89 - ETA: 19s - loss: 0.3210 - acc: 0.89 - ETA: 18s - loss: 0.3157 - acc: 0.89 - ETA: 18s - loss: 0.3110 - acc: 0.89 - ETA: 17s - loss: 0.3035 - acc: 0.90 - ETA: 17s - loss: 0.3070 - acc: 0.89 - ETA: 16s - loss: 0.3014 - acc: 0.90 - ETA: 16s - loss: 0.3024 - acc: 0.90 - ETA: 15s - loss: 0.3185 - acc: 0.89 - ETA: 15s - loss: 0.3230 - acc: 0.89 - ETA: 15s - loss: 0.3226 - acc: 0.89 - ETA: 14s - loss: 0.3171 - acc: 0.89 - ETA: 14s - loss: 0.3167 - acc: 0.89 - ETA: 13s - loss: 0.3149 - acc: 0.90 - ETA: 13s - loss: 0.3122 - acc: 0.90 - ETA: 13s - loss: 0.3081 - acc: 0.90 - ETA: 12s - loss: 0.3047 - acc: 0.90 - ETA: 12s - loss: 0.3107 - acc: 0.90 - ETA: 11s - loss: 0.3102 - acc: 0.90 - ETA: 11s - loss: 0.3056 - acc: 0.90 - ETA: 10s - loss: 0.3073 - acc: 0.90 - ETA: 10s - loss: 0.3014 - acc: 0.90 - ETA: 10s - loss: 0.2998 - acc: 0.90 - ETA: 9s - loss: 0.2986 - acc: 0.9057 - ETA: 9s - loss: 0.2964 - acc: 0.906 - ETA: 8s - loss: 0.2932 - acc: 0.907 - ETA: 8s - loss: 0.2928 - acc: 0.907 - ETA: 8s - loss: 0.2941 - acc: 0.906 - ETA: 7s - loss: 0.2923 - acc: 0.907 - ETA: 7s - loss: 0.2961 - acc: 0.906 - ETA: 7s - loss: 0.2964 - acc: 0.905 - ETA: 6s - loss: 0.2970 - acc: 0.905 - ETA: 6s - loss: 0.2959 - acc: 0.905 - ETA: 5s - loss: 0.2983 - acc: 0.904 - ETA: 5s - loss: 0.2984 - acc: 0.904 - ETA: 5s - loss: 0.2978 - acc: 0.904 - ETA: 4s - loss: 0.3009 - acc: 0.904 - ETA: 4s - loss: 0.3033 - acc: 0.903 - ETA: 3s - loss: 0.3043 - acc: 0.903 - ETA: 3s - loss: 0.3034 - acc: 0.903 - ETA: 3s - loss: 0.3060 - acc: 0.904 - ETA: 2s - loss: 0.3078 - acc: 0.904 - ETA: 2s - loss: 0.3088 - acc: 0.903 - ETA: 1s - loss: 0.3109 - acc: 0.903 - ETA: 1s - loss: 0.3110 - acc: 0.903 - ETA: 1s - loss: 0.3093 - acc: 0.904 - ETA: 0s - loss: 0.3075 - acc: 0.904 - ETA: 0s - loss: 0.3071 - acc: 0.904 - 26s 4ms/step - loss: 0.3079 - acc: 0.9041 - val_loss: 1.8514 - val_acc: 0.6543\n",
      "Epoch 43/100\n"
     ]
    },
    {
     "name": "stdout",
     "output_type": "stream",
     "text": [
      "7000/7000 [==============================] - ETA: 19s - loss: 0.2493 - acc: 0.92 - ETA: 19s - loss: 0.2454 - acc: 0.91 - ETA: 19s - loss: 0.2233 - acc: 0.92 - ETA: 19s - loss: 0.2245 - acc: 0.92 - ETA: 18s - loss: 0.2255 - acc: 0.92 - ETA: 18s - loss: 0.2306 - acc: 0.92 - ETA: 18s - loss: 0.2292 - acc: 0.91 - ETA: 17s - loss: 0.2382 - acc: 0.91 - ETA: 17s - loss: 0.2551 - acc: 0.91 - ETA: 17s - loss: 0.2615 - acc: 0.91 - ETA: 16s - loss: 0.2611 - acc: 0.91 - ETA: 16s - loss: 0.2669 - acc: 0.91 - ETA: 16s - loss: 0.2702 - acc: 0.91 - ETA: 15s - loss: 0.2807 - acc: 0.91 - ETA: 15s - loss: 0.2815 - acc: 0.90 - ETA: 14s - loss: 0.2795 - acc: 0.91 - ETA: 14s - loss: 0.2882 - acc: 0.90 - ETA: 14s - loss: 0.2940 - acc: 0.90 - ETA: 13s - loss: 0.2992 - acc: 0.90 - ETA: 13s - loss: 0.2988 - acc: 0.90 - ETA: 13s - loss: 0.3030 - acc: 0.90 - ETA: 12s - loss: 0.2994 - acc: 0.90 - ETA: 12s - loss: 0.3012 - acc: 0.90 - ETA: 11s - loss: 0.2962 - acc: 0.90 - ETA: 11s - loss: 0.2974 - acc: 0.90 - ETA: 11s - loss: 0.2939 - acc: 0.90 - ETA: 10s - loss: 0.2900 - acc: 0.90 - ETA: 10s - loss: 0.2894 - acc: 0.90 - ETA: 9s - loss: 0.2911 - acc: 0.9038 - ETA: 9s - loss: 0.2881 - acc: 0.903 - ETA: 9s - loss: 0.2917 - acc: 0.903 - ETA: 8s - loss: 0.2957 - acc: 0.903 - ETA: 8s - loss: 0.2943 - acc: 0.903 - ETA: 7s - loss: 0.2907 - acc: 0.904 - ETA: 7s - loss: 0.2893 - acc: 0.905 - ETA: 7s - loss: 0.2897 - acc: 0.904 - ETA: 6s - loss: 0.2895 - acc: 0.904 - ETA: 6s - loss: 0.2939 - acc: 0.902 - ETA: 6s - loss: 0.2944 - acc: 0.902 - ETA: 5s - loss: 0.2972 - acc: 0.902 - ETA: 5s - loss: 0.2977 - acc: 0.902 - ETA: 4s - loss: 0.2947 - acc: 0.903 - ETA: 4s - loss: 0.2990 - acc: 0.901 - ETA: 4s - loss: 0.3007 - acc: 0.900 - ETA: 3s - loss: 0.3033 - acc: 0.899 - ETA: 3s - loss: 0.3044 - acc: 0.897 - ETA: 2s - loss: 0.3082 - acc: 0.896 - ETA: 2s - loss: 0.3092 - acc: 0.897 - ETA: 2s - loss: 0.3086 - acc: 0.896 - ETA: 1s - loss: 0.3085 - acc: 0.896 - ETA: 1s - loss: 0.3083 - acc: 0.896 - ETA: 1s - loss: 0.3063 - acc: 0.896 - ETA: 0s - loss: 0.3088 - acc: 0.895 - ETA: 0s - loss: 0.3077 - acc: 0.896 - 26s 4ms/step - loss: 0.3088 - acc: 0.8956 - val_loss: 1.8323 - val_acc: 0.6513\n",
      "Epoch 44/100\n",
      "7000/7000 [==============================] - ETA: 21s - loss: 0.2685 - acc: 0.90 - ETA: 21s - loss: 0.3234 - acc: 0.90 - ETA: 20s - loss: 0.3198 - acc: 0.90 - ETA: 20s - loss: 0.3191 - acc: 0.91 - ETA: 19s - loss: 0.2883 - acc: 0.91 - ETA: 19s - loss: 0.2932 - acc: 0.91 - ETA: 18s - loss: 0.2985 - acc: 0.90 - ETA: 18s - loss: 0.2888 - acc: 0.91 - ETA: 18s - loss: 0.2820 - acc: 0.91 - ETA: 17s - loss: 0.2684 - acc: 0.91 - ETA: 17s - loss: 0.2764 - acc: 0.91 - ETA: 17s - loss: 0.2763 - acc: 0.91 - ETA: 16s - loss: 0.2765 - acc: 0.91 - ETA: 16s - loss: 0.2758 - acc: 0.91 - ETA: 15s - loss: 0.2766 - acc: 0.91 - ETA: 15s - loss: 0.2772 - acc: 0.91 - ETA: 14s - loss: 0.2827 - acc: 0.91 - ETA: 14s - loss: 0.2837 - acc: 0.91 - ETA: 14s - loss: 0.2834 - acc: 0.91 - ETA: 13s - loss: 0.2929 - acc: 0.91 - ETA: 13s - loss: 0.2945 - acc: 0.91 - ETA: 12s - loss: 0.2993 - acc: 0.90 - ETA: 12s - loss: 0.2967 - acc: 0.90 - ETA: 12s - loss: 0.2997 - acc: 0.90 - ETA: 11s - loss: 0.3017 - acc: 0.90 - ETA: 11s - loss: 0.3021 - acc: 0.90 - ETA: 10s - loss: 0.2980 - acc: 0.90 - ETA: 10s - loss: 0.2981 - acc: 0.90 - ETA: 10s - loss: 0.2990 - acc: 0.90 - ETA: 9s - loss: 0.3008 - acc: 0.9044 - ETA: 9s - loss: 0.3020 - acc: 0.904 - ETA: 8s - loss: 0.3058 - acc: 0.903 - ETA: 8s - loss: 0.3047 - acc: 0.902 - ETA: 8s - loss: 0.3067 - acc: 0.901 - ETA: 7s - loss: 0.3092 - acc: 0.901 - ETA: 7s - loss: 0.3111 - acc: 0.900 - ETA: 6s - loss: 0.3126 - acc: 0.900 - ETA: 6s - loss: 0.3128 - acc: 0.900 - ETA: 6s - loss: 0.3101 - acc: 0.901 - ETA: 5s - loss: 0.3100 - acc: 0.901 - ETA: 5s - loss: 0.3090 - acc: 0.901 - ETA: 4s - loss: 0.3078 - acc: 0.902 - ETA: 4s - loss: 0.3095 - acc: 0.901 - ETA: 4s - loss: 0.3126 - acc: 0.900 - ETA: 3s - loss: 0.3117 - acc: 0.900 - ETA: 3s - loss: 0.3129 - acc: 0.899 - ETA: 2s - loss: 0.3127 - acc: 0.899 - ETA: 2s - loss: 0.3111 - acc: 0.899 - ETA: 2s - loss: 0.3141 - acc: 0.898 - ETA: 1s - loss: 0.3137 - acc: 0.898 - ETA: 1s - loss: 0.3140 - acc: 0.898 - ETA: 1s - loss: 0.3136 - acc: 0.898 - ETA: 0s - loss: 0.3120 - acc: 0.898 - ETA: 0s - loss: 0.3144 - acc: 0.898 - 26s 4ms/step - loss: 0.3134 - acc: 0.8981 - val_loss: 1.8136 - val_acc: 0.6523\n",
      "Epoch 45/100\n",
      "7000/7000 [==============================] - ETA: 21s - loss: 0.3197 - acc: 0.88 - ETA: 20s - loss: 0.2666 - acc: 0.90 - ETA: 20s - loss: 0.2311 - acc: 0.91 - ETA: 19s - loss: 0.2275 - acc: 0.91 - ETA: 19s - loss: 0.2379 - acc: 0.91 - ETA: 18s - loss: 0.2596 - acc: 0.91 - ETA: 18s - loss: 0.2703 - acc: 0.91 - ETA: 18s - loss: 0.2665 - acc: 0.91 - ETA: 17s - loss: 0.2597 - acc: 0.91 - ETA: 17s - loss: 0.2598 - acc: 0.91 - ETA: 16s - loss: 0.2691 - acc: 0.91 - ETA: 16s - loss: 0.2750 - acc: 0.91 - ETA: 16s - loss: 0.2900 - acc: 0.90 - ETA: 15s - loss: 0.3015 - acc: 0.90 - ETA: 15s - loss: 0.3044 - acc: 0.90 - ETA: 14s - loss: 0.2992 - acc: 0.90 - ETA: 14s - loss: 0.2993 - acc: 0.90 - ETA: 14s - loss: 0.2975 - acc: 0.90 - ETA: 13s - loss: 0.2962 - acc: 0.90 - ETA: 13s - loss: 0.2962 - acc: 0.90 - ETA: 12s - loss: 0.2937 - acc: 0.90 - ETA: 12s - loss: 0.2888 - acc: 0.90 - ETA: 12s - loss: 0.2896 - acc: 0.90 - ETA: 11s - loss: 0.2895 - acc: 0.90 - ETA: 11s - loss: 0.2837 - acc: 0.90 - ETA: 11s - loss: 0.2843 - acc: 0.90 - ETA: 10s - loss: 0.2826 - acc: 0.91 - ETA: 10s - loss: 0.2784 - acc: 0.91 - ETA: 9s - loss: 0.2789 - acc: 0.9116 - ETA: 9s - loss: 0.2841 - acc: 0.909 - ETA: 9s - loss: 0.2854 - acc: 0.909 - ETA: 8s - loss: 0.2831 - acc: 0.910 - ETA: 8s - loss: 0.2864 - acc: 0.908 - ETA: 7s - loss: 0.2851 - acc: 0.909 - ETA: 7s - loss: 0.2842 - acc: 0.909 - ETA: 7s - loss: 0.2817 - acc: 0.910 - ETA: 6s - loss: 0.2886 - acc: 0.908 - ETA: 6s - loss: 0.2956 - acc: 0.907 - ETA: 6s - loss: 0.2976 - acc: 0.906 - ETA: 5s - loss: 0.3000 - acc: 0.906 - ETA: 5s - loss: 0.3000 - acc: 0.906 - ETA: 4s - loss: 0.2978 - acc: 0.906 - ETA: 4s - loss: 0.2980 - acc: 0.906 - ETA: 4s - loss: 0.2990 - acc: 0.905 - ETA: 3s - loss: 0.2989 - acc: 0.905 - ETA: 3s - loss: 0.2979 - acc: 0.905 - ETA: 2s - loss: 0.2969 - acc: 0.906 - ETA: 2s - loss: 0.2984 - acc: 0.906 - ETA: 2s - loss: 0.2969 - acc: 0.906 - ETA: 1s - loss: 0.2977 - acc: 0.905 - ETA: 1s - loss: 0.2969 - acc: 0.905 - ETA: 1s - loss: 0.2993 - acc: 0.905 - ETA: 0s - loss: 0.2997 - acc: 0.904 - ETA: 0s - loss: 0.2982 - acc: 0.905 - 26s 4ms/step - loss: 0.2987 - acc: 0.9057 - val_loss: 1.8905 - val_acc: 0.6553\n",
      "Epoch 46/100\n"
     ]
    },
    {
     "name": "stdout",
     "output_type": "stream",
     "text": [
      "7000/7000 [==============================] - ETA: 20s - loss: 0.2905 - acc: 0.92 - ETA: 19s - loss: 0.2980 - acc: 0.90 - ETA: 19s - loss: 0.2795 - acc: 0.90 - ETA: 19s - loss: 0.2685 - acc: 0.90 - ETA: 18s - loss: 0.2749 - acc: 0.90 - ETA: 18s - loss: 0.2835 - acc: 0.90 - ETA: 18s - loss: 0.2862 - acc: 0.90 - ETA: 17s - loss: 0.2741 - acc: 0.90 - ETA: 17s - loss: 0.2725 - acc: 0.90 - ETA: 17s - loss: 0.2641 - acc: 0.91 - ETA: 16s - loss: 0.2548 - acc: 0.91 - ETA: 16s - loss: 0.2487 - acc: 0.91 - ETA: 15s - loss: 0.2444 - acc: 0.91 - ETA: 15s - loss: 0.2395 - acc: 0.91 - ETA: 15s - loss: 0.2390 - acc: 0.91 - ETA: 14s - loss: 0.2409 - acc: 0.91 - ETA: 14s - loss: 0.2444 - acc: 0.91 - ETA: 14s - loss: 0.2507 - acc: 0.91 - ETA: 13s - loss: 0.2501 - acc: 0.91 - ETA: 13s - loss: 0.2546 - acc: 0.91 - ETA: 13s - loss: 0.2626 - acc: 0.91 - ETA: 12s - loss: 0.2654 - acc: 0.90 - ETA: 12s - loss: 0.2662 - acc: 0.90 - ETA: 11s - loss: 0.2676 - acc: 0.90 - ETA: 11s - loss: 0.2707 - acc: 0.90 - ETA: 11s - loss: 0.2700 - acc: 0.90 - ETA: 10s - loss: 0.2701 - acc: 0.90 - ETA: 10s - loss: 0.2683 - acc: 0.90 - ETA: 9s - loss: 0.2686 - acc: 0.9095 - ETA: 9s - loss: 0.2715 - acc: 0.908 - ETA: 9s - loss: 0.2694 - acc: 0.908 - ETA: 8s - loss: 0.2686 - acc: 0.909 - ETA: 8s - loss: 0.2679 - acc: 0.909 - ETA: 7s - loss: 0.2689 - acc: 0.909 - ETA: 7s - loss: 0.2685 - acc: 0.910 - ETA: 7s - loss: 0.2714 - acc: 0.908 - ETA: 6s - loss: 0.2703 - acc: 0.909 - ETA: 6s - loss: 0.2710 - acc: 0.908 - ETA: 6s - loss: 0.2723 - acc: 0.908 - ETA: 5s - loss: 0.2751 - acc: 0.907 - ETA: 5s - loss: 0.2764 - acc: 0.907 - ETA: 4s - loss: 0.2751 - acc: 0.907 - ETA: 4s - loss: 0.2781 - acc: 0.907 - ETA: 4s - loss: 0.2784 - acc: 0.906 - ETA: 3s - loss: 0.2822 - acc: 0.904 - ETA: 3s - loss: 0.2818 - acc: 0.905 - ETA: 2s - loss: 0.2845 - acc: 0.904 - ETA: 2s - loss: 0.2838 - acc: 0.905 - ETA: 2s - loss: 0.2830 - acc: 0.905 - ETA: 1s - loss: 0.2819 - acc: 0.906 - ETA: 1s - loss: 0.2813 - acc: 0.905 - ETA: 1s - loss: 0.2837 - acc: 0.905 - ETA: 0s - loss: 0.2846 - acc: 0.905 - ETA: 0s - loss: 0.2869 - acc: 0.904 - 26s 4ms/step - loss: 0.2865 - acc: 0.9041 - val_loss: 1.8535 - val_acc: 0.6557\n",
      "Epoch 47/100\n",
      "7000/7000 [==============================] - ETA: 20s - loss: 0.1357 - acc: 0.95 - ETA: 19s - loss: 0.1401 - acc: 0.94 - ETA: 19s - loss: 0.2279 - acc: 0.92 - ETA: 19s - loss: 0.2218 - acc: 0.92 - ETA: 18s - loss: 0.2519 - acc: 0.91 - ETA: 18s - loss: 0.2393 - acc: 0.92 - ETA: 18s - loss: 0.2514 - acc: 0.92 - ETA: 17s - loss: 0.2501 - acc: 0.92 - ETA: 17s - loss: 0.2392 - acc: 0.92 - ETA: 16s - loss: 0.2310 - acc: 0.92 - ETA: 16s - loss: 0.2441 - acc: 0.91 - ETA: 16s - loss: 0.2408 - acc: 0.91 - ETA: 15s - loss: 0.2395 - acc: 0.91 - ETA: 15s - loss: 0.2480 - acc: 0.91 - ETA: 15s - loss: 0.2525 - acc: 0.91 - ETA: 14s - loss: 0.2492 - acc: 0.91 - ETA: 14s - loss: 0.2518 - acc: 0.91 - ETA: 14s - loss: 0.2556 - acc: 0.91 - ETA: 13s - loss: 0.2600 - acc: 0.91 - ETA: 13s - loss: 0.2620 - acc: 0.91 - ETA: 12s - loss: 0.2569 - acc: 0.91 - ETA: 12s - loss: 0.2557 - acc: 0.91 - ETA: 12s - loss: 0.2513 - acc: 0.91 - ETA: 11s - loss: 0.2526 - acc: 0.91 - ETA: 11s - loss: 0.2481 - acc: 0.91 - ETA: 11s - loss: 0.2546 - acc: 0.91 - ETA: 10s - loss: 0.2581 - acc: 0.91 - ETA: 10s - loss: 0.2574 - acc: 0.91 - ETA: 9s - loss: 0.2569 - acc: 0.9127 - ETA: 9s - loss: 0.2569 - acc: 0.913 - ETA: 9s - loss: 0.2580 - acc: 0.913 - ETA: 8s - loss: 0.2590 - acc: 0.913 - ETA: 8s - loss: 0.2560 - acc: 0.913 - ETA: 7s - loss: 0.2548 - acc: 0.914 - ETA: 7s - loss: 0.2577 - acc: 0.913 - ETA: 7s - loss: 0.2594 - acc: 0.912 - ETA: 6s - loss: 0.2613 - acc: 0.912 - ETA: 6s - loss: 0.2602 - acc: 0.913 - ETA: 6s - loss: 0.2611 - acc: 0.911 - ETA: 5s - loss: 0.2616 - acc: 0.911 - ETA: 5s - loss: 0.2643 - acc: 0.911 - ETA: 4s - loss: 0.2638 - acc: 0.911 - ETA: 4s - loss: 0.2646 - acc: 0.911 - ETA: 4s - loss: 0.2647 - acc: 0.911 - ETA: 3s - loss: 0.2658 - acc: 0.911 - ETA: 3s - loss: 0.2671 - acc: 0.911 - ETA: 2s - loss: 0.2666 - acc: 0.911 - ETA: 2s - loss: 0.2673 - acc: 0.911 - ETA: 2s - loss: 0.2661 - acc: 0.910 - ETA: 1s - loss: 0.2653 - acc: 0.911 - ETA: 1s - loss: 0.2630 - acc: 0.911 - ETA: 1s - loss: 0.2627 - acc: 0.911 - ETA: 0s - loss: 0.2649 - acc: 0.910 - ETA: 0s - loss: 0.2642 - acc: 0.910 - 26s 4ms/step - loss: 0.2632 - acc: 0.9106 - val_loss: 1.9615 - val_acc: 0.6450\n",
      "Epoch 48/100\n",
      "7000/7000 [==============================] - ETA: 21s - loss: 0.1468 - acc: 0.94 - ETA: 21s - loss: 0.2652 - acc: 0.91 - ETA: 20s - loss: 0.2671 - acc: 0.91 - ETA: 19s - loss: 0.2587 - acc: 0.91 - ETA: 19s - loss: 0.2430 - acc: 0.92 - ETA: 19s - loss: 0.2461 - acc: 0.92 - ETA: 18s - loss: 0.2271 - acc: 0.92 - ETA: 18s - loss: 0.2406 - acc: 0.92 - ETA: 18s - loss: 0.2706 - acc: 0.91 - ETA: 17s - loss: 0.2773 - acc: 0.91 - ETA: 17s - loss: 0.2760 - acc: 0.91 - ETA: 16s - loss: 0.2815 - acc: 0.91 - ETA: 16s - loss: 0.2798 - acc: 0.91 - ETA: 15s - loss: 0.2764 - acc: 0.91 - ETA: 15s - loss: 0.2696 - acc: 0.91 - ETA: 15s - loss: 0.2701 - acc: 0.91 - ETA: 14s - loss: 0.2684 - acc: 0.91 - ETA: 14s - loss: 0.2621 - acc: 0.91 - ETA: 13s - loss: 0.2652 - acc: 0.91 - ETA: 13s - loss: 0.2698 - acc: 0.91 - ETA: 13s - loss: 0.2720 - acc: 0.91 - ETA: 12s - loss: 0.2681 - acc: 0.91 - ETA: 12s - loss: 0.2706 - acc: 0.91 - ETA: 11s - loss: 0.2674 - acc: 0.91 - ETA: 11s - loss: 0.2623 - acc: 0.91 - ETA: 11s - loss: 0.2636 - acc: 0.91 - ETA: 10s - loss: 0.2636 - acc: 0.91 - ETA: 10s - loss: 0.2611 - acc: 0.91 - ETA: 9s - loss: 0.2627 - acc: 0.9173 - ETA: 9s - loss: 0.2628 - acc: 0.917 - ETA: 9s - loss: 0.2646 - acc: 0.917 - ETA: 8s - loss: 0.2602 - acc: 0.918 - ETA: 8s - loss: 0.2603 - acc: 0.918 - ETA: 7s - loss: 0.2615 - acc: 0.917 - ETA: 7s - loss: 0.2593 - acc: 0.917 - ETA: 7s - loss: 0.2568 - acc: 0.918 - ETA: 6s - loss: 0.2586 - acc: 0.917 - ETA: 6s - loss: 0.2586 - acc: 0.916 - ETA: 6s - loss: 0.2621 - acc: 0.915 - ETA: 5s - loss: 0.2649 - acc: 0.914 - ETA: 5s - loss: 0.2651 - acc: 0.914 - ETA: 4s - loss: 0.2641 - acc: 0.914 - ETA: 4s - loss: 0.2671 - acc: 0.914 - ETA: 4s - loss: 0.2677 - acc: 0.913 - ETA: 3s - loss: 0.2686 - acc: 0.913 - ETA: 3s - loss: 0.2698 - acc: 0.913 - ETA: 2s - loss: 0.2699 - acc: 0.913 - ETA: 2s - loss: 0.2702 - acc: 0.913 - ETA: 2s - loss: 0.2699 - acc: 0.913 - ETA: 1s - loss: 0.2694 - acc: 0.913 - ETA: 1s - loss: 0.2676 - acc: 0.914 - ETA: 1s - loss: 0.2691 - acc: 0.914 - ETA: 0s - loss: 0.2696 - acc: 0.914 - ETA: 0s - loss: 0.2688 - acc: 0.914 - 26s 4ms/step - loss: 0.2697 - acc: 0.9141 - val_loss: 1.9232 - val_acc: 0.6450\n",
      "Epoch 49/100\n"
     ]
    },
    {
     "name": "stdout",
     "output_type": "stream",
     "text": [
      "7000/7000 [==============================] - ETA: 19s - loss: 0.3050 - acc: 0.89 - ETA: 20s - loss: 0.3217 - acc: 0.90 - ETA: 19s - loss: 0.3204 - acc: 0.89 - ETA: 19s - loss: 0.2896 - acc: 0.91 - ETA: 19s - loss: 0.2665 - acc: 0.92 - ETA: 18s - loss: 0.2493 - acc: 0.92 - ETA: 18s - loss: 0.2438 - acc: 0.92 - ETA: 17s - loss: 0.2404 - acc: 0.92 - ETA: 17s - loss: 0.2453 - acc: 0.92 - ETA: 17s - loss: 0.2551 - acc: 0.92 - ETA: 16s - loss: 0.2632 - acc: 0.91 - ETA: 16s - loss: 0.2666 - acc: 0.91 - ETA: 16s - loss: 0.2631 - acc: 0.92 - ETA: 15s - loss: 0.2590 - acc: 0.92 - ETA: 15s - loss: 0.2600 - acc: 0.92 - ETA: 14s - loss: 0.2548 - acc: 0.92 - ETA: 14s - loss: 0.2596 - acc: 0.92 - ETA: 14s - loss: 0.2571 - acc: 0.92 - ETA: 13s - loss: 0.2615 - acc: 0.91 - ETA: 13s - loss: 0.2590 - acc: 0.91 - ETA: 13s - loss: 0.2580 - acc: 0.91 - ETA: 12s - loss: 0.2515 - acc: 0.91 - ETA: 12s - loss: 0.2512 - acc: 0.91 - ETA: 11s - loss: 0.2514 - acc: 0.91 - ETA: 11s - loss: 0.2592 - acc: 0.91 - ETA: 11s - loss: 0.2575 - acc: 0.91 - ETA: 10s - loss: 0.2573 - acc: 0.91 - ETA: 10s - loss: 0.2578 - acc: 0.91 - ETA: 10s - loss: 0.2557 - acc: 0.91 - ETA: 9s - loss: 0.2554 - acc: 0.9154 - ETA: 9s - loss: 0.2565 - acc: 0.914 - ETA: 8s - loss: 0.2561 - acc: 0.915 - ETA: 8s - loss: 0.2596 - acc: 0.914 - ETA: 8s - loss: 0.2620 - acc: 0.914 - ETA: 7s - loss: 0.2649 - acc: 0.913 - ETA: 7s - loss: 0.2669 - acc: 0.912 - ETA: 6s - loss: 0.2665 - acc: 0.912 - ETA: 6s - loss: 0.2661 - acc: 0.912 - ETA: 6s - loss: 0.2664 - acc: 0.912 - ETA: 5s - loss: 0.2678 - acc: 0.911 - ETA: 5s - loss: 0.2653 - acc: 0.912 - ETA: 4s - loss: 0.2647 - acc: 0.912 - ETA: 4s - loss: 0.2670 - acc: 0.911 - ETA: 4s - loss: 0.2679 - acc: 0.911 - ETA: 3s - loss: 0.2677 - acc: 0.911 - ETA: 3s - loss: 0.2677 - acc: 0.911 - ETA: 2s - loss: 0.2653 - acc: 0.912 - ETA: 2s - loss: 0.2665 - acc: 0.912 - ETA: 2s - loss: 0.2671 - acc: 0.911 - ETA: 1s - loss: 0.2674 - acc: 0.911 - ETA: 1s - loss: 0.2688 - acc: 0.911 - ETA: 1s - loss: 0.2701 - acc: 0.910 - ETA: 0s - loss: 0.2702 - acc: 0.910 - ETA: 0s - loss: 0.2715 - acc: 0.910 - 26s 4ms/step - loss: 0.2719 - acc: 0.9104 - val_loss: 2.0258 - val_acc: 0.6510\n",
      "Epoch 50/100\n",
      "7000/7000 [==============================] - ETA: 19s - loss: 0.2701 - acc: 0.92 - ETA: 20s - loss: 0.2636 - acc: 0.92 - ETA: 19s - loss: 0.2793 - acc: 0.91 - ETA: 19s - loss: 0.2576 - acc: 0.91 - ETA: 18s - loss: 0.2341 - acc: 0.92 - ETA: 18s - loss: 0.2460 - acc: 0.92 - ETA: 18s - loss: 0.2593 - acc: 0.92 - ETA: 17s - loss: 0.2522 - acc: 0.92 - ETA: 17s - loss: 0.2480 - acc: 0.92 - ETA: 17s - loss: 0.2367 - acc: 0.93 - ETA: 16s - loss: 0.2322 - acc: 0.93 - ETA: 16s - loss: 0.2405 - acc: 0.92 - ETA: 15s - loss: 0.2465 - acc: 0.92 - ETA: 15s - loss: 0.2499 - acc: 0.92 - ETA: 15s - loss: 0.2473 - acc: 0.92 - ETA: 14s - loss: 0.2390 - acc: 0.92 - ETA: 14s - loss: 0.2461 - acc: 0.92 - ETA: 13s - loss: 0.2497 - acc: 0.92 - ETA: 13s - loss: 0.2447 - acc: 0.92 - ETA: 13s - loss: 0.2534 - acc: 0.92 - ETA: 12s - loss: 0.2554 - acc: 0.91 - ETA: 12s - loss: 0.2520 - acc: 0.91 - ETA: 12s - loss: 0.2551 - acc: 0.91 - ETA: 11s - loss: 0.2529 - acc: 0.91 - ETA: 11s - loss: 0.2474 - acc: 0.91 - ETA: 10s - loss: 0.2432 - acc: 0.92 - ETA: 10s - loss: 0.2429 - acc: 0.92 - ETA: 10s - loss: 0.2387 - acc: 0.92 - ETA: 9s - loss: 0.2433 - acc: 0.9227 - ETA: 9s - loss: 0.2480 - acc: 0.921 - ETA: 9s - loss: 0.2459 - acc: 0.922 - ETA: 8s - loss: 0.2423 - acc: 0.923 - ETA: 8s - loss: 0.2443 - acc: 0.922 - ETA: 7s - loss: 0.2447 - acc: 0.921 - ETA: 7s - loss: 0.2443 - acc: 0.921 - ETA: 7s - loss: 0.2450 - acc: 0.922 - ETA: 6s - loss: 0.2455 - acc: 0.922 - ETA: 6s - loss: 0.2451 - acc: 0.922 - ETA: 6s - loss: 0.2454 - acc: 0.921 - ETA: 5s - loss: 0.2471 - acc: 0.921 - ETA: 5s - loss: 0.2439 - acc: 0.921 - ETA: 4s - loss: 0.2441 - acc: 0.921 - ETA: 4s - loss: 0.2448 - acc: 0.921 - ETA: 4s - loss: 0.2462 - acc: 0.921 - ETA: 3s - loss: 0.2440 - acc: 0.922 - ETA: 3s - loss: 0.2465 - acc: 0.922 - ETA: 2s - loss: 0.2459 - acc: 0.922 - ETA: 2s - loss: 0.2460 - acc: 0.921 - ETA: 2s - loss: 0.2459 - acc: 0.921 - ETA: 1s - loss: 0.2462 - acc: 0.921 - ETA: 1s - loss: 0.2497 - acc: 0.920 - ETA: 1s - loss: 0.2579 - acc: 0.918 - ETA: 0s - loss: 0.2597 - acc: 0.917 - ETA: 0s - loss: 0.2608 - acc: 0.916 - 26s 4ms/step - loss: 0.2636 - acc: 0.9150 - val_loss: 1.9057 - val_acc: 0.6537\n",
      "Epoch 51/100\n",
      "7000/7000 [==============================] - ETA: 20s - loss: 0.1604 - acc: 0.93 - ETA: 19s - loss: 0.2035 - acc: 0.93 - ETA: 19s - loss: 0.2246 - acc: 0.92 - ETA: 19s - loss: 0.2588 - acc: 0.91 - ETA: 18s - loss: 0.2376 - acc: 0.91 - ETA: 18s - loss: 0.2568 - acc: 0.91 - ETA: 18s - loss: 0.2590 - acc: 0.91 - ETA: 17s - loss: 0.2430 - acc: 0.91 - ETA: 17s - loss: 0.2416 - acc: 0.92 - ETA: 17s - loss: 0.2372 - acc: 0.92 - ETA: 16s - loss: 0.2447 - acc: 0.91 - ETA: 16s - loss: 0.2429 - acc: 0.92 - ETA: 16s - loss: 0.2425 - acc: 0.91 - ETA: 16s - loss: 0.2327 - acc: 0.92 - ETA: 15s - loss: 0.2285 - acc: 0.92 - ETA: 15s - loss: 0.2300 - acc: 0.92 - ETA: 14s - loss: 0.2318 - acc: 0.92 - ETA: 14s - loss: 0.2330 - acc: 0.92 - ETA: 14s - loss: 0.2311 - acc: 0.92 - ETA: 13s - loss: 0.2412 - acc: 0.92 - ETA: 13s - loss: 0.2397 - acc: 0.92 - ETA: 12s - loss: 0.2359 - acc: 0.92 - ETA: 12s - loss: 0.2383 - acc: 0.92 - ETA: 12s - loss: 0.2371 - acc: 0.92 - ETA: 11s - loss: 0.2355 - acc: 0.92 - ETA: 11s - loss: 0.2388 - acc: 0.92 - ETA: 10s - loss: 0.2390 - acc: 0.92 - ETA: 10s - loss: 0.2388 - acc: 0.92 - ETA: 10s - loss: 0.2418 - acc: 0.92 - ETA: 9s - loss: 0.2435 - acc: 0.9216 - ETA: 9s - loss: 0.2447 - acc: 0.921 - ETA: 9s - loss: 0.2465 - acc: 0.919 - ETA: 8s - loss: 0.2492 - acc: 0.919 - ETA: 8s - loss: 0.2486 - acc: 0.920 - ETA: 7s - loss: 0.2495 - acc: 0.919 - ETA: 7s - loss: 0.2517 - acc: 0.918 - ETA: 7s - loss: 0.2526 - acc: 0.918 - ETA: 6s - loss: 0.2529 - acc: 0.919 - ETA: 6s - loss: 0.2534 - acc: 0.919 - ETA: 5s - loss: 0.2511 - acc: 0.919 - ETA: 5s - loss: 0.2503 - acc: 0.920 - ETA: 5s - loss: 0.2519 - acc: 0.919 - ETA: 4s - loss: 0.2544 - acc: 0.918 - ETA: 4s - loss: 0.2571 - acc: 0.917 - ETA: 3s - loss: 0.2591 - acc: 0.917 - ETA: 3s - loss: 0.2616 - acc: 0.916 - ETA: 3s - loss: 0.2613 - acc: 0.916 - ETA: 2s - loss: 0.2621 - acc: 0.916 - ETA: 2s - loss: 0.2627 - acc: 0.916 - ETA: 1s - loss: 0.2616 - acc: 0.916 - ETA: 1s - loss: 0.2636 - acc: 0.916 - ETA: 1s - loss: 0.2659 - acc: 0.915 - ETA: 0s - loss: 0.2641 - acc: 0.916 - ETA: 0s - loss: 0.2649 - acc: 0.915 - 27s 4ms/step - loss: 0.2650 - acc: 0.9157 - val_loss: 1.9252 - val_acc: 0.6477\n",
      "Epoch 52/100\n"
     ]
    },
    {
     "name": "stdout",
     "output_type": "stream",
     "text": [
      "7000/7000 [==============================] - ETA: 23s - loss: 0.3164 - acc: 0.89 - ETA: 22s - loss: 0.2638 - acc: 0.92 - ETA: 21s - loss: 0.2640 - acc: 0.91 - ETA: 20s - loss: 0.2440 - acc: 0.92 - ETA: 19s - loss: 0.2396 - acc: 0.92 - ETA: 19s - loss: 0.2380 - acc: 0.92 - ETA: 19s - loss: 0.2203 - acc: 0.92 - ETA: 18s - loss: 0.2268 - acc: 0.92 - ETA: 18s - loss: 0.2215 - acc: 0.92 - ETA: 18s - loss: 0.2321 - acc: 0.92 - ETA: 17s - loss: 0.2412 - acc: 0.92 - ETA: 17s - loss: 0.2403 - acc: 0.92 - ETA: 16s - loss: 0.2416 - acc: 0.92 - ETA: 16s - loss: 0.2417 - acc: 0.92 - ETA: 16s - loss: 0.2392 - acc: 0.92 - ETA: 15s - loss: 0.2384 - acc: 0.92 - ETA: 15s - loss: 0.2470 - acc: 0.92 - ETA: 14s - loss: 0.2463 - acc: 0.92 - ETA: 14s - loss: 0.2494 - acc: 0.92 - ETA: 13s - loss: 0.2478 - acc: 0.92 - ETA: 13s - loss: 0.2545 - acc: 0.92 - ETA: 13s - loss: 0.2562 - acc: 0.91 - ETA: 12s - loss: 0.2574 - acc: 0.91 - ETA: 12s - loss: 0.2546 - acc: 0.91 - ETA: 11s - loss: 0.2559 - acc: 0.91 - ETA: 11s - loss: 0.2522 - acc: 0.91 - ETA: 11s - loss: 0.2506 - acc: 0.91 - ETA: 10s - loss: 0.2475 - acc: 0.91 - ETA: 10s - loss: 0.2517 - acc: 0.91 - ETA: 9s - loss: 0.2500 - acc: 0.9190 - ETA: 9s - loss: 0.2541 - acc: 0.916 - ETA: 9s - loss: 0.2556 - acc: 0.916 - ETA: 8s - loss: 0.2514 - acc: 0.917 - ETA: 8s - loss: 0.2538 - acc: 0.916 - ETA: 7s - loss: 0.2529 - acc: 0.917 - ETA: 7s - loss: 0.2532 - acc: 0.917 - ETA: 7s - loss: 0.2498 - acc: 0.919 - ETA: 6s - loss: 0.2494 - acc: 0.919 - ETA: 6s - loss: 0.2469 - acc: 0.919 - ETA: 5s - loss: 0.2463 - acc: 0.918 - ETA: 5s - loss: 0.2467 - acc: 0.918 - ETA: 5s - loss: 0.2485 - acc: 0.917 - ETA: 4s - loss: 0.2518 - acc: 0.916 - ETA: 4s - loss: 0.2521 - acc: 0.916 - ETA: 3s - loss: 0.2489 - acc: 0.917 - ETA: 3s - loss: 0.2501 - acc: 0.917 - ETA: 3s - loss: 0.2496 - acc: 0.917 - ETA: 2s - loss: 0.2463 - acc: 0.918 - ETA: 2s - loss: 0.2481 - acc: 0.917 - ETA: 1s - loss: 0.2490 - acc: 0.917 - ETA: 1s - loss: 0.2479 - acc: 0.917 - ETA: 1s - loss: 0.2471 - acc: 0.917 - ETA: 0s - loss: 0.2488 - acc: 0.917 - ETA: 0s - loss: 0.2477 - acc: 0.917 - 26s 4ms/step - loss: 0.2470 - acc: 0.9171 - val_loss: 2.0461 - val_acc: 0.6623\n",
      "Epoch 53/100\n",
      "7000/7000 [==============================] - ETA: 20s - loss: 0.2785 - acc: 0.92 - ETA: 21s - loss: 0.2223 - acc: 0.93 - ETA: 21s - loss: 0.1975 - acc: 0.93 - ETA: 20s - loss: 0.1971 - acc: 0.93 - ETA: 20s - loss: 0.1994 - acc: 0.92 - ETA: 19s - loss: 0.2181 - acc: 0.92 - ETA: 19s - loss: 0.2067 - acc: 0.92 - ETA: 18s - loss: 0.2246 - acc: 0.92 - ETA: 18s - loss: 0.2257 - acc: 0.92 - ETA: 17s - loss: 0.2382 - acc: 0.91 - ETA: 17s - loss: 0.2388 - acc: 0.91 - ETA: 17s - loss: 0.2444 - acc: 0.91 - ETA: 16s - loss: 0.2439 - acc: 0.91 - ETA: 16s - loss: 0.2359 - acc: 0.92 - ETA: 15s - loss: 0.2381 - acc: 0.92 - ETA: 15s - loss: 0.2348 - acc: 0.92 - ETA: 15s - loss: 0.2339 - acc: 0.92 - ETA: 14s - loss: 0.2351 - acc: 0.92 - ETA: 14s - loss: 0.2348 - acc: 0.92 - ETA: 13s - loss: 0.2374 - acc: 0.92 - ETA: 13s - loss: 0.2365 - acc: 0.92 - ETA: 13s - loss: 0.2448 - acc: 0.91 - ETA: 12s - loss: 0.2538 - acc: 0.91 - ETA: 12s - loss: 0.2529 - acc: 0.91 - ETA: 11s - loss: 0.2532 - acc: 0.91 - ETA: 11s - loss: 0.2509 - acc: 0.91 - ETA: 11s - loss: 0.2483 - acc: 0.91 - ETA: 10s - loss: 0.2486 - acc: 0.91 - ETA: 10s - loss: 0.2485 - acc: 0.91 - ETA: 9s - loss: 0.2523 - acc: 0.9164 - ETA: 9s - loss: 0.2527 - acc: 0.915 - ETA: 9s - loss: 0.2530 - acc: 0.916 - ETA: 8s - loss: 0.2571 - acc: 0.915 - ETA: 8s - loss: 0.2565 - acc: 0.916 - ETA: 7s - loss: 0.2575 - acc: 0.915 - ETA: 7s - loss: 0.2566 - acc: 0.915 - ETA: 7s - loss: 0.2550 - acc: 0.916 - ETA: 6s - loss: 0.2549 - acc: 0.915 - ETA: 6s - loss: 0.2611 - acc: 0.913 - ETA: 5s - loss: 0.2604 - acc: 0.914 - ETA: 5s - loss: 0.2586 - acc: 0.915 - ETA: 5s - loss: 0.2591 - acc: 0.915 - ETA: 4s - loss: 0.2589 - acc: 0.915 - ETA: 4s - loss: 0.2600 - acc: 0.914 - ETA: 3s - loss: 0.2600 - acc: 0.913 - ETA: 3s - loss: 0.2600 - acc: 0.914 - ETA: 3s - loss: 0.2587 - acc: 0.914 - ETA: 2s - loss: 0.2584 - acc: 0.914 - ETA: 2s - loss: 0.2569 - acc: 0.915 - ETA: 1s - loss: 0.2603 - acc: 0.913 - ETA: 1s - loss: 0.2584 - acc: 0.914 - ETA: 1s - loss: 0.2587 - acc: 0.914 - ETA: 0s - loss: 0.2586 - acc: 0.914 - ETA: 0s - loss: 0.2564 - acc: 0.915 - 26s 4ms/step - loss: 0.2544 - acc: 0.9159 - val_loss: 2.0787 - val_acc: 0.6610\n",
      "Epoch 54/100\n",
      "7000/7000 [==============================] - ETA: 19s - loss: 0.2158 - acc: 0.92 - ETA: 20s - loss: 0.2534 - acc: 0.93 - ETA: 19s - loss: 0.2146 - acc: 0.94 - ETA: 19s - loss: 0.2060 - acc: 0.94 - ETA: 18s - loss: 0.1908 - acc: 0.94 - ETA: 18s - loss: 0.1847 - acc: 0.94 - ETA: 18s - loss: 0.1906 - acc: 0.93 - ETA: 17s - loss: 0.1976 - acc: 0.93 - ETA: 17s - loss: 0.1978 - acc: 0.93 - ETA: 17s - loss: 0.2012 - acc: 0.93 - ETA: 16s - loss: 0.2072 - acc: 0.93 - ETA: 16s - loss: 0.2052 - acc: 0.93 - ETA: 16s - loss: 0.2142 - acc: 0.93 - ETA: 15s - loss: 0.2143 - acc: 0.93 - ETA: 15s - loss: 0.2173 - acc: 0.92 - ETA: 15s - loss: 0.2200 - acc: 0.92 - ETA: 14s - loss: 0.2163 - acc: 0.92 - ETA: 14s - loss: 0.2178 - acc: 0.92 - ETA: 13s - loss: 0.2161 - acc: 0.92 - ETA: 13s - loss: 0.2146 - acc: 0.92 - ETA: 13s - loss: 0.2140 - acc: 0.92 - ETA: 12s - loss: 0.2091 - acc: 0.92 - ETA: 12s - loss: 0.2124 - acc: 0.92 - ETA: 11s - loss: 0.2136 - acc: 0.92 - ETA: 11s - loss: 0.2096 - acc: 0.92 - ETA: 11s - loss: 0.2112 - acc: 0.92 - ETA: 10s - loss: 0.2109 - acc: 0.92 - ETA: 10s - loss: 0.2173 - acc: 0.92 - ETA: 10s - loss: 0.2180 - acc: 0.92 - ETA: 9s - loss: 0.2163 - acc: 0.9276 - ETA: 9s - loss: 0.2219 - acc: 0.926 - ETA: 8s - loss: 0.2202 - acc: 0.926 - ETA: 8s - loss: 0.2210 - acc: 0.926 - ETA: 8s - loss: 0.2210 - acc: 0.926 - ETA: 7s - loss: 0.2215 - acc: 0.925 - ETA: 7s - loss: 0.2189 - acc: 0.926 - ETA: 6s - loss: 0.2177 - acc: 0.927 - ETA: 6s - loss: 0.2202 - acc: 0.926 - ETA: 6s - loss: 0.2262 - acc: 0.925 - ETA: 5s - loss: 0.2291 - acc: 0.924 - ETA: 5s - loss: 0.2289 - acc: 0.924 - ETA: 4s - loss: 0.2281 - acc: 0.924 - ETA: 4s - loss: 0.2246 - acc: 0.926 - ETA: 4s - loss: 0.2244 - acc: 0.926 - ETA: 3s - loss: 0.2254 - acc: 0.926 - ETA: 3s - loss: 0.2248 - acc: 0.926 - ETA: 2s - loss: 0.2260 - acc: 0.926 - ETA: 2s - loss: 0.2266 - acc: 0.926 - ETA: 2s - loss: 0.2287 - acc: 0.925 - ETA: 1s - loss: 0.2265 - acc: 0.926 - ETA: 1s - loss: 0.2275 - acc: 0.926 - ETA: 1s - loss: 0.2272 - acc: 0.926 - ETA: 0s - loss: 0.2261 - acc: 0.926 - ETA: 0s - loss: 0.2273 - acc: 0.926 - 26s 4ms/step - loss: 0.2273 - acc: 0.9269 - val_loss: 2.0119 - val_acc: 0.6607\n",
      "Epoch 55/100\n"
     ]
    },
    {
     "name": "stdout",
     "output_type": "stream",
     "text": [
      "7000/7000 [==============================] - ETA: 20s - loss: 0.2186 - acc: 0.92 - ETA: 19s - loss: 0.2811 - acc: 0.91 - ETA: 19s - loss: 0.2587 - acc: 0.91 - ETA: 19s - loss: 0.2496 - acc: 0.91 - ETA: 19s - loss: 0.2681 - acc: 0.91 - ETA: 18s - loss: 0.2667 - acc: 0.91 - ETA: 18s - loss: 0.2510 - acc: 0.91 - ETA: 17s - loss: 0.2551 - acc: 0.91 - ETA: 17s - loss: 0.2553 - acc: 0.91 - ETA: 17s - loss: 0.2609 - acc: 0.91 - ETA: 16s - loss: 0.2755 - acc: 0.90 - ETA: 16s - loss: 0.2625 - acc: 0.91 - ETA: 15s - loss: 0.2612 - acc: 0.91 - ETA: 15s - loss: 0.2545 - acc: 0.91 - ETA: 15s - loss: 0.2505 - acc: 0.91 - ETA: 14s - loss: 0.2548 - acc: 0.91 - ETA: 14s - loss: 0.2477 - acc: 0.91 - ETA: 14s - loss: 0.2417 - acc: 0.91 - ETA: 13s - loss: 0.2413 - acc: 0.91 - ETA: 13s - loss: 0.2418 - acc: 0.91 - ETA: 12s - loss: 0.2415 - acc: 0.91 - ETA: 12s - loss: 0.2398 - acc: 0.91 - ETA: 12s - loss: 0.2394 - acc: 0.91 - ETA: 11s - loss: 0.2373 - acc: 0.91 - ETA: 11s - loss: 0.2390 - acc: 0.91 - ETA: 11s - loss: 0.2421 - acc: 0.91 - ETA: 10s - loss: 0.2388 - acc: 0.91 - ETA: 10s - loss: 0.2371 - acc: 0.91 - ETA: 10s - loss: 0.2378 - acc: 0.91 - ETA: 9s - loss: 0.2445 - acc: 0.9172 - ETA: 9s - loss: 0.2407 - acc: 0.918 - ETA: 9s - loss: 0.2381 - acc: 0.918 - ETA: 8s - loss: 0.2384 - acc: 0.918 - ETA: 8s - loss: 0.2413 - acc: 0.917 - ETA: 7s - loss: 0.2401 - acc: 0.918 - ETA: 7s - loss: 0.2395 - acc: 0.918 - ETA: 7s - loss: 0.2428 - acc: 0.917 - ETA: 6s - loss: 0.2405 - acc: 0.918 - ETA: 6s - loss: 0.2391 - acc: 0.919 - ETA: 5s - loss: 0.2377 - acc: 0.919 - ETA: 5s - loss: 0.2374 - acc: 0.920 - ETA: 5s - loss: 0.2380 - acc: 0.919 - ETA: 4s - loss: 0.2382 - acc: 0.919 - ETA: 4s - loss: 0.2366 - acc: 0.919 - ETA: 3s - loss: 0.2364 - acc: 0.920 - ETA: 3s - loss: 0.2391 - acc: 0.919 - ETA: 3s - loss: 0.2418 - acc: 0.919 - ETA: 2s - loss: 0.2409 - acc: 0.918 - ETA: 2s - loss: 0.2420 - acc: 0.918 - ETA: 1s - loss: 0.2412 - acc: 0.918 - ETA: 1s - loss: 0.2435 - acc: 0.918 - ETA: 1s - loss: 0.2446 - acc: 0.918 - ETA: 0s - loss: 0.2437 - acc: 0.918 - ETA: 0s - loss: 0.2455 - acc: 0.918 - 27s 4ms/step - loss: 0.2465 - acc: 0.9183 - val_loss: 2.1077 - val_acc: 0.6550\n",
      "Epoch 56/100\n",
      "7000/7000 [==============================] - ETA: 21s - loss: 0.2957 - acc: 0.90 - ETA: 21s - loss: 0.2530 - acc: 0.90 - ETA: 20s - loss: 0.2716 - acc: 0.90 - ETA: 19s - loss: 0.2301 - acc: 0.92 - ETA: 19s - loss: 0.2239 - acc: 0.92 - ETA: 19s - loss: 0.2175 - acc: 0.92 - ETA: 18s - loss: 0.2143 - acc: 0.92 - ETA: 18s - loss: 0.2080 - acc: 0.92 - ETA: 18s - loss: 0.2109 - acc: 0.92 - ETA: 17s - loss: 0.2064 - acc: 0.92 - ETA: 17s - loss: 0.2074 - acc: 0.92 - ETA: 16s - loss: 0.2134 - acc: 0.92 - ETA: 16s - loss: 0.2073 - acc: 0.92 - ETA: 16s - loss: 0.2068 - acc: 0.92 - ETA: 15s - loss: 0.2089 - acc: 0.92 - ETA: 15s - loss: 0.2101 - acc: 0.92 - ETA: 15s - loss: 0.2064 - acc: 0.92 - ETA: 14s - loss: 0.2055 - acc: 0.92 - ETA: 14s - loss: 0.2094 - acc: 0.92 - ETA: 13s - loss: 0.2121 - acc: 0.92 - ETA: 13s - loss: 0.2155 - acc: 0.92 - ETA: 13s - loss: 0.2137 - acc: 0.92 - ETA: 12s - loss: 0.2199 - acc: 0.92 - ETA: 12s - loss: 0.2249 - acc: 0.92 - ETA: 11s - loss: 0.2264 - acc: 0.92 - ETA: 11s - loss: 0.2275 - acc: 0.92 - ETA: 10s - loss: 0.2297 - acc: 0.92 - ETA: 10s - loss: 0.2278 - acc: 0.92 - ETA: 10s - loss: 0.2230 - acc: 0.92 - ETA: 9s - loss: 0.2238 - acc: 0.9250 - ETA: 9s - loss: 0.2228 - acc: 0.925 - ETA: 8s - loss: 0.2241 - acc: 0.924 - ETA: 8s - loss: 0.2238 - acc: 0.925 - ETA: 8s - loss: 0.2276 - acc: 0.923 - ETA: 7s - loss: 0.2270 - acc: 0.924 - ETA: 7s - loss: 0.2295 - acc: 0.923 - ETA: 6s - loss: 0.2315 - acc: 0.922 - ETA: 6s - loss: 0.2296 - acc: 0.923 - ETA: 6s - loss: 0.2275 - acc: 0.923 - ETA: 5s - loss: 0.2294 - acc: 0.923 - ETA: 5s - loss: 0.2305 - acc: 0.923 - ETA: 5s - loss: 0.2306 - acc: 0.923 - ETA: 4s - loss: 0.2310 - acc: 0.923 - ETA: 4s - loss: 0.2297 - acc: 0.924 - ETA: 3s - loss: 0.2268 - acc: 0.925 - ETA: 3s - loss: 0.2258 - acc: 0.925 - ETA: 3s - loss: 0.2262 - acc: 0.925 - ETA: 2s - loss: 0.2268 - acc: 0.924 - ETA: 2s - loss: 0.2244 - acc: 0.925 - ETA: 1s - loss: 0.2227 - acc: 0.926 - ETA: 1s - loss: 0.2232 - acc: 0.926 - ETA: 1s - loss: 0.2219 - acc: 0.926 - ETA: 0s - loss: 0.2252 - acc: 0.925 - ETA: 0s - loss: 0.2243 - acc: 0.925 - 27s 4ms/step - loss: 0.2252 - acc: 0.9256 - val_loss: 2.0307 - val_acc: 0.6483\n",
      "Epoch 57/100\n",
      "7000/7000 [==============================] - ETA: 19s - loss: 0.2014 - acc: 0.93 - ETA: 19s - loss: 0.1919 - acc: 0.93 - ETA: 20s - loss: 0.2014 - acc: 0.93 - ETA: 19s - loss: 0.1849 - acc: 0.93 - ETA: 19s - loss: 0.2324 - acc: 0.92 - ETA: 18s - loss: 0.2309 - acc: 0.93 - ETA: 18s - loss: 0.2132 - acc: 0.93 - ETA: 17s - loss: 0.2198 - acc: 0.93 - ETA: 17s - loss: 0.2145 - acc: 0.93 - ETA: 17s - loss: 0.2169 - acc: 0.93 - ETA: 16s - loss: 0.2233 - acc: 0.93 - ETA: 16s - loss: 0.2209 - acc: 0.93 - ETA: 16s - loss: 0.2155 - acc: 0.93 - ETA: 15s - loss: 0.2158 - acc: 0.93 - ETA: 15s - loss: 0.2095 - acc: 0.93 - ETA: 15s - loss: 0.2130 - acc: 0.93 - ETA: 15s - loss: 0.2166 - acc: 0.93 - ETA: 14s - loss: 0.2191 - acc: 0.93 - ETA: 14s - loss: 0.2281 - acc: 0.92 - ETA: 13s - loss: 0.2255 - acc: 0.92 - ETA: 13s - loss: 0.2236 - acc: 0.93 - ETA: 13s - loss: 0.2207 - acc: 0.93 - ETA: 12s - loss: 0.2223 - acc: 0.93 - ETA: 12s - loss: 0.2228 - acc: 0.93 - ETA: 11s - loss: 0.2214 - acc: 0.92 - ETA: 11s - loss: 0.2188 - acc: 0.93 - ETA: 11s - loss: 0.2189 - acc: 0.92 - ETA: 10s - loss: 0.2194 - acc: 0.93 - ETA: 10s - loss: 0.2172 - acc: 0.93 - ETA: 9s - loss: 0.2192 - acc: 0.9292 - ETA: 9s - loss: 0.2188 - acc: 0.929 - ETA: 9s - loss: 0.2192 - acc: 0.929 - ETA: 8s - loss: 0.2210 - acc: 0.929 - ETA: 8s - loss: 0.2204 - acc: 0.929 - ETA: 7s - loss: 0.2169 - acc: 0.930 - ETA: 7s - loss: 0.2197 - acc: 0.929 - ETA: 7s - loss: 0.2176 - acc: 0.930 - ETA: 6s - loss: 0.2229 - acc: 0.928 - ETA: 6s - loss: 0.2234 - acc: 0.928 - ETA: 5s - loss: 0.2242 - acc: 0.928 - ETA: 5s - loss: 0.2228 - acc: 0.929 - ETA: 5s - loss: 0.2220 - acc: 0.929 - ETA: 4s - loss: 0.2227 - acc: 0.928 - ETA: 4s - loss: 0.2253 - acc: 0.928 - ETA: 3s - loss: 0.2277 - acc: 0.927 - ETA: 3s - loss: 0.2265 - acc: 0.927 - ETA: 3s - loss: 0.2263 - acc: 0.926 - ETA: 2s - loss: 0.2284 - acc: 0.926 - ETA: 2s - loss: 0.2283 - acc: 0.926 - ETA: 1s - loss: 0.2278 - acc: 0.926 - ETA: 1s - loss: 0.2287 - acc: 0.926 - ETA: 1s - loss: 0.2304 - acc: 0.925 - ETA: 0s - loss: 0.2294 - acc: 0.926 - ETA: 0s - loss: 0.2278 - acc: 0.926 - 27s 4ms/step - loss: 0.2307 - acc: 0.9259 - val_loss: 2.0234 - val_acc: 0.6467\n",
      "Epoch 58/100\n"
     ]
    },
    {
     "name": "stdout",
     "output_type": "stream",
     "text": [
      "7000/7000 [==============================] - ETA: 20s - loss: 0.2279 - acc: 0.93 - ETA: 20s - loss: 0.2550 - acc: 0.93 - ETA: 20s - loss: 0.2435 - acc: 0.93 - ETA: 20s - loss: 0.2324 - acc: 0.93 - ETA: 19s - loss: 0.2175 - acc: 0.93 - ETA: 19s - loss: 0.2302 - acc: 0.93 - ETA: 18s - loss: 0.2320 - acc: 0.93 - ETA: 18s - loss: 0.2263 - acc: 0.93 - ETA: 17s - loss: 0.2249 - acc: 0.93 - ETA: 17s - loss: 0.2263 - acc: 0.93 - ETA: 17s - loss: 0.2205 - acc: 0.93 - ETA: 16s - loss: 0.2159 - acc: 0.93 - ETA: 16s - loss: 0.2139 - acc: 0.93 - ETA: 15s - loss: 0.2210 - acc: 0.93 - ETA: 15s - loss: 0.2119 - acc: 0.93 - ETA: 15s - loss: 0.2095 - acc: 0.93 - ETA: 14s - loss: 0.2080 - acc: 0.93 - ETA: 14s - loss: 0.2131 - acc: 0.93 - ETA: 13s - loss: 0.2155 - acc: 0.93 - ETA: 13s - loss: 0.2233 - acc: 0.93 - ETA: 13s - loss: 0.2248 - acc: 0.93 - ETA: 12s - loss: 0.2273 - acc: 0.93 - ETA: 12s - loss: 0.2286 - acc: 0.93 - ETA: 12s - loss: 0.2242 - acc: 0.93 - ETA: 11s - loss: 0.2253 - acc: 0.93 - ETA: 11s - loss: 0.2277 - acc: 0.92 - ETA: 10s - loss: 0.2276 - acc: 0.93 - ETA: 10s - loss: 0.2253 - acc: 0.92 - ETA: 10s - loss: 0.2267 - acc: 0.92 - ETA: 9s - loss: 0.2228 - acc: 0.9299 - ETA: 9s - loss: 0.2245 - acc: 0.928 - ETA: 8s - loss: 0.2271 - acc: 0.928 - ETA: 8s - loss: 0.2259 - acc: 0.929 - ETA: 8s - loss: 0.2296 - acc: 0.929 - ETA: 7s - loss: 0.2304 - acc: 0.928 - ETA: 7s - loss: 0.2288 - acc: 0.929 - ETA: 6s - loss: 0.2295 - acc: 0.928 - ETA: 6s - loss: 0.2295 - acc: 0.928 - ETA: 6s - loss: 0.2274 - acc: 0.929 - ETA: 5s - loss: 0.2268 - acc: 0.928 - ETA: 5s - loss: 0.2270 - acc: 0.928 - ETA: 5s - loss: 0.2280 - acc: 0.927 - ETA: 4s - loss: 0.2276 - acc: 0.928 - ETA: 4s - loss: 0.2301 - acc: 0.927 - ETA: 3s - loss: 0.2324 - acc: 0.927 - ETA: 3s - loss: 0.2325 - acc: 0.927 - ETA: 3s - loss: 0.2342 - acc: 0.927 - ETA: 2s - loss: 0.2357 - acc: 0.927 - ETA: 2s - loss: 0.2344 - acc: 0.927 - ETA: 1s - loss: 0.2329 - acc: 0.928 - ETA: 1s - loss: 0.2318 - acc: 0.928 - ETA: 1s - loss: 0.2298 - acc: 0.929 - ETA: 0s - loss: 0.2313 - acc: 0.929 - ETA: 0s - loss: 0.2354 - acc: 0.927 - 26s 4ms/step - loss: 0.2351 - acc: 0.9276 - val_loss: 2.0616 - val_acc: 0.6507\n",
      "Epoch 59/100\n",
      "7000/7000 [==============================] - ETA: 21s - loss: 0.3489 - acc: 0.92 - ETA: 21s - loss: 0.2766 - acc: 0.92 - ETA: 21s - loss: 0.2647 - acc: 0.92 - ETA: 21s - loss: 0.2499 - acc: 0.92 - ETA: 20s - loss: 0.2609 - acc: 0.93 - ETA: 19s - loss: 0.2501 - acc: 0.93 - ETA: 19s - loss: 0.2363 - acc: 0.93 - ETA: 18s - loss: 0.2416 - acc: 0.93 - ETA: 18s - loss: 0.2425 - acc: 0.92 - ETA: 17s - loss: 0.2346 - acc: 0.92 - ETA: 17s - loss: 0.2353 - acc: 0.92 - ETA: 17s - loss: 0.2340 - acc: 0.92 - ETA: 16s - loss: 0.2385 - acc: 0.92 - ETA: 16s - loss: 0.2366 - acc: 0.92 - ETA: 15s - loss: 0.2365 - acc: 0.92 - ETA: 15s - loss: 0.2350 - acc: 0.92 - ETA: 15s - loss: 0.2309 - acc: 0.92 - ETA: 14s - loss: 0.2312 - acc: 0.92 - ETA: 14s - loss: 0.2310 - acc: 0.92 - ETA: 13s - loss: 0.2275 - acc: 0.92 - ETA: 13s - loss: 0.2228 - acc: 0.92 - ETA: 13s - loss: 0.2244 - acc: 0.92 - ETA: 12s - loss: 0.2286 - acc: 0.92 - ETA: 12s - loss: 0.2262 - acc: 0.92 - ETA: 11s - loss: 0.2302 - acc: 0.92 - ETA: 11s - loss: 0.2335 - acc: 0.92 - ETA: 11s - loss: 0.2324 - acc: 0.92 - ETA: 10s - loss: 0.2301 - acc: 0.92 - ETA: 10s - loss: 0.2291 - acc: 0.92 - ETA: 9s - loss: 0.2252 - acc: 0.9263 - ETA: 9s - loss: 0.2243 - acc: 0.925 - ETA: 9s - loss: 0.2223 - acc: 0.927 - ETA: 8s - loss: 0.2211 - acc: 0.927 - ETA: 8s - loss: 0.2235 - acc: 0.927 - ETA: 7s - loss: 0.2247 - acc: 0.927 - ETA: 7s - loss: 0.2222 - acc: 0.927 - ETA: 7s - loss: 0.2276 - acc: 0.925 - ETA: 6s - loss: 0.2256 - acc: 0.926 - ETA: 6s - loss: 0.2259 - acc: 0.925 - ETA: 5s - loss: 0.2259 - acc: 0.925 - ETA: 5s - loss: 0.2254 - acc: 0.926 - ETA: 5s - loss: 0.2290 - acc: 0.925 - ETA: 4s - loss: 0.2308 - acc: 0.925 - ETA: 4s - loss: 0.2321 - acc: 0.925 - ETA: 3s - loss: 0.2329 - acc: 0.924 - ETA: 3s - loss: 0.2316 - acc: 0.925 - ETA: 3s - loss: 0.2326 - acc: 0.924 - ETA: 2s - loss: 0.2300 - acc: 0.925 - ETA: 2s - loss: 0.2285 - acc: 0.926 - ETA: 1s - loss: 0.2284 - acc: 0.926 - ETA: 1s - loss: 0.2287 - acc: 0.925 - ETA: 1s - loss: 0.2284 - acc: 0.925 - ETA: 0s - loss: 0.2271 - acc: 0.925 - ETA: 0s - loss: 0.2254 - acc: 0.926 - 26s 4ms/step - loss: 0.2248 - acc: 0.9267 - val_loss: 2.1462 - val_acc: 0.6587\n",
      "Epoch 60/100\n",
      "7000/7000 [==============================] - ETA: 19s - loss: 0.1373 - acc: 0.96 - ETA: 19s - loss: 0.1850 - acc: 0.94 - ETA: 19s - loss: 0.2612 - acc: 0.92 - ETA: 19s - loss: 0.2679 - acc: 0.92 - ETA: 18s - loss: 0.2577 - acc: 0.92 - ETA: 18s - loss: 0.2699 - acc: 0.92 - ETA: 18s - loss: 0.2542 - acc: 0.92 - ETA: 17s - loss: 0.2351 - acc: 0.93 - ETA: 17s - loss: 0.2332 - acc: 0.93 - ETA: 17s - loss: 0.2279 - acc: 0.93 - ETA: 16s - loss: 0.2210 - acc: 0.93 - ETA: 16s - loss: 0.2201 - acc: 0.93 - ETA: 16s - loss: 0.2165 - acc: 0.93 - ETA: 15s - loss: 0.2190 - acc: 0.93 - ETA: 15s - loss: 0.2209 - acc: 0.93 - ETA: 14s - loss: 0.2211 - acc: 0.93 - ETA: 14s - loss: 0.2208 - acc: 0.93 - ETA: 14s - loss: 0.2195 - acc: 0.93 - ETA: 13s - loss: 0.2189 - acc: 0.93 - ETA: 13s - loss: 0.2197 - acc: 0.93 - ETA: 13s - loss: 0.2225 - acc: 0.93 - ETA: 12s - loss: 0.2242 - acc: 0.93 - ETA: 12s - loss: 0.2290 - acc: 0.93 - ETA: 11s - loss: 0.2243 - acc: 0.93 - ETA: 11s - loss: 0.2267 - acc: 0.93 - ETA: 11s - loss: 0.2263 - acc: 0.93 - ETA: 10s - loss: 0.2341 - acc: 0.93 - ETA: 10s - loss: 0.2342 - acc: 0.93 - ETA: 9s - loss: 0.2359 - acc: 0.9297 - ETA: 9s - loss: 0.2366 - acc: 0.928 - ETA: 9s - loss: 0.2342 - acc: 0.929 - ETA: 8s - loss: 0.2337 - acc: 0.929 - ETA: 8s - loss: 0.2324 - acc: 0.929 - ETA: 7s - loss: 0.2311 - acc: 0.929 - ETA: 7s - loss: 0.2271 - acc: 0.930 - ETA: 7s - loss: 0.2279 - acc: 0.930 - ETA: 6s - loss: 0.2275 - acc: 0.930 - ETA: 6s - loss: 0.2303 - acc: 0.929 - ETA: 6s - loss: 0.2309 - acc: 0.929 - ETA: 5s - loss: 0.2296 - acc: 0.929 - ETA: 5s - loss: 0.2316 - acc: 0.929 - ETA: 4s - loss: 0.2327 - acc: 0.928 - ETA: 4s - loss: 0.2343 - acc: 0.927 - ETA: 4s - loss: 0.2340 - acc: 0.927 - ETA: 3s - loss: 0.2311 - acc: 0.928 - ETA: 3s - loss: 0.2338 - acc: 0.928 - ETA: 2s - loss: 0.2365 - acc: 0.927 - ETA: 2s - loss: 0.2384 - acc: 0.926 - ETA: 2s - loss: 0.2377 - acc: 0.926 - ETA: 1s - loss: 0.2360 - acc: 0.927 - ETA: 1s - loss: 0.2375 - acc: 0.926 - ETA: 1s - loss: 0.2378 - acc: 0.926 - ETA: 0s - loss: 0.2355 - acc: 0.927 - ETA: 0s - loss: 0.2349 - acc: 0.927 - 26s 4ms/step - loss: 0.2371 - acc: 0.9267 - val_loss: 1.8992 - val_acc: 0.6460\n",
      "Epoch 61/100\n"
     ]
    },
    {
     "name": "stdout",
     "output_type": "stream",
     "text": [
      "7000/7000 [==============================] - ETA: 19s - loss: 0.1984 - acc: 0.92 - ETA: 19s - loss: 0.1754 - acc: 0.94 - ETA: 19s - loss: 0.2276 - acc: 0.93 - ETA: 19s - loss: 0.2086 - acc: 0.94 - ETA: 18s - loss: 0.2355 - acc: 0.93 - ETA: 18s - loss: 0.2338 - acc: 0.92 - ETA: 18s - loss: 0.2319 - acc: 0.92 - ETA: 17s - loss: 0.2146 - acc: 0.93 - ETA: 17s - loss: 0.2122 - acc: 0.93 - ETA: 17s - loss: 0.2163 - acc: 0.93 - ETA: 16s - loss: 0.2230 - acc: 0.92 - ETA: 16s - loss: 0.2270 - acc: 0.92 - ETA: 15s - loss: 0.2240 - acc: 0.93 - ETA: 15s - loss: 0.2204 - acc: 0.93 - ETA: 15s - loss: 0.2212 - acc: 0.93 - ETA: 14s - loss: 0.2205 - acc: 0.93 - ETA: 14s - loss: 0.2198 - acc: 0.93 - ETA: 14s - loss: 0.2187 - acc: 0.93 - ETA: 13s - loss: 0.2238 - acc: 0.93 - ETA: 13s - loss: 0.2249 - acc: 0.92 - ETA: 12s - loss: 0.2277 - acc: 0.92 - ETA: 12s - loss: 0.2273 - acc: 0.92 - ETA: 12s - loss: 0.2293 - acc: 0.92 - ETA: 11s - loss: 0.2302 - acc: 0.92 - ETA: 11s - loss: 0.2301 - acc: 0.92 - ETA: 10s - loss: 0.2302 - acc: 0.92 - ETA: 10s - loss: 0.2347 - acc: 0.92 - ETA: 10s - loss: 0.2325 - acc: 0.92 - ETA: 9s - loss: 0.2308 - acc: 0.9267 - ETA: 9s - loss: 0.2267 - acc: 0.927 - ETA: 9s - loss: 0.2272 - acc: 0.927 - ETA: 8s - loss: 0.2256 - acc: 0.928 - ETA: 8s - loss: 0.2259 - acc: 0.928 - ETA: 7s - loss: 0.2282 - acc: 0.927 - ETA: 7s - loss: 0.2282 - acc: 0.926 - ETA: 7s - loss: 0.2281 - acc: 0.926 - ETA: 6s - loss: 0.2256 - acc: 0.926 - ETA: 6s - loss: 0.2252 - acc: 0.926 - ETA: 6s - loss: 0.2233 - acc: 0.926 - ETA: 5s - loss: 0.2262 - acc: 0.926 - ETA: 5s - loss: 0.2232 - acc: 0.927 - ETA: 4s - loss: 0.2227 - acc: 0.926 - ETA: 4s - loss: 0.2309 - acc: 0.925 - ETA: 4s - loss: 0.2347 - acc: 0.924 - ETA: 3s - loss: 0.2346 - acc: 0.925 - ETA: 3s - loss: 0.2330 - acc: 0.925 - ETA: 2s - loss: 0.2314 - acc: 0.925 - ETA: 2s - loss: 0.2312 - acc: 0.925 - ETA: 2s - loss: 0.2317 - acc: 0.925 - ETA: 1s - loss: 0.2339 - acc: 0.924 - ETA: 1s - loss: 0.2334 - acc: 0.924 - ETA: 1s - loss: 0.2325 - acc: 0.924 - ETA: 0s - loss: 0.2316 - acc: 0.925 - ETA: 0s - loss: 0.2312 - acc: 0.925 - 26s 4ms/step - loss: 0.2324 - acc: 0.9246 - val_loss: 2.0853 - val_acc: 0.6520\n",
      "Epoch 62/100\n",
      "7000/7000 [==============================] - ETA: 19s - loss: 0.2147 - acc: 0.92 - ETA: 19s - loss: 0.2034 - acc: 0.93 - ETA: 19s - loss: 0.2053 - acc: 0.92 - ETA: 19s - loss: 0.2016 - acc: 0.92 - ETA: 18s - loss: 0.2084 - acc: 0.92 - ETA: 18s - loss: 0.2088 - acc: 0.92 - ETA: 18s - loss: 0.2205 - acc: 0.92 - ETA: 17s - loss: 0.2325 - acc: 0.91 - ETA: 17s - loss: 0.2271 - acc: 0.92 - ETA: 17s - loss: 0.2271 - acc: 0.92 - ETA: 16s - loss: 0.2370 - acc: 0.91 - ETA: 16s - loss: 0.2332 - acc: 0.91 - ETA: 16s - loss: 0.2304 - acc: 0.91 - ETA: 15s - loss: 0.2230 - acc: 0.92 - ETA: 15s - loss: 0.2189 - acc: 0.92 - ETA: 14s - loss: 0.2190 - acc: 0.92 - ETA: 14s - loss: 0.2222 - acc: 0.92 - ETA: 14s - loss: 0.2291 - acc: 0.92 - ETA: 13s - loss: 0.2352 - acc: 0.91 - ETA: 13s - loss: 0.2353 - acc: 0.91 - ETA: 12s - loss: 0.2355 - acc: 0.91 - ETA: 12s - loss: 0.2380 - acc: 0.91 - ETA: 12s - loss: 0.2396 - acc: 0.91 - ETA: 11s - loss: 0.2393 - acc: 0.91 - ETA: 11s - loss: 0.2381 - acc: 0.91 - ETA: 11s - loss: 0.2359 - acc: 0.91 - ETA: 10s - loss: 0.2407 - acc: 0.91 - ETA: 10s - loss: 0.2439 - acc: 0.91 - ETA: 9s - loss: 0.2438 - acc: 0.9192 - ETA: 9s - loss: 0.2432 - acc: 0.919 - ETA: 9s - loss: 0.2489 - acc: 0.918 - ETA: 8s - loss: 0.2474 - acc: 0.919 - ETA: 8s - loss: 0.2482 - acc: 0.919 - ETA: 7s - loss: 0.2463 - acc: 0.920 - ETA: 7s - loss: 0.2453 - acc: 0.920 - ETA: 7s - loss: 0.2429 - acc: 0.921 - ETA: 6s - loss: 0.2409 - acc: 0.921 - ETA: 6s - loss: 0.2402 - acc: 0.922 - ETA: 6s - loss: 0.2396 - acc: 0.921 - ETA: 5s - loss: 0.2422 - acc: 0.921 - ETA: 5s - loss: 0.2414 - acc: 0.921 - ETA: 4s - loss: 0.2408 - acc: 0.921 - ETA: 4s - loss: 0.2412 - acc: 0.921 - ETA: 4s - loss: 0.2422 - acc: 0.920 - ETA: 3s - loss: 0.2415 - acc: 0.921 - ETA: 3s - loss: 0.2418 - acc: 0.921 - ETA: 2s - loss: 0.2419 - acc: 0.921 - ETA: 2s - loss: 0.2428 - acc: 0.921 - ETA: 2s - loss: 0.2425 - acc: 0.921 - ETA: 1s - loss: 0.2413 - acc: 0.921 - ETA: 1s - loss: 0.2439 - acc: 0.920 - ETA: 1s - loss: 0.2414 - acc: 0.921 - ETA: 0s - loss: 0.2414 - acc: 0.921 - ETA: 0s - loss: 0.2401 - acc: 0.922 - 26s 4ms/step - loss: 0.2390 - acc: 0.9229 - val_loss: 2.0831 - val_acc: 0.6593\n",
      "Epoch 63/100\n",
      "7000/7000 [==============================] - ETA: 20s - loss: 0.0754 - acc: 0.98 - ETA: 20s - loss: 0.1430 - acc: 0.95 - ETA: 19s - loss: 0.1630 - acc: 0.95 - ETA: 19s - loss: 0.1605 - acc: 0.94 - ETA: 18s - loss: 0.1571 - acc: 0.94 - ETA: 18s - loss: 0.1806 - acc: 0.94 - ETA: 18s - loss: 0.2065 - acc: 0.93 - ETA: 17s - loss: 0.2063 - acc: 0.93 - ETA: 17s - loss: 0.2103 - acc: 0.93 - ETA: 17s - loss: 0.2134 - acc: 0.93 - ETA: 16s - loss: 0.2076 - acc: 0.93 - ETA: 16s - loss: 0.2020 - acc: 0.93 - ETA: 15s - loss: 0.2009 - acc: 0.93 - ETA: 15s - loss: 0.2035 - acc: 0.93 - ETA: 15s - loss: 0.2054 - acc: 0.94 - ETA: 14s - loss: 0.2033 - acc: 0.94 - ETA: 14s - loss: 0.2119 - acc: 0.93 - ETA: 13s - loss: 0.2211 - acc: 0.93 - ETA: 13s - loss: 0.2165 - acc: 0.93 - ETA: 13s - loss: 0.2143 - acc: 0.93 - ETA: 12s - loss: 0.2102 - acc: 0.93 - ETA: 12s - loss: 0.2090 - acc: 0.94 - ETA: 12s - loss: 0.2086 - acc: 0.94 - ETA: 11s - loss: 0.2070 - acc: 0.94 - ETA: 11s - loss: 0.2100 - acc: 0.94 - ETA: 11s - loss: 0.2098 - acc: 0.94 - ETA: 10s - loss: 0.2075 - acc: 0.94 - ETA: 10s - loss: 0.2129 - acc: 0.93 - ETA: 9s - loss: 0.2106 - acc: 0.9397 - ETA: 9s - loss: 0.2108 - acc: 0.939 - ETA: 9s - loss: 0.2128 - acc: 0.939 - ETA: 8s - loss: 0.2145 - acc: 0.937 - ETA: 8s - loss: 0.2126 - acc: 0.938 - ETA: 7s - loss: 0.2123 - acc: 0.937 - ETA: 7s - loss: 0.2118 - acc: 0.937 - ETA: 7s - loss: 0.2102 - acc: 0.937 - ETA: 6s - loss: 0.2078 - acc: 0.938 - ETA: 6s - loss: 0.2080 - acc: 0.938 - ETA: 6s - loss: 0.2086 - acc: 0.938 - ETA: 5s - loss: 0.2071 - acc: 0.938 - ETA: 5s - loss: 0.2081 - acc: 0.937 - ETA: 4s - loss: 0.2100 - acc: 0.936 - ETA: 4s - loss: 0.2103 - acc: 0.936 - ETA: 4s - loss: 0.2096 - acc: 0.936 - ETA: 3s - loss: 0.2115 - acc: 0.936 - ETA: 3s - loss: 0.2112 - acc: 0.936 - ETA: 2s - loss: 0.2127 - acc: 0.936 - ETA: 2s - loss: 0.2133 - acc: 0.935 - ETA: 2s - loss: 0.2117 - acc: 0.936 - ETA: 1s - loss: 0.2101 - acc: 0.936 - ETA: 1s - loss: 0.2109 - acc: 0.935 - ETA: 1s - loss: 0.2105 - acc: 0.936 - ETA: 0s - loss: 0.2106 - acc: 0.935 - ETA: 0s - loss: 0.2101 - acc: 0.936 - 26s 4ms/step - loss: 0.2117 - acc: 0.9354 - val_loss: 2.0197 - val_acc: 0.6477\n",
      "Epoch 64/100\n"
     ]
    },
    {
     "name": "stdout",
     "output_type": "stream",
     "text": [
      "7000/7000 [==============================] - ETA: 21s - loss: 0.4218 - acc: 0.85 - ETA: 20s - loss: 0.3188 - acc: 0.89 - ETA: 20s - loss: 0.3053 - acc: 0.90 - ETA: 19s - loss: 0.3051 - acc: 0.90 - ETA: 19s - loss: 0.2624 - acc: 0.91 - ETA: 18s - loss: 0.2357 - acc: 0.92 - ETA: 18s - loss: 0.2282 - acc: 0.92 - ETA: 18s - loss: 0.2505 - acc: 0.92 - ETA: 17s - loss: 0.2416 - acc: 0.92 - ETA: 17s - loss: 0.2414 - acc: 0.92 - ETA: 16s - loss: 0.2509 - acc: 0.92 - ETA: 16s - loss: 0.2444 - acc: 0.92 - ETA: 16s - loss: 0.2354 - acc: 0.92 - ETA: 15s - loss: 0.2325 - acc: 0.92 - ETA: 15s - loss: 0.2309 - acc: 0.92 - ETA: 15s - loss: 0.2292 - acc: 0.92 - ETA: 14s - loss: 0.2208 - acc: 0.92 - ETA: 14s - loss: 0.2133 - acc: 0.92 - ETA: 13s - loss: 0.2070 - acc: 0.93 - ETA: 13s - loss: 0.2092 - acc: 0.92 - ETA: 13s - loss: 0.2056 - acc: 0.93 - ETA: 12s - loss: 0.2034 - acc: 0.93 - ETA: 12s - loss: 0.2064 - acc: 0.93 - ETA: 11s - loss: 0.2089 - acc: 0.93 - ETA: 11s - loss: 0.2094 - acc: 0.93 - ETA: 11s - loss: 0.2067 - acc: 0.93 - ETA: 10s - loss: 0.2103 - acc: 0.93 - ETA: 10s - loss: 0.2131 - acc: 0.93 - ETA: 9s - loss: 0.2126 - acc: 0.9318 - ETA: 9s - loss: 0.2136 - acc: 0.931 - ETA: 9s - loss: 0.2173 - acc: 0.929 - ETA: 8s - loss: 0.2181 - acc: 0.929 - ETA: 8s - loss: 0.2258 - acc: 0.927 - ETA: 8s - loss: 0.2247 - acc: 0.927 - ETA: 7s - loss: 0.2259 - acc: 0.927 - ETA: 7s - loss: 0.2280 - acc: 0.927 - ETA: 6s - loss: 0.2291 - acc: 0.926 - ETA: 6s - loss: 0.2299 - acc: 0.926 - ETA: 6s - loss: 0.2291 - acc: 0.926 - ETA: 5s - loss: 0.2278 - acc: 0.926 - ETA: 5s - loss: 0.2266 - acc: 0.927 - ETA: 4s - loss: 0.2257 - acc: 0.927 - ETA: 4s - loss: 0.2256 - acc: 0.927 - ETA: 4s - loss: 0.2241 - acc: 0.927 - ETA: 3s - loss: 0.2285 - acc: 0.927 - ETA: 3s - loss: 0.2275 - acc: 0.927 - ETA: 2s - loss: 0.2278 - acc: 0.927 - ETA: 2s - loss: 0.2267 - acc: 0.927 - ETA: 2s - loss: 0.2284 - acc: 0.927 - ETA: 1s - loss: 0.2278 - acc: 0.926 - ETA: 1s - loss: 0.2266 - acc: 0.927 - ETA: 1s - loss: 0.2263 - acc: 0.927 - ETA: 0s - loss: 0.2249 - acc: 0.927 - ETA: 0s - loss: 0.2269 - acc: 0.926 - 26s 4ms/step - loss: 0.2250 - acc: 0.9274 - val_loss: 2.1948 - val_acc: 0.6607\n",
      "Epoch 65/100\n",
      "7000/7000 [==============================] - ETA: 19s - loss: 0.1472 - acc: 0.93 - ETA: 19s - loss: 0.1600 - acc: 0.92 - ETA: 19s - loss: 0.1877 - acc: 0.92 - ETA: 19s - loss: 0.1661 - acc: 0.93 - ETA: 18s - loss: 0.1471 - acc: 0.94 - ETA: 18s - loss: 0.1380 - acc: 0.94 - ETA: 18s - loss: 0.1497 - acc: 0.94 - ETA: 17s - loss: 0.1530 - acc: 0.94 - ETA: 17s - loss: 0.1409 - acc: 0.95 - ETA: 17s - loss: 0.1620 - acc: 0.94 - ETA: 16s - loss: 0.1652 - acc: 0.94 - ETA: 16s - loss: 0.1737 - acc: 0.94 - ETA: 16s - loss: 0.1785 - acc: 0.94 - ETA: 15s - loss: 0.1772 - acc: 0.94 - ETA: 15s - loss: 0.1873 - acc: 0.94 - ETA: 15s - loss: 0.1962 - acc: 0.94 - ETA: 14s - loss: 0.1950 - acc: 0.94 - ETA: 14s - loss: 0.1997 - acc: 0.94 - ETA: 14s - loss: 0.2026 - acc: 0.94 - ETA: 13s - loss: 0.1990 - acc: 0.93 - ETA: 13s - loss: 0.2017 - acc: 0.93 - ETA: 13s - loss: 0.1981 - acc: 0.93 - ETA: 12s - loss: 0.1983 - acc: 0.94 - ETA: 12s - loss: 0.1978 - acc: 0.94 - ETA: 11s - loss: 0.1973 - acc: 0.94 - ETA: 11s - loss: 0.1968 - acc: 0.93 - ETA: 11s - loss: 0.1926 - acc: 0.94 - ETA: 10s - loss: 0.1941 - acc: 0.94 - ETA: 10s - loss: 0.1944 - acc: 0.93 - ETA: 9s - loss: 0.1967 - acc: 0.9385 - ETA: 9s - loss: 0.1942 - acc: 0.939 - ETA: 9s - loss: 0.1947 - acc: 0.938 - ETA: 8s - loss: 0.1940 - acc: 0.938 - ETA: 8s - loss: 0.1953 - acc: 0.938 - ETA: 7s - loss: 0.1940 - acc: 0.939 - ETA: 7s - loss: 0.1940 - acc: 0.939 - ETA: 7s - loss: 0.1926 - acc: 0.939 - ETA: 6s - loss: 0.1923 - acc: 0.939 - ETA: 6s - loss: 0.1901 - acc: 0.939 - ETA: 5s - loss: 0.1891 - acc: 0.940 - ETA: 5s - loss: 0.1906 - acc: 0.940 - ETA: 5s - loss: 0.1896 - acc: 0.940 - ETA: 4s - loss: 0.1913 - acc: 0.940 - ETA: 4s - loss: 0.1913 - acc: 0.940 - ETA: 3s - loss: 0.1918 - acc: 0.940 - ETA: 3s - loss: 0.1936 - acc: 0.940 - ETA: 3s - loss: 0.1945 - acc: 0.939 - ETA: 2s - loss: 0.1935 - acc: 0.939 - ETA: 2s - loss: 0.1955 - acc: 0.938 - ETA: 1s - loss: 0.1955 - acc: 0.938 - ETA: 1s - loss: 0.1948 - acc: 0.938 - ETA: 1s - loss: 0.1957 - acc: 0.938 - ETA: 0s - loss: 0.1976 - acc: 0.938 - ETA: 0s - loss: 0.1981 - acc: 0.938 - 26s 4ms/step - loss: 0.1989 - acc: 0.9379 - val_loss: 2.1304 - val_acc: 0.6533\n",
      "Epoch 66/100\n",
      "7000/7000 [==============================] - ETA: 20s - loss: 0.1953 - acc: 0.93 - ETA: 19s - loss: 0.2478 - acc: 0.91 - ETA: 19s - loss: 0.2450 - acc: 0.92 - ETA: 19s - loss: 0.2493 - acc: 0.91 - ETA: 18s - loss: 0.2356 - acc: 0.92 - ETA: 18s - loss: 0.2166 - acc: 0.93 - ETA: 18s - loss: 0.2225 - acc: 0.92 - ETA: 17s - loss: 0.2134 - acc: 0.93 - ETA: 17s - loss: 0.2120 - acc: 0.93 - ETA: 16s - loss: 0.2055 - acc: 0.93 - ETA: 16s - loss: 0.2024 - acc: 0.93 - ETA: 16s - loss: 0.2025 - acc: 0.93 - ETA: 15s - loss: 0.1948 - acc: 0.93 - ETA: 15s - loss: 0.1957 - acc: 0.93 - ETA: 15s - loss: 0.1919 - acc: 0.93 - ETA: 14s - loss: 0.1971 - acc: 0.93 - ETA: 14s - loss: 0.1973 - acc: 0.93 - ETA: 13s - loss: 0.2035 - acc: 0.93 - ETA: 13s - loss: 0.2012 - acc: 0.93 - ETA: 13s - loss: 0.2043 - acc: 0.93 - ETA: 12s - loss: 0.2045 - acc: 0.93 - ETA: 12s - loss: 0.2028 - acc: 0.93 - ETA: 12s - loss: 0.2081 - acc: 0.93 - ETA: 11s - loss: 0.2108 - acc: 0.93 - ETA: 11s - loss: 0.2100 - acc: 0.93 - ETA: 10s - loss: 0.2106 - acc: 0.93 - ETA: 10s - loss: 0.2107 - acc: 0.93 - ETA: 10s - loss: 0.2115 - acc: 0.93 - ETA: 9s - loss: 0.2103 - acc: 0.9313 - ETA: 9s - loss: 0.2064 - acc: 0.932 - ETA: 9s - loss: 0.2113 - acc: 0.930 - ETA: 8s - loss: 0.2142 - acc: 0.930 - ETA: 8s - loss: 0.2137 - acc: 0.930 - ETA: 7s - loss: 0.2146 - acc: 0.930 - ETA: 7s - loss: 0.2124 - acc: 0.931 - ETA: 7s - loss: 0.2132 - acc: 0.930 - ETA: 6s - loss: 0.2120 - acc: 0.931 - ETA: 6s - loss: 0.2109 - acc: 0.931 - ETA: 6s - loss: 0.2127 - acc: 0.931 - ETA: 5s - loss: 0.2140 - acc: 0.931 - ETA: 5s - loss: 0.2166 - acc: 0.931 - ETA: 4s - loss: 0.2181 - acc: 0.930 - ETA: 4s - loss: 0.2182 - acc: 0.930 - ETA: 4s - loss: 0.2186 - acc: 0.930 - ETA: 3s - loss: 0.2184 - acc: 0.930 - ETA: 3s - loss: 0.2205 - acc: 0.930 - ETA: 2s - loss: 0.2219 - acc: 0.930 - ETA: 2s - loss: 0.2251 - acc: 0.929 - ETA: 2s - loss: 0.2231 - acc: 0.930 - ETA: 1s - loss: 0.2215 - acc: 0.930 - ETA: 1s - loss: 0.2215 - acc: 0.930 - ETA: 1s - loss: 0.2238 - acc: 0.930 - ETA: 0s - loss: 0.2256 - acc: 0.929 - ETA: 0s - loss: 0.2271 - acc: 0.929 - 26s 4ms/step - loss: 0.2271 - acc: 0.9294 - val_loss: 1.9743 - val_acc: 0.6530\n",
      "Epoch 67/100\n"
     ]
    },
    {
     "name": "stdout",
     "output_type": "stream",
     "text": [
      "7000/7000 [==============================] - ETA: 19s - loss: 0.2247 - acc: 0.92 - ETA: 19s - loss: 0.2192 - acc: 0.92 - ETA: 19s - loss: 0.2286 - acc: 0.92 - ETA: 19s - loss: 0.2118 - acc: 0.93 - ETA: 19s - loss: 0.2379 - acc: 0.92 - ETA: 19s - loss: 0.2357 - acc: 0.92 - ETA: 19s - loss: 0.2195 - acc: 0.92 - ETA: 19s - loss: 0.2094 - acc: 0.92 - ETA: 18s - loss: 0.2018 - acc: 0.92 - ETA: 18s - loss: 0.1928 - acc: 0.93 - ETA: 17s - loss: 0.1823 - acc: 0.93 - ETA: 17s - loss: 0.1801 - acc: 0.93 - ETA: 16s - loss: 0.1953 - acc: 0.93 - ETA: 16s - loss: 0.1966 - acc: 0.93 - ETA: 15s - loss: 0.1963 - acc: 0.93 - ETA: 15s - loss: 0.2023 - acc: 0.93 - ETA: 15s - loss: 0.1999 - acc: 0.93 - ETA: 14s - loss: 0.1981 - acc: 0.93 - ETA: 14s - loss: 0.2034 - acc: 0.92 - ETA: 13s - loss: 0.2004 - acc: 0.92 - ETA: 13s - loss: 0.2023 - acc: 0.92 - ETA: 12s - loss: 0.2060 - acc: 0.92 - ETA: 12s - loss: 0.2059 - acc: 0.92 - ETA: 12s - loss: 0.2027 - acc: 0.92 - ETA: 11s - loss: 0.2033 - acc: 0.93 - ETA: 11s - loss: 0.2016 - acc: 0.93 - ETA: 10s - loss: 0.2068 - acc: 0.92 - ETA: 10s - loss: 0.2072 - acc: 0.92 - ETA: 10s - loss: 0.2043 - acc: 0.93 - ETA: 9s - loss: 0.2049 - acc: 0.9297 - ETA: 9s - loss: 0.2067 - acc: 0.929 - ETA: 8s - loss: 0.2086 - acc: 0.929 - ETA: 8s - loss: 0.2072 - acc: 0.930 - ETA: 8s - loss: 0.2054 - acc: 0.930 - ETA: 7s - loss: 0.2053 - acc: 0.929 - ETA: 7s - loss: 0.2046 - acc: 0.929 - ETA: 6s - loss: 0.2025 - acc: 0.930 - ETA: 6s - loss: 0.2033 - acc: 0.929 - ETA: 6s - loss: 0.2061 - acc: 0.929 - ETA: 5s - loss: 0.2053 - acc: 0.928 - ETA: 5s - loss: 0.2032 - acc: 0.929 - ETA: 4s - loss: 0.2029 - acc: 0.929 - ETA: 4s - loss: 0.2045 - acc: 0.929 - ETA: 4s - loss: 0.2061 - acc: 0.929 - ETA: 3s - loss: 0.2043 - acc: 0.929 - ETA: 3s - loss: 0.2061 - acc: 0.930 - ETA: 3s - loss: 0.2060 - acc: 0.929 - ETA: 2s - loss: 0.2058 - acc: 0.930 - ETA: 2s - loss: 0.2054 - acc: 0.930 - ETA: 1s - loss: 0.2077 - acc: 0.930 - ETA: 1s - loss: 0.2078 - acc: 0.930 - ETA: 1s - loss: 0.2068 - acc: 0.930 - ETA: 0s - loss: 0.2083 - acc: 0.930 - ETA: 0s - loss: 0.2082 - acc: 0.930 - 26s 4ms/step - loss: 0.2082 - acc: 0.9300 - val_loss: 2.0791 - val_acc: 0.6503\n",
      "Epoch 68/100\n",
      "7000/7000 [==============================] - ETA: 20s - loss: 0.2130 - acc: 0.92 - ETA: 20s - loss: 0.1725 - acc: 0.93 - ETA: 19s - loss: 0.1751 - acc: 0.93 - ETA: 19s - loss: 0.1573 - acc: 0.94 - ETA: 19s - loss: 0.1655 - acc: 0.94 - ETA: 18s - loss: 0.1611 - acc: 0.94 - ETA: 18s - loss: 0.1553 - acc: 0.94 - ETA: 18s - loss: 0.1569 - acc: 0.94 - ETA: 17s - loss: 0.1600 - acc: 0.94 - ETA: 17s - loss: 0.1700 - acc: 0.94 - ETA: 16s - loss: 0.1672 - acc: 0.94 - ETA: 16s - loss: 0.1623 - acc: 0.94 - ETA: 16s - loss: 0.1718 - acc: 0.94 - ETA: 15s - loss: 0.1744 - acc: 0.94 - ETA: 15s - loss: 0.1737 - acc: 0.94 - ETA: 14s - loss: 0.1814 - acc: 0.94 - ETA: 14s - loss: 0.1807 - acc: 0.94 - ETA: 14s - loss: 0.1796 - acc: 0.94 - ETA: 13s - loss: 0.1838 - acc: 0.93 - ETA: 13s - loss: 0.1877 - acc: 0.93 - ETA: 13s - loss: 0.1884 - acc: 0.93 - ETA: 12s - loss: 0.1872 - acc: 0.93 - ETA: 12s - loss: 0.1870 - acc: 0.93 - ETA: 11s - loss: 0.1880 - acc: 0.93 - ETA: 11s - loss: 0.1957 - acc: 0.93 - ETA: 11s - loss: 0.2017 - acc: 0.93 - ETA: 10s - loss: 0.2045 - acc: 0.93 - ETA: 10s - loss: 0.2066 - acc: 0.93 - ETA: 9s - loss: 0.2097 - acc: 0.9300 - ETA: 9s - loss: 0.2062 - acc: 0.930 - ETA: 9s - loss: 0.2059 - acc: 0.930 - ETA: 8s - loss: 0.2060 - acc: 0.931 - ETA: 8s - loss: 0.2091 - acc: 0.931 - ETA: 7s - loss: 0.2106 - acc: 0.930 - ETA: 7s - loss: 0.2106 - acc: 0.930 - ETA: 7s - loss: 0.2121 - acc: 0.929 - ETA: 6s - loss: 0.2128 - acc: 0.930 - ETA: 6s - loss: 0.2139 - acc: 0.929 - ETA: 6s - loss: 0.2155 - acc: 0.929 - ETA: 5s - loss: 0.2152 - acc: 0.930 - ETA: 5s - loss: 0.2152 - acc: 0.929 - ETA: 4s - loss: 0.2194 - acc: 0.928 - ETA: 4s - loss: 0.2185 - acc: 0.928 - ETA: 4s - loss: 0.2193 - acc: 0.928 - ETA: 3s - loss: 0.2199 - acc: 0.928 - ETA: 3s - loss: 0.2196 - acc: 0.928 - ETA: 2s - loss: 0.2217 - acc: 0.928 - ETA: 2s - loss: 0.2218 - acc: 0.928 - ETA: 2s - loss: 0.2226 - acc: 0.928 - ETA: 1s - loss: 0.2204 - acc: 0.929 - ETA: 1s - loss: 0.2194 - acc: 0.929 - ETA: 1s - loss: 0.2197 - acc: 0.929 - ETA: 0s - loss: 0.2179 - acc: 0.929 - ETA: 0s - loss: 0.2160 - acc: 0.929 - 26s 4ms/step - loss: 0.2164 - acc: 0.9297 - val_loss: 2.0940 - val_acc: 0.6543\n",
      "Epoch 69/100\n",
      "7000/7000 [==============================] - ETA: 19s - loss: 0.2230 - acc: 0.92 - ETA: 19s - loss: 0.1834 - acc: 0.93 - ETA: 19s - loss: 0.1909 - acc: 0.93 - ETA: 19s - loss: 0.1795 - acc: 0.93 - ETA: 18s - loss: 0.1742 - acc: 0.94 - ETA: 18s - loss: 0.1915 - acc: 0.93 - ETA: 18s - loss: 0.2101 - acc: 0.93 - ETA: 17s - loss: 0.2088 - acc: 0.93 - ETA: 17s - loss: 0.2159 - acc: 0.93 - ETA: 17s - loss: 0.2157 - acc: 0.93 - ETA: 16s - loss: 0.2027 - acc: 0.93 - ETA: 16s - loss: 0.2046 - acc: 0.93 - ETA: 15s - loss: 0.2031 - acc: 0.93 - ETA: 15s - loss: 0.2072 - acc: 0.93 - ETA: 15s - loss: 0.2092 - acc: 0.93 - ETA: 14s - loss: 0.2092 - acc: 0.93 - ETA: 14s - loss: 0.2123 - acc: 0.93 - ETA: 14s - loss: 0.2094 - acc: 0.93 - ETA: 13s - loss: 0.2089 - acc: 0.93 - ETA: 13s - loss: 0.2082 - acc: 0.93 - ETA: 12s - loss: 0.2032 - acc: 0.93 - ETA: 12s - loss: 0.2025 - acc: 0.93 - ETA: 12s - loss: 0.2011 - acc: 0.93 - ETA: 11s - loss: 0.1999 - acc: 0.93 - ETA: 11s - loss: 0.2002 - acc: 0.93 - ETA: 10s - loss: 0.1984 - acc: 0.93 - ETA: 10s - loss: 0.1976 - acc: 0.93 - ETA: 10s - loss: 0.1980 - acc: 0.93 - ETA: 9s - loss: 0.1981 - acc: 0.9356 - ETA: 9s - loss: 0.1958 - acc: 0.936 - ETA: 9s - loss: 0.1947 - acc: 0.936 - ETA: 8s - loss: 0.1929 - acc: 0.936 - ETA: 8s - loss: 0.1917 - acc: 0.936 - ETA: 7s - loss: 0.1898 - acc: 0.937 - ETA: 7s - loss: 0.1911 - acc: 0.936 - ETA: 7s - loss: 0.1920 - acc: 0.936 - ETA: 6s - loss: 0.1910 - acc: 0.937 - ETA: 6s - loss: 0.1900 - acc: 0.937 - ETA: 6s - loss: 0.1896 - acc: 0.937 - ETA: 5s - loss: 0.1888 - acc: 0.937 - ETA: 5s - loss: 0.1903 - acc: 0.937 - ETA: 4s - loss: 0.1928 - acc: 0.936 - ETA: 4s - loss: 0.1931 - acc: 0.936 - ETA: 4s - loss: 0.1938 - acc: 0.935 - ETA: 3s - loss: 0.1948 - acc: 0.935 - ETA: 3s - loss: 0.1934 - acc: 0.936 - ETA: 2s - loss: 0.1917 - acc: 0.936 - ETA: 2s - loss: 0.1925 - acc: 0.936 - ETA: 2s - loss: 0.1935 - acc: 0.936 - ETA: 1s - loss: 0.1958 - acc: 0.935 - ETA: 1s - loss: 0.1975 - acc: 0.935 - ETA: 1s - loss: 0.2030 - acc: 0.932 - ETA: 0s - loss: 0.2040 - acc: 0.932 - ETA: 0s - loss: 0.2062 - acc: 0.932 - 26s 4ms/step - loss: 0.2064 - acc: 0.9326 - val_loss: 2.0792 - val_acc: 0.6457\n",
      "Epoch 70/100\n"
     ]
    },
    {
     "name": "stdout",
     "output_type": "stream",
     "text": [
      "7000/7000 [==============================] - ETA: 19s - loss: 0.2325 - acc: 0.92 - ETA: 20s - loss: 0.1728 - acc: 0.93 - ETA: 19s - loss: 0.1775 - acc: 0.93 - ETA: 19s - loss: 0.1606 - acc: 0.93 - ETA: 19s - loss: 0.1768 - acc: 0.93 - ETA: 18s - loss: 0.1753 - acc: 0.94 - ETA: 18s - loss: 0.1679 - acc: 0.94 - ETA: 17s - loss: 0.1610 - acc: 0.94 - ETA: 17s - loss: 0.1695 - acc: 0.94 - ETA: 17s - loss: 0.1641 - acc: 0.94 - ETA: 16s - loss: 0.1632 - acc: 0.94 - ETA: 16s - loss: 0.1633 - acc: 0.94 - ETA: 16s - loss: 0.1653 - acc: 0.94 - ETA: 15s - loss: 0.1728 - acc: 0.94 - ETA: 15s - loss: 0.1782 - acc: 0.94 - ETA: 15s - loss: 0.1787 - acc: 0.94 - ETA: 14s - loss: 0.1804 - acc: 0.94 - ETA: 14s - loss: 0.1795 - acc: 0.94 - ETA: 14s - loss: 0.1828 - acc: 0.94 - ETA: 13s - loss: 0.1851 - acc: 0.94 - ETA: 13s - loss: 0.1873 - acc: 0.94 - ETA: 12s - loss: 0.1831 - acc: 0.94 - ETA: 12s - loss: 0.1858 - acc: 0.94 - ETA: 12s - loss: 0.1883 - acc: 0.94 - ETA: 11s - loss: 0.1903 - acc: 0.93 - ETA: 11s - loss: 0.1898 - acc: 0.93 - ETA: 10s - loss: 0.1869 - acc: 0.94 - ETA: 10s - loss: 0.1912 - acc: 0.93 - ETA: 10s - loss: 0.1875 - acc: 0.94 - ETA: 9s - loss: 0.1856 - acc: 0.9409 - ETA: 9s - loss: 0.1864 - acc: 0.940 - ETA: 8s - loss: 0.1910 - acc: 0.939 - ETA: 8s - loss: 0.1897 - acc: 0.939 - ETA: 8s - loss: 0.1892 - acc: 0.939 - ETA: 7s - loss: 0.1897 - acc: 0.939 - ETA: 7s - loss: 0.1910 - acc: 0.938 - ETA: 6s - loss: 0.1915 - acc: 0.938 - ETA: 6s - loss: 0.1919 - acc: 0.938 - ETA: 6s - loss: 0.1935 - acc: 0.937 - ETA: 5s - loss: 0.1907 - acc: 0.938 - ETA: 5s - loss: 0.1918 - acc: 0.938 - ETA: 4s - loss: 0.1906 - acc: 0.939 - ETA: 4s - loss: 0.1885 - acc: 0.939 - ETA: 4s - loss: 0.1890 - acc: 0.939 - ETA: 3s - loss: 0.1874 - acc: 0.940 - ETA: 3s - loss: 0.1863 - acc: 0.940 - ETA: 3s - loss: 0.1865 - acc: 0.940 - ETA: 2s - loss: 0.1883 - acc: 0.940 - ETA: 2s - loss: 0.1901 - acc: 0.940 - ETA: 1s - loss: 0.1901 - acc: 0.940 - ETA: 1s - loss: 0.1927 - acc: 0.940 - ETA: 1s - loss: 0.1937 - acc: 0.939 - ETA: 0s - loss: 0.1931 - acc: 0.939 - ETA: 0s - loss: 0.1918 - acc: 0.940 - 26s 4ms/step - loss: 0.1922 - acc: 0.9404 - val_loss: 2.1818 - val_acc: 0.6583\n",
      "Epoch 71/100\n",
      "7000/7000 [==============================] - ETA: 19s - loss: 0.1488 - acc: 0.96 - ETA: 20s - loss: 0.1434 - acc: 0.96 - ETA: 19s - loss: 0.1226 - acc: 0.97 - ETA: 19s - loss: 0.1578 - acc: 0.96 - ETA: 19s - loss: 0.1639 - acc: 0.95 - ETA: 18s - loss: 0.1498 - acc: 0.95 - ETA: 18s - loss: 0.1460 - acc: 0.95 - ETA: 17s - loss: 0.1527 - acc: 0.95 - ETA: 17s - loss: 0.1519 - acc: 0.95 - ETA: 17s - loss: 0.1556 - acc: 0.95 - ETA: 16s - loss: 0.1609 - acc: 0.95 - ETA: 16s - loss: 0.1607 - acc: 0.95 - ETA: 15s - loss: 0.1539 - acc: 0.95 - ETA: 15s - loss: 0.1588 - acc: 0.95 - ETA: 15s - loss: 0.1575 - acc: 0.95 - ETA: 14s - loss: 0.1563 - acc: 0.95 - ETA: 14s - loss: 0.1683 - acc: 0.95 - ETA: 14s - loss: 0.1711 - acc: 0.95 - ETA: 13s - loss: 0.1648 - acc: 0.95 - ETA: 13s - loss: 0.1690 - acc: 0.94 - ETA: 12s - loss: 0.1711 - acc: 0.94 - ETA: 12s - loss: 0.1711 - acc: 0.94 - ETA: 12s - loss: 0.1764 - acc: 0.94 - ETA: 11s - loss: 0.1794 - acc: 0.94 - ETA: 11s - loss: 0.1799 - acc: 0.94 - ETA: 10s - loss: 0.1778 - acc: 0.94 - ETA: 10s - loss: 0.1783 - acc: 0.94 - ETA: 10s - loss: 0.1795 - acc: 0.94 - ETA: 9s - loss: 0.1789 - acc: 0.9432 - ETA: 9s - loss: 0.1784 - acc: 0.942 - ETA: 9s - loss: 0.1797 - acc: 0.943 - ETA: 8s - loss: 0.1791 - acc: 0.943 - ETA: 8s - loss: 0.1801 - acc: 0.943 - ETA: 7s - loss: 0.1818 - acc: 0.943 - ETA: 7s - loss: 0.1836 - acc: 0.942 - ETA: 7s - loss: 0.1860 - acc: 0.941 - ETA: 6s - loss: 0.1899 - acc: 0.939 - ETA: 6s - loss: 0.1927 - acc: 0.938 - ETA: 6s - loss: 0.1919 - acc: 0.938 - ETA: 5s - loss: 0.1913 - acc: 0.938 - ETA: 5s - loss: 0.1883 - acc: 0.939 - ETA: 4s - loss: 0.1889 - acc: 0.939 - ETA: 4s - loss: 0.1882 - acc: 0.939 - ETA: 4s - loss: 0.1928 - acc: 0.937 - ETA: 3s - loss: 0.1914 - acc: 0.938 - ETA: 3s - loss: 0.1924 - acc: 0.938 - ETA: 2s - loss: 0.1906 - acc: 0.938 - ETA: 2s - loss: 0.1921 - acc: 0.937 - ETA: 2s - loss: 0.1938 - acc: 0.937 - ETA: 1s - loss: 0.1941 - acc: 0.937 - ETA: 1s - loss: 0.1935 - acc: 0.937 - ETA: 1s - loss: 0.1934 - acc: 0.937 - ETA: 0s - loss: 0.1941 - acc: 0.937 - ETA: 0s - loss: 0.1968 - acc: 0.936 - 26s 4ms/step - loss: 0.1974 - acc: 0.9363 - val_loss: 2.2022 - val_acc: 0.6630\n",
      "Epoch 72/100\n",
      "7000/7000 [==============================] - ETA: 19s - loss: 0.1502 - acc: 0.94 - ETA: 20s - loss: 0.1388 - acc: 0.94 - ETA: 20s - loss: 0.1561 - acc: 0.94 - ETA: 20s - loss: 0.1780 - acc: 0.93 - ETA: 19s - loss: 0.1739 - acc: 0.93 - ETA: 19s - loss: 0.1795 - acc: 0.94 - ETA: 18s - loss: 0.1845 - acc: 0.93 - ETA: 18s - loss: 0.1817 - acc: 0.93 - ETA: 17s - loss: 0.1869 - acc: 0.93 - ETA: 17s - loss: 0.1765 - acc: 0.93 - ETA: 17s - loss: 0.1780 - acc: 0.93 - ETA: 16s - loss: 0.1822 - acc: 0.93 - ETA: 16s - loss: 0.1872 - acc: 0.93 - ETA: 15s - loss: 0.1899 - acc: 0.93 - ETA: 15s - loss: 0.1928 - acc: 0.93 - ETA: 14s - loss: 0.1957 - acc: 0.93 - ETA: 14s - loss: 0.1926 - acc: 0.93 - ETA: 14s - loss: 0.1979 - acc: 0.93 - ETA: 13s - loss: 0.2027 - acc: 0.93 - ETA: 13s - loss: 0.2051 - acc: 0.93 - ETA: 13s - loss: 0.1998 - acc: 0.93 - ETA: 12s - loss: 0.1947 - acc: 0.93 - ETA: 12s - loss: 0.1988 - acc: 0.93 - ETA: 11s - loss: 0.2016 - acc: 0.93 - ETA: 11s - loss: 0.2017 - acc: 0.93 - ETA: 11s - loss: 0.2021 - acc: 0.93 - ETA: 10s - loss: 0.1988 - acc: 0.93 - ETA: 10s - loss: 0.1980 - acc: 0.93 - ETA: 9s - loss: 0.1980 - acc: 0.9372 - ETA: 9s - loss: 0.1970 - acc: 0.937 - ETA: 9s - loss: 0.1995 - acc: 0.937 - ETA: 8s - loss: 0.2005 - acc: 0.936 - ETA: 8s - loss: 0.1977 - acc: 0.936 - ETA: 7s - loss: 0.2020 - acc: 0.935 - ETA: 7s - loss: 0.1990 - acc: 0.936 - ETA: 7s - loss: 0.1969 - acc: 0.937 - ETA: 6s - loss: 0.2007 - acc: 0.937 - ETA: 6s - loss: 0.1998 - acc: 0.937 - ETA: 6s - loss: 0.2015 - acc: 0.937 - ETA: 5s - loss: 0.1996 - acc: 0.937 - ETA: 5s - loss: 0.1995 - acc: 0.937 - ETA: 4s - loss: 0.1972 - acc: 0.938 - ETA: 4s - loss: 0.1965 - acc: 0.938 - ETA: 4s - loss: 0.1959 - acc: 0.938 - ETA: 3s - loss: 0.1968 - acc: 0.938 - ETA: 3s - loss: 0.1964 - acc: 0.938 - ETA: 2s - loss: 0.1986 - acc: 0.937 - ETA: 2s - loss: 0.1986 - acc: 0.937 - ETA: 2s - loss: 0.1987 - acc: 0.937 - ETA: 1s - loss: 0.1991 - acc: 0.936 - ETA: 1s - loss: 0.1998 - acc: 0.937 - ETA: 1s - loss: 0.2015 - acc: 0.936 - ETA: 0s - loss: 0.2015 - acc: 0.936 - ETA: 0s - loss: 0.2003 - acc: 0.937 - 26s 4ms/step - loss: 0.1985 - acc: 0.9379 - val_loss: 2.2378 - val_acc: 0.6603\n",
      "Epoch 73/100\n"
     ]
    },
    {
     "name": "stdout",
     "output_type": "stream",
     "text": [
      "7000/7000 [==============================] - ETA: 20s - loss: 0.1148 - acc: 0.97 - ETA: 20s - loss: 0.0937 - acc: 0.97 - ETA: 19s - loss: 0.0855 - acc: 0.97 - ETA: 19s - loss: 0.1519 - acc: 0.96 - ETA: 18s - loss: 0.1636 - acc: 0.95 - ETA: 18s - loss: 0.1678 - acc: 0.95 - ETA: 18s - loss: 0.1783 - acc: 0.95 - ETA: 17s - loss: 0.1873 - acc: 0.95 - ETA: 17s - loss: 0.1942 - acc: 0.94 - ETA: 17s - loss: 0.1952 - acc: 0.94 - ETA: 16s - loss: 0.1891 - acc: 0.94 - ETA: 16s - loss: 0.1830 - acc: 0.94 - ETA: 15s - loss: 0.1774 - acc: 0.95 - ETA: 15s - loss: 0.1814 - acc: 0.94 - ETA: 15s - loss: 0.1830 - acc: 0.94 - ETA: 14s - loss: 0.1859 - acc: 0.94 - ETA: 14s - loss: 0.1890 - acc: 0.94 - ETA: 14s - loss: 0.1848 - acc: 0.94 - ETA: 13s - loss: 0.1824 - acc: 0.94 - ETA: 13s - loss: 0.1878 - acc: 0.94 - ETA: 13s - loss: 0.1956 - acc: 0.94 - ETA: 12s - loss: 0.1909 - acc: 0.94 - ETA: 12s - loss: 0.1931 - acc: 0.94 - ETA: 11s - loss: 0.1911 - acc: 0.94 - ETA: 11s - loss: 0.1913 - acc: 0.94 - ETA: 11s - loss: 0.1895 - acc: 0.94 - ETA: 10s - loss: 0.1869 - acc: 0.94 - ETA: 10s - loss: 0.1852 - acc: 0.94 - ETA: 9s - loss: 0.1843 - acc: 0.9456 - ETA: 9s - loss: 0.1836 - acc: 0.945 - ETA: 9s - loss: 0.1848 - acc: 0.945 - ETA: 8s - loss: 0.1880 - acc: 0.944 - ETA: 8s - loss: 0.1881 - acc: 0.943 - ETA: 7s - loss: 0.1906 - acc: 0.943 - ETA: 7s - loss: 0.1889 - acc: 0.943 - ETA: 7s - loss: 0.1886 - acc: 0.943 - ETA: 6s - loss: 0.1904 - acc: 0.944 - ETA: 6s - loss: 0.1881 - acc: 0.944 - ETA: 6s - loss: 0.1896 - acc: 0.943 - ETA: 5s - loss: 0.1890 - acc: 0.943 - ETA: 5s - loss: 0.1891 - acc: 0.943 - ETA: 4s - loss: 0.1872 - acc: 0.944 - ETA: 4s - loss: 0.1899 - acc: 0.943 - ETA: 4s - loss: 0.1944 - acc: 0.942 - ETA: 3s - loss: 0.1963 - acc: 0.941 - ETA: 3s - loss: 0.1973 - acc: 0.941 - ETA: 2s - loss: 0.1994 - acc: 0.940 - ETA: 2s - loss: 0.1989 - acc: 0.940 - ETA: 2s - loss: 0.1999 - acc: 0.940 - ETA: 1s - loss: 0.2002 - acc: 0.940 - ETA: 1s - loss: 0.1982 - acc: 0.940 - ETA: 1s - loss: 0.1974 - acc: 0.940 - ETA: 0s - loss: 0.1988 - acc: 0.940 - ETA: 0s - loss: 0.1999 - acc: 0.939 - 26s 4ms/step - loss: 0.1982 - acc: 0.9403 - val_loss: 2.3331 - val_acc: 0.6537\n",
      "Epoch 74/100\n",
      "7000/7000 [==============================] - ETA: 19s - loss: 0.1925 - acc: 0.95 - ETA: 19s - loss: 0.2126 - acc: 0.96 - ETA: 19s - loss: 0.1834 - acc: 0.96 - ETA: 19s - loss: 0.1722 - acc: 0.95 - ETA: 18s - loss: 0.1874 - acc: 0.95 - ETA: 18s - loss: 0.1899 - acc: 0.95 - ETA: 18s - loss: 0.1863 - acc: 0.94 - ETA: 17s - loss: 0.1974 - acc: 0.94 - ETA: 17s - loss: 0.1844 - acc: 0.94 - ETA: 17s - loss: 0.1714 - acc: 0.95 - ETA: 16s - loss: 0.1812 - acc: 0.94 - ETA: 16s - loss: 0.1761 - acc: 0.94 - ETA: 15s - loss: 0.1699 - acc: 0.94 - ETA: 15s - loss: 0.1754 - acc: 0.94 - ETA: 15s - loss: 0.1856 - acc: 0.94 - ETA: 14s - loss: 0.1828 - acc: 0.94 - ETA: 14s - loss: 0.1792 - acc: 0.94 - ETA: 14s - loss: 0.1752 - acc: 0.94 - ETA: 13s - loss: 0.1800 - acc: 0.94 - ETA: 13s - loss: 0.1795 - acc: 0.94 - ETA: 12s - loss: 0.1787 - acc: 0.94 - ETA: 12s - loss: 0.1769 - acc: 0.94 - ETA: 12s - loss: 0.1791 - acc: 0.94 - ETA: 11s - loss: 0.1760 - acc: 0.94 - ETA: 11s - loss: 0.1755 - acc: 0.94 - ETA: 10s - loss: 0.1747 - acc: 0.94 - ETA: 10s - loss: 0.1779 - acc: 0.94 - ETA: 10s - loss: 0.1821 - acc: 0.93 - ETA: 9s - loss: 0.1817 - acc: 0.9402 - ETA: 9s - loss: 0.1851 - acc: 0.938 - ETA: 9s - loss: 0.1854 - acc: 0.938 - ETA: 8s - loss: 0.1858 - acc: 0.937 - ETA: 8s - loss: 0.1876 - acc: 0.937 - ETA: 7s - loss: 0.1840 - acc: 0.938 - ETA: 7s - loss: 0.1877 - acc: 0.937 - ETA: 7s - loss: 0.1875 - acc: 0.937 - ETA: 6s - loss: 0.1883 - acc: 0.936 - ETA: 6s - loss: 0.1875 - acc: 0.936 - ETA: 6s - loss: 0.1916 - acc: 0.936 - ETA: 5s - loss: 0.1931 - acc: 0.935 - ETA: 5s - loss: 0.1953 - acc: 0.934 - ETA: 4s - loss: 0.1942 - acc: 0.935 - ETA: 4s - loss: 0.1961 - acc: 0.933 - ETA: 4s - loss: 0.1960 - acc: 0.933 - ETA: 3s - loss: 0.1960 - acc: 0.934 - ETA: 3s - loss: 0.1941 - acc: 0.934 - ETA: 2s - loss: 0.1949 - acc: 0.935 - ETA: 2s - loss: 0.1971 - acc: 0.935 - ETA: 2s - loss: 0.1961 - acc: 0.935 - ETA: 1s - loss: 0.1985 - acc: 0.934 - ETA: 1s - loss: 0.1998 - acc: 0.934 - ETA: 1s - loss: 0.1988 - acc: 0.934 - ETA: 0s - loss: 0.1999 - acc: 0.934 - ETA: 0s - loss: 0.1994 - acc: 0.934 - 26s 4ms/step - loss: 0.1986 - acc: 0.9347 - val_loss: 2.1967 - val_acc: 0.6590\n",
      "Epoch 75/100\n",
      "7000/7000 [==============================] - ETA: 20s - loss: 0.1467 - acc: 0.93 - ETA: 19s - loss: 0.1674 - acc: 0.93 - ETA: 19s - loss: 0.2021 - acc: 0.93 - ETA: 19s - loss: 0.1956 - acc: 0.93 - ETA: 18s - loss: 0.1801 - acc: 0.94 - ETA: 18s - loss: 0.1906 - acc: 0.94 - ETA: 18s - loss: 0.1968 - acc: 0.94 - ETA: 17s - loss: 0.1981 - acc: 0.94 - ETA: 17s - loss: 0.1956 - acc: 0.94 - ETA: 17s - loss: 0.1993 - acc: 0.94 - ETA: 16s - loss: 0.1998 - acc: 0.94 - ETA: 16s - loss: 0.1925 - acc: 0.94 - ETA: 16s - loss: 0.1911 - acc: 0.94 - ETA: 15s - loss: 0.1857 - acc: 0.94 - ETA: 15s - loss: 0.1859 - acc: 0.94 - ETA: 14s - loss: 0.1951 - acc: 0.93 - ETA: 14s - loss: 0.1921 - acc: 0.93 - ETA: 14s - loss: 0.1935 - acc: 0.93 - ETA: 13s - loss: 0.1958 - acc: 0.93 - ETA: 13s - loss: 0.1900 - acc: 0.94 - ETA: 13s - loss: 0.1891 - acc: 0.94 - ETA: 12s - loss: 0.1862 - acc: 0.94 - ETA: 12s - loss: 0.1800 - acc: 0.94 - ETA: 11s - loss: 0.1849 - acc: 0.94 - ETA: 11s - loss: 0.1882 - acc: 0.94 - ETA: 11s - loss: 0.1893 - acc: 0.94 - ETA: 10s - loss: 0.1948 - acc: 0.93 - ETA: 10s - loss: 0.1975 - acc: 0.93 - ETA: 9s - loss: 0.1973 - acc: 0.9370 - ETA: 9s - loss: 0.1966 - acc: 0.936 - ETA: 9s - loss: 0.1941 - acc: 0.938 - ETA: 8s - loss: 0.1916 - acc: 0.938 - ETA: 8s - loss: 0.1945 - acc: 0.937 - ETA: 7s - loss: 0.1966 - acc: 0.937 - ETA: 7s - loss: 0.1949 - acc: 0.937 - ETA: 7s - loss: 0.1929 - acc: 0.937 - ETA: 6s - loss: 0.1950 - acc: 0.937 - ETA: 6s - loss: 0.1977 - acc: 0.936 - ETA: 6s - loss: 0.1981 - acc: 0.936 - ETA: 5s - loss: 0.1967 - acc: 0.937 - ETA: 5s - loss: 0.1945 - acc: 0.938 - ETA: 4s - loss: 0.1950 - acc: 0.937 - ETA: 4s - loss: 0.1946 - acc: 0.937 - ETA: 4s - loss: 0.1958 - acc: 0.936 - ETA: 3s - loss: 0.1962 - acc: 0.936 - ETA: 3s - loss: 0.1983 - acc: 0.936 - ETA: 2s - loss: 0.2016 - acc: 0.935 - ETA: 2s - loss: 0.2021 - acc: 0.935 - ETA: 2s - loss: 0.2011 - acc: 0.936 - ETA: 1s - loss: 0.2014 - acc: 0.935 - ETA: 1s - loss: 0.2009 - acc: 0.935 - ETA: 1s - loss: 0.2007 - acc: 0.935 - ETA: 0s - loss: 0.2025 - acc: 0.935 - ETA: 0s - loss: 0.2034 - acc: 0.935 - 26s 4ms/step - loss: 0.2042 - acc: 0.9350 - val_loss: 2.1599 - val_acc: 0.6570\n",
      "Epoch 76/100\n"
     ]
    },
    {
     "name": "stdout",
     "output_type": "stream",
     "text": [
      "7000/7000 [==============================] - ETA: 19s - loss: 0.1140 - acc: 0.95 - ETA: 19s - loss: 0.1100 - acc: 0.96 - ETA: 19s - loss: 0.1263 - acc: 0.96 - ETA: 19s - loss: 0.1386 - acc: 0.95 - ETA: 18s - loss: 0.1370 - acc: 0.95 - ETA: 18s - loss: 0.1424 - acc: 0.95 - ETA: 18s - loss: 0.1459 - acc: 0.95 - ETA: 17s - loss: 0.1438 - acc: 0.95 - ETA: 17s - loss: 0.1480 - acc: 0.95 - ETA: 17s - loss: 0.1461 - acc: 0.95 - ETA: 16s - loss: 0.1517 - acc: 0.95 - ETA: 16s - loss: 0.1565 - acc: 0.95 - ETA: 15s - loss: 0.1553 - acc: 0.95 - ETA: 15s - loss: 0.1509 - acc: 0.95 - ETA: 15s - loss: 0.1479 - acc: 0.95 - ETA: 14s - loss: 0.1476 - acc: 0.95 - ETA: 14s - loss: 0.1569 - acc: 0.95 - ETA: 14s - loss: 0.1624 - acc: 0.95 - ETA: 13s - loss: 0.1656 - acc: 0.95 - ETA: 13s - loss: 0.1646 - acc: 0.95 - ETA: 12s - loss: 0.1611 - acc: 0.95 - ETA: 12s - loss: 0.1639 - acc: 0.94 - ETA: 12s - loss: 0.1647 - acc: 0.94 - ETA: 11s - loss: 0.1629 - acc: 0.95 - ETA: 11s - loss: 0.1624 - acc: 0.95 - ETA: 11s - loss: 0.1638 - acc: 0.95 - ETA: 10s - loss: 0.1668 - acc: 0.94 - ETA: 10s - loss: 0.1652 - acc: 0.94 - ETA: 9s - loss: 0.1674 - acc: 0.9494 - ETA: 9s - loss: 0.1699 - acc: 0.948 - ETA: 9s - loss: 0.1709 - acc: 0.947 - ETA: 8s - loss: 0.1706 - acc: 0.947 - ETA: 8s - loss: 0.1718 - acc: 0.946 - ETA: 7s - loss: 0.1739 - acc: 0.946 - ETA: 7s - loss: 0.1781 - acc: 0.945 - ETA: 7s - loss: 0.1773 - acc: 0.944 - ETA: 6s - loss: 0.1781 - acc: 0.944 - ETA: 6s - loss: 0.1791 - acc: 0.943 - ETA: 6s - loss: 0.1795 - acc: 0.943 - ETA: 5s - loss: 0.1807 - acc: 0.943 - ETA: 5s - loss: 0.1825 - acc: 0.942 - ETA: 4s - loss: 0.1851 - acc: 0.942 - ETA: 4s - loss: 0.1834 - acc: 0.942 - ETA: 4s - loss: 0.1852 - acc: 0.941 - ETA: 3s - loss: 0.1845 - acc: 0.941 - ETA: 3s - loss: 0.1857 - acc: 0.941 - ETA: 2s - loss: 0.1843 - acc: 0.942 - ETA: 2s - loss: 0.1847 - acc: 0.941 - ETA: 2s - loss: 0.1848 - acc: 0.942 - ETA: 1s - loss: 0.1877 - acc: 0.941 - ETA: 1s - loss: 0.1875 - acc: 0.941 - ETA: 1s - loss: 0.1860 - acc: 0.941 - ETA: 0s - loss: 0.1864 - acc: 0.941 - ETA: 0s - loss: 0.1879 - acc: 0.941 - 26s 4ms/step - loss: 0.1895 - acc: 0.9406 - val_loss: 2.3268 - val_acc: 0.6593\n",
      "Epoch 77/100\n",
      "7000/7000 [==============================] - ETA: 22s - loss: 0.2717 - acc: 0.92 - ETA: 21s - loss: 0.2835 - acc: 0.92 - ETA: 20s - loss: 0.2732 - acc: 0.92 - ETA: 20s - loss: 0.2352 - acc: 0.93 - ETA: 19s - loss: 0.2137 - acc: 0.93 - ETA: 19s - loss: 0.1946 - acc: 0.93 - ETA: 18s - loss: 0.2014 - acc: 0.93 - ETA: 18s - loss: 0.2005 - acc: 0.93 - ETA: 17s - loss: 0.1896 - acc: 0.93 - ETA: 17s - loss: 0.1959 - acc: 0.93 - ETA: 16s - loss: 0.1937 - acc: 0.93 - ETA: 16s - loss: 0.1875 - acc: 0.93 - ETA: 16s - loss: 0.1835 - acc: 0.93 - ETA: 15s - loss: 0.1805 - acc: 0.93 - ETA: 15s - loss: 0.1786 - acc: 0.93 - ETA: 14s - loss: 0.1871 - acc: 0.93 - ETA: 14s - loss: 0.1924 - acc: 0.93 - ETA: 14s - loss: 0.1918 - acc: 0.93 - ETA: 13s - loss: 0.1891 - acc: 0.93 - ETA: 13s - loss: 0.1941 - acc: 0.93 - ETA: 12s - loss: 0.1881 - acc: 0.93 - ETA: 12s - loss: 0.1868 - acc: 0.93 - ETA: 12s - loss: 0.1903 - acc: 0.93 - ETA: 11s - loss: 0.1907 - acc: 0.93 - ETA: 11s - loss: 0.1930 - acc: 0.93 - ETA: 11s - loss: 0.1951 - acc: 0.93 - ETA: 10s - loss: 0.1952 - acc: 0.93 - ETA: 10s - loss: 0.1999 - acc: 0.93 - ETA: 9s - loss: 0.2032 - acc: 0.9327 - ETA: 9s - loss: 0.2004 - acc: 0.933 - ETA: 9s - loss: 0.1988 - acc: 0.933 - ETA: 8s - loss: 0.1977 - acc: 0.933 - ETA: 8s - loss: 0.1972 - acc: 0.934 - ETA: 7s - loss: 0.1996 - acc: 0.933 - ETA: 7s - loss: 0.2000 - acc: 0.932 - ETA: 7s - loss: 0.1989 - acc: 0.933 - ETA: 6s - loss: 0.1979 - acc: 0.933 - ETA: 6s - loss: 0.1967 - acc: 0.934 - ETA: 6s - loss: 0.1933 - acc: 0.935 - ETA: 5s - loss: 0.1911 - acc: 0.935 - ETA: 5s - loss: 0.1909 - acc: 0.936 - ETA: 4s - loss: 0.1902 - acc: 0.936 - ETA: 4s - loss: 0.1919 - acc: 0.936 - ETA: 4s - loss: 0.1908 - acc: 0.936 - ETA: 3s - loss: 0.1929 - acc: 0.936 - ETA: 3s - loss: 0.1930 - acc: 0.936 - ETA: 2s - loss: 0.1948 - acc: 0.936 - ETA: 2s - loss: 0.1947 - acc: 0.936 - ETA: 2s - loss: 0.1960 - acc: 0.935 - ETA: 1s - loss: 0.1985 - acc: 0.934 - ETA: 1s - loss: 0.1978 - acc: 0.934 - ETA: 1s - loss: 0.1981 - acc: 0.935 - ETA: 0s - loss: 0.1985 - acc: 0.935 - ETA: 0s - loss: 0.1989 - acc: 0.934 - 26s 4ms/step - loss: 0.1985 - acc: 0.9343 - val_loss: 2.2971 - val_acc: 0.6533\n",
      "Epoch 78/100\n",
      "7000/7000 [==============================] - ETA: 19s - loss: 0.2788 - acc: 0.90 - ETA: 20s - loss: 0.2582 - acc: 0.91 - ETA: 19s - loss: 0.2202 - acc: 0.93 - ETA: 19s - loss: 0.1874 - acc: 0.94 - ETA: 19s - loss: 0.1878 - acc: 0.94 - ETA: 18s - loss: 0.1802 - acc: 0.94 - ETA: 18s - loss: 0.1761 - acc: 0.94 - ETA: 17s - loss: 0.1714 - acc: 0.95 - ETA: 17s - loss: 0.1760 - acc: 0.94 - ETA: 17s - loss: 0.1973 - acc: 0.94 - ETA: 16s - loss: 0.1976 - acc: 0.94 - ETA: 16s - loss: 0.1924 - acc: 0.94 - ETA: 15s - loss: 0.1870 - acc: 0.94 - ETA: 15s - loss: 0.1848 - acc: 0.94 - ETA: 15s - loss: 0.1825 - acc: 0.94 - ETA: 14s - loss: 0.1803 - acc: 0.94 - ETA: 14s - loss: 0.1874 - acc: 0.94 - ETA: 14s - loss: 0.1881 - acc: 0.94 - ETA: 13s - loss: 0.1859 - acc: 0.94 - ETA: 13s - loss: 0.1893 - acc: 0.94 - ETA: 13s - loss: 0.1887 - acc: 0.93 - ETA: 12s - loss: 0.1955 - acc: 0.93 - ETA: 12s - loss: 0.1940 - acc: 0.93 - ETA: 11s - loss: 0.1937 - acc: 0.93 - ETA: 11s - loss: 0.1933 - acc: 0.93 - ETA: 11s - loss: 0.1928 - acc: 0.93 - ETA: 10s - loss: 0.1929 - acc: 0.93 - ETA: 10s - loss: 0.1903 - acc: 0.93 - ETA: 9s - loss: 0.1906 - acc: 0.9397 - ETA: 9s - loss: 0.1887 - acc: 0.940 - ETA: 9s - loss: 0.1908 - acc: 0.940 - ETA: 8s - loss: 0.1892 - acc: 0.940 - ETA: 8s - loss: 0.1879 - acc: 0.941 - ETA: 7s - loss: 0.1887 - acc: 0.940 - ETA: 7s - loss: 0.1882 - acc: 0.941 - ETA: 7s - loss: 0.1902 - acc: 0.940 - ETA: 6s - loss: 0.1886 - acc: 0.940 - ETA: 6s - loss: 0.1884 - acc: 0.940 - ETA: 6s - loss: 0.1916 - acc: 0.938 - ETA: 5s - loss: 0.1912 - acc: 0.938 - ETA: 5s - loss: 0.1910 - acc: 0.939 - ETA: 4s - loss: 0.1900 - acc: 0.939 - ETA: 4s - loss: 0.1904 - acc: 0.938 - ETA: 4s - loss: 0.1909 - acc: 0.938 - ETA: 3s - loss: 0.1899 - acc: 0.939 - ETA: 3s - loss: 0.1878 - acc: 0.939 - ETA: 2s - loss: 0.1890 - acc: 0.939 - ETA: 2s - loss: 0.1910 - acc: 0.939 - ETA: 2s - loss: 0.1895 - acc: 0.939 - ETA: 1s - loss: 0.1918 - acc: 0.938 - ETA: 1s - loss: 0.1932 - acc: 0.937 - ETA: 1s - loss: 0.1928 - acc: 0.937 - ETA: 0s - loss: 0.1938 - acc: 0.937 - ETA: 0s - loss: 0.1945 - acc: 0.937 - 26s 4ms/step - loss: 0.1950 - acc: 0.9370 - val_loss: 2.1645 - val_acc: 0.6567\n",
      "Epoch 79/100\n"
     ]
    },
    {
     "name": "stdout",
     "output_type": "stream",
     "text": [
      "7000/7000 [==============================] - ETA: 20s - loss: 0.1291 - acc: 0.95 - ETA: 20s - loss: 0.2309 - acc: 0.92 - ETA: 19s - loss: 0.2329 - acc: 0.92 - ETA: 19s - loss: 0.2582 - acc: 0.92 - ETA: 18s - loss: 0.2337 - acc: 0.93 - ETA: 18s - loss: 0.2211 - acc: 0.93 - ETA: 18s - loss: 0.2150 - acc: 0.93 - ETA: 17s - loss: 0.2043 - acc: 0.94 - ETA: 17s - loss: 0.1926 - acc: 0.94 - ETA: 17s - loss: 0.1917 - acc: 0.94 - ETA: 16s - loss: 0.1830 - acc: 0.94 - ETA: 16s - loss: 0.1830 - acc: 0.94 - ETA: 15s - loss: 0.1912 - acc: 0.94 - ETA: 15s - loss: 0.1932 - acc: 0.94 - ETA: 15s - loss: 0.1901 - acc: 0.94 - ETA: 14s - loss: 0.1896 - acc: 0.94 - ETA: 14s - loss: 0.1863 - acc: 0.94 - ETA: 14s - loss: 0.1868 - acc: 0.94 - ETA: 13s - loss: 0.1856 - acc: 0.94 - ETA: 13s - loss: 0.1931 - acc: 0.94 - ETA: 12s - loss: 0.1871 - acc: 0.94 - ETA: 12s - loss: 0.1845 - acc: 0.94 - ETA: 12s - loss: 0.1827 - acc: 0.94 - ETA: 11s - loss: 0.1857 - acc: 0.94 - ETA: 11s - loss: 0.1871 - acc: 0.94 - ETA: 10s - loss: 0.1867 - acc: 0.94 - ETA: 10s - loss: 0.1862 - acc: 0.94 - ETA: 10s - loss: 0.1853 - acc: 0.94 - ETA: 9s - loss: 0.1851 - acc: 0.9456 - ETA: 9s - loss: 0.1853 - acc: 0.945 - ETA: 9s - loss: 0.1861 - acc: 0.944 - ETA: 8s - loss: 0.1846 - acc: 0.944 - ETA: 8s - loss: 0.1841 - acc: 0.944 - ETA: 7s - loss: 0.1840 - acc: 0.944 - ETA: 7s - loss: 0.1857 - acc: 0.944 - ETA: 7s - loss: 0.1876 - acc: 0.942 - ETA: 6s - loss: 0.1889 - acc: 0.942 - ETA: 6s - loss: 0.1882 - acc: 0.942 - ETA: 6s - loss: 0.1915 - acc: 0.941 - ETA: 5s - loss: 0.1888 - acc: 0.941 - ETA: 5s - loss: 0.1890 - acc: 0.941 - ETA: 4s - loss: 0.1916 - acc: 0.940 - ETA: 4s - loss: 0.1916 - acc: 0.940 - ETA: 4s - loss: 0.1899 - acc: 0.940 - ETA: 3s - loss: 0.1909 - acc: 0.940 - ETA: 3s - loss: 0.1911 - acc: 0.939 - ETA: 2s - loss: 0.1970 - acc: 0.938 - ETA: 2s - loss: 0.1948 - acc: 0.938 - ETA: 2s - loss: 0.1932 - acc: 0.939 - ETA: 1s - loss: 0.1933 - acc: 0.939 - ETA: 1s - loss: 0.1932 - acc: 0.939 - ETA: 1s - loss: 0.1922 - acc: 0.938 - ETA: 0s - loss: 0.1938 - acc: 0.938 - ETA: 0s - loss: 0.1943 - acc: 0.938 - 26s 4ms/step - loss: 0.1950 - acc: 0.9381 - val_loss: 2.0953 - val_acc: 0.6467\n",
      "Epoch 80/100\n",
      "7000/7000 [==============================] - ETA: 20s - loss: 0.2300 - acc: 0.92 - ETA: 19s - loss: 0.1912 - acc: 0.92 - ETA: 19s - loss: 0.1757 - acc: 0.93 - ETA: 19s - loss: 0.1835 - acc: 0.93 - ETA: 18s - loss: 0.1643 - acc: 0.93 - ETA: 18s - loss: 0.1609 - acc: 0.94 - ETA: 18s - loss: 0.1590 - acc: 0.94 - ETA: 18s - loss: 0.1545 - acc: 0.94 - ETA: 17s - loss: 0.1573 - acc: 0.94 - ETA: 17s - loss: 0.1546 - acc: 0.94 - ETA: 16s - loss: 0.1513 - acc: 0.94 - ETA: 16s - loss: 0.1535 - acc: 0.94 - ETA: 16s - loss: 0.1557 - acc: 0.94 - ETA: 15s - loss: 0.1630 - acc: 0.94 - ETA: 15s - loss: 0.1574 - acc: 0.94 - ETA: 14s - loss: 0.1524 - acc: 0.94 - ETA: 14s - loss: 0.1517 - acc: 0.94 - ETA: 14s - loss: 0.1563 - acc: 0.94 - ETA: 13s - loss: 0.1594 - acc: 0.94 - ETA: 13s - loss: 0.1582 - acc: 0.94 - ETA: 12s - loss: 0.1538 - acc: 0.94 - ETA: 12s - loss: 0.1577 - acc: 0.94 - ETA: 12s - loss: 0.1588 - acc: 0.94 - ETA: 11s - loss: 0.1562 - acc: 0.94 - ETA: 11s - loss: 0.1609 - acc: 0.94 - ETA: 11s - loss: 0.1696 - acc: 0.94 - ETA: 10s - loss: 0.1733 - acc: 0.94 - ETA: 10s - loss: 0.1693 - acc: 0.94 - ETA: 9s - loss: 0.1686 - acc: 0.9456 - ETA: 9s - loss: 0.1730 - acc: 0.945 - ETA: 9s - loss: 0.1796 - acc: 0.944 - ETA: 8s - loss: 0.1828 - acc: 0.943 - ETA: 8s - loss: 0.1849 - acc: 0.943 - ETA: 7s - loss: 0.1829 - acc: 0.943 - ETA: 7s - loss: 0.1809 - acc: 0.944 - ETA: 7s - loss: 0.1798 - acc: 0.944 - ETA: 6s - loss: 0.1843 - acc: 0.943 - ETA: 6s - loss: 0.1857 - acc: 0.942 - ETA: 6s - loss: 0.1856 - acc: 0.942 - ETA: 5s - loss: 0.1914 - acc: 0.942 - ETA: 5s - loss: 0.1943 - acc: 0.941 - ETA: 4s - loss: 0.1919 - acc: 0.942 - ETA: 4s - loss: 0.1916 - acc: 0.941 - ETA: 4s - loss: 0.1907 - acc: 0.941 - ETA: 3s - loss: 0.1887 - acc: 0.941 - ETA: 3s - loss: 0.1887 - acc: 0.942 - ETA: 3s - loss: 0.1921 - acc: 0.941 - ETA: 2s - loss: 0.1932 - acc: 0.941 - ETA: 2s - loss: 0.1921 - acc: 0.941 - ETA: 1s - loss: 0.1942 - acc: 0.939 - ETA: 1s - loss: 0.1966 - acc: 0.939 - ETA: 1s - loss: 0.1968 - acc: 0.939 - ETA: 0s - loss: 0.1944 - acc: 0.940 - ETA: 0s - loss: 0.1932 - acc: 0.940 - 26s 4ms/step - loss: 0.1924 - acc: 0.9403 - val_loss: 2.4317 - val_acc: 0.6533\n",
      "Epoch 81/100\n",
      "7000/7000 [==============================] - ETA: 19s - loss: 0.3334 - acc: 0.92 - ETA: 19s - loss: 0.3356 - acc: 0.90 - ETA: 19s - loss: 0.3243 - acc: 0.89 - ETA: 19s - loss: 0.3199 - acc: 0.89 - ETA: 18s - loss: 0.3049 - acc: 0.89 - ETA: 18s - loss: 0.2818 - acc: 0.90 - ETA: 18s - loss: 0.2669 - acc: 0.90 - ETA: 17s - loss: 0.2548 - acc: 0.91 - ETA: 17s - loss: 0.2418 - acc: 0.91 - ETA: 16s - loss: 0.2287 - acc: 0.92 - ETA: 16s - loss: 0.2209 - acc: 0.92 - ETA: 16s - loss: 0.2155 - acc: 0.92 - ETA: 15s - loss: 0.2130 - acc: 0.92 - ETA: 15s - loss: 0.2073 - acc: 0.93 - ETA: 15s - loss: 0.2109 - acc: 0.92 - ETA: 14s - loss: 0.2082 - acc: 0.92 - ETA: 14s - loss: 0.2048 - acc: 0.92 - ETA: 13s - loss: 0.2047 - acc: 0.92 - ETA: 13s - loss: 0.2024 - acc: 0.92 - ETA: 13s - loss: 0.2060 - acc: 0.92 - ETA: 12s - loss: 0.2100 - acc: 0.92 - ETA: 12s - loss: 0.2062 - acc: 0.92 - ETA: 12s - loss: 0.1999 - acc: 0.93 - ETA: 11s - loss: 0.2002 - acc: 0.93 - ETA: 11s - loss: 0.2027 - acc: 0.93 - ETA: 11s - loss: 0.2074 - acc: 0.93 - ETA: 10s - loss: 0.2069 - acc: 0.93 - ETA: 10s - loss: 0.2060 - acc: 0.93 - ETA: 9s - loss: 0.2052 - acc: 0.9313 - ETA: 9s - loss: 0.2049 - acc: 0.931 - ETA: 9s - loss: 0.2067 - acc: 0.930 - ETA: 8s - loss: 0.2066 - acc: 0.931 - ETA: 8s - loss: 0.2047 - acc: 0.931 - ETA: 7s - loss: 0.2060 - acc: 0.930 - ETA: 7s - loss: 0.2030 - acc: 0.931 - ETA: 7s - loss: 0.2018 - acc: 0.931 - ETA: 6s - loss: 0.2033 - acc: 0.931 - ETA: 6s - loss: 0.2005 - acc: 0.932 - ETA: 6s - loss: 0.2021 - acc: 0.932 - ETA: 5s - loss: 0.2002 - acc: 0.933 - ETA: 5s - loss: 0.1992 - acc: 0.933 - ETA: 4s - loss: 0.2027 - acc: 0.933 - ETA: 4s - loss: 0.2043 - acc: 0.932 - ETA: 4s - loss: 0.2076 - acc: 0.932 - ETA: 3s - loss: 0.2070 - acc: 0.932 - ETA: 3s - loss: 0.2046 - acc: 0.932 - ETA: 2s - loss: 0.2050 - acc: 0.932 - ETA: 2s - loss: 0.2071 - acc: 0.931 - ETA: 2s - loss: 0.2068 - acc: 0.931 - ETA: 1s - loss: 0.2048 - acc: 0.932 - ETA: 1s - loss: 0.2046 - acc: 0.932 - ETA: 1s - loss: 0.2066 - acc: 0.931 - ETA: 0s - loss: 0.2051 - acc: 0.932 - ETA: 0s - loss: 0.2046 - acc: 0.933 - 26s 4ms/step - loss: 0.2063 - acc: 0.9327 - val_loss: 2.1939 - val_acc: 0.6537\n",
      "Epoch 82/100\n"
     ]
    },
    {
     "name": "stdout",
     "output_type": "stream",
     "text": [
      "7000/7000 [==============================] - ETA: 20s - loss: 0.2411 - acc: 0.92 - ETA: 19s - loss: 0.1350 - acc: 0.96 - ETA: 19s - loss: 0.1295 - acc: 0.95 - ETA: 19s - loss: 0.1259 - acc: 0.95 - ETA: 19s - loss: 0.1322 - acc: 0.95 - ETA: 18s - loss: 0.1547 - acc: 0.95 - ETA: 18s - loss: 0.1435 - acc: 0.95 - ETA: 17s - loss: 0.1363 - acc: 0.95 - ETA: 17s - loss: 0.1437 - acc: 0.95 - ETA: 17s - loss: 0.1583 - acc: 0.95 - ETA: 16s - loss: 0.1599 - acc: 0.94 - ETA: 16s - loss: 0.1580 - acc: 0.94 - ETA: 15s - loss: 0.1761 - acc: 0.94 - ETA: 15s - loss: 0.1797 - acc: 0.94 - ETA: 15s - loss: 0.1889 - acc: 0.94 - ETA: 14s - loss: 0.1873 - acc: 0.94 - ETA: 14s - loss: 0.1826 - acc: 0.94 - ETA: 14s - loss: 0.1826 - acc: 0.94 - ETA: 13s - loss: 0.1806 - acc: 0.94 - ETA: 13s - loss: 0.1830 - acc: 0.94 - ETA: 12s - loss: 0.1883 - acc: 0.94 - ETA: 12s - loss: 0.1875 - acc: 0.94 - ETA: 12s - loss: 0.1885 - acc: 0.94 - ETA: 11s - loss: 0.1896 - acc: 0.94 - ETA: 11s - loss: 0.1878 - acc: 0.94 - ETA: 10s - loss: 0.1840 - acc: 0.94 - ETA: 10s - loss: 0.1836 - acc: 0.94 - ETA: 10s - loss: 0.1818 - acc: 0.94 - ETA: 9s - loss: 0.1852 - acc: 0.9421 - ETA: 9s - loss: 0.1835 - acc: 0.942 - ETA: 9s - loss: 0.1826 - acc: 0.942 - ETA: 8s - loss: 0.1861 - acc: 0.941 - ETA: 8s - loss: 0.1857 - acc: 0.940 - ETA: 7s - loss: 0.1874 - acc: 0.941 - ETA: 7s - loss: 0.1871 - acc: 0.941 - ETA: 7s - loss: 0.1892 - acc: 0.940 - ETA: 6s - loss: 0.1878 - acc: 0.940 - ETA: 6s - loss: 0.1869 - acc: 0.940 - ETA: 6s - loss: 0.1871 - acc: 0.940 - ETA: 5s - loss: 0.1850 - acc: 0.941 - ETA: 5s - loss: 0.1858 - acc: 0.940 - ETA: 4s - loss: 0.1858 - acc: 0.940 - ETA: 4s - loss: 0.1857 - acc: 0.940 - ETA: 4s - loss: 0.1849 - acc: 0.940 - ETA: 3s - loss: 0.1845 - acc: 0.940 - ETA: 3s - loss: 0.1851 - acc: 0.940 - ETA: 2s - loss: 0.1844 - acc: 0.940 - ETA: 2s - loss: 0.1849 - acc: 0.940 - ETA: 2s - loss: 0.1859 - acc: 0.940 - ETA: 1s - loss: 0.1842 - acc: 0.940 - ETA: 1s - loss: 0.1854 - acc: 0.940 - ETA: 1s - loss: 0.1853 - acc: 0.940 - ETA: 0s - loss: 0.1853 - acc: 0.940 - ETA: 0s - loss: 0.1831 - acc: 0.941 - 26s 4ms/step - loss: 0.1825 - acc: 0.9411 - val_loss: 2.3403 - val_acc: 0.6597\n",
      "Epoch 83/100\n",
      "7000/7000 [==============================] - ETA: 19s - loss: 0.1077 - acc: 0.96 - ETA: 19s - loss: 0.1566 - acc: 0.94 - ETA: 19s - loss: 0.1359 - acc: 0.95 - ETA: 19s - loss: 0.1573 - acc: 0.94 - ETA: 19s - loss: 0.1665 - acc: 0.94 - ETA: 18s - loss: 0.1790 - acc: 0.94 - ETA: 18s - loss: 0.1889 - acc: 0.94 - ETA: 18s - loss: 0.1901 - acc: 0.94 - ETA: 17s - loss: 0.1799 - acc: 0.94 - ETA: 17s - loss: 0.1939 - acc: 0.94 - ETA: 16s - loss: 0.1934 - acc: 0.94 - ETA: 16s - loss: 0.2059 - acc: 0.93 - ETA: 16s - loss: 0.2064 - acc: 0.93 - ETA: 15s - loss: 0.2026 - acc: 0.93 - ETA: 15s - loss: 0.2007 - acc: 0.93 - ETA: 15s - loss: 0.2017 - acc: 0.93 - ETA: 14s - loss: 0.1992 - acc: 0.93 - ETA: 14s - loss: 0.1966 - acc: 0.93 - ETA: 13s - loss: 0.1953 - acc: 0.93 - ETA: 13s - loss: 0.1918 - acc: 0.93 - ETA: 13s - loss: 0.1869 - acc: 0.93 - ETA: 12s - loss: 0.1866 - acc: 0.93 - ETA: 12s - loss: 0.1904 - acc: 0.93 - ETA: 11s - loss: 0.1997 - acc: 0.93 - ETA: 11s - loss: 0.2018 - acc: 0.93 - ETA: 11s - loss: 0.2057 - acc: 0.93 - ETA: 10s - loss: 0.2010 - acc: 0.93 - ETA: 10s - loss: 0.1980 - acc: 0.93 - ETA: 9s - loss: 0.1999 - acc: 0.9356 - ETA: 9s - loss: 0.1965 - acc: 0.936 - ETA: 9s - loss: 0.1967 - acc: 0.937 - ETA: 8s - loss: 0.2006 - acc: 0.936 - ETA: 8s - loss: 0.1987 - acc: 0.936 - ETA: 7s - loss: 0.1976 - acc: 0.937 - ETA: 7s - loss: 0.1952 - acc: 0.937 - ETA: 7s - loss: 0.1976 - acc: 0.937 - ETA: 6s - loss: 0.1967 - acc: 0.937 - ETA: 6s - loss: 0.1973 - acc: 0.937 - ETA: 6s - loss: 0.1953 - acc: 0.937 - ETA: 5s - loss: 0.1927 - acc: 0.938 - ETA: 5s - loss: 0.1924 - acc: 0.939 - ETA: 4s - loss: 0.1943 - acc: 0.938 - ETA: 4s - loss: 0.1933 - acc: 0.938 - ETA: 4s - loss: 0.1966 - acc: 0.937 - ETA: 3s - loss: 0.1976 - acc: 0.937 - ETA: 3s - loss: 0.1972 - acc: 0.937 - ETA: 2s - loss: 0.1980 - acc: 0.937 - ETA: 2s - loss: 0.1973 - acc: 0.938 - ETA: 2s - loss: 0.1975 - acc: 0.938 - ETA: 1s - loss: 0.1961 - acc: 0.938 - ETA: 1s - loss: 0.1941 - acc: 0.939 - ETA: 1s - loss: 0.1939 - acc: 0.939 - ETA: 0s - loss: 0.1946 - acc: 0.939 - ETA: 0s - loss: 0.1940 - acc: 0.940 - 26s 4ms/step - loss: 0.1941 - acc: 0.9401 - val_loss: 2.2904 - val_acc: 0.6580\n",
      "Epoch 84/100\n",
      "7000/7000 [==============================] - ETA: 19s - loss: 0.1103 - acc: 0.94 - ETA: 19s - loss: 0.1699 - acc: 0.92 - ETA: 19s - loss: 0.1536 - acc: 0.94 - ETA: 19s - loss: 0.1563 - acc: 0.93 - ETA: 18s - loss: 0.1596 - acc: 0.94 - ETA: 18s - loss: 0.1558 - acc: 0.94 - ETA: 18s - loss: 0.1580 - acc: 0.94 - ETA: 17s - loss: 0.1594 - acc: 0.94 - ETA: 17s - loss: 0.1673 - acc: 0.94 - ETA: 17s - loss: 0.1740 - acc: 0.94 - ETA: 16s - loss: 0.1680 - acc: 0.94 - ETA: 16s - loss: 0.1752 - acc: 0.94 - ETA: 15s - loss: 0.1756 - acc: 0.94 - ETA: 15s - loss: 0.1749 - acc: 0.94 - ETA: 15s - loss: 0.1732 - acc: 0.94 - ETA: 14s - loss: 0.1702 - acc: 0.94 - ETA: 14s - loss: 0.1716 - acc: 0.94 - ETA: 13s - loss: 0.1694 - acc: 0.94 - ETA: 13s - loss: 0.1727 - acc: 0.94 - ETA: 13s - loss: 0.1687 - acc: 0.94 - ETA: 12s - loss: 0.1713 - acc: 0.94 - ETA: 12s - loss: 0.1677 - acc: 0.94 - ETA: 12s - loss: 0.1686 - acc: 0.94 - ETA: 11s - loss: 0.1672 - acc: 0.94 - ETA: 11s - loss: 0.1731 - acc: 0.94 - ETA: 10s - loss: 0.1698 - acc: 0.94 - ETA: 10s - loss: 0.1726 - acc: 0.94 - ETA: 10s - loss: 0.1725 - acc: 0.94 - ETA: 9s - loss: 0.1717 - acc: 0.9426 - ETA: 9s - loss: 0.1729 - acc: 0.941 - ETA: 9s - loss: 0.1720 - acc: 0.942 - ETA: 8s - loss: 0.1703 - acc: 0.942 - ETA: 8s - loss: 0.1749 - acc: 0.941 - ETA: 7s - loss: 0.1720 - acc: 0.942 - ETA: 7s - loss: 0.1720 - acc: 0.942 - ETA: 7s - loss: 0.1752 - acc: 0.941 - ETA: 6s - loss: 0.1796 - acc: 0.941 - ETA: 6s - loss: 0.1818 - acc: 0.940 - ETA: 6s - loss: 0.1802 - acc: 0.941 - ETA: 5s - loss: 0.1802 - acc: 0.940 - ETA: 5s - loss: 0.1815 - acc: 0.940 - ETA: 4s - loss: 0.1798 - acc: 0.941 - ETA: 4s - loss: 0.1847 - acc: 0.940 - ETA: 4s - loss: 0.1863 - acc: 0.940 - ETA: 3s - loss: 0.1854 - acc: 0.941 - ETA: 3s - loss: 0.1876 - acc: 0.940 - ETA: 2s - loss: 0.1888 - acc: 0.941 - ETA: 2s - loss: 0.1868 - acc: 0.941 - ETA: 2s - loss: 0.1862 - acc: 0.941 - ETA: 1s - loss: 0.1862 - acc: 0.941 - ETA: 1s - loss: 0.1863 - acc: 0.942 - ETA: 1s - loss: 0.1880 - acc: 0.941 - ETA: 0s - loss: 0.1904 - acc: 0.940 - ETA: 0s - loss: 0.1906 - acc: 0.940 - 26s 4ms/step - loss: 0.1897 - acc: 0.9410 - val_loss: 2.3314 - val_acc: 0.6573\n",
      "Epoch 85/100\n"
     ]
    },
    {
     "name": "stdout",
     "output_type": "stream",
     "text": [
      "7000/7000 [==============================] - ETA: 20s - loss: 0.2087 - acc: 0.93 - ETA: 19s - loss: 0.2184 - acc: 0.92 - ETA: 19s - loss: 0.2122 - acc: 0.93 - ETA: 19s - loss: 0.1950 - acc: 0.94 - ETA: 19s - loss: 0.1725 - acc: 0.94 - ETA: 18s - loss: 0.1657 - acc: 0.95 - ETA: 18s - loss: 0.1601 - acc: 0.95 - ETA: 18s - loss: 0.1570 - acc: 0.95 - ETA: 17s - loss: 0.1575 - acc: 0.95 - ETA: 17s - loss: 0.1528 - acc: 0.95 - ETA: 17s - loss: 0.1554 - acc: 0.95 - ETA: 16s - loss: 0.1543 - acc: 0.95 - ETA: 16s - loss: 0.1554 - acc: 0.94 - ETA: 15s - loss: 0.1519 - acc: 0.94 - ETA: 15s - loss: 0.1542 - acc: 0.94 - ETA: 15s - loss: 0.1591 - acc: 0.94 - ETA: 14s - loss: 0.1607 - acc: 0.94 - ETA: 14s - loss: 0.1576 - acc: 0.94 - ETA: 13s - loss: 0.1587 - acc: 0.94 - ETA: 13s - loss: 0.1587 - acc: 0.94 - ETA: 13s - loss: 0.1729 - acc: 0.94 - ETA: 12s - loss: 0.1705 - acc: 0.94 - ETA: 12s - loss: 0.1779 - acc: 0.94 - ETA: 11s - loss: 0.1772 - acc: 0.94 - ETA: 11s - loss: 0.1783 - acc: 0.94 - ETA: 11s - loss: 0.1772 - acc: 0.94 - ETA: 10s - loss: 0.1808 - acc: 0.94 - ETA: 10s - loss: 0.1811 - acc: 0.94 - ETA: 9s - loss: 0.1841 - acc: 0.9442 - ETA: 9s - loss: 0.1814 - acc: 0.944 - ETA: 9s - loss: 0.1861 - acc: 0.942 - ETA: 8s - loss: 0.1872 - acc: 0.941 - ETA: 8s - loss: 0.1879 - acc: 0.942 - ETA: 7s - loss: 0.1892 - acc: 0.942 - ETA: 7s - loss: 0.1901 - acc: 0.942 - ETA: 7s - loss: 0.1917 - acc: 0.942 - ETA: 6s - loss: 0.1915 - acc: 0.942 - ETA: 6s - loss: 0.1916 - acc: 0.942 - ETA: 6s - loss: 0.1937 - acc: 0.941 - ETA: 5s - loss: 0.1946 - acc: 0.941 - ETA: 5s - loss: 0.1935 - acc: 0.941 - ETA: 4s - loss: 0.1915 - acc: 0.942 - ETA: 4s - loss: 0.1887 - acc: 0.943 - ETA: 4s - loss: 0.1906 - acc: 0.942 - ETA: 3s - loss: 0.1912 - acc: 0.942 - ETA: 3s - loss: 0.1918 - acc: 0.942 - ETA: 2s - loss: 0.1922 - acc: 0.942 - ETA: 2s - loss: 0.1917 - acc: 0.942 - ETA: 2s - loss: 0.1930 - acc: 0.942 - ETA: 1s - loss: 0.1935 - acc: 0.942 - ETA: 1s - loss: 0.1930 - acc: 0.942 - ETA: 1s - loss: 0.1924 - acc: 0.942 - ETA: 0s - loss: 0.1939 - acc: 0.943 - ETA: 0s - loss: 0.1966 - acc: 0.942 - 26s 4ms/step - loss: 0.1974 - acc: 0.9426 - val_loss: 1.9067 - val_acc: 0.6580\n",
      "Epoch 86/100\n",
      "7000/7000 [==============================] - ETA: 19s - loss: 0.1871 - acc: 0.91 - ETA: 19s - loss: 0.1547 - acc: 0.92 - ETA: 19s - loss: 0.1400 - acc: 0.94 - ETA: 18s - loss: 0.1432 - acc: 0.94 - ETA: 18s - loss: 0.1549 - acc: 0.93 - ETA: 18s - loss: 0.1488 - acc: 0.93 - ETA: 17s - loss: 0.1424 - acc: 0.93 - ETA: 17s - loss: 0.1402 - acc: 0.94 - ETA: 17s - loss: 0.1425 - acc: 0.94 - ETA: 16s - loss: 0.1509 - acc: 0.94 - ETA: 16s - loss: 0.1575 - acc: 0.94 - ETA: 16s - loss: 0.1588 - acc: 0.94 - ETA: 15s - loss: 0.1647 - acc: 0.93 - ETA: 15s - loss: 0.1678 - acc: 0.93 - ETA: 15s - loss: 0.1782 - acc: 0.93 - ETA: 14s - loss: 0.1803 - acc: 0.93 - ETA: 14s - loss: 0.1815 - acc: 0.93 - ETA: 13s - loss: 0.1816 - acc: 0.93 - ETA: 13s - loss: 0.1843 - acc: 0.93 - ETA: 13s - loss: 0.1856 - acc: 0.93 - ETA: 12s - loss: 0.1843 - acc: 0.93 - ETA: 12s - loss: 0.1809 - acc: 0.93 - ETA: 12s - loss: 0.1824 - acc: 0.93 - ETA: 11s - loss: 0.1841 - acc: 0.93 - ETA: 11s - loss: 0.1831 - acc: 0.93 - ETA: 10s - loss: 0.1824 - acc: 0.93 - ETA: 10s - loss: 0.1857 - acc: 0.93 - ETA: 10s - loss: 0.1822 - acc: 0.93 - ETA: 9s - loss: 0.1858 - acc: 0.9378 - ETA: 9s - loss: 0.1892 - acc: 0.937 - ETA: 9s - loss: 0.1880 - acc: 0.937 - ETA: 8s - loss: 0.1873 - acc: 0.938 - ETA: 8s - loss: 0.1844 - acc: 0.939 - ETA: 7s - loss: 0.1836 - acc: 0.940 - ETA: 7s - loss: 0.1822 - acc: 0.940 - ETA: 7s - loss: 0.1836 - acc: 0.940 - ETA: 6s - loss: 0.1839 - acc: 0.940 - ETA: 6s - loss: 0.1860 - acc: 0.940 - ETA: 5s - loss: 0.1846 - acc: 0.940 - ETA: 5s - loss: 0.1854 - acc: 0.939 - ETA: 5s - loss: 0.1872 - acc: 0.939 - ETA: 4s - loss: 0.1858 - acc: 0.940 - ETA: 4s - loss: 0.1891 - acc: 0.939 - ETA: 4s - loss: 0.1898 - acc: 0.939 - ETA: 3s - loss: 0.1904 - acc: 0.939 - ETA: 3s - loss: 0.1884 - acc: 0.940 - ETA: 2s - loss: 0.1888 - acc: 0.940 - ETA: 2s - loss: 0.1881 - acc: 0.939 - ETA: 2s - loss: 0.1891 - acc: 0.939 - ETA: 1s - loss: 0.1887 - acc: 0.938 - ETA: 1s - loss: 0.1902 - acc: 0.938 - ETA: 1s - loss: 0.1897 - acc: 0.938 - ETA: 0s - loss: 0.1901 - acc: 0.938 - ETA: 0s - loss: 0.1891 - acc: 0.938 - 26s 4ms/step - loss: 0.1904 - acc: 0.9380 - val_loss: 2.2875 - val_acc: 0.6607\n",
      "Epoch 87/100\n",
      "7000/7000 [==============================] - ETA: 19s - loss: 0.2653 - acc: 0.92 - ETA: 19s - loss: 0.2406 - acc: 0.92 - ETA: 19s - loss: 0.2523 - acc: 0.92 - ETA: 19s - loss: 0.2316 - acc: 0.92 - ETA: 18s - loss: 0.2051 - acc: 0.94 - ETA: 18s - loss: 0.2010 - acc: 0.94 - ETA: 18s - loss: 0.1895 - acc: 0.94 - ETA: 17s - loss: 0.1961 - acc: 0.94 - ETA: 17s - loss: 0.1974 - acc: 0.94 - ETA: 16s - loss: 0.2036 - acc: 0.93 - ETA: 16s - loss: 0.2010 - acc: 0.93 - ETA: 16s - loss: 0.2049 - acc: 0.94 - ETA: 15s - loss: 0.2051 - acc: 0.93 - ETA: 15s - loss: 0.2054 - acc: 0.93 - ETA: 15s - loss: 0.2060 - acc: 0.93 - ETA: 14s - loss: 0.2015 - acc: 0.93 - ETA: 14s - loss: 0.2003 - acc: 0.93 - ETA: 13s - loss: 0.2001 - acc: 0.93 - ETA: 13s - loss: 0.2094 - acc: 0.93 - ETA: 13s - loss: 0.2106 - acc: 0.93 - ETA: 12s - loss: 0.2127 - acc: 0.93 - ETA: 12s - loss: 0.2092 - acc: 0.93 - ETA: 12s - loss: 0.2117 - acc: 0.93 - ETA: 11s - loss: 0.2146 - acc: 0.93 - ETA: 11s - loss: 0.2133 - acc: 0.93 - ETA: 10s - loss: 0.2108 - acc: 0.93 - ETA: 10s - loss: 0.2105 - acc: 0.93 - ETA: 10s - loss: 0.2154 - acc: 0.93 - ETA: 9s - loss: 0.2134 - acc: 0.9343 - ETA: 9s - loss: 0.2126 - acc: 0.933 - ETA: 9s - loss: 0.2089 - acc: 0.935 - ETA: 8s - loss: 0.2107 - acc: 0.934 - ETA: 8s - loss: 0.2083 - acc: 0.935 - ETA: 7s - loss: 0.2112 - acc: 0.934 - ETA: 7s - loss: 0.2122 - acc: 0.934 - ETA: 7s - loss: 0.2097 - acc: 0.934 - ETA: 6s - loss: 0.2073 - acc: 0.935 - ETA: 6s - loss: 0.2069 - acc: 0.935 - ETA: 6s - loss: 0.2040 - acc: 0.935 - ETA: 5s - loss: 0.2039 - acc: 0.935 - ETA: 5s - loss: 0.2049 - acc: 0.935 - ETA: 4s - loss: 0.2037 - acc: 0.935 - ETA: 4s - loss: 0.2005 - acc: 0.936 - ETA: 4s - loss: 0.1997 - acc: 0.937 - ETA: 3s - loss: 0.1974 - acc: 0.937 - ETA: 3s - loss: 0.1958 - acc: 0.938 - ETA: 2s - loss: 0.1963 - acc: 0.937 - ETA: 2s - loss: 0.1960 - acc: 0.937 - ETA: 2s - loss: 0.1955 - acc: 0.937 - ETA: 1s - loss: 0.1952 - acc: 0.937 - ETA: 1s - loss: 0.1926 - acc: 0.938 - ETA: 1s - loss: 0.1913 - acc: 0.938 - ETA: 0s - loss: 0.1943 - acc: 0.938 - ETA: 0s - loss: 0.1987 - acc: 0.936 - 26s 4ms/step - loss: 0.1999 - acc: 0.9364 - val_loss: 2.0783 - val_acc: 0.6593\n",
      "Epoch 88/100\n"
     ]
    },
    {
     "name": "stdout",
     "output_type": "stream",
     "text": [
      "7000/7000 [==============================] - ETA: 20s - loss: 0.0813 - acc: 0.96 - ETA: 21s - loss: 0.1299 - acc: 0.96 - ETA: 21s - loss: 0.1463 - acc: 0.95 - ETA: 21s - loss: 0.1553 - acc: 0.95 - ETA: 21s - loss: 0.1773 - acc: 0.94 - ETA: 20s - loss: 0.1746 - acc: 0.94 - ETA: 20s - loss: 0.1665 - acc: 0.95 - ETA: 19s - loss: 0.1633 - acc: 0.95 - ETA: 19s - loss: 0.1687 - acc: 0.95 - ETA: 18s - loss: 0.1679 - acc: 0.95 - ETA: 18s - loss: 0.1663 - acc: 0.95 - ETA: 17s - loss: 0.1602 - acc: 0.95 - ETA: 17s - loss: 0.1648 - acc: 0.95 - ETA: 17s - loss: 0.1601 - acc: 0.95 - ETA: 16s - loss: 0.1583 - acc: 0.95 - ETA: 16s - loss: 0.1598 - acc: 0.95 - ETA: 15s - loss: 0.1636 - acc: 0.95 - ETA: 15s - loss: 0.1622 - acc: 0.95 - ETA: 14s - loss: 0.1643 - acc: 0.95 - ETA: 14s - loss: 0.1659 - acc: 0.95 - ETA: 13s - loss: 0.1621 - acc: 0.95 - ETA: 13s - loss: 0.1633 - acc: 0.95 - ETA: 13s - loss: 0.1618 - acc: 0.95 - ETA: 12s - loss: 0.1668 - acc: 0.95 - ETA: 12s - loss: 0.1689 - acc: 0.95 - ETA: 11s - loss: 0.1675 - acc: 0.95 - ETA: 11s - loss: 0.1679 - acc: 0.95 - ETA: 10s - loss: 0.1691 - acc: 0.95 - ETA: 10s - loss: 0.1664 - acc: 0.95 - ETA: 10s - loss: 0.1724 - acc: 0.95 - ETA: 9s - loss: 0.1729 - acc: 0.9504 - ETA: 9s - loss: 0.1714 - acc: 0.950 - ETA: 8s - loss: 0.1708 - acc: 0.951 - ETA: 8s - loss: 0.1731 - acc: 0.950 - ETA: 7s - loss: 0.1748 - acc: 0.950 - ETA: 7s - loss: 0.1745 - acc: 0.949 - ETA: 7s - loss: 0.1793 - acc: 0.949 - ETA: 6s - loss: 0.1793 - acc: 0.949 - ETA: 6s - loss: 0.1793 - acc: 0.948 - ETA: 5s - loss: 0.1795 - acc: 0.948 - ETA: 5s - loss: 0.1779 - acc: 0.949 - ETA: 5s - loss: 0.1779 - acc: 0.949 - ETA: 4s - loss: 0.1769 - acc: 0.949 - ETA: 4s - loss: 0.1787 - acc: 0.949 - ETA: 3s - loss: 0.1784 - acc: 0.949 - ETA: 3s - loss: 0.1784 - acc: 0.949 - ETA: 3s - loss: 0.1806 - acc: 0.948 - ETA: 2s - loss: 0.1800 - acc: 0.948 - ETA: 2s - loss: 0.1793 - acc: 0.948 - ETA: 1s - loss: 0.1771 - acc: 0.949 - ETA: 1s - loss: 0.1755 - acc: 0.949 - ETA: 1s - loss: 0.1758 - acc: 0.949 - ETA: 0s - loss: 0.1754 - acc: 0.949 - ETA: 0s - loss: 0.1733 - acc: 0.949 - 26s 4ms/step - loss: 0.1747 - acc: 0.9489 - val_loss: 2.2237 - val_acc: 0.6610\n",
      "Epoch 89/100\n",
      "7000/7000 [==============================] - ETA: 20s - loss: 0.1404 - acc: 0.96 - ETA: 19s - loss: 0.1336 - acc: 0.95 - ETA: 19s - loss: 0.1304 - acc: 0.95 - ETA: 19s - loss: 0.1479 - acc: 0.94 - ETA: 18s - loss: 0.1882 - acc: 0.93 - ETA: 18s - loss: 0.1746 - acc: 0.94 - ETA: 18s - loss: 0.1609 - acc: 0.94 - ETA: 17s - loss: 0.1601 - acc: 0.94 - ETA: 17s - loss: 0.1631 - acc: 0.94 - ETA: 16s - loss: 0.1705 - acc: 0.94 - ETA: 16s - loss: 0.1773 - acc: 0.94 - ETA: 16s - loss: 0.1702 - acc: 0.94 - ETA: 15s - loss: 0.1700 - acc: 0.94 - ETA: 15s - loss: 0.1729 - acc: 0.94 - ETA: 15s - loss: 0.1753 - acc: 0.94 - ETA: 14s - loss: 0.1769 - acc: 0.94 - ETA: 14s - loss: 0.1777 - acc: 0.94 - ETA: 14s - loss: 0.1729 - acc: 0.94 - ETA: 13s - loss: 0.1722 - acc: 0.94 - ETA: 13s - loss: 0.1711 - acc: 0.94 - ETA: 12s - loss: 0.1739 - acc: 0.94 - ETA: 12s - loss: 0.1809 - acc: 0.94 - ETA: 12s - loss: 0.1806 - acc: 0.94 - ETA: 11s - loss: 0.1798 - acc: 0.94 - ETA: 11s - loss: 0.1759 - acc: 0.94 - ETA: 10s - loss: 0.1715 - acc: 0.94 - ETA: 10s - loss: 0.1763 - acc: 0.94 - ETA: 10s - loss: 0.1760 - acc: 0.94 - ETA: 9s - loss: 0.1748 - acc: 0.9461 - ETA: 9s - loss: 0.1750 - acc: 0.946 - ETA: 9s - loss: 0.1741 - acc: 0.945 - ETA: 8s - loss: 0.1752 - acc: 0.945 - ETA: 8s - loss: 0.1808 - acc: 0.944 - ETA: 7s - loss: 0.1799 - acc: 0.944 - ETA: 7s - loss: 0.1836 - acc: 0.944 - ETA: 7s - loss: 0.1838 - acc: 0.944 - ETA: 6s - loss: 0.1844 - acc: 0.944 - ETA: 6s - loss: 0.1833 - acc: 0.944 - ETA: 6s - loss: 0.1840 - acc: 0.944 - ETA: 5s - loss: 0.1841 - acc: 0.944 - ETA: 5s - loss: 0.1852 - acc: 0.944 - ETA: 4s - loss: 0.1832 - acc: 0.944 - ETA: 4s - loss: 0.1834 - acc: 0.944 - ETA: 4s - loss: 0.1838 - acc: 0.944 - ETA: 3s - loss: 0.1830 - acc: 0.944 - ETA: 3s - loss: 0.1839 - acc: 0.944 - ETA: 2s - loss: 0.1836 - acc: 0.944 - ETA: 2s - loss: 0.1827 - acc: 0.944 - ETA: 2s - loss: 0.1813 - acc: 0.944 - ETA: 1s - loss: 0.1799 - acc: 0.945 - ETA: 1s - loss: 0.1789 - acc: 0.945 - ETA: 1s - loss: 0.1777 - acc: 0.946 - ETA: 0s - loss: 0.1766 - acc: 0.946 - ETA: 0s - loss: 0.1756 - acc: 0.946 - 26s 4ms/step - loss: 0.1746 - acc: 0.9466 - val_loss: 2.5003 - val_acc: 0.6627\n",
      "Epoch 90/100\n",
      "7000/7000 [==============================] - ETA: 19s - loss: 0.2278 - acc: 0.92 - ETA: 19s - loss: 0.1782 - acc: 0.94 - ETA: 19s - loss: 0.2079 - acc: 0.92 - ETA: 19s - loss: 0.2129 - acc: 0.92 - ETA: 19s - loss: 0.1983 - acc: 0.92 - ETA: 19s - loss: 0.1879 - acc: 0.93 - ETA: 18s - loss: 0.1849 - acc: 0.93 - ETA: 18s - loss: 0.1713 - acc: 0.93 - ETA: 17s - loss: 0.1640 - acc: 0.94 - ETA: 17s - loss: 0.1671 - acc: 0.94 - ETA: 17s - loss: 0.1745 - acc: 0.94 - ETA: 16s - loss: 0.1700 - acc: 0.94 - ETA: 16s - loss: 0.1698 - acc: 0.94 - ETA: 15s - loss: 0.1627 - acc: 0.94 - ETA: 15s - loss: 0.1731 - acc: 0.94 - ETA: 14s - loss: 0.1718 - acc: 0.94 - ETA: 14s - loss: 0.1806 - acc: 0.94 - ETA: 14s - loss: 0.1822 - acc: 0.94 - ETA: 13s - loss: 0.1915 - acc: 0.94 - ETA: 13s - loss: 0.1968 - acc: 0.93 - ETA: 13s - loss: 0.1949 - acc: 0.93 - ETA: 12s - loss: 0.1955 - acc: 0.93 - ETA: 12s - loss: 0.1996 - acc: 0.93 - ETA: 11s - loss: 0.1994 - acc: 0.93 - ETA: 11s - loss: 0.1984 - acc: 0.93 - ETA: 11s - loss: 0.1945 - acc: 0.93 - ETA: 10s - loss: 0.1943 - acc: 0.93 - ETA: 10s - loss: 0.1959 - acc: 0.93 - ETA: 9s - loss: 0.1988 - acc: 0.9391 - ETA: 9s - loss: 0.1966 - acc: 0.939 - ETA: 9s - loss: 0.1951 - acc: 0.939 - ETA: 8s - loss: 0.1953 - acc: 0.939 - ETA: 8s - loss: 0.1963 - acc: 0.938 - ETA: 7s - loss: 0.2023 - acc: 0.936 - ETA: 7s - loss: 0.1998 - acc: 0.937 - ETA: 7s - loss: 0.1986 - acc: 0.938 - ETA: 6s - loss: 0.1969 - acc: 0.938 - ETA: 6s - loss: 0.1987 - acc: 0.937 - ETA: 6s - loss: 0.1986 - acc: 0.937 - ETA: 5s - loss: 0.1973 - acc: 0.937 - ETA: 5s - loss: 0.2003 - acc: 0.936 - ETA: 4s - loss: 0.1994 - acc: 0.937 - ETA: 4s - loss: 0.1993 - acc: 0.937 - ETA: 4s - loss: 0.1985 - acc: 0.938 - ETA: 3s - loss: 0.1974 - acc: 0.938 - ETA: 3s - loss: 0.1979 - acc: 0.937 - ETA: 2s - loss: 0.1967 - acc: 0.937 - ETA: 2s - loss: 0.1989 - acc: 0.937 - ETA: 2s - loss: 0.1981 - acc: 0.937 - ETA: 1s - loss: 0.1977 - acc: 0.938 - ETA: 1s - loss: 0.1997 - acc: 0.937 - ETA: 1s - loss: 0.1995 - acc: 0.937 - ETA: 0s - loss: 0.1993 - acc: 0.937 - ETA: 0s - loss: 0.1967 - acc: 0.938 - 26s 4ms/step - loss: 0.1959 - acc: 0.9390 - val_loss: 2.2307 - val_acc: 0.6543\n",
      "Epoch 91/100\n"
     ]
    },
    {
     "name": "stdout",
     "output_type": "stream",
     "text": [
      "7000/7000 [==============================] - ETA: 19s - loss: 0.2737 - acc: 0.91 - ETA: 19s - loss: 0.1827 - acc: 0.94 - ETA: 19s - loss: 0.1831 - acc: 0.95 - ETA: 19s - loss: 0.2131 - acc: 0.94 - ETA: 19s - loss: 0.2062 - acc: 0.94 - ETA: 18s - loss: 0.1989 - acc: 0.94 - ETA: 18s - loss: 0.1860 - acc: 0.95 - ETA: 17s - loss: 0.1939 - acc: 0.95 - ETA: 17s - loss: 0.1926 - acc: 0.95 - ETA: 17s - loss: 0.1789 - acc: 0.95 - ETA: 16s - loss: 0.1703 - acc: 0.95 - ETA: 16s - loss: 0.1649 - acc: 0.95 - ETA: 15s - loss: 0.1647 - acc: 0.95 - ETA: 15s - loss: 0.1611 - acc: 0.95 - ETA: 15s - loss: 0.1607 - acc: 0.95 - ETA: 14s - loss: 0.1683 - acc: 0.95 - ETA: 14s - loss: 0.1628 - acc: 0.95 - ETA: 14s - loss: 0.1635 - acc: 0.95 - ETA: 13s - loss: 0.1720 - acc: 0.95 - ETA: 13s - loss: 0.1733 - acc: 0.95 - ETA: 13s - loss: 0.1720 - acc: 0.95 - ETA: 12s - loss: 0.1702 - acc: 0.95 - ETA: 12s - loss: 0.1722 - acc: 0.95 - ETA: 11s - loss: 0.1703 - acc: 0.95 - ETA: 11s - loss: 0.1698 - acc: 0.95 - ETA: 11s - loss: 0.1661 - acc: 0.95 - ETA: 10s - loss: 0.1663 - acc: 0.95 - ETA: 10s - loss: 0.1685 - acc: 0.95 - ETA: 9s - loss: 0.1702 - acc: 0.9545 - ETA: 9s - loss: 0.1707 - acc: 0.953 - ETA: 9s - loss: 0.1724 - acc: 0.952 - ETA: 8s - loss: 0.1705 - acc: 0.953 - ETA: 8s - loss: 0.1735 - acc: 0.952 - ETA: 7s - loss: 0.1736 - acc: 0.952 - ETA: 7s - loss: 0.1743 - acc: 0.952 - ETA: 7s - loss: 0.1763 - acc: 0.951 - ETA: 6s - loss: 0.1767 - acc: 0.951 - ETA: 6s - loss: 0.1798 - acc: 0.949 - ETA: 6s - loss: 0.1824 - acc: 0.948 - ETA: 5s - loss: 0.1834 - acc: 0.947 - ETA: 5s - loss: 0.1824 - acc: 0.947 - ETA: 4s - loss: 0.1822 - acc: 0.947 - ETA: 4s - loss: 0.1825 - acc: 0.946 - ETA: 4s - loss: 0.1821 - acc: 0.946 - ETA: 3s - loss: 0.1815 - acc: 0.946 - ETA: 3s - loss: 0.1825 - acc: 0.946 - ETA: 2s - loss: 0.1826 - acc: 0.946 - ETA: 2s - loss: 0.1809 - acc: 0.946 - ETA: 2s - loss: 0.1795 - acc: 0.947 - ETA: 1s - loss: 0.1810 - acc: 0.946 - ETA: 1s - loss: 0.1799 - acc: 0.947 - ETA: 1s - loss: 0.1813 - acc: 0.947 - ETA: 0s - loss: 0.1797 - acc: 0.947 - ETA: 0s - loss: 0.1792 - acc: 0.947 - 26s 4ms/step - loss: 0.1796 - acc: 0.9477 - val_loss: 2.4944 - val_acc: 0.6480\n",
      "Epoch 92/100\n",
      "7000/7000 [==============================] - ETA: 19s - loss: 0.1431 - acc: 0.92 - ETA: 19s - loss: 0.1619 - acc: 0.94 - ETA: 19s - loss: 0.1656 - acc: 0.94 - ETA: 19s - loss: 0.1594 - acc: 0.94 - ETA: 18s - loss: 0.1545 - acc: 0.94 - ETA: 18s - loss: 0.1652 - acc: 0.94 - ETA: 18s - loss: 0.1564 - acc: 0.94 - ETA: 18s - loss: 0.1583 - acc: 0.94 - ETA: 17s - loss: 0.1573 - acc: 0.94 - ETA: 17s - loss: 0.1542 - acc: 0.95 - ETA: 16s - loss: 0.1514 - acc: 0.95 - ETA: 16s - loss: 0.1520 - acc: 0.95 - ETA: 16s - loss: 0.1520 - acc: 0.95 - ETA: 15s - loss: 0.1482 - acc: 0.95 - ETA: 15s - loss: 0.1421 - acc: 0.95 - ETA: 14s - loss: 0.1432 - acc: 0.95 - ETA: 14s - loss: 0.1394 - acc: 0.95 - ETA: 14s - loss: 0.1462 - acc: 0.95 - ETA: 13s - loss: 0.1477 - acc: 0.95 - ETA: 13s - loss: 0.1482 - acc: 0.95 - ETA: 12s - loss: 0.1536 - acc: 0.95 - ETA: 12s - loss: 0.1535 - acc: 0.95 - ETA: 12s - loss: 0.1518 - acc: 0.95 - ETA: 11s - loss: 0.1543 - acc: 0.95 - ETA: 11s - loss: 0.1572 - acc: 0.95 - ETA: 11s - loss: 0.1565 - acc: 0.95 - ETA: 10s - loss: 0.1648 - acc: 0.94 - ETA: 10s - loss: 0.1652 - acc: 0.94 - ETA: 9s - loss: 0.1662 - acc: 0.9485 - ETA: 9s - loss: 0.1649 - acc: 0.949 - ETA: 9s - loss: 0.1663 - acc: 0.948 - ETA: 8s - loss: 0.1663 - acc: 0.948 - ETA: 8s - loss: 0.1676 - acc: 0.947 - ETA: 7s - loss: 0.1666 - acc: 0.947 - ETA: 7s - loss: 0.1697 - acc: 0.947 - ETA: 7s - loss: 0.1706 - acc: 0.946 - ETA: 6s - loss: 0.1686 - acc: 0.947 - ETA: 6s - loss: 0.1670 - acc: 0.947 - ETA: 6s - loss: 0.1638 - acc: 0.948 - ETA: 5s - loss: 0.1648 - acc: 0.948 - ETA: 5s - loss: 0.1650 - acc: 0.948 - ETA: 4s - loss: 0.1649 - acc: 0.947 - ETA: 4s - loss: 0.1636 - acc: 0.948 - ETA: 4s - loss: 0.1656 - acc: 0.948 - ETA: 3s - loss: 0.1662 - acc: 0.948 - ETA: 3s - loss: 0.1707 - acc: 0.947 - ETA: 2s - loss: 0.1700 - acc: 0.947 - ETA: 2s - loss: 0.1690 - acc: 0.947 - ETA: 2s - loss: 0.1674 - acc: 0.948 - ETA: 1s - loss: 0.1667 - acc: 0.948 - ETA: 1s - loss: 0.1662 - acc: 0.948 - ETA: 1s - loss: 0.1645 - acc: 0.949 - ETA: 0s - loss: 0.1648 - acc: 0.949 - ETA: 0s - loss: 0.1682 - acc: 0.948 - 26s 4ms/step - loss: 0.1695 - acc: 0.9480 - val_loss: 2.5164 - val_acc: 0.6557\n",
      "Epoch 93/100\n",
      "7000/7000 [==============================] - ETA: 20s - loss: 0.2144 - acc: 0.92 - ETA: 19s - loss: 0.1474 - acc: 0.95 - ETA: 19s - loss: 0.1563 - acc: 0.94 - ETA: 19s - loss: 0.1584 - acc: 0.94 - ETA: 18s - loss: 0.1630 - acc: 0.94 - ETA: 18s - loss: 0.1633 - acc: 0.94 - ETA: 18s - loss: 0.1759 - acc: 0.94 - ETA: 17s - loss: 0.1692 - acc: 0.94 - ETA: 17s - loss: 0.1649 - acc: 0.94 - ETA: 17s - loss: 0.1698 - acc: 0.94 - ETA: 16s - loss: 0.1709 - acc: 0.94 - ETA: 16s - loss: 0.1679 - acc: 0.94 - ETA: 16s - loss: 0.1653 - acc: 0.94 - ETA: 15s - loss: 0.1711 - acc: 0.94 - ETA: 15s - loss: 0.1862 - acc: 0.94 - ETA: 15s - loss: 0.1914 - acc: 0.94 - ETA: 14s - loss: 0.2062 - acc: 0.93 - ETA: 14s - loss: 0.2017 - acc: 0.94 - ETA: 13s - loss: 0.2077 - acc: 0.94 - ETA: 13s - loss: 0.2085 - acc: 0.94 - ETA: 13s - loss: 0.2066 - acc: 0.94 - ETA: 12s - loss: 0.2018 - acc: 0.94 - ETA: 12s - loss: 0.2000 - acc: 0.94 - ETA: 11s - loss: 0.2030 - acc: 0.94 - ETA: 11s - loss: 0.2043 - acc: 0.94 - ETA: 11s - loss: 0.2061 - acc: 0.94 - ETA: 10s - loss: 0.2063 - acc: 0.94 - ETA: 10s - loss: 0.2068 - acc: 0.94 - ETA: 9s - loss: 0.2036 - acc: 0.9421 - ETA: 9s - loss: 0.1997 - acc: 0.943 - ETA: 9s - loss: 0.2037 - acc: 0.943 - ETA: 8s - loss: 0.2014 - acc: 0.944 - ETA: 8s - loss: 0.2028 - acc: 0.943 - ETA: 7s - loss: 0.2046 - acc: 0.943 - ETA: 7s - loss: 0.2016 - acc: 0.944 - ETA: 7s - loss: 0.1991 - acc: 0.944 - ETA: 6s - loss: 0.1974 - acc: 0.945 - ETA: 6s - loss: 0.1992 - acc: 0.944 - ETA: 6s - loss: 0.2002 - acc: 0.944 - ETA: 5s - loss: 0.1994 - acc: 0.944 - ETA: 5s - loss: 0.1964 - acc: 0.945 - ETA: 4s - loss: 0.1969 - acc: 0.944 - ETA: 4s - loss: 0.1979 - acc: 0.944 - ETA: 4s - loss: 0.1972 - acc: 0.944 - ETA: 3s - loss: 0.1957 - acc: 0.944 - ETA: 3s - loss: 0.1956 - acc: 0.944 - ETA: 2s - loss: 0.1958 - acc: 0.944 - ETA: 2s - loss: 0.1965 - acc: 0.943 - ETA: 2s - loss: 0.1943 - acc: 0.944 - ETA: 1s - loss: 0.1926 - acc: 0.944 - ETA: 1s - loss: 0.1912 - acc: 0.945 - ETA: 1s - loss: 0.1901 - acc: 0.945 - ETA: 0s - loss: 0.1890 - acc: 0.945 - ETA: 0s - loss: 0.1884 - acc: 0.945 - 26s 4ms/step - loss: 0.1882 - acc: 0.9460 - val_loss: 2.3223 - val_acc: 0.6510\n",
      "Epoch 94/100\n"
     ]
    },
    {
     "name": "stdout",
     "output_type": "stream",
     "text": [
      "7000/7000 [==============================] - ETA: 19s - loss: 0.1537 - acc: 0.95 - ETA: 20s - loss: 0.1862 - acc: 0.94 - ETA: 19s - loss: 0.1935 - acc: 0.94 - ETA: 19s - loss: 0.2046 - acc: 0.94 - ETA: 18s - loss: 0.2398 - acc: 0.92 - ETA: 18s - loss: 0.2369 - acc: 0.92 - ETA: 18s - loss: 0.2225 - acc: 0.92 - ETA: 17s - loss: 0.2114 - acc: 0.93 - ETA: 17s - loss: 0.2177 - acc: 0.93 - ETA: 17s - loss: 0.2138 - acc: 0.93 - ETA: 16s - loss: 0.2085 - acc: 0.93 - ETA: 16s - loss: 0.2042 - acc: 0.93 - ETA: 16s - loss: 0.1969 - acc: 0.93 - ETA: 15s - loss: 0.2034 - acc: 0.94 - ETA: 15s - loss: 0.1976 - acc: 0.94 - ETA: 14s - loss: 0.1929 - acc: 0.94 - ETA: 14s - loss: 0.1874 - acc: 0.94 - ETA: 14s - loss: 0.1869 - acc: 0.94 - ETA: 13s - loss: 0.1922 - acc: 0.94 - ETA: 13s - loss: 0.1879 - acc: 0.94 - ETA: 13s - loss: 0.1840 - acc: 0.94 - ETA: 12s - loss: 0.1840 - acc: 0.94 - ETA: 12s - loss: 0.1831 - acc: 0.94 - ETA: 11s - loss: 0.1895 - acc: 0.94 - ETA: 11s - loss: 0.1924 - acc: 0.94 - ETA: 11s - loss: 0.1921 - acc: 0.94 - ETA: 10s - loss: 0.1923 - acc: 0.94 - ETA: 10s - loss: 0.1914 - acc: 0.94 - ETA: 10s - loss: 0.1893 - acc: 0.94 - ETA: 9s - loss: 0.1884 - acc: 0.9419 - ETA: 9s - loss: 0.1909 - acc: 0.941 - ETA: 8s - loss: 0.1957 - acc: 0.939 - ETA: 8s - loss: 0.1950 - acc: 0.940 - ETA: 8s - loss: 0.1946 - acc: 0.940 - ETA: 7s - loss: 0.1917 - acc: 0.941 - ETA: 7s - loss: 0.1921 - acc: 0.941 - ETA: 6s - loss: 0.1929 - acc: 0.941 - ETA: 6s - loss: 0.1917 - acc: 0.941 - ETA: 6s - loss: 0.1914 - acc: 0.941 - ETA: 5s - loss: 0.1910 - acc: 0.941 - ETA: 5s - loss: 0.1939 - acc: 0.940 - ETA: 4s - loss: 0.1927 - acc: 0.941 - ETA: 4s - loss: 0.1896 - acc: 0.942 - ETA: 4s - loss: 0.1910 - acc: 0.941 - ETA: 3s - loss: 0.1896 - acc: 0.941 - ETA: 3s - loss: 0.1901 - acc: 0.941 - ETA: 2s - loss: 0.1917 - acc: 0.941 - ETA: 2s - loss: 0.1901 - acc: 0.941 - ETA: 2s - loss: 0.1934 - acc: 0.940 - ETA: 1s - loss: 0.1928 - acc: 0.941 - ETA: 1s - loss: 0.1925 - acc: 0.941 - ETA: 1s - loss: 0.1909 - acc: 0.941 - ETA: 0s - loss: 0.1910 - acc: 0.941 - ETA: 0s - loss: 0.1923 - acc: 0.942 - 26s 4ms/step - loss: 0.1920 - acc: 0.9417 - val_loss: 2.3830 - val_acc: 0.6617\n",
      "Epoch 95/100\n",
      "7000/7000 [==============================] - ETA: 20s - loss: 0.1921 - acc: 0.93 - ETA: 21s - loss: 0.1853 - acc: 0.93 - ETA: 20s - loss: 0.2004 - acc: 0.93 - ETA: 20s - loss: 0.1933 - acc: 0.93 - ETA: 19s - loss: 0.1837 - acc: 0.93 - ETA: 19s - loss: 0.1740 - acc: 0.94 - ETA: 18s - loss: 0.1598 - acc: 0.94 - ETA: 18s - loss: 0.1504 - acc: 0.95 - ETA: 17s - loss: 0.1460 - acc: 0.95 - ETA: 17s - loss: 0.1563 - acc: 0.94 - ETA: 16s - loss: 0.1576 - acc: 0.94 - ETA: 16s - loss: 0.1521 - acc: 0.95 - ETA: 16s - loss: 0.1559 - acc: 0.95 - ETA: 15s - loss: 0.1592 - acc: 0.94 - ETA: 15s - loss: 0.1637 - acc: 0.94 - ETA: 14s - loss: 0.1726 - acc: 0.94 - ETA: 14s - loss: 0.1761 - acc: 0.94 - ETA: 14s - loss: 0.1735 - acc: 0.94 - ETA: 13s - loss: 0.1756 - acc: 0.94 - ETA: 13s - loss: 0.1692 - acc: 0.94 - ETA: 12s - loss: 0.1705 - acc: 0.94 - ETA: 12s - loss: 0.1672 - acc: 0.94 - ETA: 12s - loss: 0.1657 - acc: 0.94 - ETA: 11s - loss: 0.1618 - acc: 0.94 - ETA: 11s - loss: 0.1612 - acc: 0.94 - ETA: 11s - loss: 0.1605 - acc: 0.94 - ETA: 10s - loss: 0.1611 - acc: 0.94 - ETA: 10s - loss: 0.1651 - acc: 0.94 - ETA: 9s - loss: 0.1660 - acc: 0.9461 - ETA: 9s - loss: 0.1638 - acc: 0.946 - ETA: 9s - loss: 0.1656 - acc: 0.945 - ETA: 8s - loss: 0.1676 - acc: 0.945 - ETA: 8s - loss: 0.1723 - acc: 0.944 - ETA: 7s - loss: 0.1746 - acc: 0.943 - ETA: 7s - loss: 0.1738 - acc: 0.944 - ETA: 7s - loss: 0.1726 - acc: 0.945 - ETA: 6s - loss: 0.1734 - acc: 0.944 - ETA: 6s - loss: 0.1710 - acc: 0.945 - ETA: 6s - loss: 0.1705 - acc: 0.945 - ETA: 5s - loss: 0.1693 - acc: 0.946 - ETA: 5s - loss: 0.1684 - acc: 0.946 - ETA: 4s - loss: 0.1688 - acc: 0.946 - ETA: 4s - loss: 0.1686 - acc: 0.946 - ETA: 4s - loss: 0.1710 - acc: 0.946 - ETA: 3s - loss: 0.1698 - acc: 0.946 - ETA: 3s - loss: 0.1690 - acc: 0.946 - ETA: 2s - loss: 0.1675 - acc: 0.947 - ETA: 2s - loss: 0.1657 - acc: 0.947 - ETA: 2s - loss: 0.1642 - acc: 0.948 - ETA: 1s - loss: 0.1647 - acc: 0.948 - ETA: 1s - loss: 0.1655 - acc: 0.948 - ETA: 1s - loss: 0.1673 - acc: 0.947 - ETA: 0s - loss: 0.1667 - acc: 0.948 - ETA: 0s - loss: 0.1676 - acc: 0.947 - 26s 4ms/step - loss: 0.1687 - acc: 0.9473 - val_loss: 2.2389 - val_acc: 0.6567\n",
      "Epoch 96/100\n",
      "7000/7000 [==============================] - ETA: 20s - loss: 0.0819 - acc: 0.97 - ETA: 19s - loss: 0.1214 - acc: 0.95 - ETA: 19s - loss: 0.1105 - acc: 0.96 - ETA: 19s - loss: 0.1105 - acc: 0.96 - ETA: 18s - loss: 0.1243 - acc: 0.96 - ETA: 18s - loss: 0.1301 - acc: 0.95 - ETA: 18s - loss: 0.1218 - acc: 0.96 - ETA: 17s - loss: 0.1270 - acc: 0.96 - ETA: 17s - loss: 0.1304 - acc: 0.96 - ETA: 17s - loss: 0.1365 - acc: 0.95 - ETA: 16s - loss: 0.1397 - acc: 0.95 - ETA: 16s - loss: 0.1425 - acc: 0.95 - ETA: 15s - loss: 0.1423 - acc: 0.95 - ETA: 15s - loss: 0.1465 - acc: 0.95 - ETA: 15s - loss: 0.1463 - acc: 0.95 - ETA: 14s - loss: 0.1497 - acc: 0.95 - ETA: 14s - loss: 0.1526 - acc: 0.95 - ETA: 14s - loss: 0.1653 - acc: 0.94 - ETA: 13s - loss: 0.1659 - acc: 0.94 - ETA: 13s - loss: 0.1634 - acc: 0.94 - ETA: 13s - loss: 0.1698 - acc: 0.94 - ETA: 12s - loss: 0.1666 - acc: 0.94 - ETA: 12s - loss: 0.1658 - acc: 0.94 - ETA: 11s - loss: 0.1630 - acc: 0.95 - ETA: 11s - loss: 0.1715 - acc: 0.94 - ETA: 11s - loss: 0.1789 - acc: 0.94 - ETA: 10s - loss: 0.1803 - acc: 0.94 - ETA: 10s - loss: 0.1829 - acc: 0.94 - ETA: 9s - loss: 0.1821 - acc: 0.9469 - ETA: 9s - loss: 0.1867 - acc: 0.944 - ETA: 9s - loss: 0.1835 - acc: 0.945 - ETA: 8s - loss: 0.1823 - acc: 0.944 - ETA: 8s - loss: 0.1789 - acc: 0.945 - ETA: 7s - loss: 0.1815 - acc: 0.946 - ETA: 7s - loss: 0.1842 - acc: 0.946 - ETA: 7s - loss: 0.1819 - acc: 0.946 - ETA: 6s - loss: 0.1840 - acc: 0.946 - ETA: 6s - loss: 0.1859 - acc: 0.945 - ETA: 6s - loss: 0.1847 - acc: 0.945 - ETA: 5s - loss: 0.1854 - acc: 0.945 - ETA: 5s - loss: 0.1849 - acc: 0.946 - ETA: 4s - loss: 0.1822 - acc: 0.947 - ETA: 4s - loss: 0.1815 - acc: 0.947 - ETA: 4s - loss: 0.1830 - acc: 0.946 - ETA: 3s - loss: 0.1809 - acc: 0.947 - ETA: 3s - loss: 0.1791 - acc: 0.948 - ETA: 2s - loss: 0.1787 - acc: 0.948 - ETA: 2s - loss: 0.1822 - acc: 0.947 - ETA: 2s - loss: 0.1809 - acc: 0.948 - ETA: 1s - loss: 0.1791 - acc: 0.948 - ETA: 1s - loss: 0.1785 - acc: 0.948 - ETA: 1s - loss: 0.1779 - acc: 0.948 - ETA: 0s - loss: 0.1759 - acc: 0.949 - ETA: 0s - loss: 0.1751 - acc: 0.949 - 26s 4ms/step - loss: 0.1755 - acc: 0.9491 - val_loss: 2.3668 - val_acc: 0.6533\n",
      "Epoch 97/100\n"
     ]
    },
    {
     "name": "stdout",
     "output_type": "stream",
     "text": [
      "7000/7000 [==============================] - ETA: 20s - loss: 0.0537 - acc: 0.98 - ETA: 20s - loss: 0.1127 - acc: 0.97 - ETA: 19s - loss: 0.1385 - acc: 0.96 - ETA: 19s - loss: 0.1566 - acc: 0.95 - ETA: 18s - loss: 0.1575 - acc: 0.96 - ETA: 18s - loss: 0.1731 - acc: 0.95 - ETA: 18s - loss: 0.1803 - acc: 0.95 - ETA: 17s - loss: 0.1735 - acc: 0.95 - ETA: 17s - loss: 0.1604 - acc: 0.95 - ETA: 17s - loss: 0.1578 - acc: 0.95 - ETA: 16s - loss: 0.1572 - acc: 0.95 - ETA: 16s - loss: 0.1578 - acc: 0.95 - ETA: 15s - loss: 0.1681 - acc: 0.95 - ETA: 15s - loss: 0.1666 - acc: 0.95 - ETA: 15s - loss: 0.1698 - acc: 0.95 - ETA: 14s - loss: 0.1774 - acc: 0.95 - ETA: 14s - loss: 0.1739 - acc: 0.95 - ETA: 14s - loss: 0.1801 - acc: 0.95 - ETA: 13s - loss: 0.1756 - acc: 0.95 - ETA: 13s - loss: 0.1706 - acc: 0.95 - ETA: 12s - loss: 0.1707 - acc: 0.95 - ETA: 12s - loss: 0.1687 - acc: 0.95 - ETA: 12s - loss: 0.1698 - acc: 0.95 - ETA: 11s - loss: 0.1696 - acc: 0.95 - ETA: 11s - loss: 0.1686 - acc: 0.95 - ETA: 10s - loss: 0.1715 - acc: 0.95 - ETA: 10s - loss: 0.1697 - acc: 0.95 - ETA: 10s - loss: 0.1682 - acc: 0.95 - ETA: 9s - loss: 0.1686 - acc: 0.9534 - ETA: 9s - loss: 0.1673 - acc: 0.953 - ETA: 9s - loss: 0.1687 - acc: 0.953 - ETA: 8s - loss: 0.1661 - acc: 0.954 - ETA: 8s - loss: 0.1643 - acc: 0.953 - ETA: 7s - loss: 0.1645 - acc: 0.952 - ETA: 7s - loss: 0.1643 - acc: 0.952 - ETA: 7s - loss: 0.1722 - acc: 0.951 - ETA: 6s - loss: 0.1721 - acc: 0.951 - ETA: 6s - loss: 0.1736 - acc: 0.950 - ETA: 6s - loss: 0.1730 - acc: 0.950 - ETA: 5s - loss: 0.1708 - acc: 0.951 - ETA: 5s - loss: 0.1717 - acc: 0.950 - ETA: 4s - loss: 0.1750 - acc: 0.950 - ETA: 4s - loss: 0.1740 - acc: 0.950 - ETA: 4s - loss: 0.1746 - acc: 0.949 - ETA: 3s - loss: 0.1754 - acc: 0.949 - ETA: 3s - loss: 0.1764 - acc: 0.948 - ETA: 2s - loss: 0.1779 - acc: 0.947 - ETA: 2s - loss: 0.1804 - acc: 0.946 - ETA: 2s - loss: 0.1814 - acc: 0.946 - ETA: 1s - loss: 0.1810 - acc: 0.946 - ETA: 1s - loss: 0.1805 - acc: 0.946 - ETA: 1s - loss: 0.1811 - acc: 0.945 - ETA: 0s - loss: 0.1793 - acc: 0.946 - ETA: 0s - loss: 0.1784 - acc: 0.946 - 26s 4ms/step - loss: 0.1798 - acc: 0.9459 - val_loss: 2.2853 - val_acc: 0.6637\n",
      "Epoch 98/100\n",
      "7000/7000 [==============================] - ETA: 19s - loss: 0.1805 - acc: 0.93 - ETA: 19s - loss: 0.1400 - acc: 0.95 - ETA: 19s - loss: 0.1352 - acc: 0.95 - ETA: 19s - loss: 0.1259 - acc: 0.96 - ETA: 18s - loss: 0.1470 - acc: 0.95 - ETA: 18s - loss: 0.1661 - acc: 0.94 - ETA: 18s - loss: 0.1516 - acc: 0.95 - ETA: 17s - loss: 0.1498 - acc: 0.95 - ETA: 17s - loss: 0.1628 - acc: 0.95 - ETA: 17s - loss: 0.1750 - acc: 0.94 - ETA: 17s - loss: 0.1834 - acc: 0.94 - ETA: 16s - loss: 0.1762 - acc: 0.94 - ETA: 16s - loss: 0.1799 - acc: 0.94 - ETA: 16s - loss: 0.1812 - acc: 0.94 - ETA: 15s - loss: 0.1833 - acc: 0.94 - ETA: 15s - loss: 0.1784 - acc: 0.94 - ETA: 14s - loss: 0.1817 - acc: 0.94 - ETA: 14s - loss: 0.1875 - acc: 0.94 - ETA: 14s - loss: 0.1903 - acc: 0.94 - ETA: 13s - loss: 0.1922 - acc: 0.94 - ETA: 13s - loss: 0.1893 - acc: 0.94 - ETA: 13s - loss: 0.1896 - acc: 0.94 - ETA: 12s - loss: 0.1911 - acc: 0.94 - ETA: 12s - loss: 0.1898 - acc: 0.94 - ETA: 11s - loss: 0.1880 - acc: 0.94 - ETA: 11s - loss: 0.1850 - acc: 0.94 - ETA: 11s - loss: 0.1822 - acc: 0.94 - ETA: 10s - loss: 0.1815 - acc: 0.94 - ETA: 10s - loss: 0.1883 - acc: 0.94 - ETA: 9s - loss: 0.1911 - acc: 0.9430 - ETA: 9s - loss: 0.1923 - acc: 0.942 - ETA: 8s - loss: 0.1971 - acc: 0.940 - ETA: 8s - loss: 0.1962 - acc: 0.941 - ETA: 8s - loss: 0.1932 - acc: 0.941 - ETA: 7s - loss: 0.1916 - acc: 0.942 - ETA: 7s - loss: 0.1872 - acc: 0.943 - ETA: 6s - loss: 0.1869 - acc: 0.943 - ETA: 6s - loss: 0.1869 - acc: 0.944 - ETA: 6s - loss: 0.1863 - acc: 0.944 - ETA: 5s - loss: 0.1847 - acc: 0.944 - ETA: 5s - loss: 0.1842 - acc: 0.944 - ETA: 4s - loss: 0.1833 - acc: 0.944 - ETA: 4s - loss: 0.1820 - acc: 0.945 - ETA: 4s - loss: 0.1836 - acc: 0.945 - ETA: 3s - loss: 0.1818 - acc: 0.946 - ETA: 3s - loss: 0.1802 - acc: 0.946 - ETA: 3s - loss: 0.1805 - acc: 0.946 - ETA: 2s - loss: 0.1808 - acc: 0.945 - ETA: 2s - loss: 0.1855 - acc: 0.944 - ETA: 1s - loss: 0.1845 - acc: 0.944 - ETA: 1s - loss: 0.1849 - acc: 0.943 - ETA: 1s - loss: 0.1881 - acc: 0.943 - ETA: 0s - loss: 0.1890 - acc: 0.943 - ETA: 0s - loss: 0.1894 - acc: 0.944 - 26s 4ms/step - loss: 0.1902 - acc: 0.9436 - val_loss: 2.2445 - val_acc: 0.6597\n",
      "Epoch 99/100\n",
      "7000/7000 [==============================] - ETA: 19s - loss: 0.1568 - acc: 0.96 - ETA: 20s - loss: 0.1785 - acc: 0.95 - ETA: 20s - loss: 0.1601 - acc: 0.95 - ETA: 20s - loss: 0.1784 - acc: 0.93 - ETA: 20s - loss: 0.1926 - acc: 0.93 - ETA: 20s - loss: 0.1858 - acc: 0.93 - ETA: 19s - loss: 0.1740 - acc: 0.94 - ETA: 19s - loss: 0.2014 - acc: 0.93 - ETA: 18s - loss: 0.1958 - acc: 0.93 - ETA: 18s - loss: 0.1866 - acc: 0.93 - ETA: 17s - loss: 0.1800 - acc: 0.94 - ETA: 17s - loss: 0.1795 - acc: 0.94 - ETA: 16s - loss: 0.1825 - acc: 0.94 - ETA: 16s - loss: 0.1794 - acc: 0.94 - ETA: 15s - loss: 0.1868 - acc: 0.93 - ETA: 15s - loss: 0.1873 - acc: 0.93 - ETA: 15s - loss: 0.1847 - acc: 0.93 - ETA: 14s - loss: 0.1826 - acc: 0.94 - ETA: 14s - loss: 0.1807 - acc: 0.94 - ETA: 13s - loss: 0.1785 - acc: 0.94 - ETA: 13s - loss: 0.1823 - acc: 0.94 - ETA: 12s - loss: 0.1790 - acc: 0.94 - ETA: 12s - loss: 0.1755 - acc: 0.94 - ETA: 12s - loss: 0.1728 - acc: 0.94 - ETA: 11s - loss: 0.1683 - acc: 0.94 - ETA: 11s - loss: 0.1682 - acc: 0.94 - ETA: 10s - loss: 0.1662 - acc: 0.94 - ETA: 10s - loss: 0.1696 - acc: 0.94 - ETA: 10s - loss: 0.1704 - acc: 0.94 - ETA: 9s - loss: 0.1669 - acc: 0.9479 - ETA: 9s - loss: 0.1718 - acc: 0.946 - ETA: 8s - loss: 0.1705 - acc: 0.947 - ETA: 8s - loss: 0.1684 - acc: 0.948 - ETA: 8s - loss: 0.1692 - acc: 0.949 - ETA: 7s - loss: 0.1689 - acc: 0.949 - ETA: 7s - loss: 0.1699 - acc: 0.949 - ETA: 6s - loss: 0.1704 - acc: 0.950 - ETA: 6s - loss: 0.1712 - acc: 0.949 - ETA: 6s - loss: 0.1736 - acc: 0.949 - ETA: 5s - loss: 0.1760 - acc: 0.948 - ETA: 5s - loss: 0.1787 - acc: 0.948 - ETA: 4s - loss: 0.1775 - acc: 0.948 - ETA: 4s - loss: 0.1792 - acc: 0.947 - ETA: 4s - loss: 0.1786 - acc: 0.947 - ETA: 3s - loss: 0.1765 - acc: 0.947 - ETA: 3s - loss: 0.1767 - acc: 0.947 - ETA: 3s - loss: 0.1773 - acc: 0.947 - ETA: 2s - loss: 0.1777 - acc: 0.946 - ETA: 2s - loss: 0.1760 - acc: 0.947 - ETA: 1s - loss: 0.1766 - acc: 0.947 - ETA: 1s - loss: 0.1755 - acc: 0.947 - ETA: 1s - loss: 0.1766 - acc: 0.947 - ETA: 0s - loss: 0.1782 - acc: 0.947 - ETA: 0s - loss: 0.1786 - acc: 0.947 - 26s 4ms/step - loss: 0.1787 - acc: 0.9469 - val_loss: 2.3667 - val_acc: 0.6650\n",
      "Epoch 100/100\n"
     ]
    },
    {
     "name": "stdout",
     "output_type": "stream",
     "text": [
      "7000/7000 [==============================] - ETA: 20s - loss: 0.2146 - acc: 0.91 - ETA: 20s - loss: 0.1577 - acc: 0.93 - ETA: 19s - loss: 0.1788 - acc: 0.93 - ETA: 19s - loss: 0.1755 - acc: 0.93 - ETA: 18s - loss: 0.1671 - acc: 0.94 - ETA: 18s - loss: 0.1737 - acc: 0.94 - ETA: 18s - loss: 0.1572 - acc: 0.95 - ETA: 17s - loss: 0.1550 - acc: 0.95 - ETA: 17s - loss: 0.1717 - acc: 0.94 - ETA: 17s - loss: 0.1785 - acc: 0.94 - ETA: 16s - loss: 0.1782 - acc: 0.94 - ETA: 16s - loss: 0.1720 - acc: 0.94 - ETA: 15s - loss: 0.1828 - acc: 0.94 - ETA: 15s - loss: 0.1765 - acc: 0.94 - ETA: 15s - loss: 0.1803 - acc: 0.94 - ETA: 14s - loss: 0.1741 - acc: 0.94 - ETA: 14s - loss: 0.1693 - acc: 0.94 - ETA: 14s - loss: 0.1698 - acc: 0.94 - ETA: 13s - loss: 0.1728 - acc: 0.94 - ETA: 13s - loss: 0.1713 - acc: 0.94 - ETA: 12s - loss: 0.1732 - acc: 0.94 - ETA: 12s - loss: 0.1709 - acc: 0.94 - ETA: 12s - loss: 0.1809 - acc: 0.94 - ETA: 11s - loss: 0.1823 - acc: 0.94 - ETA: 11s - loss: 0.1822 - acc: 0.94 - ETA: 10s - loss: 0.1862 - acc: 0.94 - ETA: 10s - loss: 0.1902 - acc: 0.94 - ETA: 10s - loss: 0.1879 - acc: 0.94 - ETA: 9s - loss: 0.1876 - acc: 0.9445 - ETA: 9s - loss: 0.1850 - acc: 0.945 - ETA: 9s - loss: 0.1859 - acc: 0.945 - ETA: 8s - loss: 0.1883 - acc: 0.944 - ETA: 8s - loss: 0.1888 - acc: 0.944 - ETA: 7s - loss: 0.1868 - acc: 0.945 - ETA: 7s - loss: 0.1886 - acc: 0.944 - ETA: 7s - loss: 0.1883 - acc: 0.944 - ETA: 6s - loss: 0.1872 - acc: 0.945 - ETA: 6s - loss: 0.1907 - acc: 0.944 - ETA: 6s - loss: 0.1913 - acc: 0.943 - ETA: 5s - loss: 0.1923 - acc: 0.943 - ETA: 5s - loss: 0.1901 - acc: 0.943 - ETA: 4s - loss: 0.1897 - acc: 0.943 - ETA: 4s - loss: 0.1866 - acc: 0.944 - ETA: 4s - loss: 0.1873 - acc: 0.944 - ETA: 3s - loss: 0.1869 - acc: 0.945 - ETA: 3s - loss: 0.1866 - acc: 0.945 - ETA: 2s - loss: 0.1886 - acc: 0.944 - ETA: 2s - loss: 0.1867 - acc: 0.945 - ETA: 2s - loss: 0.1859 - acc: 0.945 - ETA: 1s - loss: 0.1870 - acc: 0.945 - ETA: 1s - loss: 0.1888 - acc: 0.944 - ETA: 1s - loss: 0.1872 - acc: 0.944 - ETA: 0s - loss: 0.1893 - acc: 0.944 - ETA: 0s - loss: 0.1885 - acc: 0.944 - 26s 4ms/step - loss: 0.1883 - acc: 0.9437 - val_loss: 2.2176 - val_acc: 0.6613\n",
      "Final CNN accuracy:  0.6613333334922791\n",
      "Wall time: 43min 29s\n"
     ]
    }
   ],
   "source": [
    "%%time\n",
    "\n",
    "# build the model\n",
    "model = cnn_model2()\n",
    "# Fit the model\n",
    "model.fit(X_train_cnn, y_train_cnn, validation_data=(X_test_cnn, y_test_cnn), epochs=100, batch_size=128)\n",
    "# Final evaluation of the model\n",
    "scores = model.evaluate(X_test_cnn, y_test_cnn, verbose=0)\n",
    "print('Final CNN accuracy: ', scores[1])"
   ]
  },
  {
   "cell_type": "markdown",
   "metadata": {},
   "source": [
    "**Resultats avec des images (28,28)**\n",
    "\n",
    "Final CNN accuracy:  0.6613333334922791\n",
    "\n",
    "\n",
    "Wall time: 43min 29"
   ]
  },
  {
   "cell_type": "markdown",
   "metadata": {},
   "source": [
    "# Premier travail sur les features"
   ]
  },
  {
   "cell_type": "markdown",
   "metadata": {},
   "source": [
    "Voir si l'ajout de quelques features basiques a un impact sur la qualité de prédiction"
   ]
  },
  {
   "cell_type": "markdown",
   "metadata": {},
   "source": [
    "## Compte le nombre de boucles presentes dans l'image"
   ]
  },
  {
   "cell_type": "code",
   "execution_count": 142,
   "metadata": {},
   "outputs": [],
   "source": [
    "def count_loops(data_contrasted, seuil_loop):\n",
    "    \n",
    "    data_loops = []\n",
    "    \n",
    "    for k in tqdm(range(len(data_contrasted))):\n",
    "        \n",
    "        dgm = lower_star_img(data_contrasted[k][1])\n",
    "        number_of_loops = np.sum((np.abs(dgm[:, 1] - dgm[:, 0]) > seuil_loop)*1)\n",
    "        data_loops.append(number_of_loops)\n",
    "        \n",
    "    return(data_loops)"
   ]
  },
  {
   "cell_type": "code",
   "execution_count": 143,
   "metadata": {},
   "outputs": [
    {
     "name": "stderr",
     "output_type": "stream",
     "text": [
      "100%|██████████| 10000/10000 [00:24<00:00, 406.68it/s]\n"
     ]
    }
   ],
   "source": [
    "data_loops = count_loops(data_contrasted, 70)"
   ]
  },
  {
   "cell_type": "markdown",
   "metadata": {},
   "source": [
    "## Crée des vecteurs de 4 features (aire, elongation_i, elongation_j, nombre de boucles)"
   ]
  },
  {
   "cell_type": "code",
   "execution_count": 160,
   "metadata": {},
   "outputs": [],
   "source": [
    "def create_vectors_of_features(data_loops, data_denoised_coordinates):\n",
    "    \n",
    "    max_i, min_i, max_j, min_j = np.array(data_denoised_coordinates)[:,1], np.array(data_denoised_coordinates)[:,2], np.array(data_denoised_coordinates)[:,3], np.array(data_denoised_coordinates)[:,4]\n",
    "    elongation_i = max_i - min_i\n",
    "    elongation_j = max_j - min_j\n",
    "    n = len(elongation_i)\n",
    "    elongation_i = np.reshape(elongation_i, (n,1))\n",
    "    elongation_j  = np.reshape(elongation_j, (n,1))\n",
    "    area = np.array(data_denoised_coordinates)[:,0]\n",
    "    area = np.reshape(area, (n,1))\n",
    "    loops = np.array(data_loops)\n",
    "    loops = np.reshape(loops, (n,1))\n",
    "    \n",
    "    return(np.concatenate((area, elongation_i, elongation_j, loops), axis=1))"
   ]
  },
  {
   "cell_type": "code",
   "execution_count": 161,
   "metadata": {},
   "outputs": [],
   "source": [
    "vectors_of_features = create_vectors_of_features(data_loops, data_denoised_coordinates)"
   ]
  },
  {
   "cell_type": "markdown",
   "metadata": {},
   "source": [
    "## Assemble les images aux features (pour tester ce que donne les algos classiques avec ces infos en plus)"
   ]
  },
  {
   "cell_type": "code",
   "execution_count": 162,
   "metadata": {},
   "outputs": [],
   "source": [
    "def concatenate_data_features(data, features):\n",
    "    \n",
    "    data = np.array(data)\n",
    "    features = np.array(features)\n",
    "    \n",
    "    return(np.concatenate((features, data), axis=1))"
   ]
  },
  {
   "cell_type": "code",
   "execution_count": 163,
   "metadata": {},
   "outputs": [],
   "source": [
    "concatenation_data_features = concatenate_data_features(data_processed, vectors_of_features)"
   ]
  },
  {
   "cell_type": "markdown",
   "metadata": {},
   "source": [
    "## Resultats avec images + features"
   ]
  },
  {
   "cell_type": "code",
   "execution_count": 205,
   "metadata": {},
   "outputs": [],
   "source": [
    "data = concatenation_data_features\n",
    "X_train, X_test, y_train, y_test = train_test_split(data, y_processed, test_size=0.3, random_state=42)\n",
    "X_train_bruit, X_test_bruit, y_train_bruit, y_test_bruit = train_test_split(data, y_bruit, test_size=0.3, random_state=42)"
   ]
  },
  {
   "cell_type": "code",
   "execution_count": 182,
   "metadata": {},
   "outputs": [
    {
     "name": "stdout",
     "output_type": "stream",
     "text": [
      "KNN accuracy:  0.43433333333333335\n",
      "Wall time: 5.04 s\n"
     ]
    }
   ],
   "source": [
    "%%time \n",
    "\n",
    "clf_knn = KNeighborsClassifier(n_jobs=-1)\n",
    "clf_knn.fit(X_train, y_train)\n",
    "y_pred_knn = clf_knn.predict(X_test)\n",
    "acc_knn = accuracy_score(y_test, y_pred_knn)\n",
    "print ('KNN accuracy: ',acc_knn)"
   ]
  },
  {
   "cell_type": "code",
   "execution_count": 210,
   "metadata": {},
   "outputs": [
    {
     "name": "stdout",
     "output_type": "stream",
     "text": [
      "random forest accuracy:  0.528\n",
      "Wall time: 26.5 s\n"
     ]
    }
   ],
   "source": [
    "%%time\n",
    "\n",
    "clf_rf = RandomForestClassifier(n_estimators=1500, n_jobs=-1, random_state=0)\n",
    "clf_rf.fit(X_train, y_train)\n",
    "y_pred_rf_features = clf_rf.predict(X_test)\n",
    "acc_rf = accuracy_score(y_test, y_pred_rf_features)\n",
    "print ('random forest accuracy: ',acc_rf)"
   ]
  },
  {
   "cell_type": "markdown",
   "metadata": {},
   "source": [
    "**Et sur le bruit**"
   ]
  },
  {
   "cell_type": "code",
   "execution_count": 184,
   "metadata": {},
   "outputs": [
    {
     "name": "stdout",
     "output_type": "stream",
     "text": [
      "KNN accuracy:  0.9726666666666667\n",
      "Wall time: 4.86 s\n"
     ]
    }
   ],
   "source": [
    "%%time \n",
    "\n",
    "clf_knn = KNeighborsClassifier(n_jobs=-1)\n",
    "clf_knn.fit(X_train_bruit, y_train_bruit)\n",
    "y_pred_knn = clf_knn.predict(X_test_bruit)\n",
    "acc_knn = accuracy_score(y_test_bruit, y_pred_knn)\n",
    "print ('KNN accuracy: ',acc_knn)"
   ]
  },
  {
   "cell_type": "code",
   "execution_count": 208,
   "metadata": {},
   "outputs": [
    {
     "name": "stdout",
     "output_type": "stream",
     "text": [
      "random forest accuracy:  0.989\n",
      "Wall time: 19.9 s\n",
      "Parser   : 287 ms\n"
     ]
    }
   ],
   "source": [
    "%%time\n",
    "\n",
    "clf_rf = RandomForestClassifier(n_estimators=1500, n_jobs=-1, random_state=0)\n",
    "clf_rf.fit(X_train_bruit, y_train_bruit)\n",
    "y_pred_rf = clf_rf.predict(X_test_bruit)\n",
    "acc_rf = accuracy_score(y_test_bruit, y_pred_rf)\n",
    "print ('random forest accuracy: ',acc_rf)"
   ]
  },
  {
   "cell_type": "markdown",
   "metadata": {},
   "source": [
    "## Resultats avec features seules"
   ]
  },
  {
   "cell_type": "code",
   "execution_count": 175,
   "metadata": {},
   "outputs": [],
   "source": [
    "X_train, X_test, y_train, y_test = train_test_split(vectors_of_features, y_processed, test_size=0.3, random_state=42)\n",
    "X_train_bruit, X_test_bruit, y_train_bruit, y_test_bruit = train_test_split(vectors_of_features, y_bruit, test_size=0.3, random_state=42)"
   ]
  },
  {
   "cell_type": "code",
   "execution_count": 169,
   "metadata": {},
   "outputs": [
    {
     "name": "stdout",
     "output_type": "stream",
     "text": [
      "KNN accuracy:  0.17833333333333334\n",
      "Wall time: 129 ms\n"
     ]
    }
   ],
   "source": [
    "%%time \n",
    "\n",
    "clf_knn = KNeighborsClassifier(n_jobs=-1)\n",
    "clf_knn.fit(X_train, y_train)\n",
    "y_pred_knn = clf_knn.predict(X_test)\n",
    "acc_knn = accuracy_score(y_test, y_pred_knn)\n",
    "print ('KNN accuracy: ',acc_knn)"
   ]
  },
  {
   "cell_type": "code",
   "execution_count": 170,
   "metadata": {},
   "outputs": [
    {
     "name": "stdout",
     "output_type": "stream",
     "text": [
      "random forest accuracy:  0.19266666666666668\n",
      "Wall time: 837 ms\n"
     ]
    }
   ],
   "source": [
    "%%time\n",
    "\n",
    "clf_rf = RandomForestClassifier(n_estimators=150, n_jobs=-1, random_state=0)\n",
    "clf_rf.fit(X_train, y_train)\n",
    "y_pred_rf = clf_rf.predict(X_test)\n",
    "acc_rf = accuracy_score(y_test, y_pred_rf)\n",
    "print ('random forest accuracy: ',acc_rf)"
   ]
  },
  {
   "cell_type": "markdown",
   "metadata": {},
   "source": [
    "**Et sur le bruit**"
   ]
  },
  {
   "cell_type": "code",
   "execution_count": 176,
   "metadata": {},
   "outputs": [
    {
     "name": "stdout",
     "output_type": "stream",
     "text": [
      "KNN accuracy:  0.988\n",
      "Wall time: 125 ms\n"
     ]
    }
   ],
   "source": [
    "%%time \n",
    "\n",
    "clf_knn = KNeighborsClassifier(n_jobs=-1)\n",
    "clf_knn.fit(X_train_bruit, y_train_bruit)\n",
    "y_pred_knn = clf_knn.predict(X_test_bruit)\n",
    "acc_knn = accuracy_score(y_test_bruit, y_pred_knn)\n",
    "print ('KNN accuracy: ',acc_knn)"
   ]
  },
  {
   "cell_type": "code",
   "execution_count": 177,
   "metadata": {},
   "outputs": [
    {
     "name": "stdout",
     "output_type": "stream",
     "text": [
      "random forest accuracy:  0.988\n",
      "Wall time: 451 ms\n"
     ]
    }
   ],
   "source": [
    "%%time\n",
    "\n",
    "clf_rf = RandomForestClassifier(n_estimators=150, n_jobs=-1, random_state=0)\n",
    "clf_rf.fit(X_train_bruit, y_train_bruit)\n",
    "y_pred_rf = clf_rf.predict(X_test_bruit)\n",
    "acc_rf = accuracy_score(y_test_bruit, y_pred_rf)\n",
    "print ('random forest accuracy: ',acc_rf)"
   ]
  },
  {
   "cell_type": "markdown",
   "metadata": {},
   "source": [
    "# Performance evaluation"
   ]
  },
  {
   "cell_type": "code",
   "execution_count": 201,
   "metadata": {},
   "outputs": [],
   "source": [
    "dict_of_labels_reversed = dict()\n",
    "\n",
    "for labels, number in dict_of_labels.items():\n",
    "    \n",
    "    dict_of_labels_reversed[number] = labels"
   ]
  },
  {
   "cell_type": "code",
   "execution_count": 202,
   "metadata": {},
   "outputs": [],
   "source": [
    "def class_accuracy(y_pred, y_true):\n",
    "    \n",
    "    dict_of_accuracy = dict()\n",
    "    list_accuracy = []\n",
    "    n = len(y_true)\n",
    "    \n",
    "    for k in range(n):\n",
    "        \n",
    "        label_true = y_true[k]\n",
    "        label_pred = y_pred[k]\n",
    "        \n",
    "        if label_true not in dict_of_accuracy:\n",
    "            \n",
    "            dict_of_accuracy[label_true] = [0,0]\n",
    "        \n",
    "        dict_of_accuracy[label_true][1] += 1\n",
    "        \n",
    "        if label_true==label_pred:\n",
    "            \n",
    "            dict_of_accuracy[label_true][0] += 1\n",
    "    \n",
    "    for labels, counts in dict_of_accuracy.items():\n",
    "        \n",
    "        list_accuracy.append([dict_of_labels_reversed[labels], counts[0]/counts[1]])\n",
    "    \n",
    "    return(list_accuracy)"
   ]
  },
  {
   "cell_type": "code",
   "execution_count": 218,
   "metadata": {},
   "outputs": [
    {
     "data": {
      "text/html": [
       "<div>\n",
       "<style scoped>\n",
       "    .dataframe tbody tr th:only-of-type {\n",
       "        vertical-align: middle;\n",
       "    }\n",
       "\n",
       "    .dataframe tbody tr th {\n",
       "        vertical-align: top;\n",
       "    }\n",
       "\n",
       "    .dataframe thead th {\n",
       "        text-align: right;\n",
       "    }\n",
       "</style>\n",
       "<table border=\"1\" class=\"dataframe\">\n",
       "  <thead>\n",
       "    <tr style=\"text-align: right;\">\n",
       "      <th></th>\n",
       "      <th>0</th>\n",
       "      <th>1</th>\n",
       "    </tr>\n",
       "  </thead>\n",
       "  <tbody>\n",
       "    <tr>\n",
       "      <th>0</th>\n",
       "      <td>peanut</td>\n",
       "      <td>0.150000</td>\n",
       "    </tr>\n",
       "    <tr>\n",
       "      <th>1</th>\n",
       "      <td>mug</td>\n",
       "      <td>0.531746</td>\n",
       "    </tr>\n",
       "    <tr>\n",
       "      <th>2</th>\n",
       "      <td>penguin</td>\n",
       "      <td>0.576471</td>\n",
       "    </tr>\n",
       "    <tr>\n",
       "      <th>3</th>\n",
       "      <td>moustache</td>\n",
       "      <td>0.540000</td>\n",
       "    </tr>\n",
       "    <tr>\n",
       "      <th>4</th>\n",
       "      <td>squiggle</td>\n",
       "      <td>0.000000</td>\n",
       "    </tr>\n",
       "    <tr>\n",
       "      <th>5</th>\n",
       "      <td>apple</td>\n",
       "      <td>0.660377</td>\n",
       "    </tr>\n",
       "    <tr>\n",
       "      <th>6</th>\n",
       "      <td>pencil</td>\n",
       "      <td>0.353659</td>\n",
       "    </tr>\n",
       "    <tr>\n",
       "      <th>7</th>\n",
       "      <td>pool</td>\n",
       "      <td>0.401460</td>\n",
       "    </tr>\n",
       "    <tr>\n",
       "      <th>8</th>\n",
       "      <td>sink</td>\n",
       "      <td>0.244681</td>\n",
       "    </tr>\n",
       "    <tr>\n",
       "      <th>9</th>\n",
       "      <td>mouth</td>\n",
       "      <td>0.748634</td>\n",
       "    </tr>\n",
       "    <tr>\n",
       "      <th>10</th>\n",
       "      <td>panda</td>\n",
       "      <td>0.046875</td>\n",
       "    </tr>\n",
       "    <tr>\n",
       "      <th>11</th>\n",
       "      <td>rabbit</td>\n",
       "      <td>0.300813</td>\n",
       "    </tr>\n",
       "    <tr>\n",
       "      <th>12</th>\n",
       "      <td>nail</td>\n",
       "      <td>0.694656</td>\n",
       "    </tr>\n",
       "    <tr>\n",
       "      <th>13</th>\n",
       "      <td>empty</td>\n",
       "      <td>0.386139</td>\n",
       "    </tr>\n",
       "    <tr>\n",
       "      <th>14</th>\n",
       "      <td>pillow</td>\n",
       "      <td>0.477273</td>\n",
       "    </tr>\n",
       "    <tr>\n",
       "      <th>15</th>\n",
       "      <td>pineapple</td>\n",
       "      <td>0.806202</td>\n",
       "    </tr>\n",
       "    <tr>\n",
       "      <th>16</th>\n",
       "      <td>rhinoceros</td>\n",
       "      <td>0.000000</td>\n",
       "    </tr>\n",
       "    <tr>\n",
       "      <th>17</th>\n",
       "      <td>rollerskates</td>\n",
       "      <td>0.662500</td>\n",
       "    </tr>\n",
       "    <tr>\n",
       "      <th>18</th>\n",
       "      <td>skateboard</td>\n",
       "      <td>0.611570</td>\n",
       "    </tr>\n",
       "    <tr>\n",
       "      <th>19</th>\n",
       "      <td>rifle</td>\n",
       "      <td>0.679104</td>\n",
       "    </tr>\n",
       "    <tr>\n",
       "      <th>20</th>\n",
       "      <td>scorpion</td>\n",
       "      <td>0.443396</td>\n",
       "    </tr>\n",
       "    <tr>\n",
       "      <th>21</th>\n",
       "      <td>paintbrush</td>\n",
       "      <td>0.423529</td>\n",
       "    </tr>\n",
       "    <tr>\n",
       "      <th>22</th>\n",
       "      <td>skull</td>\n",
       "      <td>0.654762</td>\n",
       "    </tr>\n",
       "    <tr>\n",
       "      <th>23</th>\n",
       "      <td>octagon</td>\n",
       "      <td>0.788321</td>\n",
       "    </tr>\n",
       "    <tr>\n",
       "      <th>24</th>\n",
       "      <td>spoon</td>\n",
       "      <td>0.159091</td>\n",
       "    </tr>\n",
       "    <tr>\n",
       "      <th>25</th>\n",
       "      <td>sailboat</td>\n",
       "      <td>0.725926</td>\n",
       "    </tr>\n",
       "    <tr>\n",
       "      <th>26</th>\n",
       "      <td>screwdriver</td>\n",
       "      <td>0.087719</td>\n",
       "    </tr>\n",
       "    <tr>\n",
       "      <th>27</th>\n",
       "      <td>shovel</td>\n",
       "      <td>0.493827</td>\n",
       "    </tr>\n",
       "    <tr>\n",
       "      <th>28</th>\n",
       "      <td>parrot</td>\n",
       "      <td>0.035714</td>\n",
       "    </tr>\n",
       "    <tr>\n",
       "      <th>29</th>\n",
       "      <td>nose</td>\n",
       "      <td>0.592593</td>\n",
       "    </tr>\n",
       "    <tr>\n",
       "      <th>30</th>\n",
       "      <td>pear</td>\n",
       "      <td>0.510638</td>\n",
       "    </tr>\n",
       "  </tbody>\n",
       "</table>\n",
       "</div>"
      ],
      "text/plain": [
       "               0         1\n",
       "0         peanut  0.150000\n",
       "1            mug  0.531746\n",
       "2        penguin  0.576471\n",
       "3      moustache  0.540000\n",
       "4       squiggle  0.000000\n",
       "5          apple  0.660377\n",
       "6         pencil  0.353659\n",
       "7           pool  0.401460\n",
       "8           sink  0.244681\n",
       "9          mouth  0.748634\n",
       "10         panda  0.046875\n",
       "11        rabbit  0.300813\n",
       "12          nail  0.694656\n",
       "13         empty  0.386139\n",
       "14        pillow  0.477273\n",
       "15     pineapple  0.806202\n",
       "16    rhinoceros  0.000000\n",
       "17  rollerskates  0.662500\n",
       "18    skateboard  0.611570\n",
       "19         rifle  0.679104\n",
       "20      scorpion  0.443396\n",
       "21    paintbrush  0.423529\n",
       "22         skull  0.654762\n",
       "23       octagon  0.788321\n",
       "24         spoon  0.159091\n",
       "25      sailboat  0.725926\n",
       "26   screwdriver  0.087719\n",
       "27        shovel  0.493827\n",
       "28        parrot  0.035714\n",
       "29          nose  0.592593\n",
       "30          pear  0.510638"
      ]
     },
     "execution_count": 218,
     "metadata": {},
     "output_type": "execute_result"
    }
   ],
   "source": [
    "# Exemple d'utilisation avec les resultats du random forest SANS FEATURES\n",
    "\n",
    "pd.DataFrame(class_accuracy(y_pred_rf, y_test))"
   ]
  },
  {
   "cell_type": "code",
   "execution_count": 211,
   "metadata": {},
   "outputs": [
    {
     "data": {
      "text/html": [
       "<div>\n",
       "<style scoped>\n",
       "    .dataframe tbody tr th:only-of-type {\n",
       "        vertical-align: middle;\n",
       "    }\n",
       "\n",
       "    .dataframe tbody tr th {\n",
       "        vertical-align: top;\n",
       "    }\n",
       "\n",
       "    .dataframe thead th {\n",
       "        text-align: right;\n",
       "    }\n",
       "</style>\n",
       "<table border=\"1\" class=\"dataframe\">\n",
       "  <thead>\n",
       "    <tr style=\"text-align: right;\">\n",
       "      <th></th>\n",
       "      <th>0</th>\n",
       "      <th>1</th>\n",
       "    </tr>\n",
       "  </thead>\n",
       "  <tbody>\n",
       "    <tr>\n",
       "      <th>0</th>\n",
       "      <td>peanut</td>\n",
       "      <td>0.116667</td>\n",
       "    </tr>\n",
       "    <tr>\n",
       "      <th>1</th>\n",
       "      <td>mug</td>\n",
       "      <td>0.595238</td>\n",
       "    </tr>\n",
       "    <tr>\n",
       "      <th>2</th>\n",
       "      <td>penguin</td>\n",
       "      <td>0.588235</td>\n",
       "    </tr>\n",
       "    <tr>\n",
       "      <th>3</th>\n",
       "      <td>moustache</td>\n",
       "      <td>0.540000</td>\n",
       "    </tr>\n",
       "    <tr>\n",
       "      <th>4</th>\n",
       "      <td>squiggle</td>\n",
       "      <td>0.039216</td>\n",
       "    </tr>\n",
       "    <tr>\n",
       "      <th>5</th>\n",
       "      <td>apple</td>\n",
       "      <td>0.660377</td>\n",
       "    </tr>\n",
       "    <tr>\n",
       "      <th>6</th>\n",
       "      <td>pencil</td>\n",
       "      <td>0.317073</td>\n",
       "    </tr>\n",
       "    <tr>\n",
       "      <th>7</th>\n",
       "      <td>pool</td>\n",
       "      <td>0.416058</td>\n",
       "    </tr>\n",
       "    <tr>\n",
       "      <th>8</th>\n",
       "      <td>sink</td>\n",
       "      <td>0.265957</td>\n",
       "    </tr>\n",
       "    <tr>\n",
       "      <th>9</th>\n",
       "      <td>mouth</td>\n",
       "      <td>0.759563</td>\n",
       "    </tr>\n",
       "    <tr>\n",
       "      <th>10</th>\n",
       "      <td>panda</td>\n",
       "      <td>0.078125</td>\n",
       "    </tr>\n",
       "    <tr>\n",
       "      <th>11</th>\n",
       "      <td>rabbit</td>\n",
       "      <td>0.276423</td>\n",
       "    </tr>\n",
       "    <tr>\n",
       "      <th>12</th>\n",
       "      <td>nail</td>\n",
       "      <td>0.664122</td>\n",
       "    </tr>\n",
       "    <tr>\n",
       "      <th>13</th>\n",
       "      <td>empty</td>\n",
       "      <td>0.960396</td>\n",
       "    </tr>\n",
       "    <tr>\n",
       "      <th>14</th>\n",
       "      <td>pillow</td>\n",
       "      <td>0.465909</td>\n",
       "    </tr>\n",
       "    <tr>\n",
       "      <th>15</th>\n",
       "      <td>pineapple</td>\n",
       "      <td>0.782946</td>\n",
       "    </tr>\n",
       "    <tr>\n",
       "      <th>16</th>\n",
       "      <td>rhinoceros</td>\n",
       "      <td>0.014493</td>\n",
       "    </tr>\n",
       "    <tr>\n",
       "      <th>17</th>\n",
       "      <td>rollerskates</td>\n",
       "      <td>0.650000</td>\n",
       "    </tr>\n",
       "    <tr>\n",
       "      <th>18</th>\n",
       "      <td>skateboard</td>\n",
       "      <td>0.628099</td>\n",
       "    </tr>\n",
       "    <tr>\n",
       "      <th>19</th>\n",
       "      <td>rifle</td>\n",
       "      <td>0.664179</td>\n",
       "    </tr>\n",
       "    <tr>\n",
       "      <th>20</th>\n",
       "      <td>scorpion</td>\n",
       "      <td>0.500000</td>\n",
       "    </tr>\n",
       "    <tr>\n",
       "      <th>21</th>\n",
       "      <td>paintbrush</td>\n",
       "      <td>0.447059</td>\n",
       "    </tr>\n",
       "    <tr>\n",
       "      <th>22</th>\n",
       "      <td>skull</td>\n",
       "      <td>0.607143</td>\n",
       "    </tr>\n",
       "    <tr>\n",
       "      <th>23</th>\n",
       "      <td>octagon</td>\n",
       "      <td>0.795620</td>\n",
       "    </tr>\n",
       "    <tr>\n",
       "      <th>24</th>\n",
       "      <td>spoon</td>\n",
       "      <td>0.159091</td>\n",
       "    </tr>\n",
       "    <tr>\n",
       "      <th>25</th>\n",
       "      <td>sailboat</td>\n",
       "      <td>0.777778</td>\n",
       "    </tr>\n",
       "    <tr>\n",
       "      <th>26</th>\n",
       "      <td>screwdriver</td>\n",
       "      <td>0.105263</td>\n",
       "    </tr>\n",
       "    <tr>\n",
       "      <th>27</th>\n",
       "      <td>shovel</td>\n",
       "      <td>0.506173</td>\n",
       "    </tr>\n",
       "    <tr>\n",
       "      <th>28</th>\n",
       "      <td>parrot</td>\n",
       "      <td>0.071429</td>\n",
       "    </tr>\n",
       "    <tr>\n",
       "      <th>29</th>\n",
       "      <td>nose</td>\n",
       "      <td>0.574074</td>\n",
       "    </tr>\n",
       "    <tr>\n",
       "      <th>30</th>\n",
       "      <td>pear</td>\n",
       "      <td>0.510638</td>\n",
       "    </tr>\n",
       "  </tbody>\n",
       "</table>\n",
       "</div>"
      ],
      "text/plain": [
       "               0         1\n",
       "0         peanut  0.116667\n",
       "1            mug  0.595238\n",
       "2        penguin  0.588235\n",
       "3      moustache  0.540000\n",
       "4       squiggle  0.039216\n",
       "5          apple  0.660377\n",
       "6         pencil  0.317073\n",
       "7           pool  0.416058\n",
       "8           sink  0.265957\n",
       "9          mouth  0.759563\n",
       "10         panda  0.078125\n",
       "11        rabbit  0.276423\n",
       "12          nail  0.664122\n",
       "13         empty  0.960396\n",
       "14        pillow  0.465909\n",
       "15     pineapple  0.782946\n",
       "16    rhinoceros  0.014493\n",
       "17  rollerskates  0.650000\n",
       "18    skateboard  0.628099\n",
       "19         rifle  0.664179\n",
       "20      scorpion  0.500000\n",
       "21    paintbrush  0.447059\n",
       "22         skull  0.607143\n",
       "23       octagon  0.795620\n",
       "24         spoon  0.159091\n",
       "25      sailboat  0.777778\n",
       "26   screwdriver  0.105263\n",
       "27        shovel  0.506173\n",
       "28        parrot  0.071429\n",
       "29          nose  0.574074\n",
       "30          pear  0.510638"
      ]
     },
     "execution_count": 211,
     "metadata": {},
     "output_type": "execute_result"
    }
   ],
   "source": [
    "# Exemple d'utilisation avec les resultats du random forest AVEC FEATURES\n",
    "\n",
    "pd.DataFrame(class_accuracy(y_pred_rf_features, y_test))"
   ]
  },
  {
   "cell_type": "markdown",
   "metadata": {},
   "source": [
    "**Remarques**:\n",
    "\n",
    "On se rend compte que la classe \"empty\" est très mal gérée sans l'ajout des features (38% **vs** 96%): les classifieurs \"voient\" des objets là où il n'y en n'a pas !\n",
    "\n",
    "\n",
    "Même avec l'ajout de features, on  a de meilleurs résultats en gérant ce cas à part (98.8%)"
   ]
  },
  {
   "cell_type": "code",
   "execution_count": null,
   "metadata": {},
   "outputs": [],
   "source": []
  }
 ],
 "metadata": {
  "kernelspec": {
   "display_name": "Python 3",
   "language": "python",
   "name": "python3"
  },
  "language_info": {
   "codemirror_mode": {
    "name": "ipython",
    "version": 3
   },
   "file_extension": ".py",
   "mimetype": "text/x-python",
   "name": "python",
   "nbconvert_exporter": "python",
   "pygments_lexer": "ipython3",
   "version": "3.6.5"
  }
 },
 "nbformat": 4,
 "nbformat_minor": 2
}
